{
 "cells": [
  {
   "cell_type": "code",
   "execution_count": 1,
   "id": "06963cc6",
   "metadata": {},
   "outputs": [],
   "source": [
    "import pandas as pd\n",
    "from sklearn.model_selection import train_test_split\n",
    "from sklearn.tree import DecisionTreeRegressor\n",
    "from sklearn.metrics import mean_absolute_error, mean_squared_error, r2_score"
   ]
  },
  {
   "cell_type": "code",
   "execution_count": 2,
   "id": "9b600f88",
   "metadata": {},
   "outputs": [],
   "source": [
    "df = pd.read_csv('C:/Users/yazel/Downloads/son_hali.csv')"
   ]
  },
  {
   "cell_type": "code",
   "execution_count": 3,
   "id": "e535a77c",
   "metadata": {},
   "outputs": [],
   "source": [
    "df = df.drop(columns = ['roomAndLivingRoom', 'price_category', 'price_category', 'area_name', 'county_name', \n",
    "                        'sakarya_center_category', 'karasu_category', 'sapanca_category', 'sakarya_university_category', \n",
    "                        \n",
    "                        'floorName', 'residence_name', 'usage_name', 'yakit', 'isitma', 'bulunan_yonler', \n",
    "                        'property_type', 'yapiDurumu', 'registerState'])"
   ]
  },
  {
   "cell_type": "code",
   "execution_count": 4,
   "id": "0fedc216",
   "metadata": {},
   "outputs": [
    {
     "name": "stdout",
     "output_type": "stream",
     "text": [
      "Aykırı değer sayısı: 35\n"
     ]
    }
   ],
   "source": [
    "import numpy as np\n",
    "from scipy import stats\n",
    "# Z-score hesapla\n",
    "z_scores = stats.zscore(df['price'])\n",
    "\n",
    "# Eşik belirle (genelde 3 kullanılır)\n",
    "threshold = 3\n",
    "\n",
    "# Aykırı olmayan değerleri filtrele\n",
    "df_temiz = df[np.abs(z_scores) < threshold]\n",
    "\n",
    "# Kaç aykırı değer vardı?\n",
    "print(f\"Aykırı değer sayısı: {len(df) - len(df_temiz)}\")"
   ]
  },
  {
   "cell_type": "code",
   "execution_count": 5,
   "id": "f397fe96",
   "metadata": {},
   "outputs": [],
   "source": [
    "df = df[z_scores < threshold]"
   ]
  },
  {
   "cell_type": "code",
   "execution_count": 6,
   "id": "f19bf8f0",
   "metadata": {},
   "outputs": [
    {
     "name": "stdout",
     "output_type": "stream",
     "text": [
      "✅ En iyi parametreler: {'max_depth': 10, 'min_samples_leaf': 20}\n",
      "\n",
      "📊 Eğitim Seti Üzerinden Cross-Validation:\n",
      "📈 Ortalama R²: 0.857\n",
      "📉 Ortalama MSE: 1675142447935.826\n",
      "\n",
      "🧪 Test Seti Üzerinden Cross-Validation:\n",
      "📈 Ortalama R²: 0.797\n",
      "📉 Ortalama MSE: 2241258347432.733\n"
     ]
    }
   ],
   "source": [
    "import pandas as pd\n",
    "import numpy as np\n",
    "from sklearn.model_selection import train_test_split, GridSearchCV, cross_val_score\n",
    "from sklearn.tree import DecisionTreeRegressor\n",
    "from sklearn.metrics import r2_score, mean_squared_error\n",
    "\n",
    "# Özellikler ve hedef ayrımı (örnek)\n",
    "X = df.drop('price', axis=1)\n",
    "y = df['price']\n",
    "\n",
    "# Eğitim ve test veri kümesini ayır\n",
    "X_train, X_test, y_train, y_test = train_test_split(X, y, test_size=0.2, random_state=42)\n",
    "\n",
    "# Parametre arama için grid\n",
    "param_grid = {\n",
    "    'max_depth': [3, 5, 7, 10,15,20,25,13],\n",
    "    'min_samples_leaf': [5, 10, 20,15,25,17]\n",
    "}\n",
    "\n",
    "# GridSearchCV ile en iyi modeli bul\n",
    "grid_search = GridSearchCV(\n",
    "    estimator=DecisionTreeRegressor(random_state=42),\n",
    "    param_grid=param_grid,\n",
    "    cv=5,\n",
    "    scoring='r2'\n",
    ")\n",
    "grid_search.fit(X_train, y_train)\n",
    "\n",
    "best_model = grid_search.best_estimator_\n",
    "print(\"✅ En iyi parametreler:\", grid_search.best_params_)\n",
    "\n",
    "# -------------------------------\n",
    "# Cross-validation eğitim verisi\n",
    "train_cv_r2 = cross_val_score(best_model, X_train, y_train, cv=5, scoring='r2')\n",
    "train_cv_mse = -cross_val_score(best_model, X_train, y_train, cv=5, scoring='neg_mean_squared_error')\n",
    "\n",
    "# Cross-validation test verisi\n",
    "test_cv_r2 = cross_val_score(best_model, X_test, y_test, cv=5, scoring='r2')\n",
    "test_cv_mse = -cross_val_score(best_model, X_test, y_test, cv=5, scoring='neg_mean_squared_error')\n",
    "\n",
    "# -------------------------------\n",
    "# Ortalama metrikleri yazdır\n",
    "print(\"\\n📊 Eğitim Seti Üzerinden Cross-Validation:\")\n",
    "print(f\"📈 Ortalama R²: {np.mean(train_cv_r2):.3f}\")\n",
    "print(f\"📉 Ortalama MSE: {np.mean(train_cv_mse):.3f}\")\n",
    "\n",
    "print(\"\\n🧪 Test Seti Üzerinden Cross-Validation:\")\n",
    "print(f\"📈 Ortalama R²: {np.mean(test_cv_r2):.3f}\")\n",
    "print(f\"📉 Ortalama MSE: {np.mean(test_cv_mse):.3f}\")\n"
   ]
  },
  {
   "cell_type": "code",
   "execution_count": 7,
   "id": "f85070f8",
   "metadata": {},
   "outputs": [
    {
     "data": {
      "image/png": "[encoded data removed]",
      "text/plain": [
       "<Figure size 640x480 with 1 Axes>"
      ]
     },
     "metadata": {},
     "output_type": "display_data"
    }
   ],
   "source": [
    "from sklearn.model_selection import learning_curve\n",
    "import matplotlib.pyplot as plt\n",
    "import numpy as np\n",
    "\n",
    "train_sizes, train_scores, test_scores = learning_curve(\n",
    "   best_model , X, y, cv=5, scoring='r2', train_sizes=np.linspace(0.1, 1.0, 10), random_state=42)\n",
    "\n",
    "train_mean = np.mean(train_scores, axis=1)\n",
    "test_mean = np.mean(test_scores, axis=1)\n",
    "\n",
    "plt.plot(train_sizes, train_mean, label='Eğitim Skoru')\n",
    "plt.plot(train_sizes, test_mean, label='Doğrulama Skoru')\n",
    "plt.ylabel('R² Skoru')\n",
    "plt.xlabel('Eğitim Seti Boyutu')\n",
    "plt.title('Öğrenme Eğrisi')\n",
    "plt.legend()\n",
    "plt.show()"
   ]
  },
  {
   "cell_type": "code",
   "execution_count": 17,
   "id": "f0af87d9",
   "metadata": {},
   "outputs": [],
   "source": [
    "df = df.drop('is_outlier_price', axis=1)"
   ]
  },
  {
   "cell_type": "code",
   "execution_count": 18,
   "id": "ff922a43",
   "metadata": {},
   "outputs": [
    {
     "name": "stdout",
     "output_type": "stream",
     "text": [
      "✅ En iyi parametreler: {'max_depth': 10, 'min_samples_leaf': 15}\n",
      "\n",
      "📊 Eğitim Seti Üzerinden Cross-Validation:\n",
      "📈 Ortalama R²: 0.722\n",
      "📉 Ortalama MSE: 3253671230402.846\n",
      "\n",
      "🧪 Test Seti Üzerinden Cross-Validation:\n",
      "📈 Ortalama R²: 0.479\n",
      "📉 Ortalama MSE: 6130990780643.045\n"
     ]
    }
   ],
   "source": [
    "# Özellikler ve hedef ayrımı (örnek)\n",
    "X = df.drop('price', axis=1)\n",
    "y = df['price']\n",
    "\n",
    "# Eğitim ve test veri kümesini ayır\n",
    "X_train, X_test, y_train, y_test = train_test_split(X, y, test_size=0.2, random_state=42)\n",
    "\n",
    "# Parametre arama için grid\n",
    "param_grid = {\n",
    "    'max_depth': [3, 5, 7, 10,15,13,],\n",
    "    'min_samples_leaf': [5, 10, 20,15,17]\n",
    "}\n",
    "\n",
    "# GridSearchCV ile en iyi modeli bul\n",
    "grid_search = GridSearchCV(\n",
    "    estimator=DecisionTreeRegressor(random_state=42),\n",
    "    param_grid=param_grid,\n",
    "    cv=5,\n",
    "    scoring='r2'\n",
    ")\n",
    "grid_search.fit(X_train, y_train)\n",
    "\n",
    "best_model = grid_search.best_estimator_\n",
    "print(\"✅ En iyi parametreler:\", grid_search.best_params_)\n",
    "\n",
    "# -------------------------------\n",
    "# Cross-validation eğitim verisi\n",
    "train_cv_r2 = cross_val_score(best_model, X_train, y_train, cv=5, scoring='r2')\n",
    "train_cv_mse = -cross_val_score(best_model, X_train, y_train, cv=5, scoring='neg_mean_squared_error')\n",
    "\n",
    "# Cross-validation test verisi\n",
    "test_cv_r2 = cross_val_score(best_model, X_test, y_test, cv=5, scoring='r2')\n",
    "test_cv_mse = -cross_val_score(best_model, X_test, y_test, cv=5, scoring='neg_mean_squared_error')\n",
    "\n",
    "# -------------------------------\n",
    "# Ortalama metrikleri yazdır\n",
    "print(\"\\n📊 Eğitim Seti Üzerinden Cross-Validation:\")\n",
    "print(f\"📈 Ortalama R²: {np.mean(train_cv_r2):.3f}\")\n",
    "print(f\"📉 Ortalama MSE: {np.mean(train_cv_mse):.3f}\")\n",
    "\n",
    "print(\"\\n🧪 Test Seti Üzerinden Cross-Validation:\")\n",
    "print(f\"📈 Ortalama R²: {np.mean(test_cv_r2):.3f}\")\n",
    "print(f\"📉 Ortalama MSE: {np.mean(test_cv_mse):.3f}\")"
   ]
  }
 ],
 "metadata": {
  "kernelspec": {
   "display_name": "Python 3",
   "language": "python",
   "name": "python3"
  },
  "language_info": {
   "codemirror_mode": {
    "name": "ipython",
    "version": 3
   },
   "file_extension": ".py",
   "mimetype": "text/x-python",
   "name": "python",
   "nbconvert_exporter": "python",
   "pygments_lexer": "ipython3",
   "version": "3.12.2"
  }
 },
 "nbformat": 4,
 "nbformat_minor": 5
}
