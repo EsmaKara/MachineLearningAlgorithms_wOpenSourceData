{
 "cells": [
  {
   "cell_type": "code",
   "execution_count": 1,
   "id": "1bcd86cd",
   "metadata": {},
   "outputs": [],
   "source": [
    "#pip install geopy\n"
   ]
  },
  {
   "cell_type": "code",
   "execution_count": 2,
   "id": "627fe7d0",
   "metadata": {},
   "outputs": [],
   "source": [
    "import pandas as pd\n",
    "import numpy as np\n",
    "import seaborn as sb\n",
    "import scipy.stats as sp\n",
    "import matplotlib.pyplot as plt\n",
    "import re\n",
    "import json\n",
    "import math\n",
    "from geopy.distance import geodesic\n",
    "from scipy import stats"
   ]
  },
  {
   "cell_type": "code",
   "execution_count": null,
   "id": "6c40a3d4",
   "metadata": {},
   "outputs": [],
   "source": []
  },
  {
   "cell_type": "code",
   "execution_count": 3,
   "id": "8a5176d7",
   "metadata": {},
   "outputs": [],
   "source": [
    "df=pd.read_csv(\"C:/Users/dilar/Desktop/veri (2).csv\")"
   ]
  },
  {
   "cell_type": "code",
   "execution_count": 4,
   "id": "37efe1f2",
   "metadata": {},
   "outputs": [
    {
     "data": {
      "text/html": [
       "<div>\n",
       "<style scoped>\n",
       "    .dataframe tbody tr th:only-of-type {\n",
       "        vertical-align: middle;\n",
       "    }\n",
       "\n",
       "    .dataframe tbody tr th {\n",
       "        vertical-align: top;\n",
       "    }\n",
       "\n",
       "    .dataframe thead th {\n",
       "        text-align: right;\n",
       "    }\n",
       "</style>\n",
       "<table border=\"1\" class=\"dataframe\">\n",
       "  <thead>\n",
       "    <tr style=\"text-align: right;\">\n",
       "      <th></th>\n",
       "      <th>listingId</th>\n",
       "      <th>realtyId</th>\n",
       "      <th>no</th>\n",
       "      <th>title</th>\n",
       "      <th>descriptionPhoneNumbers</th>\n",
       "      <th>description</th>\n",
       "      <th>price</th>\n",
       "      <th>currency</th>\n",
       "      <th>currencyId</th>\n",
       "      <th>startDate</th>\n",
       "      <th>...</th>\n",
       "      <th>realtyIdentificationNo</th>\n",
       "      <th>listingPropertyOrder</th>\n",
       "      <th>listingId.1</th>\n",
       "      <th>curr rency</th>\n",
       "      <th>ccurrency</th>\n",
       "      <th>enddDate</th>\n",
       "      <th>curreency</th>\n",
       "      <th>endDaate</th>\n",
       "      <th>are   eas</th>\n",
       "      <th>ccurrencyId</th>\n",
       "    </tr>\n",
       "  </thead>\n",
       "  <tbody>\n",
       "    <tr>\n",
       "      <th>0</th>\n",
       "      <td>78883-704</td>\n",
       "      <td>43672903</td>\n",
       "      <td>704</td>\n",
       "      <td>ÇİFTÇİ EMLAK 'tan BİLGE HAST. YANI ARA KAT ANA...</td>\n",
       "      <td>[]</td>\n",
       "      <td>&lt;h2 style=\\\"text-align: center;\\\"&gt;&lt;strong styl...</td>\n",
       "      <td>2500000</td>\n",
       "      <td>TL</td>\n",
       "      <td>1.0</td>\n",
       "      <td>2025-02-07T07:33:35.387+0000</td>\n",
       "      <td>...</td>\n",
       "      <td>NaN</td>\n",
       "      <td>{\"fuelName\":15,\"city\":2,\"roomAndLivingRoom\":8,...</td>\n",
       "      <td>78883-704</td>\n",
       "      <td>NaN</td>\n",
       "      <td>NaN</td>\n",
       "      <td>NaN</td>\n",
       "      <td>NaN</td>\n",
       "      <td>NaN</td>\n",
       "      <td>NaN</td>\n",
       "      <td>NaN</td>\n",
       "    </tr>\n",
       "    <tr>\n",
       "      <th>1</th>\n",
       "      <td>54537-3457</td>\n",
       "      <td>42399668</td>\n",
       "      <td>3457</td>\n",
       "      <td>SAKARYA KARASU'DA YAZLIK DAİRENİZ EMRE FİLİZFİ...</td>\n",
       "      <td>[]</td>\n",
       "      <td>&lt;p style=\\\"text-align: center;\\\"&gt;&lt;br&gt;&lt;/p&gt;\\n&lt;p ...</td>\n",
       "      <td>1500000</td>\n",
       "      <td>TL</td>\n",
       "      <td>1.0</td>\n",
       "      <td>2025-01-10T11:50:32.547+0000</td>\n",
       "      <td>...</td>\n",
       "      <td>NaN</td>\n",
       "      <td>{\"fuelName\":15,\"city\":2,\"roomAndLivingRoom\":8,...</td>\n",
       "      <td>54537-3457</td>\n",
       "      <td>NaN</td>\n",
       "      <td>NaN</td>\n",
       "      <td>NaN</td>\n",
       "      <td>NaN</td>\n",
       "      <td>NaN</td>\n",
       "      <td>NaN</td>\n",
       "      <td>NaN</td>\n",
       "    </tr>\n",
       "    <tr>\n",
       "      <th>2</th>\n",
       "      <td>116181-160</td>\n",
       "      <td>40773651</td>\n",
       "      <td>160</td>\n",
       "      <td>Sapanca,Kırkpınar’da Satılık 4+1 Villa</td>\n",
       "      <td>[]</td>\n",
       "      <td>&lt;p&gt;https://app.immoviewer.com/portal/tour/2907...</td>\n",
       "      <td>19500000</td>\n",
       "      <td>TL</td>\n",
       "      <td>1.0</td>\n",
       "      <td>2025-02-05T06:56:17.923+0000</td>\n",
       "      <td>...</td>\n",
       "      <td>NaN</td>\n",
       "      <td>{\"fuelName\":15,\"city\":2,\"roomAndLivingRoom\":8,...</td>\n",
       "      <td>116181-160</td>\n",
       "      <td>NaN</td>\n",
       "      <td>NaN</td>\n",
       "      <td>NaN</td>\n",
       "      <td>NaN</td>\n",
       "      <td>NaN</td>\n",
       "      <td>NaN</td>\n",
       "      <td>NaN</td>\n",
       "    </tr>\n",
       "    <tr>\n",
       "      <th>3</th>\n",
       "      <td>18262-757</td>\n",
       "      <td>42174714</td>\n",
       "      <td>757</td>\n",
       "      <td>EMSALSİZ PROJE KARASU MERKEZDE HAVUZLU LÜKS 3+...</td>\n",
       "      <td>[]</td>\n",
       "      <td>&lt;p&gt;&lt;br&gt;&lt;/p&gt;\\n&lt;p style=\\\"text-align: center;\\\"&gt;...</td>\n",
       "      <td>3350000</td>\n",
       "      <td>TL</td>\n",
       "      <td>1.0</td>\n",
       "      <td>2025-02-12T12:23:38.413+0000</td>\n",
       "      <td>...</td>\n",
       "      <td>NaN</td>\n",
       "      <td>{\"fuelName\":15,\"city\":2,\"roomAndLivingRoom\":8,...</td>\n",
       "      <td>18262-757</td>\n",
       "      <td>NaN</td>\n",
       "      <td>NaN</td>\n",
       "      <td>NaN</td>\n",
       "      <td>NaN</td>\n",
       "      <td>NaN</td>\n",
       "      <td>NaN</td>\n",
       "      <td>NaN</td>\n",
       "    </tr>\n",
       "    <tr>\n",
       "      <th>4</th>\n",
       "      <td>131612-1792</td>\n",
       "      <td>44126172</td>\n",
       "      <td>1792</td>\n",
       "      <td>3+1 MERKEZİ KONUMDA , BAHÇELİ , DENİZE YAKIN S...</td>\n",
       "      <td>[{\"number\":\"+905322368449\",\"extension\":null,\"f...</td>\n",
       "      <td>&lt;p&gt;&lt;strong&gt;SATILIK OLAN VİLLA İSTANBUL'A 2 SAA...</td>\n",
       "      <td>3700000</td>\n",
       "      <td>TL</td>\n",
       "      <td>1.0</td>\n",
       "      <td>2025-02-01T09:09:15.317+0000</td>\n",
       "      <td>...</td>\n",
       "      <td>NaN</td>\n",
       "      <td>{\"fuelName\":15,\"city\":2,\"roomAndLivingRoom\":8,...</td>\n",
       "      <td>131612-1792</td>\n",
       "      <td>NaN</td>\n",
       "      <td>NaN</td>\n",
       "      <td>NaN</td>\n",
       "      <td>NaN</td>\n",
       "      <td>NaN</td>\n",
       "      <td>NaN</td>\n",
       "      <td>NaN</td>\n",
       "    </tr>\n",
       "  </tbody>\n",
       "</table>\n",
       "<p>5 rows × 135 columns</p>\n",
       "</div>"
      ],
      "text/plain": [
       "     listingId  realtyId    no  \\\n",
       "0    78883-704  43672903   704   \n",
       "1   54537-3457  42399668  3457   \n",
       "2   116181-160  40773651   160   \n",
       "3    18262-757  42174714   757   \n",
       "4  131612-1792  44126172  1792   \n",
       "\n",
       "                                               title  \\\n",
       "0  ÇİFTÇİ EMLAK 'tan BİLGE HAST. YANI ARA KAT ANA...   \n",
       "1  SAKARYA KARASU'DA YAZLIK DAİRENİZ EMRE FİLİZFİ...   \n",
       "2             Sapanca,Kırkpınar’da Satılık 4+1 Villa   \n",
       "3  EMSALSİZ PROJE KARASU MERKEZDE HAVUZLU LÜKS 3+...   \n",
       "4  3+1 MERKEZİ KONUMDA , BAHÇELİ , DENİZE YAKIN S...   \n",
       "\n",
       "                             descriptionPhoneNumbers  \\\n",
       "0                                                 []   \n",
       "1                                                 []   \n",
       "2                                                 []   \n",
       "3                                                 []   \n",
       "4  [{\"number\":\"+905322368449\",\"extension\":null,\"f...   \n",
       "\n",
       "                                         description     price currency  \\\n",
       "0  <h2 style=\\\"text-align: center;\\\"><strong styl...   2500000       TL   \n",
       "1  <p style=\\\"text-align: center;\\\"><br></p>\\n<p ...   1500000       TL   \n",
       "2  <p>https://app.immoviewer.com/portal/tour/2907...  19500000       TL   \n",
       "3  <p><br></p>\\n<p style=\\\"text-align: center;\\\">...   3350000       TL   \n",
       "4  <p><strong>SATILIK OLAN VİLLA İSTANBUL'A 2 SAA...   3700000       TL   \n",
       "\n",
       "   currencyId                     startDate  ... realtyIdentificationNo  \\\n",
       "0         1.0  2025-02-07T07:33:35.387+0000  ...                    NaN   \n",
       "1         1.0  2025-01-10T11:50:32.547+0000  ...                    NaN   \n",
       "2         1.0  2025-02-05T06:56:17.923+0000  ...                    NaN   \n",
       "3         1.0  2025-02-12T12:23:38.413+0000  ...                    NaN   \n",
       "4         1.0  2025-02-01T09:09:15.317+0000  ...                    NaN   \n",
       "\n",
       "                                listingPropertyOrder  listingId.1  curr rency  \\\n",
       "0  {\"fuelName\":15,\"city\":2,\"roomAndLivingRoom\":8,...    78883-704         NaN   \n",
       "1  {\"fuelName\":15,\"city\":2,\"roomAndLivingRoom\":8,...   54537-3457         NaN   \n",
       "2  {\"fuelName\":15,\"city\":2,\"roomAndLivingRoom\":8,...   116181-160         NaN   \n",
       "3  {\"fuelName\":15,\"city\":2,\"roomAndLivingRoom\":8,...    18262-757         NaN   \n",
       "4  {\"fuelName\":15,\"city\":2,\"roomAndLivingRoom\":8,...  131612-1792         NaN   \n",
       "\n",
       "  ccurrency  enddDate curreency  endDaate are   eas ccurrencyId  \n",
       "0       NaN       NaN       NaN       NaN       NaN         NaN  \n",
       "1       NaN       NaN       NaN       NaN       NaN         NaN  \n",
       "2       NaN       NaN       NaN       NaN       NaN         NaN  \n",
       "3       NaN       NaN       NaN       NaN       NaN         NaN  \n",
       "4       NaN       NaN       NaN       NaN       NaN         NaN  \n",
       "\n",
       "[5 rows x 135 columns]"
      ]
     },
     "execution_count": 4,
     "metadata": {},
     "output_type": "execute_result"
    }
   ],
   "source": [
    "df.head()"
   ]
  },
  {
   "cell_type": "code",
   "execution_count": 5,
   "id": "9068aecf",
   "metadata": {},
   "outputs": [
    {
     "data": {
      "text/plain": [
       "(2180, 135)"
      ]
     },
     "execution_count": 5,
     "metadata": {},
     "output_type": "execute_result"
    }
   ],
   "source": [
    "df.shape"
   ]
  },
  {
   "cell_type": "code",
   "execution_count": 6,
   "id": "22857db3",
   "metadata": {},
   "outputs": [
    {
     "data": {
      "text/plain": [
       "<bound method NDFrame.describe of         listingId  realtyId    no  \\\n",
       "0       78883-704  43672903   704   \n",
       "1      54537-3457  42399668  3457   \n",
       "2      116181-160  40773651   160   \n",
       "3       18262-757  42174714   757   \n",
       "4     131612-1792  44126172  1792   \n",
       "...           ...       ...   ...   \n",
       "2175   24006-2593  43617262  2593   \n",
       "2176    150512-17  43793751    17   \n",
       "2177    18262-750  42096198   750   \n",
       "2178   121878-505  43954752   505   \n",
       "2179   144178-340  44093747   340   \n",
       "\n",
       "                                                  title  \\\n",
       "0     ÇİFTÇİ EMLAK 'tan BİLGE HAST. YANI ARA KAT ANA...   \n",
       "1     SAKARYA KARASU'DA YAZLIK DAİRENİZ EMRE FİLİZFİ...   \n",
       "2                Sapanca,Kırkpınar’da Satılık 4+1 Villa   \n",
       "3     EMSALSİZ PROJE KARASU MERKEZDE HAVUZLU LÜKS 3+...   \n",
       "4     3+1 MERKEZİ KONUMDA , BAHÇELİ , DENİZE YAKIN S...   \n",
       "...                                                 ...   \n",
       "2175  **BU FIRSAT KAÇMAZ**KARASU SAHİLDE DENİZE 2.PA...   \n",
       "2176  GEYVE EMLAKTAN PAMUKOVA MERKEZ DE SATILIK 3+1 ...   \n",
       "2177  KIR YAPI İNŞAAT'TAN SON 2 VİLLA MÜSTAKİL BAHÇE...   \n",
       "2178  KARASU'DA EN UCUZ DENİZ GÖREN 2 +1 MUTFAK AYRI...   \n",
       "2179  KARASU KAYMAKAMLIK KARŞISINDA EŞYALI 4+1 FIRSA...   \n",
       "\n",
       "                                descriptionPhoneNumbers  \\\n",
       "0                                                    []   \n",
       "1                                                    []   \n",
       "2                                                    []   \n",
       "3                                                    []   \n",
       "4     [{\"number\":\"+905322368449\",\"extension\":null,\"f...   \n",
       "...                                                 ...   \n",
       "2175  [{\"number\":\"+905323884886\",\"extension\":null,\"f...   \n",
       "2176  [{\"number\":\"+905061575355\",\"extension\":null,\"f...   \n",
       "2177  [{\"number\":\"+905442228854\",\"extension\":null,\"f...   \n",
       "2178  [{\"number\":\"+902163434313\",\"extension\":null,\"f...   \n",
       "2179  [{\"number\":\"+905423829171\",\"extension\":null,\"f...   \n",
       "\n",
       "                                            description     price currency  \\\n",
       "0     <h2 style=\\\"text-align: center;\\\"><strong styl...   2500000       TL   \n",
       "1     <p style=\\\"text-align: center;\\\"><br></p>\\n<p ...   1500000       TL   \n",
       "2     <p>https://app.immoviewer.com/portal/tour/2907...  19500000       TL   \n",
       "3     <p><br></p>\\n<p style=\\\"text-align: center;\\\">...   3350000       TL   \n",
       "4     <p><strong>SATILIK OLAN VİLLA İSTANBUL'A 2 SAA...   3700000       TL   \n",
       "...                                                 ...       ...      ...   \n",
       "2175  <p style=\\\"text-align: center;\\\"><strong style...   1785000       TL   \n",
       "2176  <p>GEYVE EMLAKTAN PAMUKOVA ÇARŞI MERKEZ DE 3+1...   2849000       TL   \n",
       "2177  <p style=\\\"text-align: center;\\\"><strong>KIROĞ...   7500000       TL   \n",
       "2178  <p><br></p> \\n<p><br></p> \\n<p style=\\\"color:r...   1650000       TL   \n",
       "2179  <h2><strong style=\\\"color: rgb(255, 255, 255);...   1250000       TL   \n",
       "\n",
       "      currencyId                     startDate  ... realtyIdentificationNo  \\\n",
       "0            1.0  2025-02-07T07:33:35.387+0000  ...                    NaN   \n",
       "1            1.0  2025-01-10T11:50:32.547+0000  ...                    NaN   \n",
       "2            1.0  2025-02-05T06:56:17.923+0000  ...                    NaN   \n",
       "3            1.0  2025-02-12T12:23:38.413+0000  ...                    NaN   \n",
       "4            1.0  2025-02-01T09:09:15.317+0000  ...                    NaN   \n",
       "...          ...                           ...  ...                    ...   \n",
       "2175         1.0  2024-12-31T07:31:10.250+0000  ...                    NaN   \n",
       "2176         1.0  2025-02-24T23:58:02.690+0000  ...                    NaN   \n",
       "2177         1.0  2025-02-24T05:53:44.107+0000  ...                    NaN   \n",
       "2178         1.0  2024-12-29T13:53:03.117+0000  ...                    NaN   \n",
       "2179         1.0  2025-01-25T11:43:45.110+0000  ...                    NaN   \n",
       "\n",
       "                                   listingPropertyOrder  listingId.1  \\\n",
       "0     {\"fuelName\":15,\"city\":2,\"roomAndLivingRoom\":8,...    78883-704   \n",
       "1     {\"fuelName\":15,\"city\":2,\"roomAndLivingRoom\":8,...   54537-3457   \n",
       "2     {\"fuelName\":15,\"city\":2,\"roomAndLivingRoom\":8,...   116181-160   \n",
       "3     {\"fuelName\":15,\"city\":2,\"roomAndLivingRoom\":8,...    18262-757   \n",
       "4     {\"fuelName\":15,\"city\":2,\"roomAndLivingRoom\":8,...  131612-1792   \n",
       "...                                                 ...          ...   \n",
       "2175  {\"fuelName\":15,\"city\":2,\"roomAndLivingRoom\":8,...   24006-2593   \n",
       "2176  {\"fuelName\":15,\"city\":2,\"roomAndLivingRoom\":8,...    150512-17   \n",
       "2177  {\"fuelName\":15,\"city\":2,\"roomAndLivingRoom\":8,...    18262-750   \n",
       "2178  {\"fuelName\":15,\"city\":2,\"roomAndLivingRoom\":8,...   121878-505   \n",
       "2179  {\"fuelName\":15,\"city\":2,\"roomAndLivingRoom\":8,...   144178-340   \n",
       "\n",
       "      curr rency ccurrency  enddDate curreency  endDaate are   eas ccurrencyId  \n",
       "0            NaN       NaN       NaN       NaN       NaN       NaN         NaN  \n",
       "1            NaN       NaN       NaN       NaN       NaN       NaN         NaN  \n",
       "2            NaN       NaN       NaN       NaN       NaN       NaN         NaN  \n",
       "3            NaN       NaN       NaN       NaN       NaN       NaN         NaN  \n",
       "4            NaN       NaN       NaN       NaN       NaN       NaN         NaN  \n",
       "...          ...       ...       ...       ...       ...       ...         ...  \n",
       "2175         NaN       NaN       NaN       NaN       NaN       NaN         NaN  \n",
       "2176         NaN       NaN       NaN       NaN       NaN       NaN         NaN  \n",
       "2177         NaN       NaN       NaN       NaN       NaN       NaN         NaN  \n",
       "2178         NaN       NaN       NaN       NaN       NaN       NaN         NaN  \n",
       "2179         NaN       NaN       NaN       NaN       NaN       NaN         NaN  \n",
       "\n",
       "[2180 rows x 135 columns]>"
      ]
     },
     "execution_count": 6,
     "metadata": {},
     "output_type": "execute_result"
    }
   ],
   "source": [
    "df.describe"
   ]
  },
  {
   "cell_type": "code",
   "execution_count": 7,
   "id": "b500a0a9",
   "metadata": {},
   "outputs": [
    {
     "name": "stdout",
     "output_type": "stream",
     "text": [
      "listingId                     0\n",
      "realtyId                      0\n",
      "no                            0\n",
      "title                         0\n",
      "descriptionPhoneNumbers       0\n",
      "                           ... \n",
      "enddDate                   2179\n",
      "curreency                  2179\n",
      "endDaate                   2179\n",
      "are   eas                  2179\n",
      "ccurrencyId                2179\n",
      "Length: 135, dtype: int64\n"
     ]
    }
   ],
   "source": [
    "print(df.isnull().sum())"
   ]
  },
  {
   "cell_type": "code",
   "execution_count": 8,
   "id": "dcd6b18d",
   "metadata": {},
   "outputs": [
    {
     "data": {
      "text/html": [
       "<div>\n",
       "<style scoped>\n",
       "    .dataframe tbody tr th:only-of-type {\n",
       "        vertical-align: middle;\n",
       "    }\n",
       "\n",
       "    .dataframe tbody tr th {\n",
       "        vertical-align: top;\n",
       "    }\n",
       "\n",
       "    .dataframe thead th {\n",
       "        text-align: right;\n",
       "    }\n",
       "</style>\n",
       "<table border=\"1\" class=\"dataframe\">\n",
       "  <thead>\n",
       "    <tr style=\"text-align: right;\">\n",
       "      <th></th>\n",
       "      <th>listingId</th>\n",
       "      <th>realtyId</th>\n",
       "      <th>no</th>\n",
       "      <th>title</th>\n",
       "      <th>descriptionPhoneNumbers</th>\n",
       "      <th>description</th>\n",
       "      <th>price</th>\n",
       "      <th>currency</th>\n",
       "      <th>currencyId</th>\n",
       "      <th>startDate</th>\n",
       "      <th>...</th>\n",
       "      <th>realtyIdentificationNo</th>\n",
       "      <th>listingPropertyOrder</th>\n",
       "      <th>listingId.1</th>\n",
       "      <th>curr rency</th>\n",
       "      <th>ccurrency</th>\n",
       "      <th>enddDate</th>\n",
       "      <th>curreency</th>\n",
       "      <th>endDaate</th>\n",
       "      <th>are   eas</th>\n",
       "      <th>ccurrencyId</th>\n",
       "    </tr>\n",
       "  </thead>\n",
       "  <tbody>\n",
       "    <tr>\n",
       "      <th>0</th>\n",
       "      <td>78883-704</td>\n",
       "      <td>43672903</td>\n",
       "      <td>704</td>\n",
       "      <td>ÇİFTÇİ EMLAK 'tan BİLGE HAST. YANI ARA KAT ANA...</td>\n",
       "      <td>[]</td>\n",
       "      <td>&lt;h2 style=\\\"text-align: center;\\\"&gt;&lt;strong styl...</td>\n",
       "      <td>2500000</td>\n",
       "      <td>TL</td>\n",
       "      <td>1.0</td>\n",
       "      <td>2025-02-07T07:33:35.387+0000</td>\n",
       "      <td>...</td>\n",
       "      <td>NaN</td>\n",
       "      <td>{\"fuelName\":15,\"city\":2,\"roomAndLivingRoom\":8,...</td>\n",
       "      <td>78883-704</td>\n",
       "      <td>NaN</td>\n",
       "      <td>NaN</td>\n",
       "      <td>NaN</td>\n",
       "      <td>NaN</td>\n",
       "      <td>NaN</td>\n",
       "      <td>NaN</td>\n",
       "      <td>NaN</td>\n",
       "    </tr>\n",
       "    <tr>\n",
       "      <th>1</th>\n",
       "      <td>54537-3457</td>\n",
       "      <td>42399668</td>\n",
       "      <td>3457</td>\n",
       "      <td>SAKARYA KARASU'DA YAZLIK DAİRENİZ EMRE FİLİZFİ...</td>\n",
       "      <td>[]</td>\n",
       "      <td>&lt;p style=\\\"text-align: center;\\\"&gt;&lt;br&gt;&lt;/p&gt;\\n&lt;p ...</td>\n",
       "      <td>1500000</td>\n",
       "      <td>TL</td>\n",
       "      <td>1.0</td>\n",
       "      <td>2025-01-10T11:50:32.547+0000</td>\n",
       "      <td>...</td>\n",
       "      <td>NaN</td>\n",
       "      <td>{\"fuelName\":15,\"city\":2,\"roomAndLivingRoom\":8,...</td>\n",
       "      <td>54537-3457</td>\n",
       "      <td>NaN</td>\n",
       "      <td>NaN</td>\n",
       "      <td>NaN</td>\n",
       "      <td>NaN</td>\n",
       "      <td>NaN</td>\n",
       "      <td>NaN</td>\n",
       "      <td>NaN</td>\n",
       "    </tr>\n",
       "    <tr>\n",
       "      <th>2</th>\n",
       "      <td>116181-160</td>\n",
       "      <td>40773651</td>\n",
       "      <td>160</td>\n",
       "      <td>Sapanca,Kırkpınar’da Satılık 4+1 Villa</td>\n",
       "      <td>[]</td>\n",
       "      <td>&lt;p&gt;https://app.immoviewer.com/portal/tour/2907...</td>\n",
       "      <td>19500000</td>\n",
       "      <td>TL</td>\n",
       "      <td>1.0</td>\n",
       "      <td>2025-02-05T06:56:17.923+0000</td>\n",
       "      <td>...</td>\n",
       "      <td>NaN</td>\n",
       "      <td>{\"fuelName\":15,\"city\":2,\"roomAndLivingRoom\":8,...</td>\n",
       "      <td>116181-160</td>\n",
       "      <td>NaN</td>\n",
       "      <td>NaN</td>\n",
       "      <td>NaN</td>\n",
       "      <td>NaN</td>\n",
       "      <td>NaN</td>\n",
       "      <td>NaN</td>\n",
       "      <td>NaN</td>\n",
       "    </tr>\n",
       "    <tr>\n",
       "      <th>3</th>\n",
       "      <td>18262-757</td>\n",
       "      <td>42174714</td>\n",
       "      <td>757</td>\n",
       "      <td>EMSALSİZ PROJE KARASU MERKEZDE HAVUZLU LÜKS 3+...</td>\n",
       "      <td>[]</td>\n",
       "      <td>&lt;p&gt;&lt;br&gt;&lt;/p&gt;\\n&lt;p style=\\\"text-align: center;\\\"&gt;...</td>\n",
       "      <td>3350000</td>\n",
       "      <td>TL</td>\n",
       "      <td>1.0</td>\n",
       "      <td>2025-02-12T12:23:38.413+0000</td>\n",
       "      <td>...</td>\n",
       "      <td>NaN</td>\n",
       "      <td>{\"fuelName\":15,\"city\":2,\"roomAndLivingRoom\":8,...</td>\n",
       "      <td>18262-757</td>\n",
       "      <td>NaN</td>\n",
       "      <td>NaN</td>\n",
       "      <td>NaN</td>\n",
       "      <td>NaN</td>\n",
       "      <td>NaN</td>\n",
       "      <td>NaN</td>\n",
       "      <td>NaN</td>\n",
       "    </tr>\n",
       "    <tr>\n",
       "      <th>4</th>\n",
       "      <td>131612-1792</td>\n",
       "      <td>44126172</td>\n",
       "      <td>1792</td>\n",
       "      <td>3+1 MERKEZİ KONUMDA , BAHÇELİ , DENİZE YAKIN S...</td>\n",
       "      <td>[{\"number\":\"+905322368449\",\"extension\":null,\"f...</td>\n",
       "      <td>&lt;p&gt;&lt;strong&gt;SATILIK OLAN VİLLA İSTANBUL'A 2 SAA...</td>\n",
       "      <td>3700000</td>\n",
       "      <td>TL</td>\n",
       "      <td>1.0</td>\n",
       "      <td>2025-02-01T09:09:15.317+0000</td>\n",
       "      <td>...</td>\n",
       "      <td>NaN</td>\n",
       "      <td>{\"fuelName\":15,\"city\":2,\"roomAndLivingRoom\":8,...</td>\n",
       "      <td>131612-1792</td>\n",
       "      <td>NaN</td>\n",
       "      <td>NaN</td>\n",
       "      <td>NaN</td>\n",
       "      <td>NaN</td>\n",
       "      <td>NaN</td>\n",
       "      <td>NaN</td>\n",
       "      <td>NaN</td>\n",
       "    </tr>\n",
       "    <tr>\n",
       "      <th>...</th>\n",
       "      <td>...</td>\n",
       "      <td>...</td>\n",
       "      <td>...</td>\n",
       "      <td>...</td>\n",
       "      <td>...</td>\n",
       "      <td>...</td>\n",
       "      <td>...</td>\n",
       "      <td>...</td>\n",
       "      <td>...</td>\n",
       "      <td>...</td>\n",
       "      <td>...</td>\n",
       "      <td>...</td>\n",
       "      <td>...</td>\n",
       "      <td>...</td>\n",
       "      <td>...</td>\n",
       "      <td>...</td>\n",
       "      <td>...</td>\n",
       "      <td>...</td>\n",
       "      <td>...</td>\n",
       "      <td>...</td>\n",
       "      <td>...</td>\n",
       "    </tr>\n",
       "    <tr>\n",
       "      <th>2175</th>\n",
       "      <td>24006-2593</td>\n",
       "      <td>43617262</td>\n",
       "      <td>2593</td>\n",
       "      <td>**BU FIRSAT KAÇMAZ**KARASU SAHİLDE DENİZE 2.PA...</td>\n",
       "      <td>[{\"number\":\"+905323884886\",\"extension\":null,\"f...</td>\n",
       "      <td>&lt;p style=\\\"text-align: center;\\\"&gt;&lt;strong style...</td>\n",
       "      <td>1785000</td>\n",
       "      <td>TL</td>\n",
       "      <td>1.0</td>\n",
       "      <td>2024-12-31T07:31:10.250+0000</td>\n",
       "      <td>...</td>\n",
       "      <td>NaN</td>\n",
       "      <td>{\"fuelName\":15,\"city\":2,\"roomAndLivingRoom\":8,...</td>\n",
       "      <td>24006-2593</td>\n",
       "      <td>NaN</td>\n",
       "      <td>NaN</td>\n",
       "      <td>NaN</td>\n",
       "      <td>NaN</td>\n",
       "      <td>NaN</td>\n",
       "      <td>NaN</td>\n",
       "      <td>NaN</td>\n",
       "    </tr>\n",
       "    <tr>\n",
       "      <th>2176</th>\n",
       "      <td>150512-17</td>\n",
       "      <td>43793751</td>\n",
       "      <td>17</td>\n",
       "      <td>GEYVE EMLAKTAN PAMUKOVA MERKEZ DE SATILIK 3+1 ...</td>\n",
       "      <td>[{\"number\":\"+905061575355\",\"extension\":null,\"f...</td>\n",
       "      <td>&lt;p&gt;GEYVE EMLAKTAN PAMUKOVA ÇARŞI MERKEZ DE 3+1...</td>\n",
       "      <td>2849000</td>\n",
       "      <td>TL</td>\n",
       "      <td>1.0</td>\n",
       "      <td>2025-02-24T23:58:02.690+0000</td>\n",
       "      <td>...</td>\n",
       "      <td>NaN</td>\n",
       "      <td>{\"fuelName\":15,\"city\":2,\"roomAndLivingRoom\":8,...</td>\n",
       "      <td>150512-17</td>\n",
       "      <td>NaN</td>\n",
       "      <td>NaN</td>\n",
       "      <td>NaN</td>\n",
       "      <td>NaN</td>\n",
       "      <td>NaN</td>\n",
       "      <td>NaN</td>\n",
       "      <td>NaN</td>\n",
       "    </tr>\n",
       "    <tr>\n",
       "      <th>2177</th>\n",
       "      <td>18262-750</td>\n",
       "      <td>42096198</td>\n",
       "      <td>750</td>\n",
       "      <td>KIR YAPI İNŞAAT'TAN SON 2 VİLLA MÜSTAKİL BAHÇE...</td>\n",
       "      <td>[{\"number\":\"+905442228854\",\"extension\":null,\"f...</td>\n",
       "      <td>&lt;p style=\\\"text-align: center;\\\"&gt;&lt;strong&gt;KIROĞ...</td>\n",
       "      <td>7500000</td>\n",
       "      <td>TL</td>\n",
       "      <td>1.0</td>\n",
       "      <td>2025-02-24T05:53:44.107+0000</td>\n",
       "      <td>...</td>\n",
       "      <td>NaN</td>\n",
       "      <td>{\"fuelName\":15,\"city\":2,\"roomAndLivingRoom\":8,...</td>\n",
       "      <td>18262-750</td>\n",
       "      <td>NaN</td>\n",
       "      <td>NaN</td>\n",
       "      <td>NaN</td>\n",
       "      <td>NaN</td>\n",
       "      <td>NaN</td>\n",
       "      <td>NaN</td>\n",
       "      <td>NaN</td>\n",
       "    </tr>\n",
       "    <tr>\n",
       "      <th>2178</th>\n",
       "      <td>121878-505</td>\n",
       "      <td>43954752</td>\n",
       "      <td>505</td>\n",
       "      <td>KARASU'DA EN UCUZ DENİZ GÖREN 2 +1 MUTFAK AYRI...</td>\n",
       "      <td>[{\"number\":\"+902163434313\",\"extension\":null,\"f...</td>\n",
       "      <td>&lt;p&gt;&lt;br&gt;&lt;/p&gt; \\n&lt;p&gt;&lt;br&gt;&lt;/p&gt; \\n&lt;p style=\\\"color:r...</td>\n",
       "      <td>1650000</td>\n",
       "      <td>TL</td>\n",
       "      <td>1.0</td>\n",
       "      <td>2024-12-29T13:53:03.117+0000</td>\n",
       "      <td>...</td>\n",
       "      <td>NaN</td>\n",
       "      <td>{\"fuelName\":15,\"city\":2,\"roomAndLivingRoom\":8,...</td>\n",
       "      <td>121878-505</td>\n",
       "      <td>NaN</td>\n",
       "      <td>NaN</td>\n",
       "      <td>NaN</td>\n",
       "      <td>NaN</td>\n",
       "      <td>NaN</td>\n",
       "      <td>NaN</td>\n",
       "      <td>NaN</td>\n",
       "    </tr>\n",
       "    <tr>\n",
       "      <th>2179</th>\n",
       "      <td>144178-340</td>\n",
       "      <td>44093747</td>\n",
       "      <td>340</td>\n",
       "      <td>KARASU KAYMAKAMLIK KARŞISINDA EŞYALI 4+1 FIRSA...</td>\n",
       "      <td>[{\"number\":\"+905423829171\",\"extension\":null,\"f...</td>\n",
       "      <td>&lt;h2&gt;&lt;strong style=\\\"color: rgb(255, 255, 255);...</td>\n",
       "      <td>1250000</td>\n",
       "      <td>TL</td>\n",
       "      <td>1.0</td>\n",
       "      <td>2025-01-25T11:43:45.110+0000</td>\n",
       "      <td>...</td>\n",
       "      <td>NaN</td>\n",
       "      <td>{\"fuelName\":15,\"city\":2,\"roomAndLivingRoom\":8,...</td>\n",
       "      <td>144178-340</td>\n",
       "      <td>NaN</td>\n",
       "      <td>NaN</td>\n",
       "      <td>NaN</td>\n",
       "      <td>NaN</td>\n",
       "      <td>NaN</td>\n",
       "      <td>NaN</td>\n",
       "      <td>NaN</td>\n",
       "    </tr>\n",
       "  </tbody>\n",
       "</table>\n",
       "<p>2180 rows × 99 columns</p>\n",
       "</div>"
      ],
      "text/plain": [
       "        listingId  realtyId    no  \\\n",
       "0       78883-704  43672903   704   \n",
       "1      54537-3457  42399668  3457   \n",
       "2      116181-160  40773651   160   \n",
       "3       18262-757  42174714   757   \n",
       "4     131612-1792  44126172  1792   \n",
       "...           ...       ...   ...   \n",
       "2175   24006-2593  43617262  2593   \n",
       "2176    150512-17  43793751    17   \n",
       "2177    18262-750  42096198   750   \n",
       "2178   121878-505  43954752   505   \n",
       "2179   144178-340  44093747   340   \n",
       "\n",
       "                                                  title  \\\n",
       "0     ÇİFTÇİ EMLAK 'tan BİLGE HAST. YANI ARA KAT ANA...   \n",
       "1     SAKARYA KARASU'DA YAZLIK DAİRENİZ EMRE FİLİZFİ...   \n",
       "2                Sapanca,Kırkpınar’da Satılık 4+1 Villa   \n",
       "3     EMSALSİZ PROJE KARASU MERKEZDE HAVUZLU LÜKS 3+...   \n",
       "4     3+1 MERKEZİ KONUMDA , BAHÇELİ , DENİZE YAKIN S...   \n",
       "...                                                 ...   \n",
       "2175  **BU FIRSAT KAÇMAZ**KARASU SAHİLDE DENİZE 2.PA...   \n",
       "2176  GEYVE EMLAKTAN PAMUKOVA MERKEZ DE SATILIK 3+1 ...   \n",
       "2177  KIR YAPI İNŞAAT'TAN SON 2 VİLLA MÜSTAKİL BAHÇE...   \n",
       "2178  KARASU'DA EN UCUZ DENİZ GÖREN 2 +1 MUTFAK AYRI...   \n",
       "2179  KARASU KAYMAKAMLIK KARŞISINDA EŞYALI 4+1 FIRSA...   \n",
       "\n",
       "                                descriptionPhoneNumbers  \\\n",
       "0                                                    []   \n",
       "1                                                    []   \n",
       "2                                                    []   \n",
       "3                                                    []   \n",
       "4     [{\"number\":\"+905322368449\",\"extension\":null,\"f...   \n",
       "...                                                 ...   \n",
       "2175  [{\"number\":\"+905323884886\",\"extension\":null,\"f...   \n",
       "2176  [{\"number\":\"+905061575355\",\"extension\":null,\"f...   \n",
       "2177  [{\"number\":\"+905442228854\",\"extension\":null,\"f...   \n",
       "2178  [{\"number\":\"+902163434313\",\"extension\":null,\"f...   \n",
       "2179  [{\"number\":\"+905423829171\",\"extension\":null,\"f...   \n",
       "\n",
       "                                            description     price currency  \\\n",
       "0     <h2 style=\\\"text-align: center;\\\"><strong styl...   2500000       TL   \n",
       "1     <p style=\\\"text-align: center;\\\"><br></p>\\n<p ...   1500000       TL   \n",
       "2     <p>https://app.immoviewer.com/portal/tour/2907...  19500000       TL   \n",
       "3     <p><br></p>\\n<p style=\\\"text-align: center;\\\">...   3350000       TL   \n",
       "4     <p><strong>SATILIK OLAN VİLLA İSTANBUL'A 2 SAA...   3700000       TL   \n",
       "...                                                 ...       ...      ...   \n",
       "2175  <p style=\\\"text-align: center;\\\"><strong style...   1785000       TL   \n",
       "2176  <p>GEYVE EMLAKTAN PAMUKOVA ÇARŞI MERKEZ DE 3+1...   2849000       TL   \n",
       "2177  <p style=\\\"text-align: center;\\\"><strong>KIROĞ...   7500000       TL   \n",
       "2178  <p><br></p> \\n<p><br></p> \\n<p style=\\\"color:r...   1650000       TL   \n",
       "2179  <h2><strong style=\\\"color: rgb(255, 255, 255);...   1250000       TL   \n",
       "\n",
       "      currencyId                     startDate  ... realtyIdentificationNo  \\\n",
       "0            1.0  2025-02-07T07:33:35.387+0000  ...                    NaN   \n",
       "1            1.0  2025-01-10T11:50:32.547+0000  ...                    NaN   \n",
       "2            1.0  2025-02-05T06:56:17.923+0000  ...                    NaN   \n",
       "3            1.0  2025-02-12T12:23:38.413+0000  ...                    NaN   \n",
       "4            1.0  2025-02-01T09:09:15.317+0000  ...                    NaN   \n",
       "...          ...                           ...  ...                    ...   \n",
       "2175         1.0  2024-12-31T07:31:10.250+0000  ...                    NaN   \n",
       "2176         1.0  2025-02-24T23:58:02.690+0000  ...                    NaN   \n",
       "2177         1.0  2025-02-24T05:53:44.107+0000  ...                    NaN   \n",
       "2178         1.0  2024-12-29T13:53:03.117+0000  ...                    NaN   \n",
       "2179         1.0  2025-01-25T11:43:45.110+0000  ...                    NaN   \n",
       "\n",
       "                                   listingPropertyOrder  listingId.1  \\\n",
       "0     {\"fuelName\":15,\"city\":2,\"roomAndLivingRoom\":8,...    78883-704   \n",
       "1     {\"fuelName\":15,\"city\":2,\"roomAndLivingRoom\":8,...   54537-3457   \n",
       "2     {\"fuelName\":15,\"city\":2,\"roomAndLivingRoom\":8,...   116181-160   \n",
       "3     {\"fuelName\":15,\"city\":2,\"roomAndLivingRoom\":8,...    18262-757   \n",
       "4     {\"fuelName\":15,\"city\":2,\"roomAndLivingRoom\":8,...  131612-1792   \n",
       "...                                                 ...          ...   \n",
       "2175  {\"fuelName\":15,\"city\":2,\"roomAndLivingRoom\":8,...   24006-2593   \n",
       "2176  {\"fuelName\":15,\"city\":2,\"roomAndLivingRoom\":8,...    150512-17   \n",
       "2177  {\"fuelName\":15,\"city\":2,\"roomAndLivingRoom\":8,...    18262-750   \n",
       "2178  {\"fuelName\":15,\"city\":2,\"roomAndLivingRoom\":8,...   121878-505   \n",
       "2179  {\"fuelName\":15,\"city\":2,\"roomAndLivingRoom\":8,...   144178-340   \n",
       "\n",
       "     curr rency ccurrency enddDate curreency endDaate are   eas  ccurrencyId  \n",
       "0           NaN       NaN      NaN       NaN      NaN       NaN          NaN  \n",
       "1           NaN       NaN      NaN       NaN      NaN       NaN          NaN  \n",
       "2           NaN       NaN      NaN       NaN      NaN       NaN          NaN  \n",
       "3           NaN       NaN      NaN       NaN      NaN       NaN          NaN  \n",
       "4           NaN       NaN      NaN       NaN      NaN       NaN          NaN  \n",
       "...         ...       ...      ...       ...      ...       ...          ...  \n",
       "2175        NaN       NaN      NaN       NaN      NaN       NaN          NaN  \n",
       "2176        NaN       NaN      NaN       NaN      NaN       NaN          NaN  \n",
       "2177        NaN       NaN      NaN       NaN      NaN       NaN          NaN  \n",
       "2178        NaN       NaN      NaN       NaN      NaN       NaN          NaN  \n",
       "2179        NaN       NaN      NaN       NaN      NaN       NaN          NaN  \n",
       "\n",
       "[2180 rows x 99 columns]"
      ]
     },
     "execution_count": 8,
     "metadata": {},
     "output_type": "execute_result"
    }
   ],
   "source": [
    "df.dropna(axis=1, how='all') \n",
    "#Eğer bir sütunun tüm değerleri eksikse (hepsi NaN ise), o sütunu sil.\n",
    "#(Eğer sadece bazıları NaN ise, o sütun kalır.)"
   ]
  },
  {
   "cell_type": "code",
   "execution_count": 9,
   "id": "3c4125bc",
   "metadata": {},
   "outputs": [
    {
     "name": "stdout",
     "output_type": "stream",
     "text": [
      "listingId                     0\n",
      "realtyId                      0\n",
      "no                            0\n",
      "title                         0\n",
      "descriptionPhoneNumbers       0\n",
      "                           ... \n",
      "enddDate                   2179\n",
      "curreency                  2179\n",
      "endDaate                   2179\n",
      "are   eas                  2179\n",
      "ccurrencyId                2179\n",
      "Length: 135, dtype: int64\n"
     ]
    }
   ],
   "source": [
    "print(df.isnull().sum())"
   ]
  },
  {
   "cell_type": "code",
   "execution_count": 10,
   "id": "72ad198f",
   "metadata": {},
   "outputs": [],
   "source": [
    "threshold= 0.95\n",
    "df= df.loc[:, df.isnull().mean()< threshold]"
   ]
  },
  {
   "cell_type": "code",
   "execution_count": 11,
   "id": "62698792",
   "metadata": {},
   "outputs": [
    {
     "name": "stdout",
     "output_type": "stream",
     "text": [
      "listingId                  0\n",
      "realtyId                   0\n",
      "no                         0\n",
      "title                      0\n",
      "descriptionPhoneNumbers    0\n",
      "                          ..\n",
      "petAllowed                 0\n",
      "doubleBedCount             0\n",
      "singleBedCount             0\n",
      "listingPropertyOrder       0\n",
      "listingId.1                0\n",
      "Length: 84, dtype: int64\n"
     ]
    }
   ],
   "source": [
    "print(df.isnull().sum())"
   ]
  },
  {
   "cell_type": "code",
   "execution_count": 12,
   "id": "669ef795",
   "metadata": {},
   "outputs": [
    {
     "data": {
      "text/plain": [
       "(2180, 84)"
      ]
     },
     "execution_count": 12,
     "metadata": {},
     "output_type": "execute_result"
    }
   ],
   "source": [
    "df.shape"
   ]
  },
  {
   "cell_type": "code",
   "execution_count": 13,
   "id": "709dab3d",
   "metadata": {},
   "outputs": [
    {
     "data": {
      "text/html": [
       "<div>\n",
       "<style scoped>\n",
       "    .dataframe tbody tr th:only-of-type {\n",
       "        vertical-align: middle;\n",
       "    }\n",
       "\n",
       "    .dataframe tbody tr th {\n",
       "        vertical-align: top;\n",
       "    }\n",
       "\n",
       "    .dataframe thead th {\n",
       "        text-align: right;\n",
       "    }\n",
       "</style>\n",
       "<table border=\"1\" class=\"dataframe\">\n",
       "  <thead>\n",
       "    <tr style=\"text-align: right;\">\n",
       "      <th></th>\n",
       "      <th>listingId</th>\n",
       "      <th>realtyId</th>\n",
       "      <th>no</th>\n",
       "      <th>title</th>\n",
       "      <th>descriptionPhoneNumbers</th>\n",
       "      <th>description</th>\n",
       "      <th>price</th>\n",
       "      <th>currency</th>\n",
       "      <th>currencyId</th>\n",
       "      <th>startDate</th>\n",
       "      <th>...</th>\n",
       "      <th>entertainmentAllowed</th>\n",
       "      <th>guestCount</th>\n",
       "      <th>invoiceIncluded</th>\n",
       "      <th>maximumStay</th>\n",
       "      <th>minimumStay</th>\n",
       "      <th>petAllowed</th>\n",
       "      <th>doubleBedCount</th>\n",
       "      <th>singleBedCount</th>\n",
       "      <th>listingPropertyOrder</th>\n",
       "      <th>listingId.1</th>\n",
       "    </tr>\n",
       "  </thead>\n",
       "  <tbody>\n",
       "    <tr>\n",
       "      <th>2175</th>\n",
       "      <td>24006-2593</td>\n",
       "      <td>43617262</td>\n",
       "      <td>2593</td>\n",
       "      <td>**BU FIRSAT KAÇMAZ**KARASU SAHİLDE DENİZE 2.PA...</td>\n",
       "      <td>[{\"number\":\"+905323884886\",\"extension\":null,\"f...</td>\n",
       "      <td>&lt;p style=\\\"text-align: center;\\\"&gt;&lt;strong style...</td>\n",
       "      <td>1785000</td>\n",
       "      <td>TL</td>\n",
       "      <td>1.0</td>\n",
       "      <td>2024-12-31T07:31:10.250+0000</td>\n",
       "      <td>...</td>\n",
       "      <td>False</td>\n",
       "      <td>0</td>\n",
       "      <td>False</td>\n",
       "      <td>0</td>\n",
       "      <td>0</td>\n",
       "      <td>False</td>\n",
       "      <td>0</td>\n",
       "      <td>0</td>\n",
       "      <td>{\"fuelName\":15,\"city\":2,\"roomAndLivingRoom\":8,...</td>\n",
       "      <td>24006-2593</td>\n",
       "    </tr>\n",
       "    <tr>\n",
       "      <th>2176</th>\n",
       "      <td>150512-17</td>\n",
       "      <td>43793751</td>\n",
       "      <td>17</td>\n",
       "      <td>GEYVE EMLAKTAN PAMUKOVA MERKEZ DE SATILIK 3+1 ...</td>\n",
       "      <td>[{\"number\":\"+905061575355\",\"extension\":null,\"f...</td>\n",
       "      <td>&lt;p&gt;GEYVE EMLAKTAN PAMUKOVA ÇARŞI MERKEZ DE 3+1...</td>\n",
       "      <td>2849000</td>\n",
       "      <td>TL</td>\n",
       "      <td>1.0</td>\n",
       "      <td>2025-02-24T23:58:02.690+0000</td>\n",
       "      <td>...</td>\n",
       "      <td>False</td>\n",
       "      <td>0</td>\n",
       "      <td>False</td>\n",
       "      <td>0</td>\n",
       "      <td>0</td>\n",
       "      <td>False</td>\n",
       "      <td>0</td>\n",
       "      <td>0</td>\n",
       "      <td>{\"fuelName\":15,\"city\":2,\"roomAndLivingRoom\":8,...</td>\n",
       "      <td>150512-17</td>\n",
       "    </tr>\n",
       "    <tr>\n",
       "      <th>2177</th>\n",
       "      <td>18262-750</td>\n",
       "      <td>42096198</td>\n",
       "      <td>750</td>\n",
       "      <td>KIR YAPI İNŞAAT'TAN SON 2 VİLLA MÜSTAKİL BAHÇE...</td>\n",
       "      <td>[{\"number\":\"+905442228854\",\"extension\":null,\"f...</td>\n",
       "      <td>&lt;p style=\\\"text-align: center;\\\"&gt;&lt;strong&gt;KIROĞ...</td>\n",
       "      <td>7500000</td>\n",
       "      <td>TL</td>\n",
       "      <td>1.0</td>\n",
       "      <td>2025-02-24T05:53:44.107+0000</td>\n",
       "      <td>...</td>\n",
       "      <td>False</td>\n",
       "      <td>0</td>\n",
       "      <td>False</td>\n",
       "      <td>0</td>\n",
       "      <td>0</td>\n",
       "      <td>False</td>\n",
       "      <td>0</td>\n",
       "      <td>0</td>\n",
       "      <td>{\"fuelName\":15,\"city\":2,\"roomAndLivingRoom\":8,...</td>\n",
       "      <td>18262-750</td>\n",
       "    </tr>\n",
       "    <tr>\n",
       "      <th>2178</th>\n",
       "      <td>121878-505</td>\n",
       "      <td>43954752</td>\n",
       "      <td>505</td>\n",
       "      <td>KARASU'DA EN UCUZ DENİZ GÖREN 2 +1 MUTFAK AYRI...</td>\n",
       "      <td>[{\"number\":\"+902163434313\",\"extension\":null,\"f...</td>\n",
       "      <td>&lt;p&gt;&lt;br&gt;&lt;/p&gt; \\n&lt;p&gt;&lt;br&gt;&lt;/p&gt; \\n&lt;p style=\\\"color:r...</td>\n",
       "      <td>1650000</td>\n",
       "      <td>TL</td>\n",
       "      <td>1.0</td>\n",
       "      <td>2024-12-29T13:53:03.117+0000</td>\n",
       "      <td>...</td>\n",
       "      <td>False</td>\n",
       "      <td>0</td>\n",
       "      <td>False</td>\n",
       "      <td>0</td>\n",
       "      <td>0</td>\n",
       "      <td>False</td>\n",
       "      <td>0</td>\n",
       "      <td>0</td>\n",
       "      <td>{\"fuelName\":15,\"city\":2,\"roomAndLivingRoom\":8,...</td>\n",
       "      <td>121878-505</td>\n",
       "    </tr>\n",
       "    <tr>\n",
       "      <th>2179</th>\n",
       "      <td>144178-340</td>\n",
       "      <td>44093747</td>\n",
       "      <td>340</td>\n",
       "      <td>KARASU KAYMAKAMLIK KARŞISINDA EŞYALI 4+1 FIRSA...</td>\n",
       "      <td>[{\"number\":\"+905423829171\",\"extension\":null,\"f...</td>\n",
       "      <td>&lt;h2&gt;&lt;strong style=\\\"color: rgb(255, 255, 255);...</td>\n",
       "      <td>1250000</td>\n",
       "      <td>TL</td>\n",
       "      <td>1.0</td>\n",
       "      <td>2025-01-25T11:43:45.110+0000</td>\n",
       "      <td>...</td>\n",
       "      <td>False</td>\n",
       "      <td>0</td>\n",
       "      <td>False</td>\n",
       "      <td>0</td>\n",
       "      <td>0</td>\n",
       "      <td>False</td>\n",
       "      <td>0</td>\n",
       "      <td>0</td>\n",
       "      <td>{\"fuelName\":15,\"city\":2,\"roomAndLivingRoom\":8,...</td>\n",
       "      <td>144178-340</td>\n",
       "    </tr>\n",
       "  </tbody>\n",
       "</table>\n",
       "<p>5 rows × 84 columns</p>\n",
       "</div>"
      ],
      "text/plain": [
       "       listingId  realtyId    no  \\\n",
       "2175  24006-2593  43617262  2593   \n",
       "2176   150512-17  43793751    17   \n",
       "2177   18262-750  42096198   750   \n",
       "2178  121878-505  43954752   505   \n",
       "2179  144178-340  44093747   340   \n",
       "\n",
       "                                                  title  \\\n",
       "2175  **BU FIRSAT KAÇMAZ**KARASU SAHİLDE DENİZE 2.PA...   \n",
       "2176  GEYVE EMLAKTAN PAMUKOVA MERKEZ DE SATILIK 3+1 ...   \n",
       "2177  KIR YAPI İNŞAAT'TAN SON 2 VİLLA MÜSTAKİL BAHÇE...   \n",
       "2178  KARASU'DA EN UCUZ DENİZ GÖREN 2 +1 MUTFAK AYRI...   \n",
       "2179  KARASU KAYMAKAMLIK KARŞISINDA EŞYALI 4+1 FIRSA...   \n",
       "\n",
       "                                descriptionPhoneNumbers  \\\n",
       "2175  [{\"number\":\"+905323884886\",\"extension\":null,\"f...   \n",
       "2176  [{\"number\":\"+905061575355\",\"extension\":null,\"f...   \n",
       "2177  [{\"number\":\"+905442228854\",\"extension\":null,\"f...   \n",
       "2178  [{\"number\":\"+902163434313\",\"extension\":null,\"f...   \n",
       "2179  [{\"number\":\"+905423829171\",\"extension\":null,\"f...   \n",
       "\n",
       "                                            description    price currency  \\\n",
       "2175  <p style=\\\"text-align: center;\\\"><strong style...  1785000       TL   \n",
       "2176  <p>GEYVE EMLAKTAN PAMUKOVA ÇARŞI MERKEZ DE 3+1...  2849000       TL   \n",
       "2177  <p style=\\\"text-align: center;\\\"><strong>KIROĞ...  7500000       TL   \n",
       "2178  <p><br></p> \\n<p><br></p> \\n<p style=\\\"color:r...  1650000       TL   \n",
       "2179  <h2><strong style=\\\"color: rgb(255, 255, 255);...  1250000       TL   \n",
       "\n",
       "      currencyId                     startDate  ... entertainmentAllowed  \\\n",
       "2175         1.0  2024-12-31T07:31:10.250+0000  ...                False   \n",
       "2176         1.0  2025-02-24T23:58:02.690+0000  ...                False   \n",
       "2177         1.0  2025-02-24T05:53:44.107+0000  ...                False   \n",
       "2178         1.0  2024-12-29T13:53:03.117+0000  ...                False   \n",
       "2179         1.0  2025-01-25T11:43:45.110+0000  ...                False   \n",
       "\n",
       "     guestCount invoiceIncluded maximumStay minimumStay petAllowed  \\\n",
       "2175          0           False           0           0      False   \n",
       "2176          0           False           0           0      False   \n",
       "2177          0           False           0           0      False   \n",
       "2178          0           False           0           0      False   \n",
       "2179          0           False           0           0      False   \n",
       "\n",
       "     doubleBedCount singleBedCount  \\\n",
       "2175              0              0   \n",
       "2176              0              0   \n",
       "2177              0              0   \n",
       "2178              0              0   \n",
       "2179              0              0   \n",
       "\n",
       "                                   listingPropertyOrder listingId.1  \n",
       "2175  {\"fuelName\":15,\"city\":2,\"roomAndLivingRoom\":8,...  24006-2593  \n",
       "2176  {\"fuelName\":15,\"city\":2,\"roomAndLivingRoom\":8,...   150512-17  \n",
       "2177  {\"fuelName\":15,\"city\":2,\"roomAndLivingRoom\":8,...   18262-750  \n",
       "2178  {\"fuelName\":15,\"city\":2,\"roomAndLivingRoom\":8,...  121878-505  \n",
       "2179  {\"fuelName\":15,\"city\":2,\"roomAndLivingRoom\":8,...  144178-340  \n",
       "\n",
       "[5 rows x 84 columns]"
      ]
     },
     "execution_count": 13,
     "metadata": {},
     "output_type": "execute_result"
    }
   ],
   "source": [
    "df.tail()"
   ]
  },
  {
   "cell_type": "code",
   "execution_count": 14,
   "id": "422f5fd1",
   "metadata": {},
   "outputs": [],
   "source": [
    "only_zero_cols=df.columns[(df==0).all()]\n",
    "df=df.drop(columns=only_zero_cols)"
   ]
  },
  {
   "cell_type": "code",
   "execution_count": 15,
   "id": "1173511d",
   "metadata": {},
   "outputs": [
    {
     "data": {
      "text/plain": [
       "(2180, 74)"
      ]
     },
     "execution_count": 15,
     "metadata": {},
     "output_type": "execute_result"
    }
   ],
   "source": [
    "df.shape"
   ]
  },
  {
   "cell_type": "code",
   "execution_count": 16,
   "id": "b0bf86fe",
   "metadata": {},
   "outputs": [
    {
     "name": "stdout",
     "output_type": "stream",
     "text": [
      "0       []\n",
      "1       []\n",
      "2       []\n",
      "3       []\n",
      "4       []\n",
      "        ..\n",
      "2175    []\n",
      "2176    []\n",
      "2177    []\n",
      "2178    []\n",
      "2179    []\n",
      "Name: tagProducts, Length: 2180, dtype: object\n"
     ]
    }
   ],
   "source": [
    "print(df['tagProducts'])"
   ]
  },
  {
   "cell_type": "code",
   "execution_count": 17,
   "id": "77b9e24e",
   "metadata": {},
   "outputs": [],
   "source": [
    "df=df.drop(columns=['tagProducts'])"
   ]
  },
  {
   "cell_type": "code",
   "execution_count": 18,
   "id": "fa95cb57",
   "metadata": {},
   "outputs": [],
   "source": [
    "df=df.drop(columns=['featuringProducts'])"
   ]
  },
  {
   "cell_type": "code",
   "execution_count": 19,
   "id": "e2fbb636",
   "metadata": {},
   "outputs": [],
   "source": [
    "df=df.drop(columns=['floorAreaRatio'])"
   ]
  },
  {
   "cell_type": "code",
   "execution_count": 20,
   "id": "103fb794",
   "metadata": {},
   "outputs": [],
   "source": [
    "df=df.drop(columns=['currencyId'])"
   ]
  },
  {
   "cell_type": "code",
   "execution_count": 21,
   "id": "9bd7c7d9",
   "metadata": {},
   "outputs": [
    {
     "data": {
      "text/html": [
       "<div>\n",
       "<style scoped>\n",
       "    .dataframe tbody tr th:only-of-type {\n",
       "        vertical-align: middle;\n",
       "    }\n",
       "\n",
       "    .dataframe tbody tr th {\n",
       "        vertical-align: top;\n",
       "    }\n",
       "\n",
       "    .dataframe thead th {\n",
       "        text-align: right;\n",
       "    }\n",
       "</style>\n",
       "<table border=\"1\" class=\"dataframe\">\n",
       "  <thead>\n",
       "    <tr style=\"text-align: right;\">\n",
       "      <th></th>\n",
       "      <th>listingId</th>\n",
       "      <th>realtyId</th>\n",
       "      <th>no</th>\n",
       "      <th>title</th>\n",
       "      <th>descriptionPhoneNumbers</th>\n",
       "      <th>description</th>\n",
       "      <th>price</th>\n",
       "      <th>currency</th>\n",
       "      <th>startDate</th>\n",
       "      <th>endDate</th>\n",
       "      <th>...</th>\n",
       "      <th>isVideoTypeVimeo</th>\n",
       "      <th>stale</th>\n",
       "      <th>searchScore</th>\n",
       "      <th>whatsAppNumber</th>\n",
       "      <th>onlineVisit</th>\n",
       "      <th>hasBranded</th>\n",
       "      <th>hasUpdateBooster</th>\n",
       "      <th>registerState</th>\n",
       "      <th>listingPropertyOrder</th>\n",
       "      <th>listingId.1</th>\n",
       "    </tr>\n",
       "  </thead>\n",
       "  <tbody>\n",
       "    <tr>\n",
       "      <th>0</th>\n",
       "      <td>78883-704</td>\n",
       "      <td>43672903</td>\n",
       "      <td>704</td>\n",
       "      <td>ÇİFTÇİ EMLAK 'tan BİLGE HAST. YANI ARA KAT ANA...</td>\n",
       "      <td>[]</td>\n",
       "      <td>&lt;h2 style=\\\"text-align: center;\\\"&gt;&lt;strong styl...</td>\n",
       "      <td>2500000</td>\n",
       "      <td>TL</td>\n",
       "      <td>2025-02-07T07:33:35.387+0000</td>\n",
       "      <td>2025-05-08T07:33:35.387+0000</td>\n",
       "      <td>...</td>\n",
       "      <td>False</td>\n",
       "      <td>False</td>\n",
       "      <td>NaN</td>\n",
       "      <td>{\"countryCode\":\"+90\",\"areaCode\":\"545\",\"phoneNu...</td>\n",
       "      <td>True</td>\n",
       "      <td>False</td>\n",
       "      <td>False</td>\n",
       "      <td>Kat Mülkiyeti</td>\n",
       "      <td>{\"fuelName\":15,\"city\":2,\"roomAndLivingRoom\":8,...</td>\n",
       "      <td>78883-704</td>\n",
       "    </tr>\n",
       "    <tr>\n",
       "      <th>1</th>\n",
       "      <td>54537-3457</td>\n",
       "      <td>42399668</td>\n",
       "      <td>3457</td>\n",
       "      <td>SAKARYA KARASU'DA YAZLIK DAİRENİZ EMRE FİLİZFİ...</td>\n",
       "      <td>[]</td>\n",
       "      <td>&lt;p style=\\\"text-align: center;\\\"&gt;&lt;br&gt;&lt;/p&gt;\\n&lt;p ...</td>\n",
       "      <td>1500000</td>\n",
       "      <td>TL</td>\n",
       "      <td>2025-01-10T11:50:32.547+0000</td>\n",
       "      <td>2025-04-13T08:24:27.627+0000</td>\n",
       "      <td>...</td>\n",
       "      <td>False</td>\n",
       "      <td>False</td>\n",
       "      <td>NaN</td>\n",
       "      <td>{\"countryCode\":\"+90\",\"areaCode\":\"546\",\"phoneNu...</td>\n",
       "      <td>False</td>\n",
       "      <td>True</td>\n",
       "      <td>False</td>\n",
       "      <td>Kat Mülkiyeti</td>\n",
       "      <td>{\"fuelName\":15,\"city\":2,\"roomAndLivingRoom\":8,...</td>\n",
       "      <td>54537-3457</td>\n",
       "    </tr>\n",
       "    <tr>\n",
       "      <th>2</th>\n",
       "      <td>116181-160</td>\n",
       "      <td>40773651</td>\n",
       "      <td>160</td>\n",
       "      <td>Sapanca,Kırkpınar’da Satılık 4+1 Villa</td>\n",
       "      <td>[]</td>\n",
       "      <td>&lt;p&gt;https://app.immoviewer.com/portal/tour/2907...</td>\n",
       "      <td>19500000</td>\n",
       "      <td>TL</td>\n",
       "      <td>2025-02-05T06:56:17.923+0000</td>\n",
       "      <td>2025-05-06T06:56:17.923+0000</td>\n",
       "      <td>...</td>\n",
       "      <td>False</td>\n",
       "      <td>False</td>\n",
       "      <td>50.385391</td>\n",
       "      <td>{\"countryCode\":\"+90\",\"areaCode\":\"539\",\"phoneNu...</td>\n",
       "      <td>True</td>\n",
       "      <td>False</td>\n",
       "      <td>False</td>\n",
       "      <td>Kat Mülkiyeti</td>\n",
       "      <td>{\"fuelName\":15,\"city\":2,\"roomAndLivingRoom\":8,...</td>\n",
       "      <td>116181-160</td>\n",
       "    </tr>\n",
       "    <tr>\n",
       "      <th>3</th>\n",
       "      <td>18262-757</td>\n",
       "      <td>42174714</td>\n",
       "      <td>757</td>\n",
       "      <td>EMSALSİZ PROJE KARASU MERKEZDE HAVUZLU LÜKS 3+...</td>\n",
       "      <td>[]</td>\n",
       "      <td>&lt;p&gt;&lt;br&gt;&lt;/p&gt;\\n&lt;p style=\\\"text-align: center;\\\"&gt;...</td>\n",
       "      <td>3350000</td>\n",
       "      <td>TL</td>\n",
       "      <td>2025-02-12T12:23:38.413+0000</td>\n",
       "      <td>2025-05-13T13:02:20.187+0000</td>\n",
       "      <td>...</td>\n",
       "      <td>False</td>\n",
       "      <td>False</td>\n",
       "      <td>28.141878</td>\n",
       "      <td>{\"countryCode\":\"+90\",\"areaCode\":\"544\",\"phoneNu...</td>\n",
       "      <td>True</td>\n",
       "      <td>True</td>\n",
       "      <td>False</td>\n",
       "      <td>Kat İrtifakı</td>\n",
       "      <td>{\"fuelName\":15,\"city\":2,\"roomAndLivingRoom\":8,...</td>\n",
       "      <td>18262-757</td>\n",
       "    </tr>\n",
       "    <tr>\n",
       "      <th>4</th>\n",
       "      <td>131612-1792</td>\n",
       "      <td>44126172</td>\n",
       "      <td>1792</td>\n",
       "      <td>3+1 MERKEZİ KONUMDA , BAHÇELİ , DENİZE YAKIN S...</td>\n",
       "      <td>[{\"number\":\"+905322368449\",\"extension\":null,\"f...</td>\n",
       "      <td>&lt;p&gt;&lt;strong&gt;SATILIK OLAN VİLLA İSTANBUL'A 2 SAA...</td>\n",
       "      <td>3700000</td>\n",
       "      <td>TL</td>\n",
       "      <td>2025-02-01T09:09:15.317+0000</td>\n",
       "      <td>2025-05-02T09:09:15.317+0000</td>\n",
       "      <td>...</td>\n",
       "      <td>False</td>\n",
       "      <td>False</td>\n",
       "      <td>NaN</td>\n",
       "      <td>{\"countryCode\":\"+90\",\"areaCode\":\"532\",\"phoneNu...</td>\n",
       "      <td>True</td>\n",
       "      <td>False</td>\n",
       "      <td>False</td>\n",
       "      <td>Kat Mülkiyeti</td>\n",
       "      <td>{\"fuelName\":15,\"city\":2,\"roomAndLivingRoom\":8,...</td>\n",
       "      <td>131612-1792</td>\n",
       "    </tr>\n",
       "  </tbody>\n",
       "</table>\n",
       "<p>5 rows × 70 columns</p>\n",
       "</div>"
      ],
      "text/plain": [
       "     listingId  realtyId    no  \\\n",
       "0    78883-704  43672903   704   \n",
       "1   54537-3457  42399668  3457   \n",
       "2   116181-160  40773651   160   \n",
       "3    18262-757  42174714   757   \n",
       "4  131612-1792  44126172  1792   \n",
       "\n",
       "                                               title  \\\n",
       "0  ÇİFTÇİ EMLAK 'tan BİLGE HAST. YANI ARA KAT ANA...   \n",
       "1  SAKARYA KARASU'DA YAZLIK DAİRENİZ EMRE FİLİZFİ...   \n",
       "2             Sapanca,Kırkpınar’da Satılık 4+1 Villa   \n",
       "3  EMSALSİZ PROJE KARASU MERKEZDE HAVUZLU LÜKS 3+...   \n",
       "4  3+1 MERKEZİ KONUMDA , BAHÇELİ , DENİZE YAKIN S...   \n",
       "\n",
       "                             descriptionPhoneNumbers  \\\n",
       "0                                                 []   \n",
       "1                                                 []   \n",
       "2                                                 []   \n",
       "3                                                 []   \n",
       "4  [{\"number\":\"+905322368449\",\"extension\":null,\"f...   \n",
       "\n",
       "                                         description     price currency  \\\n",
       "0  <h2 style=\\\"text-align: center;\\\"><strong styl...   2500000       TL   \n",
       "1  <p style=\\\"text-align: center;\\\"><br></p>\\n<p ...   1500000       TL   \n",
       "2  <p>https://app.immoviewer.com/portal/tour/2907...  19500000       TL   \n",
       "3  <p><br></p>\\n<p style=\\\"text-align: center;\\\">...   3350000       TL   \n",
       "4  <p><strong>SATILIK OLAN VİLLA İSTANBUL'A 2 SAA...   3700000       TL   \n",
       "\n",
       "                      startDate                       endDate  ...  \\\n",
       "0  2025-02-07T07:33:35.387+0000  2025-05-08T07:33:35.387+0000  ...   \n",
       "1  2025-01-10T11:50:32.547+0000  2025-04-13T08:24:27.627+0000  ...   \n",
       "2  2025-02-05T06:56:17.923+0000  2025-05-06T06:56:17.923+0000  ...   \n",
       "3  2025-02-12T12:23:38.413+0000  2025-05-13T13:02:20.187+0000  ...   \n",
       "4  2025-02-01T09:09:15.317+0000  2025-05-02T09:09:15.317+0000  ...   \n",
       "\n",
       "  isVideoTypeVimeo  stale searchScore  \\\n",
       "0            False  False         NaN   \n",
       "1            False  False         NaN   \n",
       "2            False  False   50.385391   \n",
       "3            False  False   28.141878   \n",
       "4            False  False         NaN   \n",
       "\n",
       "                                      whatsAppNumber onlineVisit hasBranded  \\\n",
       "0  {\"countryCode\":\"+90\",\"areaCode\":\"545\",\"phoneNu...        True      False   \n",
       "1  {\"countryCode\":\"+90\",\"areaCode\":\"546\",\"phoneNu...       False       True   \n",
       "2  {\"countryCode\":\"+90\",\"areaCode\":\"539\",\"phoneNu...        True      False   \n",
       "3  {\"countryCode\":\"+90\",\"areaCode\":\"544\",\"phoneNu...        True       True   \n",
       "4  {\"countryCode\":\"+90\",\"areaCode\":\"532\",\"phoneNu...        True      False   \n",
       "\n",
       "  hasUpdateBooster  registerState  \\\n",
       "0            False  Kat Mülkiyeti   \n",
       "1            False  Kat Mülkiyeti   \n",
       "2            False  Kat Mülkiyeti   \n",
       "3            False   Kat İrtifakı   \n",
       "4            False  Kat Mülkiyeti   \n",
       "\n",
       "                                listingPropertyOrder  listingId.1  \n",
       "0  {\"fuelName\":15,\"city\":2,\"roomAndLivingRoom\":8,...    78883-704  \n",
       "1  {\"fuelName\":15,\"city\":2,\"roomAndLivingRoom\":8,...   54537-3457  \n",
       "2  {\"fuelName\":15,\"city\":2,\"roomAndLivingRoom\":8,...   116181-160  \n",
       "3  {\"fuelName\":15,\"city\":2,\"roomAndLivingRoom\":8,...    18262-757  \n",
       "4  {\"fuelName\":15,\"city\":2,\"roomAndLivingRoom\":8,...  131612-1792  \n",
       "\n",
       "[5 rows x 70 columns]"
      ]
     },
     "execution_count": 21,
     "metadata": {},
     "output_type": "execute_result"
    }
   ],
   "source": [
    "df.head()"
   ]
  },
  {
   "cell_type": "code",
   "execution_count": 22,
   "id": "600f3d8b",
   "metadata": {},
   "outputs": [],
   "source": [
    "df['currency'] = df['currency'].str.upper().replace('TRY','TL')"
   ]
  },
  {
   "cell_type": "code",
   "execution_count": 23,
   "id": "52f16fc0",
   "metadata": {},
   "outputs": [
    {
     "name": "stdout",
     "output_type": "stream",
     "text": [
      "[]\n"
     ]
    }
   ],
   "source": [
    "all_true_cols=df.columns[(df==True).all()]\n",
    "print(list(all_true_cols))"
   ]
  },
  {
   "cell_type": "code",
   "execution_count": 24,
   "id": "f0e52154",
   "metadata": {},
   "outputs": [
    {
     "name": "stdout",
     "output_type": "stream",
     "text": [
      "[]\n"
     ]
    }
   ],
   "source": [
    "all_false_cols=df.columns[(df==False).all()]\n",
    "print(list(all_false_cols))"
   ]
  },
  {
   "cell_type": "code",
   "execution_count": 25,
   "id": "2ea07e57",
   "metadata": {},
   "outputs": [
    {
     "data": {
      "text/plain": [
       "listingId                  object\n",
       "realtyId                    int64\n",
       "no                          int64\n",
       "title                      object\n",
       "descriptionPhoneNumbers    object\n",
       "                            ...  \n",
       "hasBranded                   bool\n",
       "hasUpdateBooster             bool\n",
       "registerState              object\n",
       "listingPropertyOrder       object\n",
       "listingId.1                object\n",
       "Length: 70, dtype: object"
      ]
     },
     "execution_count": 25,
     "metadata": {},
     "output_type": "execute_result"
    }
   ],
   "source": [
    "df.dtypes"
   ]
  },
  {
   "cell_type": "code",
   "execution_count": 26,
   "id": "2976a9bb",
   "metadata": {},
   "outputs": [
    {
     "name": "stdout",
     "output_type": "stream",
     "text": [
      "['listingId', 'realtyId', 'no', 'title', 'descriptionPhoneNumbers', 'description', 'price', 'currency', 'startDate', 'endDate', 'contact', 'images', 'areas', 'district', 'county', 'city', 'residence', 'timeShareName', 'room', 'livingRoom', 'bathRoom', 'isMapHidden', 'mapLocation', 'streetView', 'createdDate', 'updatedDate', 'listingUpdatedDate', 'sqm', 'numberOfBuilding', 'entranceHeight', 'bedCount', 'floor', 'age', 'heating', 'fuel', 'build', 'buildState', 'land', 'usage', 'credit', 'deposit', 'barter', 'byTransfer', 'landRegisterName', 'housingComplex', 'rental', 'authorizedRealtor', 'furnished', 'detailUrl', 'redirectLink', 'detailDescription', 'firm', 'firmUser', 'category', 'subCategory', 'attributes', 'mainCategory', 'fee', 'sides', 'roomAndLivingRoom', 'isVideoTypeVimeo', 'stale', 'searchScore', 'whatsAppNumber', 'onlineVisit', 'hasBranded', 'hasUpdateBooster', 'registerState', 'listingPropertyOrder', 'listingId.1']\n"
     ]
    }
   ],
   "source": [
    "print(df.columns.tolist())"
   ]
  },
  {
   "cell_type": "code",
   "execution_count": 27,
   "id": "301a5565",
   "metadata": {},
   "outputs": [
    {
     "name": "stdout",
     "output_type": "stream",
     "text": [
      "Toplam yuklenen resim sayisi: 58974\n"
     ]
    }
   ],
   "source": [
    "df['image_count'] = df['images'].apply(lambda x: len(str(x).split(',')) if pd.notnull(x) else 0)\n",
    "\n",
    "# Toplam görsel sayısını hesapla\n",
    "total_images = df['image_count'].sum()\n",
    "\n",
    "print(\"Toplam yuklenen resim sayisi:\",total_images)"
   ]
  },
  {
   "cell_type": "code",
   "execution_count": 28,
   "id": "0a85792e",
   "metadata": {},
   "outputs": [],
   "source": [
    "df=df.drop(columns=['images'])"
   ]
  },
  {
   "cell_type": "code",
   "execution_count": 29,
   "id": "191cd70b",
   "metadata": {},
   "outputs": [],
   "source": [
    "yonler = ['kuzey', 'guney', 'dogu', 'bati']\n",
    "\n",
    "df['bulunan_yonler'] = df['sides'].apply(\n",
    "    lambda x: ', '.join([y for y in yonler if y in str(x).lower()])\n",
    ")"
   ]
  },
  {
   "cell_type": "code",
   "execution_count": 30,
   "id": "98d1f688",
   "metadata": {},
   "outputs": [
    {
     "name": "stdout",
     "output_type": "stream",
     "text": [
      "0       kuzey\n",
      "1       kuzey\n",
      "2            \n",
      "3            \n",
      "4            \n",
      "        ...  \n",
      "2175    kuzey\n",
      "2176         \n",
      "2177    kuzey\n",
      "2178         \n",
      "2179    kuzey\n",
      "Name: bulunan_yonler, Length: 2180, dtype: object\n"
     ]
    }
   ],
   "source": [
    "print(df['bulunan_yonler'])"
   ]
  },
  {
   "cell_type": "code",
   "execution_count": 31,
   "id": "9e81e6a4",
   "metadata": {},
   "outputs": [],
   "source": [
    "df=df.drop(columns=['sides'])"
   ]
  },
  {
   "cell_type": "code",
   "execution_count": 32,
   "id": "f849ebfe",
   "metadata": {},
   "outputs": [
    {
     "data": {
      "text/html": [
       "<div>\n",
       "<style scoped>\n",
       "    .dataframe tbody tr th:only-of-type {\n",
       "        vertical-align: middle;\n",
       "    }\n",
       "\n",
       "    .dataframe tbody tr th {\n",
       "        vertical-align: top;\n",
       "    }\n",
       "\n",
       "    .dataframe thead th {\n",
       "        text-align: right;\n",
       "    }\n",
       "</style>\n",
       "<table border=\"1\" class=\"dataframe\">\n",
       "  <thead>\n",
       "    <tr style=\"text-align: right;\">\n",
       "      <th></th>\n",
       "      <th>listingId</th>\n",
       "      <th>realtyId</th>\n",
       "      <th>no</th>\n",
       "      <th>title</th>\n",
       "      <th>descriptionPhoneNumbers</th>\n",
       "      <th>description</th>\n",
       "      <th>price</th>\n",
       "      <th>currency</th>\n",
       "      <th>startDate</th>\n",
       "      <th>endDate</th>\n",
       "      <th>...</th>\n",
       "      <th>searchScore</th>\n",
       "      <th>whatsAppNumber</th>\n",
       "      <th>onlineVisit</th>\n",
       "      <th>hasBranded</th>\n",
       "      <th>hasUpdateBooster</th>\n",
       "      <th>registerState</th>\n",
       "      <th>listingPropertyOrder</th>\n",
       "      <th>listingId.1</th>\n",
       "      <th>image_count</th>\n",
       "      <th>bulunan_yonler</th>\n",
       "    </tr>\n",
       "  </thead>\n",
       "  <tbody>\n",
       "    <tr>\n",
       "      <th>0</th>\n",
       "      <td>78883-704</td>\n",
       "      <td>43672903</td>\n",
       "      <td>704</td>\n",
       "      <td>ÇİFTÇİ EMLAK 'tan BİLGE HAST. YANI ARA KAT ANA...</td>\n",
       "      <td>[]</td>\n",
       "      <td>&lt;h2 style=\\\"text-align: center;\\\"&gt;&lt;strong styl...</td>\n",
       "      <td>2500000</td>\n",
       "      <td>TL</td>\n",
       "      <td>2025-02-07T07:33:35.387+0000</td>\n",
       "      <td>2025-05-08T07:33:35.387+0000</td>\n",
       "      <td>...</td>\n",
       "      <td>NaN</td>\n",
       "      <td>{\"countryCode\":\"+90\",\"areaCode\":\"545\",\"phoneNu...</td>\n",
       "      <td>True</td>\n",
       "      <td>False</td>\n",
       "      <td>False</td>\n",
       "      <td>Kat Mülkiyeti</td>\n",
       "      <td>{\"fuelName\":15,\"city\":2,\"roomAndLivingRoom\":8,...</td>\n",
       "      <td>78883-704</td>\n",
       "      <td>21</td>\n",
       "      <td>kuzey</td>\n",
       "    </tr>\n",
       "    <tr>\n",
       "      <th>1</th>\n",
       "      <td>54537-3457</td>\n",
       "      <td>42399668</td>\n",
       "      <td>3457</td>\n",
       "      <td>SAKARYA KARASU'DA YAZLIK DAİRENİZ EMRE FİLİZFİ...</td>\n",
       "      <td>[]</td>\n",
       "      <td>&lt;p style=\\\"text-align: center;\\\"&gt;&lt;br&gt;&lt;/p&gt;\\n&lt;p ...</td>\n",
       "      <td>1500000</td>\n",
       "      <td>TL</td>\n",
       "      <td>2025-01-10T11:50:32.547+0000</td>\n",
       "      <td>2025-04-13T08:24:27.627+0000</td>\n",
       "      <td>...</td>\n",
       "      <td>NaN</td>\n",
       "      <td>{\"countryCode\":\"+90\",\"areaCode\":\"546\",\"phoneNu...</td>\n",
       "      <td>False</td>\n",
       "      <td>True</td>\n",
       "      <td>False</td>\n",
       "      <td>Kat Mülkiyeti</td>\n",
       "      <td>{\"fuelName\":15,\"city\":2,\"roomAndLivingRoom\":8,...</td>\n",
       "      <td>54537-3457</td>\n",
       "      <td>22</td>\n",
       "      <td>kuzey</td>\n",
       "    </tr>\n",
       "    <tr>\n",
       "      <th>2</th>\n",
       "      <td>116181-160</td>\n",
       "      <td>40773651</td>\n",
       "      <td>160</td>\n",
       "      <td>Sapanca,Kırkpınar’da Satılık 4+1 Villa</td>\n",
       "      <td>[]</td>\n",
       "      <td>&lt;p&gt;https://app.immoviewer.com/portal/tour/2907...</td>\n",
       "      <td>19500000</td>\n",
       "      <td>TL</td>\n",
       "      <td>2025-02-05T06:56:17.923+0000</td>\n",
       "      <td>2025-05-06T06:56:17.923+0000</td>\n",
       "      <td>...</td>\n",
       "      <td>50.385391</td>\n",
       "      <td>{\"countryCode\":\"+90\",\"areaCode\":\"539\",\"phoneNu...</td>\n",
       "      <td>True</td>\n",
       "      <td>False</td>\n",
       "      <td>False</td>\n",
       "      <td>Kat Mülkiyeti</td>\n",
       "      <td>{\"fuelName\":15,\"city\":2,\"roomAndLivingRoom\":8,...</td>\n",
       "      <td>116181-160</td>\n",
       "      <td>15</td>\n",
       "      <td></td>\n",
       "    </tr>\n",
       "    <tr>\n",
       "      <th>3</th>\n",
       "      <td>18262-757</td>\n",
       "      <td>42174714</td>\n",
       "      <td>757</td>\n",
       "      <td>EMSALSİZ PROJE KARASU MERKEZDE HAVUZLU LÜKS 3+...</td>\n",
       "      <td>[]</td>\n",
       "      <td>&lt;p&gt;&lt;br&gt;&lt;/p&gt;\\n&lt;p style=\\\"text-align: center;\\\"&gt;...</td>\n",
       "      <td>3350000</td>\n",
       "      <td>TL</td>\n",
       "      <td>2025-02-12T12:23:38.413+0000</td>\n",
       "      <td>2025-05-13T13:02:20.187+0000</td>\n",
       "      <td>...</td>\n",
       "      <td>28.141878</td>\n",
       "      <td>{\"countryCode\":\"+90\",\"areaCode\":\"544\",\"phoneNu...</td>\n",
       "      <td>True</td>\n",
       "      <td>True</td>\n",
       "      <td>False</td>\n",
       "      <td>Kat İrtifakı</td>\n",
       "      <td>{\"fuelName\":15,\"city\":2,\"roomAndLivingRoom\":8,...</td>\n",
       "      <td>18262-757</td>\n",
       "      <td>18</td>\n",
       "      <td></td>\n",
       "    </tr>\n",
       "    <tr>\n",
       "      <th>4</th>\n",
       "      <td>131612-1792</td>\n",
       "      <td>44126172</td>\n",
       "      <td>1792</td>\n",
       "      <td>3+1 MERKEZİ KONUMDA , BAHÇELİ , DENİZE YAKIN S...</td>\n",
       "      <td>[{\"number\":\"+905322368449\",\"extension\":null,\"f...</td>\n",
       "      <td>&lt;p&gt;&lt;strong&gt;SATILIK OLAN VİLLA İSTANBUL'A 2 SAA...</td>\n",
       "      <td>3700000</td>\n",
       "      <td>TL</td>\n",
       "      <td>2025-02-01T09:09:15.317+0000</td>\n",
       "      <td>2025-05-02T09:09:15.317+0000</td>\n",
       "      <td>...</td>\n",
       "      <td>NaN</td>\n",
       "      <td>{\"countryCode\":\"+90\",\"areaCode\":\"532\",\"phoneNu...</td>\n",
       "      <td>True</td>\n",
       "      <td>False</td>\n",
       "      <td>False</td>\n",
       "      <td>Kat Mülkiyeti</td>\n",
       "      <td>{\"fuelName\":15,\"city\":2,\"roomAndLivingRoom\":8,...</td>\n",
       "      <td>131612-1792</td>\n",
       "      <td>60</td>\n",
       "      <td></td>\n",
       "    </tr>\n",
       "  </tbody>\n",
       "</table>\n",
       "<p>5 rows × 70 columns</p>\n",
       "</div>"
      ],
      "text/plain": [
       "     listingId  realtyId    no  \\\n",
       "0    78883-704  43672903   704   \n",
       "1   54537-3457  42399668  3457   \n",
       "2   116181-160  40773651   160   \n",
       "3    18262-757  42174714   757   \n",
       "4  131612-1792  44126172  1792   \n",
       "\n",
       "                                               title  \\\n",
       "0  ÇİFTÇİ EMLAK 'tan BİLGE HAST. YANI ARA KAT ANA...   \n",
       "1  SAKARYA KARASU'DA YAZLIK DAİRENİZ EMRE FİLİZFİ...   \n",
       "2             Sapanca,Kırkpınar’da Satılık 4+1 Villa   \n",
       "3  EMSALSİZ PROJE KARASU MERKEZDE HAVUZLU LÜKS 3+...   \n",
       "4  3+1 MERKEZİ KONUMDA , BAHÇELİ , DENİZE YAKIN S...   \n",
       "\n",
       "                             descriptionPhoneNumbers  \\\n",
       "0                                                 []   \n",
       "1                                                 []   \n",
       "2                                                 []   \n",
       "3                                                 []   \n",
       "4  [{\"number\":\"+905322368449\",\"extension\":null,\"f...   \n",
       "\n",
       "                                         description     price currency  \\\n",
       "0  <h2 style=\\\"text-align: center;\\\"><strong styl...   2500000       TL   \n",
       "1  <p style=\\\"text-align: center;\\\"><br></p>\\n<p ...   1500000       TL   \n",
       "2  <p>https://app.immoviewer.com/portal/tour/2907...  19500000       TL   \n",
       "3  <p><br></p>\\n<p style=\\\"text-align: center;\\\">...   3350000       TL   \n",
       "4  <p><strong>SATILIK OLAN VİLLA İSTANBUL'A 2 SAA...   3700000       TL   \n",
       "\n",
       "                      startDate                       endDate  ...  \\\n",
       "0  2025-02-07T07:33:35.387+0000  2025-05-08T07:33:35.387+0000  ...   \n",
       "1  2025-01-10T11:50:32.547+0000  2025-04-13T08:24:27.627+0000  ...   \n",
       "2  2025-02-05T06:56:17.923+0000  2025-05-06T06:56:17.923+0000  ...   \n",
       "3  2025-02-12T12:23:38.413+0000  2025-05-13T13:02:20.187+0000  ...   \n",
       "4  2025-02-01T09:09:15.317+0000  2025-05-02T09:09:15.317+0000  ...   \n",
       "\n",
       "  searchScore                                     whatsAppNumber onlineVisit  \\\n",
       "0         NaN  {\"countryCode\":\"+90\",\"areaCode\":\"545\",\"phoneNu...        True   \n",
       "1         NaN  {\"countryCode\":\"+90\",\"areaCode\":\"546\",\"phoneNu...       False   \n",
       "2   50.385391  {\"countryCode\":\"+90\",\"areaCode\":\"539\",\"phoneNu...        True   \n",
       "3   28.141878  {\"countryCode\":\"+90\",\"areaCode\":\"544\",\"phoneNu...        True   \n",
       "4         NaN  {\"countryCode\":\"+90\",\"areaCode\":\"532\",\"phoneNu...        True   \n",
       "\n",
       "  hasBranded hasUpdateBooster  registerState  \\\n",
       "0      False            False  Kat Mülkiyeti   \n",
       "1       True            False  Kat Mülkiyeti   \n",
       "2      False            False  Kat Mülkiyeti   \n",
       "3       True            False   Kat İrtifakı   \n",
       "4      False            False  Kat Mülkiyeti   \n",
       "\n",
       "                                listingPropertyOrder  listingId.1 image_count  \\\n",
       "0  {\"fuelName\":15,\"city\":2,\"roomAndLivingRoom\":8,...    78883-704          21   \n",
       "1  {\"fuelName\":15,\"city\":2,\"roomAndLivingRoom\":8,...   54537-3457          22   \n",
       "2  {\"fuelName\":15,\"city\":2,\"roomAndLivingRoom\":8,...   116181-160          15   \n",
       "3  {\"fuelName\":15,\"city\":2,\"roomAndLivingRoom\":8,...    18262-757          18   \n",
       "4  {\"fuelName\":15,\"city\":2,\"roomAndLivingRoom\":8,...  131612-1792          60   \n",
       "\n",
       "   bulunan_yonler  \n",
       "0           kuzey  \n",
       "1           kuzey  \n",
       "2                  \n",
       "3                  \n",
       "4                  \n",
       "\n",
       "[5 rows x 70 columns]"
      ]
     },
     "execution_count": 32,
     "metadata": {},
     "output_type": "execute_result"
    }
   ],
   "source": [
    "df.head()"
   ]
  },
  {
   "cell_type": "code",
   "execution_count": 33,
   "id": "dc55e42c",
   "metadata": {},
   "outputs": [
    {
     "data": {
      "text/plain": [
       "(2180, 70)"
      ]
     },
     "execution_count": 33,
     "metadata": {},
     "output_type": "execute_result"
    }
   ],
   "source": [
    "df.shape"
   ]
  },
  {
   "cell_type": "code",
   "execution_count": 34,
   "id": "fe62525f",
   "metadata": {},
   "outputs": [
    {
     "name": "stdout",
     "output_type": "stream",
     "text": [
      "Sütun isimleri 'sutun_isimleri.txt' dosyasına yazıldı.\n"
     ]
    }
   ],
   "source": [
    "\n",
    "# Sütun isimlerini al\n",
    "sutunlar = df.columns\n",
    "\n",
    "# .txt dosyasına yaz\n",
    "with open(\"sutun_isimleri.txt\", \"w\", encoding=\"utf-8\") as f:\n",
    "    for isim in sutunlar:\n",
    "        f.write(isim + \"\\n\")\n",
    "\n",
    "print(\"Sütun isimleri 'sutun_isimleri.txt' dosyasına yazıldı.\")"
   ]
  },
  {
   "cell_type": "code",
   "execution_count": 35,
   "id": "b7a56725",
   "metadata": {},
   "outputs": [
    {
     "name": "stdout",
     "output_type": "stream",
     "text": [
      "['listingId', 'realtyId', 'no', 'title', 'descriptionPhoneNumbers', 'description', 'price', 'currency', 'startDate', 'endDate', 'contact', 'areas', 'district', 'county', 'city', 'residence', 'timeShareName', 'room', 'livingRoom', 'bathRoom', 'isMapHidden', 'mapLocation', 'streetView', 'createdDate', 'updatedDate', 'listingUpdatedDate', 'sqm', 'numberOfBuilding', 'entranceHeight', 'bedCount', 'floor', 'age', 'heating', 'fuel', 'build', 'buildState', 'land', 'usage', 'credit', 'deposit', 'barter', 'byTransfer', 'landRegisterName', 'housingComplex', 'rental', 'authorizedRealtor', 'furnished', 'detailUrl', 'redirectLink', 'detailDescription', 'firm', 'firmUser', 'category', 'subCategory', 'attributes', 'mainCategory', 'fee', 'roomAndLivingRoom', 'isVideoTypeVimeo', 'stale', 'searchScore', 'whatsAppNumber', 'onlineVisit', 'hasBranded', 'hasUpdateBooster', 'registerState', 'listingPropertyOrder', 'listingId.1', 'image_count', 'bulunan_yonler']\n"
     ]
    }
   ],
   "source": [
    "print(df.columns.tolist())"
   ]
  },
  {
   "cell_type": "code",
   "execution_count": 36,
   "id": "cea30457",
   "metadata": {},
   "outputs": [
    {
     "data": {
      "text/plain": [
       "(2180, 70)"
      ]
     },
     "execution_count": 36,
     "metadata": {},
     "output_type": "execute_result"
    }
   ],
   "source": [
    "df.shape"
   ]
  },
  {
   "cell_type": "code",
   "execution_count": null,
   "id": "f8c2877b",
   "metadata": {},
   "outputs": [],
   "source": []
  },
  {
   "cell_type": "code",
   "execution_count": null,
   "id": "2529ea4a",
   "metadata": {},
   "outputs": [],
   "source": []
  },
  {
   "cell_type": "markdown",
   "id": "08e0ffe3",
   "metadata": {},
   "source": [
    "Aşağıdaki sütunlar veri setinden çıkarılmıştır. Gerekçeleri her maddeyle birlikte açıklanmıştır:\n",
    "- **`realtyId`**:  \n",
    "  ➤ bir kimlik (ID) sütunudur kullanılmayacağı için kaldırılmıştır.\n",
    "\n",
    "- **`listingId.1`**:  \n",
    "  ➤ Tekrarlayan bir kimlik (ID) sütunudur ve listingId sütununda bu bilgi yer aldığı için kaldırılmıştır.\n",
    "\n",
    "- **`no`**:  \n",
    "  ➤ İşimize yaramayan, anlamsız bir ID sütunudur. Analiz açısından katkısı olmadığından dolayı veri setinden çıkarılmıştır.\n",
    "\n",
    "- **`title`**:  \n",
    "  ➤ İçeriğinde zaten diğer sütunlarda bulunan anahtar kelimeleri barındırmaktadır. Ekstra bilgi sağlamadığı için kaldırılmıştır.\n",
    "\n",
    "- **`recirectLink`**:  \n",
    "  ➤ İlanın türünü (örneğin: daire, villa) belirtmektedir. Bu bilgi zaten ayrı bir sütun olarak mevcut olduğundan dolayı tekrarlı olduğu için çıkarılmıştır.\n",
    "\n",
    "- **`detailUrl`**:  \n",
    "  ➤ Örnek: `sakarya-karasu-yali-satilik/daire/54537-3457`  \n",
    "  ➤ İçeriğinde il, ilçe, konut tipi ve listing ID gibi zaten başka sütunlarda yer alan bilgiler bulunduğundan dolayı veri setinden kaldırılmıştır.\n"
   ]
  },
  {
   "cell_type": "code",
   "execution_count": 37,
   "id": "6584574d",
   "metadata": {},
   "outputs": [
    {
     "data": {
      "text/plain": [
       "0       sakarya-adapazari-kurtulus-satilik/daire/78883...\n",
       "1            sakarya-karasu-yali-satilik/daire/54537-3457\n",
       "2       sakarya-sapanca-kirkpinar-soguksu-satilik/vill...\n",
       "3          sakarya-karasu-kabakoz-satilik/daire/18262-757\n",
       "4         sakarya-kocaali-yayla-satilik/villa/131612-1792\n",
       "                              ...                        \n",
       "2175         sakarya-karasu-yali-satilik/villa/24006-2593\n",
       "2176     sakarya-pamukova-elperek-satilik/daire/150512-17\n",
       "2177          sakarya-karasu-yeni-satilik/villa/18262-750\n",
       "2178      sakarya-karasu-aziziye-satilik/daire/121878-505\n",
       "2179      sakarya-karasu-incilli-satilik/daire/144178-340\n",
       "Name: detailUrl, Length: 2180, dtype: object"
      ]
     },
     "execution_count": 37,
     "metadata": {},
     "output_type": "execute_result"
    }
   ],
   "source": [
    "df['detailUrl']"
   ]
  },
  {
   "cell_type": "code",
   "execution_count": null,
   "id": "9d3f771b",
   "metadata": {},
   "outputs": [],
   "source": []
  },
  {
   "cell_type": "code",
   "execution_count": 38,
   "id": "5eba3818",
   "metadata": {},
   "outputs": [
    {
     "name": "stdout",
     "output_type": "stream",
     "text": [
      "                                              detailUrl    city2  district2  \\\n",
      "0     sakarya-adapazari-kurtulus-satilik/daire/78883...  sakarya  adapazari   \n",
      "1          sakarya-karasu-yali-satilik/daire/54537-3457  sakarya     karasu   \n",
      "2     sakarya-sapanca-kirkpinar-soguksu-satilik/vill...  sakarya    sapanca   \n",
      "3        sakarya-karasu-kabakoz-satilik/daire/18262-757  sakarya     karasu   \n",
      "4       sakarya-kocaali-yayla-satilik/villa/131612-1792  sakarya    kocaali   \n",
      "...                                                 ...      ...        ...   \n",
      "2175       sakarya-karasu-yali-satilik/villa/24006-2593  sakarya     karasu   \n",
      "2176   sakarya-pamukova-elperek-satilik/daire/150512-17  sakarya   pamukova   \n",
      "2177        sakarya-karasu-yeni-satilik/villa/18262-750  sakarya     karasu   \n",
      "2178    sakarya-karasu-aziziye-satilik/daire/121878-505  sakarya     karasu   \n",
      "2179    sakarya-karasu-incilli-satilik/daire/144178-340  sakarya     karasu   \n",
      "\n",
      "           neighborhood offer_type property_type  \n",
      "0              kurtulus    satilik         daire  \n",
      "1                  yali    satilik         daire  \n",
      "2     kirkpinar-soguksu    satilik         villa  \n",
      "3               kabakoz    satilik         daire  \n",
      "4                 yayla    satilik         villa  \n",
      "...                 ...        ...           ...  \n",
      "2175               yali    satilik         villa  \n",
      "2176            elperek    satilik         daire  \n",
      "2177               yeni    satilik         villa  \n",
      "2178            aziziye    satilik         daire  \n",
      "2179            incilli    satilik         daire  \n",
      "\n",
      "[2180 rows x 6 columns]\n"
     ]
    }
   ],
   "source": [
    "import pandas as pd\n",
    "\n",
    "def extract_details_fixed(url):\n",
    "    try:\n",
    "        if url.startswith(\"en/\"):\n",
    "            url = url[3:]  # \"en/\" kısmını bağlantının başından kaldırıyoruz\n",
    "\n",
    "        # Bağlantıyı parçalara ayırıyoruz\n",
    "        parts = url.split('/')\n",
    "        \n",
    "        # İlan türünü her zaman \"satilik\" olarak belirliyoruz\n",
    "        offer_type = \"satilik\"\n",
    "        \n",
    "        # İlk parçayı '-' karakterine göre bölüyoruz\n",
    "        location_part = parts[0]\n",
    "        location_parts = location_part.split('-')\n",
    "        \n",
    "        # Şehri \"sakarya\" olarak belirliyoruz\n",
    "        city = \"sakarya\"\n",
    "        \n",
    "        # İlçeyi \"sakarya\"dan sonra gelen kısımdan alıyoruz\n",
    "        district = location_parts[1] if len(location_parts) > 1 else None\n",
    "        \n",
    "        # Mahalleyi ilçe ile \"satilik\" arasındaki kısımdan alıyoruz\n",
    "        if \"satilik\" in location_parts:\n",
    "            satilik_index = location_parts.index(\"satilik\")\n",
    "            neighborhood = '-'.join(location_parts[2:satilik_index]) if satilik_index > 2 else None\n",
    "        else:\n",
    "            neighborhood = '-'.join(location_parts[2:])  # \"satilik\" yoksa, geriye kalan kelimeleri alıyoruz\n",
    "        \n",
    "        # Emlak türü, \"satilik\"ten sonraki kelime olacak\n",
    "        property_type = parts[1] if len(parts) > 1 else None\n",
    "        \n",
    "        return pd.Series([city, district, neighborhood, offer_type, property_type])\n",
    "    \n",
    "    except Exception as e:\n",
    "        # Hata durumunda (örneğin geçersiz bağlantı)\n",
    "        return pd.Series([None, None, None, None, None])\n",
    "\n",
    "df[['city2', 'district2', 'neighborhood', 'offer_type', 'property_type']] = df['detailUrl'].apply(extract_details_fixed)\n",
    "\n",
    "print(df[['detailUrl', 'city2', 'district2', 'neighborhood', 'offer_type', 'property_type']])\n"
   ]
  },
  {
   "cell_type": "code",
   "execution_count": 39,
   "id": "68f58ac2",
   "metadata": {},
   "outputs": [
    {
     "name": "stdout",
     "output_type": "stream",
     "text": [
      "city2\n",
      "sakarya    2180\n",
      "Name: count, dtype: int64\n",
      "\n",
      "\n",
      "district2\n",
      "karasu        888\n",
      "kocaali       339\n",
      "adapazari     283\n",
      "serdivan      219\n",
      "sapanca       159\n",
      "arifiye        58\n",
      "erenler        46\n",
      "hendek         42\n",
      "pamukova       38\n",
      "geyve          34\n",
      "akyazi         31\n",
      "kaynarca       11\n",
      "ferizli        10\n",
      "tarakli         9\n",
      "sogutlu         8\n",
      "karapurcek      2\n",
      "silivri         1\n",
      "ergene          1\n",
      "pinarhisar      1\n",
      "Name: count, dtype: int64\n",
      "\n",
      "\n",
      "neighborhood\n",
      "yali          681\n",
      "aziziye       295\n",
      "yeni           88\n",
      "alandere       77\n",
      "kemalpasa      71\n",
      "             ... \n",
      "bacikoy         1\n",
      "hizirtepe       1\n",
      "memnuniye       1\n",
      "kalburcu        1\n",
      "karamanlar      1\n",
      "Name: count, Length: 214, dtype: int64\n",
      "\n",
      "\n",
      "offer_type\n",
      "satilik    2180\n",
      "Name: count, dtype: int64\n",
      "\n",
      "\n",
      "property_type\n",
      "daire           1306\n",
      "villa            613\n",
      "mustakil-ev      159\n",
      "yazlik            48\n",
      "bina              23\n",
      "ciftlik-evi        8\n",
      "bahce              5\n",
      "tarla              4\n",
      "imarli-konut       3\n",
      "bungalov           3\n",
      "prefabrik          3\n",
      "kosk               2\n",
      "koy-evi            1\n",
      "konutticaret       1\n",
      "residence          1\n",
      "Name: count, dtype: int64\n"
     ]
    }
   ],
   "source": [
    "city_counts = df['city2'].value_counts()\n",
    "print(city_counts)\n",
    "print()\n",
    "print()\n",
    "\n",
    "district_counts = df['district2'].value_counts()\n",
    "print(district_counts)\n",
    "print()\n",
    "print()\n",
    "\n",
    "neighborhood_counts = df['neighborhood'].value_counts()\n",
    "print(neighborhood_counts)\n",
    "print()\n",
    "print()\n",
    "\n",
    "offer_type_counts = df['offer_type'].value_counts()\n",
    "print(offer_type_counts)\n",
    "print()\n",
    "print()\n",
    "\n",
    "property_type_counts = df['property_type'].value_counts()\n",
    "print(property_type_counts)"
   ]
  },
  {
   "cell_type": "markdown",
   "id": "51bb3602",
   "metadata": {},
   "source": [
    "**property_type** sütunu kalıyor"
   ]
  },
  {
   "cell_type": "code",
   "execution_count": 40,
   "id": "2491c51c-45c2-4617-9836-28be6c30b699",
   "metadata": {},
   "outputs": [],
   "source": [
    "# property_type sütunundaki değerleri düzenleme (baş harf büyük + Türkçe karakter düzeltmesi)\n",
    "df['property_type'] = df['property_type'].replace({\n",
    "    'daire': 'Daire',\n",
    "    'villa': 'Villa',\n",
    "    'mustakil-ev': 'Müstakil Ev',\n",
    "    'ciftlik-evi': 'Çiftlik Evi',\n",
    "    'yazlik': 'Yazlık',\n",
    "    'bina': 'Bina',\n",
    "    'koy-evi': 'Köy Evi',\n",
    "    'bahce': 'Bahçe',\n",
    "    'imarli-konut': 'İmarlı Konut',\n",
    "    'tarla': 'Tarla',\n",
    "    'konutticaret': 'Konut Ticaret',\n",
    "    'bungalov': 'Bungalov',\n",
    "    'residence': 'Villa',\n",
    "    'prefabrik': 'Prefabrik',\n",
    "    'kosk': 'Köşk'\n",
    "})\n"
   ]
  },
  {
   "cell_type": "code",
   "execution_count": 41,
   "id": "7b932201-b209-451a-8fc1-dd06d50ba9e2",
   "metadata": {},
   "outputs": [
    {
     "name": "stdout",
     "output_type": "stream",
     "text": [
      "['Daire' 'Villa' 'Müstakil Ev' 'Çiftlik Evi' 'Yazlık' 'Bina' 'Köy Evi'\n",
      " 'Bahçe' 'İmarlı Konut' 'Tarla' 'Konut Ticaret' 'Bungalov' 'Prefabrik'\n",
      " 'Köşk']\n"
     ]
    }
   ],
   "source": [
    "print(df['property_type'].unique())"
   ]
  },
  {
   "cell_type": "code",
   "execution_count": 42,
   "id": "20566224",
   "metadata": {},
   "outputs": [],
   "source": [
    "df = df.drop(columns=['city2', 'district2', 'neighborhood', 'offer_type'], inplace=False) "
   ]
  },
  {
   "cell_type": "code",
   "execution_count": 43,
   "id": "48c72b04-8675-4583-9f9b-a0a346df0a30",
   "metadata": {},
   "outputs": [],
   "source": [
    "df = df.drop(columns=['realtyId','no', 'redirectLink','listingId.1'])"
   ]
  },
  {
   "cell_type": "code",
   "execution_count": 44,
   "id": "0413a9e7",
   "metadata": {},
   "outputs": [
    {
     "data": {
      "text/plain": [
       "(2180, 67)"
      ]
     },
     "execution_count": 44,
     "metadata": {},
     "output_type": "execute_result"
    }
   ],
   "source": [
    "df.shape"
   ]
  },
  {
   "cell_type": "code",
   "execution_count": null,
   "id": "a2d6a19c",
   "metadata": {},
   "outputs": [],
   "source": []
  },
  {
   "cell_type": "code",
   "execution_count": 45,
   "id": "7a8ffdfc",
   "metadata": {},
   "outputs": [
    {
     "data": {
      "text/plain": [
       "0"
      ]
     },
     "execution_count": 45,
     "metadata": {},
     "output_type": "execute_result"
    }
   ],
   "source": [
    "df['descriptionPhoneNumbers'].isnull().sum()"
   ]
  },
  {
   "cell_type": "code",
   "execution_count": 46,
   "id": "5ff7e3d5",
   "metadata": {},
   "outputs": [],
   "source": [
    "df['descriptionPhoneNumbers'].isnull().sum()"
   ]
  },
  {
   "cell_type": "code",
   "execution_count": 47,
   "id": "caa98a0f",
   "metadata": {},
   "outputs": [
    {
     "data": {
      "text/plain": [
       "1409"
      ]
     },
     "execution_count": 47,
     "metadata": {},
     "output_type": "execute_result"
    }
   ],
   "source": [
    "df['descriptionPhoneNumbers'].isnull().sum()"
   ]
  },
  {
   "cell_type": "code",
   "execution_count": 48,
   "id": "f8cb3698",
   "metadata": {},
   "outputs": [],
   "source": [
    "# 'descriptionPhoneNumbers' sütunundaki her bir satır için telefon numarasını çekme\n",
    "df['descriptionPhoneNumbers'] = df['descriptionPhoneNumbers'].apply(\n",
    "    lambda x: json.loads(x)[0]['number'] if x and x != '[]' else None\n",
    ")"
   ]
  },
  {
   "cell_type": "code",
   "execution_count": 49,
   "id": "8dc5334c",
   "metadata": {},
   "outputs": [
    {
     "data": {
      "text/plain": [
       "0                None\n",
       "1                None\n",
       "2                None\n",
       "3                None\n",
       "4       +905322368449\n",
       "            ...      \n",
       "2175    +905323884886\n",
       "2176    +905061575355\n",
       "2177    +905442228854\n",
       "2178    +902163434313\n",
       "2179    +905423829171\n",
       "Name: descriptionPhoneNumbers, Length: 2180, dtype: object"
      ]
     },
     "execution_count": 49,
     "metadata": {},
     "output_type": "execute_result"
    }
   ],
   "source": [
    "df['descriptionPhoneNumbers']"
   ]
  },
  {
   "cell_type": "code",
   "execution_count": 50,
   "id": "eab2ad2f",
   "metadata": {},
   "outputs": [
    {
     "data": {
      "text/plain": [
       "91"
      ]
     },
     "execution_count": 50,
     "metadata": {},
     "output_type": "execute_result"
    }
   ],
   "source": [
    "df['whatsAppNumber'].isnull().sum()"
   ]
  },
  {
   "cell_type": "code",
   "execution_count": 51,
   "id": "a2f8e750-1600-44ed-b9fb-723fc715ce77",
   "metadata": {},
   "outputs": [
    {
     "data": {
      "text/plain": [
       "0       {\"countryCode\":\"+90\",\"areaCode\":\"545\",\"phoneNu...\n",
       "1       {\"countryCode\":\"+90\",\"areaCode\":\"546\",\"phoneNu...\n",
       "2       {\"countryCode\":\"+90\",\"areaCode\":\"539\",\"phoneNu...\n",
       "3       {\"countryCode\":\"+90\",\"areaCode\":\"544\",\"phoneNu...\n",
       "4       {\"countryCode\":\"+90\",\"areaCode\":\"532\",\"phoneNu...\n",
       "                              ...                        \n",
       "2175    {\"countryCode\":\"+90\",\"areaCode\":\"540\",\"phoneNu...\n",
       "2176    {\"countryCode\":\"+90\",\"areaCode\":\"506\",\"phoneNu...\n",
       "2177    {\"countryCode\":\"+90\",\"areaCode\":\"542\",\"phoneNu...\n",
       "2178    {\"countryCode\":\"+90\",\"areaCode\":\"533\",\"phoneNu...\n",
       "2179    {\"countryCode\":\"+90\",\"areaCode\":\"542\",\"phoneNu...\n",
       "Name: whatsAppNumber, Length: 2180, dtype: object"
      ]
     },
     "execution_count": 51,
     "metadata": {},
     "output_type": "execute_result"
    }
   ],
   "source": [
    "df['whatsAppNumber']"
   ]
  },
  {
   "cell_type": "code",
   "execution_count": 52,
   "id": "95d7a114",
   "metadata": {},
   "outputs": [],
   "source": [
    "# 'whatsAppNumber' sütunundaki her bir satır için birleşmiş telefon numarasını alma\n",
    "df['whatsAppNumber'] = df['whatsAppNumber'].apply(\n",
    "    lambda x: f\"{json.loads(x)['countryCode']}{json.loads(x)['areaCode']}{json.loads(x)['phoneNumber']}\" \n",
    "    if isinstance(x, str) and x != 'NaN' else None\n",
    ")"
   ]
  },
  {
   "cell_type": "code",
   "execution_count": 53,
   "id": "6b724971-4670-4a50-8f53-8c980bf38347",
   "metadata": {
    "scrolled": true
   },
   "outputs": [
    {
     "data": {
      "text/plain": [
       "0       +905459541404\n",
       "1       +905465463854\n",
       "2       +905396698161\n",
       "3       +905442228854\n",
       "4       +905322368449\n",
       "            ...      \n",
       "2175    +905408005454\n",
       "2176    +905061575355\n",
       "2177    +905424234359\n",
       "2178    +905335636458\n",
       "2179    +905423829171\n",
       "Name: whatsAppNumber, Length: 2180, dtype: object"
      ]
     },
     "execution_count": 53,
     "metadata": {},
     "output_type": "execute_result"
    }
   ],
   "source": [
    "df['whatsAppNumber']"
   ]
  },
  {
   "cell_type": "markdown",
   "id": "e4cd4448",
   "metadata": {},
   "source": [
    "### ☎️ İletişim Bilgisi İşlemleri – `contact` Sütunu\n",
    "\n",
    "Veri setinde iki adet telefon numarası sütunu (descriptionPhoneNumbers,whatsAppNumber) bulunduğundan dolayı, bu iki alanı birleştiren yeni bir **`contact`** sütunu oluşturulmuştur. İşleme dair kurallar aşağıda açıklanmıştır:\n",
    "\n",
    "- ✅ **Eğer iki numara birbirine eşitse:**  \n",
    "  ➤ Yalnızca bir tanesi `contact` sütununa yazılır.\n",
    "\n",
    "- ✅ **Eğer iki numara farklıysa:**  \n",
    "  ➤ Her iki numara **virgül ile ayrılarak** `contact` sütununa eklenir.  \n",
    "  ➤ Örnek: `05321234567, 05329876543`\n",
    "\n",
    "- ✅ **Eğer numaralardan biri `None` (boş) ise:**  \n",
    "  ➤ Sadece mevcut olan numara yazılır.\n",
    "\n",
    "> 🔄 Bu işlem, gereksiz tekrarların önüne geçmek ve iletişim bilgilerini sadeleştirmek amacıyla yapılmıştır.\n"
   ]
  },
  {
   "cell_type": "code",
   "execution_count": 54,
   "id": "479d0873-7edd-4370-bd31-3f2d425232a3",
   "metadata": {},
   "outputs": [],
   "source": [
    "# Yeni 'Contact' sütununu oluşturma\n",
    "df['Contact'] = df.apply(\n",
    "    lambda row: row['descriptionPhoneNumbers'] if row['descriptionPhoneNumbers'] == row['whatsAppNumber'] \n",
    "    else f\"{row['descriptionPhoneNumbers']}, {row['whatsAppNumber']}\" \n",
    "    if row['descriptionPhoneNumbers'] and row['whatsAppNumber'] else row['descriptionPhoneNumbers'] or row['whatsAppNumber'], \n",
    "    axis=1\n",
    ")\n"
   ]
  },
  {
   "cell_type": "code",
   "execution_count": 55,
   "id": "68e0ce72",
   "metadata": {},
   "outputs": [
    {
     "data": {
      "text/plain": [
       "0                      +905459541404\n",
       "1                      +905465463854\n",
       "2                      +905396698161\n",
       "3                      +905442228854\n",
       "4                      +905322368449\n",
       "                    ...             \n",
       "2175    +905323884886, +905408005454\n",
       "2176                   +905061575355\n",
       "2177    +905442228854, +905424234359\n",
       "2178    +902163434313, +905335636458\n",
       "2179                   +905423829171\n",
       "Name: Contact, Length: 2180, dtype: object"
      ]
     },
     "execution_count": 55,
     "metadata": {},
     "output_type": "execute_result"
    }
   ],
   "source": [
    "df['Contact']"
   ]
  },
  {
   "cell_type": "code",
   "execution_count": 56,
   "id": "578c47a9",
   "metadata": {},
   "outputs": [
    {
     "data": {
      "text/plain": [
       "77"
      ]
     },
     "execution_count": 56,
     "metadata": {},
     "output_type": "execute_result"
    }
   ],
   "source": [
    "df['Contact'].isnull().sum()"
   ]
  },
  {
   "cell_type": "code",
   "execution_count": 57,
   "id": "34837c22",
   "metadata": {},
   "outputs": [],
   "source": [
    "df = df.drop(columns=['descriptionPhoneNumbers', 'whatsAppNumber', 'contact'])"
   ]
  },
  {
   "cell_type": "code",
   "execution_count": 58,
   "id": "11b26d2b",
   "metadata": {},
   "outputs": [
    {
     "name": "stdout",
     "output_type": "stream",
     "text": [
      "0    {\"inAttributes\":[{\"id\":1,\"name\":\"ADSL\"},{\"id\":...\n",
      "1    {\"inAttributes\":[{\"id\":1,\"name\":\"ADSL\"},{\"id\":...\n",
      "2    {\"inAttributes\":[{\"id\":16,\"name\":\"Balkon\"},{\"i...\n",
      "3    {\"inAttributes\":[],\"outAttributes\":[],\"locatio...\n",
      "4    {\"inAttributes\":[{\"id\":1,\"name\":\"ADSL\"},{\"id\":...\n",
      "Name: attributes, dtype: object\n"
     ]
    }
   ],
   "source": [
    "# 'attributes' sütunundaki örnek birkaç satırı kontrol edelim\n",
    "print(df['attributes'].head())\n"
   ]
  },
  {
   "cell_type": "code",
   "execution_count": 59,
   "id": "8e8f6f02",
   "metadata": {},
   "outputs": [
    {
     "name": "stdout",
     "output_type": "stream",
     "text": [
      "0    {'inAttributes': [{'id': 1, 'name': 'ADSL'}, {...\n",
      "1    {'inAttributes': [{'id': 1, 'name': 'ADSL'}, {...\n",
      "2    {'inAttributes': [{'id': 16, 'name': 'Balkon'}...\n",
      "3    {'inAttributes': [], 'outAttributes': [], 'loc...\n",
      "4    {'inAttributes': [{'id': 1, 'name': 'ADSL'}, {...\n",
      "Name: attributes, dtype: object\n"
     ]
    }
   ],
   "source": [
    "def parse_to_dict(x):\n",
    "    if isinstance(x, str):\n",
    "        try:\n",
    "            return json.loads(x)  # Geçerli JSON string'ini çözümler ve sözlük döndürür\n",
    "        except json.JSONDecodeError:\n",
    "            return None  # Eğer JSON hatalıysa None döner\n",
    "    return x  # Eğer zaten sözlükse olduğu gibi döner\n",
    "\n",
    "# 'attributes' sütunundaki JSON string'lerini sözlük formatına çevirelim\n",
    "df['attributes'] = df['attributes'].apply(parse_to_dict)\n",
    "\n",
    "# Şimdi 'attributes' sütunundaki ilk 5 satırı görelim\n",
    "print(df['attributes'].head())"
   ]
  },
  {
   "cell_type": "code",
   "execution_count": 60,
   "id": "71d1dbcf",
   "metadata": {},
   "outputs": [
    {
     "name": "stdout",
     "output_type": "stream",
     "text": [
      "      inAttributes_count  outAttributes_count  locationAttributes_count  \\\n",
      "0                     10                    2                        11   \n",
      "1                     13                    1                         3   \n",
      "2                      8                    4                         3   \n",
      "3                      0                    0                         0   \n",
      "4                     14                    4                        12   \n",
      "...                  ...                  ...                       ...   \n",
      "2175                  25                    4                         6   \n",
      "2176                  13                    4                        11   \n",
      "2177                  19                    3                         6   \n",
      "2178                   3                    2                         4   \n",
      "2179                  15                    2                        10   \n",
      "\n",
      "      roomSocialInstitutionAttributes_count  roomAttributes_count  \\\n",
      "0                                         0                     0   \n",
      "1                                         0                     0   \n",
      "2                                         0                     0   \n",
      "3                                         0                     0   \n",
      "4                                         0                     0   \n",
      "...                                     ...                   ...   \n",
      "2175                                      0                     0   \n",
      "2176                                      0                     0   \n",
      "2177                                      0                     0   \n",
      "2178                                      0                     0   \n",
      "2179                                      0                     0   \n",
      "\n",
      "      infrastructureAttributes_count  usageAttributes_count  \\\n",
      "0                                  0                      0   \n",
      "1                                  0                      0   \n",
      "2                                  0                      0   \n",
      "3                                  0                      0   \n",
      "4                                  0                      0   \n",
      "...                              ...                    ...   \n",
      "2175                               0                      0   \n",
      "2176                               0                      0   \n",
      "2177                               0                      0   \n",
      "2178                               0                      0   \n",
      "2179                               0                      0   \n",
      "\n",
      "      dormitoryAttributes_count  dormitoryLocationAttributes_count  \\\n",
      "0                             0                                  0   \n",
      "1                             0                                  0   \n",
      "2                             0                                  0   \n",
      "3                             0                                  0   \n",
      "4                             0                                  0   \n",
      "...                         ...                                ...   \n",
      "2175                          0                                  0   \n",
      "2176                          0                                  0   \n",
      "2177                          0                                  0   \n",
      "2178                          0                                  0   \n",
      "2179                          0                                  0   \n",
      "\n",
      "      serviceAttributes_count  \n",
      "0                           0  \n",
      "1                           0  \n",
      "2                           0  \n",
      "3                           0  \n",
      "4                           0  \n",
      "...                       ...  \n",
      "2175                        0  \n",
      "2176                        0  \n",
      "2177                        0  \n",
      "2178                        0  \n",
      "2179                        0  \n",
      "\n",
      "[2180 rows x 10 columns]\n"
     ]
    }
   ],
   "source": [
    "# 'inAttributes', 'outAttributes', 'locationAttributes' sütunlarını sayalım\n",
    "df['inAttributes_count'] = df['attributes'].apply(lambda x: len(x.get('inAttributes', [])) if isinstance(x, dict) else 0)\n",
    "df['outAttributes_count'] = df['attributes'].apply(lambda x: len(x.get('outAttributes', [])) if isinstance(x, dict) else 0)\n",
    "df['locationAttributes_count'] = df['attributes'].apply(lambda x: len(x.get('locationAttributes', [])) if isinstance(x, dict) else 0)\n",
    "df['roomSocialInstitutionAttributes_count'] = df['attributes'].apply(lambda x: len(x.get('roomSocialInstitutionAttributes', [])) if isinstance(x, dict) else 0)\n",
    "df['roomAttributes_count'] = df['attributes'].apply(lambda x: len(x.get('roomAttributes', [])) if isinstance(x, dict) else 0)\n",
    "df['infrastructureAttributes_count'] = df['attributes'].apply(lambda x: len(x.get('infrastructureAttributes', [])) if isinstance(x, dict) else 0)\n",
    "df['usageAttributes_count'] = df['attributes'].apply(lambda x: len(x.get('usageAttributes', [])) if isinstance(x, dict) else 0)\n",
    "df['dormitoryAttributes_count'] = df['attributes'].apply(lambda x: len(x.get('dormitoryAttributes', [])) if isinstance(x, dict) else 0)\n",
    "df['dormitoryLocationAttributes_count'] = df['attributes'].apply(lambda x: len(x.get('dormitoryLocationAttributes', [])) if isinstance(x, dict) else 0)\n",
    "df['serviceAttributes_count'] = df['attributes'].apply(lambda x: len(x.get('serviceAttributes', [])) if isinstance(x, dict) else 0)\n",
    "\n",
    "# Sonuçları yazdıralım\n",
    "print(df[['inAttributes_count', 'outAttributes_count', 'locationAttributes_count', 'roomSocialInstitutionAttributes_count',\n",
    "          'roomAttributes_count', 'infrastructureAttributes_count', 'usageAttributes_count',\n",
    "          'dormitoryAttributes_count', 'dormitoryLocationAttributes_count', 'serviceAttributes_count']])\n"
   ]
  },
  {
   "cell_type": "code",
   "execution_count": 61,
   "id": "959ccaf1",
   "metadata": {},
   "outputs": [],
   "source": [
    "df[['inAttributes_count', 'outAttributes_count', 'locationAttributes_count', \n",
    "    'roomSocialInstitutionAttributes_count', 'roomAttributes_count', \n",
    "    'infrastructureAttributes_count', 'usageAttributes_count', \n",
    "    'dormitoryAttributes_count', 'dormitoryLocationAttributes_count', \n",
    "    'serviceAttributes_count']] = df[['inAttributes_count', 'outAttributes_count', 'locationAttributes_count', \n",
    "                                      'roomSocialInstitutionAttributes_count', 'roomAttributes_count', \n",
    "                                      'infrastructureAttributes_count', 'usageAttributes_count', \n",
    "                                      'dormitoryAttributes_count', 'dormitoryLocationAttributes_count', \n",
    "                                      'serviceAttributes_count']].replace(0, None)"
   ]
  },
  {
   "cell_type": "code",
   "execution_count": 62,
   "id": "44a4d7c8",
   "metadata": {},
   "outputs": [
    {
     "name": "stdout",
     "output_type": "stream",
     "text": [
      "inAttributes_count                        607\n",
      "outAttributes_count                      1043\n",
      "locationAttributes_count                  879\n",
      "roomSocialInstitutionAttributes_count    2180\n",
      "roomAttributes_count                     2180\n",
      "infrastructureAttributes_count           2175\n",
      "usageAttributes_count                    2175\n",
      "dormitoryAttributes_count                2180\n",
      "dormitoryLocationAttributes_count        2180\n",
      "serviceAttributes_count                  2180\n",
      "dtype: int64\n"
     ]
    }
   ],
   "source": [
    "null_counts = df[['inAttributes_count', 'outAttributes_count', 'locationAttributes_count', \n",
    "                  'roomSocialInstitutionAttributes_count', 'roomAttributes_count', \n",
    "                  'infrastructureAttributes_count', 'usageAttributes_count', \n",
    "                  'dormitoryAttributes_count', 'dormitoryLocationAttributes_count', \n",
    "                  'serviceAttributes_count']].isnull().sum()\n",
    "\n",
    "# Null sayıları yazdıralım\n",
    "print(null_counts)"
   ]
  },
  {
   "cell_type": "markdown",
   "id": "c73cdaac",
   "metadata": {},
   "source": [
    "Boş Sütunların Temizlenmesi"
   ]
  },
  {
   "cell_type": "code",
   "execution_count": 63,
   "id": "1ba54b8b",
   "metadata": {},
   "outputs": [],
   "source": [
    "# Belirtilen sütunları kaldıralım\n",
    "df = df.drop(columns=[\n",
    "    'roomSocialInstitutionAttributes_count',\n",
    "    'roomAttributes_count',\n",
    "    'infrastructureAttributes_count',\n",
    "    'usageAttributes_count',\n",
    "    'dormitoryAttributes_count',\n",
    "    'dormitoryLocationAttributes_count',\n",
    "    'serviceAttributes_count'\n",
    "])\n"
   ]
  },
  {
   "cell_type": "code",
   "execution_count": 64,
   "id": "e5e2eba2",
   "metadata": {},
   "outputs": [],
   "source": [
    "df=df.drop(columns=['attributes'])"
   ]
  },
  {
   "cell_type": "code",
   "execution_count": 65,
   "id": "86156c33",
   "metadata": {},
   "outputs": [
    {
     "name": "stdout",
     "output_type": "stream",
     "text": [
      "inAttributes_count           607\n",
      "outAttributes_count         1043\n",
      "locationAttributes_count     879\n",
      "dtype: int64\n"
     ]
    }
   ],
   "source": [
    "null_counts = df[['inAttributes_count', 'outAttributes_count', 'locationAttributes_count']].isnull().sum()\n",
    "print(null_counts)\n"
   ]
  },
  {
   "cell_type": "markdown",
   "id": "ad2b35f5",
   "metadata": {},
   "source": [
    "### 🔍 Eksik Değerleri Doldurma\n",
    "\n",
    "Veri setimizde bazı sütunlarda **eksik (null/NaN) değerler** bulunmaktadır.\n",
    "\n",
    "1. **Eksik değerler \"0\" ile doldurulmadı:**  \n",
    "   ➤ Çünkü bu durum, \"hiç özellik yok\" gibi yanlış bir anlam yaratabilir. Bu da modeli yanıltabilir.\n",
    "\n",
    "2. **Eksikliği bir bilgi olarak koruyoruz:**  \n",
    "   ➤ Her eksik sütun için ek bir **işaret sütunu (`_is_missing`)** oluşturulmuştur.  \n",
    "   ➤ Bu sütun, ilgili değerin eksik olup olmadığını belirtir (`True`/`False`).  \n",
    "   ➤ Bu sayede model, eksikliğin sınıflandırma üzerinde etkili olup olmadığını öğrenebilir.\n",
    "\n",
    "3. **Eksik değerler medyan ile doldurulmuştur:**  \n",
    "   ➤ **Medyan**, uç (aykırı) değerlerden etkilenmediği için genellikle **ortalama**ya göre daha güvenilirdir.  \n",
    "   ➤ Bu, modelin daha doğru ve kararlı çalışmasına katkı sağlar.\n",
    "\n",
    "> ✅ Eksiklikleri tamamen kaybetmiyoruz.  \n",
    "> ✅ Medyan ile doldurarak modeli dengede tutuyoruz.  \n",
    "> ✅ `_is_missing` bayraklarını daha sonra **feature selection** aşamasında kullanarak, eksikliğin model performansına katkısı olup olmadığını test edebiliriz.\n"
   ]
  },
  {
   "cell_type": "code",
   "execution_count": 66,
   "id": "062b0229",
   "metadata": {},
   "outputs": [],
   "source": [
    "for col in ['inAttributes_count', 'outAttributes_count', 'locationAttributes_count']:\n",
    "    # Eksik değerleri işaretleyen yeni bir sütun oluştur\n",
    "    df[col + '_is_missing'] = df[col].isnull().astype(int)\n",
    "    \n",
    "    # Eksik olanları medyan ile doldur\n",
    "    df[col] = df[col].fillna(df[col].median())"
   ]
  },
  {
   "cell_type": "code",
   "execution_count": 67,
   "id": "dd2ad86e",
   "metadata": {},
   "outputs": [
    {
     "name": "stdout",
     "output_type": "stream",
     "text": [
      "inAttributes_count          0\n",
      "outAttributes_count         0\n",
      "locationAttributes_count    0\n",
      "dtype: int64\n"
     ]
    }
   ],
   "source": [
    "null_counts = df[['inAttributes_count', 'outAttributes_count', 'locationAttributes_count']].isnull().sum()\n",
    "print(null_counts)"
   ]
  },
  {
   "cell_type": "code",
   "execution_count": 68,
   "id": "57cf0878",
   "metadata": {},
   "outputs": [
    {
     "data": {
      "text/plain": [
       "4956055.039908257"
      ]
     },
     "execution_count": 68,
     "metadata": {},
     "output_type": "execute_result"
    }
   ],
   "source": [
    "df['price'].mean()"
   ]
  },
  {
   "cell_type": "code",
   "execution_count": 69,
   "id": "8754752a",
   "metadata": {},
   "outputs": [
    {
     "data": {
      "text/plain": [
       "0"
      ]
     },
     "execution_count": 69,
     "metadata": {},
     "output_type": "execute_result"
    }
   ],
   "source": [
    "df['price'].isna().sum()"
   ]
  },
  {
   "cell_type": "markdown",
   "id": "e0845dc1",
   "metadata": {},
   "source": [
    "### 💰 Fiyat Kategorileştirme – `price_category` Sütunu\n",
    "\n",
    "Veri setindeki `price` (fiyat) sütunu, istatistiksel çeyreklere göre 3 kategoriye ayrılmıştır:\n",
    "\n",
    "- **1. çeyrek (Q1)** ve **3. çeyrek (Q3)** değerleri hesaplandı.\n",
    "- Fiyatlar bu değerlere göre:\n",
    "  - `düşük` (Q1 ve altı),\n",
    "  - `orta` (Q1–Q3 arası),\n",
    "  - `yüksek` (Q3 ve üzeri)  \n",
    "  olarak sınıflandırıldı.\n",
    "- Elde edilen sınıflar yeni bir **`price_category`** sütununa eklendi.\n",
    "\n",
    "> ✅ Bu işlem, fiyatları daha anlamlı gruplara ayırarak analiz ve modelleme sürecinde kolaylık sağlar.\n"
   ]
  },
  {
   "cell_type": "code",
   "execution_count": 70,
   "id": "6099cce9",
   "metadata": {},
   "outputs": [
    {
     "name": "stdout",
     "output_type": "stream",
     "text": [
      "2100000.0\n",
      "5500000.0\n",
      "      price price_category\n",
      "0   2500000           orta\n",
      "1   1500000          düşük\n",
      "2  19500000         yüksek\n",
      "3   3350000           orta\n",
      "4   3700000           orta\n",
      "5   2150000           orta\n",
      "6  21000000         yüksek\n",
      "7   1600000          düşük\n",
      "8   5250000           orta\n",
      "9   4100000           orta\n"
     ]
    }
   ],
   "source": [
    "# Çeyrekleri hesapla\n",
    "q1 = df['price'].quantile(0.25)\n",
    "q3 = df['price'].quantile(0.75)\n",
    "\n",
    "# Fonksiyon tanımla\n",
    "def categorize_price(price):\n",
    "    if price <= q1:\n",
    "        return 'düşük'\n",
    "    elif price <= q3:\n",
    "        return 'orta'\n",
    "    else:\n",
    "        return 'yüksek'\n",
    "\n",
    "# Yeni sütunu oluştur\n",
    "df['price_category'] = df['price'].apply(categorize_price)\n",
    "\n",
    "print(q1)\n",
    "print(q3)\n",
    "\n",
    "# Kontrol etmek için ilk 10 satırı yazdıralım\n",
    "print(df[['price', 'price_category']].head(10))"
   ]
  },
  {
   "cell_type": "code",
   "execution_count": 71,
   "id": "70f16aef",
   "metadata": {},
   "outputs": [
    {
     "data": {
      "text/plain": [
       "77"
      ]
     },
     "execution_count": 71,
     "metadata": {},
     "output_type": "execute_result"
    }
   ],
   "source": [
    "df['credit'].isna().sum()"
   ]
  },
  {
   "cell_type": "code",
   "execution_count": 72,
   "id": "bd87fd7c",
   "metadata": {},
   "outputs": [
    {
     "data": {
      "text/plain": [
       "0       {\"id\":101802,\"name\":\"Uygun\"}\n",
       "1       {\"id\":101802,\"name\":\"Uygun\"}\n",
       "2       {\"id\":101802,\"name\":\"Uygun\"}\n",
       "3       {\"id\":101802,\"name\":\"Uygun\"}\n",
       "4       {\"id\":101802,\"name\":\"Uygun\"}\n",
       "                    ...             \n",
       "2175    {\"id\":101802,\"name\":\"Uygun\"}\n",
       "2176    {\"id\":101802,\"name\":\"Uygun\"}\n",
       "2177    {\"id\":101802,\"name\":\"Uygun\"}\n",
       "2178    {\"id\":101802,\"name\":\"Uygun\"}\n",
       "2179    {\"id\":101802,\"name\":\"Uygun\"}\n",
       "Name: credit, Length: 2180, dtype: object"
      ]
     },
     "execution_count": 72,
     "metadata": {},
     "output_type": "execute_result"
    }
   ],
   "source": [
    "df['credit']"
   ]
  },
  {
   "cell_type": "code",
   "execution_count": 73,
   "id": "8a3141f7",
   "metadata": {},
   "outputs": [],
   "source": [
    "df['credit'].replace('{\"id\":101802,\"name\":\"Uygun\"}','True',inplace=True)\n",
    "df['credit'].replace('{\"id\":101802,\"name\":\"Available\"}','True',inplace=True)\n",
    "df['credit'].replace('{\"id\":101803,\"name\":\"Uygun de�il\"}','False',inplace=True)\n",
    "df['credit'].replace('{\"id\":101803,\"name\":\"Not Available\"}','False',inplace=True)\n",
    "df['credit'].replace('{\"id\":101803,\"name\":\"Uygun degil\"}','False',inplace=True)\n",
    "df['credit'].replace('{\"id\":101801,\"name\":\"Bilinmiyor\"}',np.nan,inplace=True) \n",
    "df['credit'].replace('{\"id\":101803,\"name\":\"Uygundeğil\"}','False',inplace=True)\n",
    "df['credit'].replace('{\"id\":101803,\"name\":\"Uygun değil\"}','False',inplace=True)"
   ]
  },
  {
   "cell_type": "code",
   "execution_count": 74,
   "id": "84139df2",
   "metadata": {},
   "outputs": [
    {
     "data": {
      "text/plain": [
       "0    True\n",
       "1    True\n",
       "2    True\n",
       "3    True\n",
       "4    True\n",
       "5    True\n",
       "6    True\n",
       "7    True\n",
       "8    True\n",
       "9    True\n",
       "Name: credit, dtype: object"
      ]
     },
     "execution_count": 74,
     "metadata": {},
     "output_type": "execute_result"
    }
   ],
   "source": [
    "df['credit'].head(10)"
   ]
  },
  {
   "cell_type": "code",
   "execution_count": 75,
   "id": "5289bbee",
   "metadata": {},
   "outputs": [
    {
     "name": "stdout",
     "output_type": "stream",
     "text": [
      "credit\n",
      "True     1898\n",
      "False     204\n",
      "NaN        78\n",
      "Name: count, dtype: int64\n"
     ]
    }
   ],
   "source": [
    "print(df['credit'].value_counts(dropna=False))\n"
   ]
  },
  {
   "cell_type": "code",
   "execution_count": null,
   "id": "19a174b4",
   "metadata": {},
   "outputs": [],
   "source": []
  },
  {
   "cell_type": "code",
   "execution_count": null,
   "id": "59d461f4",
   "metadata": {},
   "outputs": [],
   "source": []
  },
  {
   "cell_type": "code",
   "execution_count": 76,
   "id": "ea873042",
   "metadata": {},
   "outputs": [
    {
     "data": {
      "text/plain": [
       "248"
      ]
     },
     "execution_count": 76,
     "metadata": {},
     "output_type": "execute_result"
    }
   ],
   "source": [
    "df['barter'].isna().sum() #takas"
   ]
  },
  {
   "cell_type": "code",
   "execution_count": 77,
   "id": "74a580e8",
   "metadata": {},
   "outputs": [],
   "source": [
    "df['barter'].replace('{\"id\":102101,\"name\":\"Yapılır\"}','True',inplace=True)\n",
    "df['barter'].replace('{\"id\":102102,\"name\":\"Yapılmaz\"}','False',inplace=True)\n",
    "df['barter'].replace('{\"id\":102101,\"name\":\"Makes\"}','True',inplace=True)            \n",
    "df['barter'].replace('{\"id\":102102,\"name\":\"Yapilmaz\"}','False',inplace=True)\n",
    "df['barter'].replace('{\"id\":102101,\"name\":\"Yapilir\"}','True',inplace=True)\n",
    "df['barter'].replace('{\"id\":102102,\"name\":\"Not Done\"}','False',inplace=True)\n",
    "df['barter'].replace('{\"id\":102101,\"name\":\"Yap�l�r\"}','True',inplace=True)\n",
    "df['barter'].replace('{\"id\":102102,\"name\":\"Yap�lmaz\"}','False',inplace=True)\n",
    "\n",
    "df['barter'].replace('{\"id\":0,\"name\":null}',np.nan,inplace=True)"
   ]
  },
  {
   "cell_type": "code",
   "execution_count": 78,
   "id": "2475f85c",
   "metadata": {},
   "outputs": [
    {
     "name": "stdout",
     "output_type": "stream",
     "text": [
      "barter\n",
      "True     1110\n",
      "False     808\n",
      "NaN       262\n",
      "Name: count, dtype: int64\n"
     ]
    }
   ],
   "source": [
    "print(df['barter'].value_counts(dropna=False))\n"
   ]
  },
  {
   "cell_type": "markdown",
   "id": "f0e02b3d",
   "metadata": {},
   "source": [
    "\n",
    "- **`byTransfer` Kolonu:**\n",
    "  - `byTransfer` kolonundaki tüm değerler `True` olduğu için, bu kolon veri setinde anlamlı bir bilgi sunmamaktadır.\n",
    "  - Bu nedenle, tekrarlayan ve bilgi içermeyen bu kolon veri setinden **kaldırılmıştır**.\n",
    "\n",
    "- **`deposit` Kolonu:**\n",
    "  - `deposit` kolonunda çok fazla boş değer (`NaN`) bulunmakta ve kalan değerlerin çoğu `False` olarak belirlenmiştir.\n",
    "  - Bu durumda, `deposit` kolonunun veri setine katkısı sınırlı olduğundan, **bu kolon da kaldırılmıştır**.\n"
   ]
  },
  {
   "cell_type": "code",
   "execution_count": 79,
   "id": "2bd23515",
   "metadata": {},
   "outputs": [],
   "source": [
    "df = df.drop(columns=['byTransfer','deposit']) "
   ]
  },
  {
   "cell_type": "code",
   "execution_count": 80,
   "id": "d31e6aa2",
   "metadata": {},
   "outputs": [
    {
     "data": {
      "text/plain": [
       "0        {\"amount\":200,\"currencyCode\":\"TL\"}\n",
       "1                                       NaN\n",
       "2       {\"amount\":1000,\"currencyCode\":\"TL\"}\n",
       "3                                       NaN\n",
       "4                                       NaN\n",
       "                       ...                 \n",
       "2175                                    NaN\n",
       "2176                                    NaN\n",
       "2177                                    NaN\n",
       "2178                                    NaN\n",
       "2179                                    NaN\n",
       "Name: fee, Length: 2180, dtype: object"
      ]
     },
     "execution_count": 80,
     "metadata": {},
     "output_type": "execute_result"
    }
   ],
   "source": [
    "df['fee']"
   ]
  },
  {
   "cell_type": "code",
   "execution_count": 81,
   "id": "16d02681",
   "metadata": {},
   "outputs": [
    {
     "data": {
      "text/plain": [
       "1788"
      ]
     },
     "execution_count": 81,
     "metadata": {},
     "output_type": "execute_result"
    }
   ],
   "source": [
    "df['fee'].isna().sum()"
   ]
  },
  {
   "cell_type": "code",
   "execution_count": null,
   "id": "6e603f04",
   "metadata": {},
   "outputs": [],
   "source": []
  },
  {
   "cell_type": "markdown",
   "id": "4b0da9d8",
   "metadata": {},
   "source": [
    "### Fee Sütununun Dönüştürülmesi ve Amount Değerinin Çekilmesi\n",
    "\n",
    "Bu kod parçası, bir DataFrame (`df`) üzerinde belirli bir sütun olan **`fee`** sütununu işleyerek, her bir hücredeki değeri belirli bir mantığa göre dönüştürür. Aşağıda, adım adım açıklamalar yer almaktadır:\n",
    "\n",
    "1. **`extract_amount` Fonksiyonu:**\n",
    "   - **Amaç:** Bu fonksiyon, **`fee`** sütunundaki her bir hücreyi işleyip, içerisindeki `amount` değerini çıkararak dönüşüm yapar.\n",
    "   \n",
    "   - **İşleyiş:**\n",
    "     - **Eğer değer 'false' ya da `NaN` ise:** \n",
    "       - Bu durumlar için fonksiyon `0` döndürür. Bu, geçerli bir miktar olmadığında (boş ya da yanlış değer) 0 kabul edilmesini sağlar.\n",
    "     - **Veri Bir String Olarak Geliyorsa:**\n",
    "       - `ast.literal_eval(val)` kullanılarak, string formatındaki veriler bir Python sözlüğüne (dictionary) dönüştürülür.\n",
    "       - Bu sözlükten, `amount` anahtarı kullanılarak `amount` değeri çekilir. Eğer `amount` anahtarı mevcut değilse, varsayılan olarak `0` değeri döndürülür.\n",
    "     - **Hata Durumunda:** Eğer dönüşüm veya veri çekme sırasında bir hata oluşursa, fonksiyon `0` döndürür.\n",
    "\n",
    "2. **`df['fee'].apply(extract_amount)` İfadesi:**\n",
    "   - **Amaç:** Bu ifade, DataFrame'deki **`fee`** sütunundaki her bir hücreyi `extract_amount` fonksiyonuyla işler.\n",
    "   - Her bir hücre için, fonksiyon çalıştırılır ve dönüşen değerler **yeni bir `fee`** sütunu olarak DataFrame'e eklenir.\n",
    "\n",
    "### Sonuç:\n",
    "Sonuç olarak, `fee` sütunundaki veriler, `amount` değerine odaklanarak düzenlenmiş olur ve veritabanındaki bozuk veya geçersiz veriler (örneğin `NaN` veya `'false'`) sıfır (`0`) ile değiştirilir. Böylece, veri analizi veya modelleme için daha tutarlı bir sütun elde edilir.\n"
   ]
  },
  {
   "cell_type": "code",
   "execution_count": 82,
   "id": "daa1f18f",
   "metadata": {},
   "outputs": [],
   "source": [
    "import pandas as pd\n",
    "import numpy as np\n",
    "import ast\n",
    "\n",
    "def extract_amount(val):\n",
    "    if pd.isna(val):\n",
    "        return np.nan\n",
    "    if val in ['false', False]:\n",
    "        return 0\n",
    "    if isinstance(val, dict):  # Eğer zaten dict ise\n",
    "        return float(val.get(\"amount\", 0))\n",
    "    try:\n",
    "        data = ast.literal_eval(val)  # string → dict\n",
    "        return float(data.get(\"amount\", 0))\n",
    "    except Exception as e:\n",
    "        print(f\"Hata: {e} | Değer: {val}\")\n",
    "        return 0\n",
    "\n",
    "# fee sütununu dönüştür\n",
    "df['fee'] = df['fee'].apply(extract_amount)\n",
    "\n"
   ]
  },
  {
   "cell_type": "code",
   "execution_count": 83,
   "id": "99464b14",
   "metadata": {},
   "outputs": [
    {
     "data": {
      "text/plain": [
       "0     200.0\n",
       "1       NaN\n",
       "2    1000.0\n",
       "3       NaN\n",
       "4       NaN\n",
       "5       1.0\n",
       "6       1.0\n",
       "7     500.0\n",
       "8       NaN\n",
       "9       NaN\n",
       "Name: fee, dtype: float64"
      ]
     },
     "execution_count": 83,
     "metadata": {},
     "output_type": "execute_result"
    }
   ],
   "source": [
    "df['fee'].head(10)"
   ]
  },
  {
   "cell_type": "code",
   "execution_count": 84,
   "id": "c119af0e",
   "metadata": {},
   "outputs": [
    {
     "data": {
      "text/plain": [
       "fee\n",
       "1.0       70\n",
       "100.0     40\n",
       "200.0     36\n",
       "500.0     35\n",
       "250.0     17\n",
       "          ..\n",
       "3.5        1\n",
       "950.0      1\n",
       "15.0       1\n",
       "3.0        1\n",
       "1050.0     1\n",
       "Name: count, Length: 64, dtype: int64"
      ]
     },
     "execution_count": 84,
     "metadata": {},
     "output_type": "execute_result"
    }
   ],
   "source": [
    "df['fee'].value_counts()"
   ]
  },
  {
   "cell_type": "code",
   "execution_count": 85,
   "id": "b377f001",
   "metadata": {},
   "outputs": [],
   "source": [
    "df['fee'] = df['fee'].replace(0, np.nan)"
   ]
  },
  {
   "cell_type": "code",
   "execution_count": 86,
   "id": "2ce5c68d",
   "metadata": {},
   "outputs": [
    {
     "data": {
      "text/plain": [
       "1788"
      ]
     },
     "execution_count": 86,
     "metadata": {},
     "output_type": "execute_result"
    }
   ],
   "source": [
    "df['fee'].isna().sum()"
   ]
  },
  {
   "cell_type": "code",
   "execution_count": 87,
   "id": "20400135",
   "metadata": {},
   "outputs": [
    {
     "data": {
      "text/plain": [
       "5        1.00\n",
       "677      1.10\n",
       "574      1.20\n",
       "1683     1.25\n",
       "271      1.40\n",
       "213      1.50\n",
       "1929     1.70\n",
       "16       2.00\n",
       "1641     2.20\n",
       "407      2.50\n",
       "740      3.00\n",
       "537      3.50\n",
       "76       4.00\n",
       "1917     5.00\n",
       "221      5.80\n",
       "900     10.00\n",
       "738     15.00\n",
       "1086    20.00\n",
       "100     25.00\n",
       "876     40.00\n",
       "Name: fee, dtype: float64"
      ]
     },
     "execution_count": 87,
     "metadata": {},
     "output_type": "execute_result"
    }
   ],
   "source": [
    "df[\"fee\"].drop_duplicates().nsmallest(20)\n",
    "#en küçük 20 değeri sırala"
   ]
  },
  {
   "cell_type": "code",
   "execution_count": 88,
   "id": "823ab4d8",
   "metadata": {},
   "outputs": [
    {
     "data": {
      "text/plain": [
       "861     11000.0\n",
       "1312     8000.0\n",
       "387      5000.0\n",
       "1969     4250.0\n",
       "51       3500.0\n",
       "445      3000.0\n",
       "2104     2900.0\n",
       "471      2500.0\n",
       "1730     2000.0\n",
       "56       1750.0\n",
       "Name: fee, dtype: float64"
      ]
     },
     "execution_count": 88,
     "metadata": {},
     "output_type": "execute_result"
    }
   ],
   "source": [
    "df[\"fee\"].drop_duplicates().nlargest(10)"
   ]
  },
  {
   "cell_type": "code",
   "execution_count": 89,
   "id": "e4f40eca",
   "metadata": {},
   "outputs": [
    {
     "data": {
      "image/png": "[encoded data removed]",
      "text/plain": [
       "<Figure size 800x400 with 1 Axes>"
      ]
     },
     "metadata": {},
     "output_type": "display_data"
    }
   ],
   "source": [
    "import seaborn as sns\n",
    "plt.figure(figsize=(8, 4))\n",
    "sns.boxplot(x=df['fee'])\n",
    "plt.title(\"Fee Sütunu için Boxplot (Aykırı Değer Görselleştirme)\")\n",
    "plt.show()"
   ]
  },
  {
   "cell_type": "code",
   "execution_count": 90,
   "id": "180414d4",
   "metadata": {},
   "outputs": [
    {
     "name": "stdout",
     "output_type": "stream",
     "text": [
      "fee_is_missing\n",
      "True     1788\n",
      "False     392\n",
      "Name: count, dtype: int64\n"
     ]
    }
   ],
   "source": [
    "# fee sütununda eksik veri olup olmadığını kontrol et\n",
    "df[\"fee_is_missing\"] = df[\"fee\"].isnull()\n",
    "\n",
    "# Kontrol: kaç tane eksik değer var\n",
    "print(df[\"fee_is_missing\"].value_counts())"
   ]
  },
  {
   "cell_type": "code",
   "execution_count": 91,
   "id": "a47d522f",
   "metadata": {},
   "outputs": [
    {
     "data": {
      "text/plain": [
       "0    False\n",
       "1     True\n",
       "2    False\n",
       "3     True\n",
       "4     True\n",
       "5    False\n",
       "6    False\n",
       "7    False\n",
       "8     True\n",
       "9     True\n",
       "Name: fee_is_missing, dtype: bool"
      ]
     },
     "execution_count": 91,
     "metadata": {},
     "output_type": "execute_result"
    }
   ],
   "source": [
    "df[\"fee_is_missing\"].head(10)"
   ]
  },
  {
   "cell_type": "code",
   "execution_count": 92,
   "id": "8c94b0b2",
   "metadata": {},
   "outputs": [],
   "source": [
    "# Geçersiz sayılacak değerler listesi\n",
    "invalid_fee_values = [1.00, 1.10, 1.20, 1.25, 1.40, 1.50, 1.70, 2.00, 2.20, 2.50, 3.00, 3.50, 4.00, 5.00, 5.80]\n",
    "\n",
    "# Bu değerlere sahip olanları NaN yap\n",
    "df.loc[df[\"fee\"].isin(invalid_fee_values), \"fee\"] = np.nan\n",
    "\n",
    "# fee_is_missing sütununu buna göre güncelle\n",
    "df[\"fee_is_missing\"] = df[\"fee\"].isnull()"
   ]
  },
  {
   "cell_type": "code",
   "execution_count": 93,
   "id": "65586a31",
   "metadata": {},
   "outputs": [
    {
     "data": {
      "text/plain": [
       "0     200.0\n",
       "1       NaN\n",
       "2    1000.0\n",
       "3       NaN\n",
       "4       NaN\n",
       "5       NaN\n",
       "6       NaN\n",
       "7     500.0\n",
       "8       NaN\n",
       "9       NaN\n",
       "Name: fee, dtype: float64"
      ]
     },
     "execution_count": 93,
     "metadata": {},
     "output_type": "execute_result"
    }
   ],
   "source": [
    "df[\"fee\"].head(10)"
   ]
  },
  {
   "cell_type": "code",
   "execution_count": 94,
   "id": "0df8ee5b",
   "metadata": {},
   "outputs": [
    {
     "data": {
      "text/plain": [
       "1882"
      ]
     },
     "execution_count": 94,
     "metadata": {},
     "output_type": "execute_result"
    }
   ],
   "source": [
    "df['fee'].isna().sum()"
   ]
  },
  {
   "cell_type": "code",
   "execution_count": 95,
   "id": "4a94b04e",
   "metadata": {},
   "outputs": [
    {
     "data": {
      "image/png": "[encoded data removed]",
      "text/plain": [
       "<Figure size 800x400 with 1 Axes>"
      ]
     },
     "metadata": {},
     "output_type": "display_data"
    }
   ],
   "source": [
    "plt.figure(figsize=(8, 4))\n",
    "sns.boxplot(x=df['fee'])\n",
    "plt.title(\"Fee Sütunu için Boxplot (Aykırı Değer Görselleştirme)\")\n",
    "plt.show()"
   ]
  },
  {
   "cell_type": "code",
   "execution_count": null,
   "id": "b01f3ec0",
   "metadata": {},
   "outputs": [],
   "source": []
  },
  {
   "cell_type": "markdown",
   "id": "64d47cd5",
   "metadata": {},
   "source": [
    "Bu kod, **fiyat kategorilerine** (`price_category`) göre iki farklı sütundaki (`credit` ve `barter`) **\"True\"** ve **\"False\"** değerlerinin **yüzde dağılımını** hesaplar.\n"
   ]
  },
  {
   "cell_type": "code",
   "execution_count": 96,
   "id": "16899d93",
   "metadata": {},
   "outputs": [
    {
     "name": "stdout",
     "output_type": "stream",
     "text": [
      "price_category  credit\n",
      "düşük           True      0.907547\n",
      "                False     0.092453\n",
      "orta            True      0.911069\n",
      "                False     0.088931\n",
      "yüksek          True      0.881553\n",
      "                False     0.118447\n",
      "Name: proportion, dtype: float64\n",
      "price_category  barter\n",
      "düşük           True      0.690377\n",
      "                False     0.309623\n",
      "orta            True      0.553038\n",
      "                False     0.446962\n",
      "yüksek          True      0.518124\n",
      "                False     0.481876\n",
      "Name: proportion, dtype: float64\n"
     ]
    }
   ],
   "source": [
    "# Her fiyat kategorisinde kaç tane \"True\" ve \"False\" olduğu\n",
    "print(df.groupby('price_category')['credit'].value_counts(normalize=True))\n",
    "print(df.groupby('price_category')['barter'].value_counts(normalize=True))\n",
    "# Örneğin “yüksek” fiyat kategorisindekilerin yüzde kaçında credit=True olduğu"
   ]
  },
  {
   "cell_type": "markdown",
   "id": "97949fac",
   "metadata": {},
   "source": [
    "\n",
    "##### **`credit` Sütunu İçin Dağılım:**\n",
    "Bu sonuç, her fiyat kategorisindeki `credit` sütunundaki **True** ve **False** değerlerinin yüzdesini gösterir:\n",
    "- **Düşük fiyat kategorisi:** `credit=True` olanlar %90.75, `credit=False` olanlar ise %9.25.\n",
    "- **Orta fiyat kategorisi:** `credit=True` olanlar %91.11, `credit=False` olanlar ise %8.89.\n",
    "- **Yüksek fiyat kategorisi:** `credit=True` olanlar %88.16, `credit=False` olanlar ise %11.84.\n",
    "\n",
    "##### **`barter` Sütunu İçin Dağılım:**\n",
    "Bu sonuç da her fiyat kategorisindeki `barter` sütunundaki **True** ve **False** değerlerinin yüzdesini gösterir:\n",
    "- **Düşük fiyat kategorisi:** `barter=True` olanlar %69.04, `barter=False` olanlar ise %30.96.\n",
    "- **Orta fiyat kategorisi:** `barter=True` olanlar %55.30, `barter=False` olanlar ise %44.70.\n",
    "- **Yüksek fiyat kategorisi:** `barter=True` olanlar %51.81, `barter=False` olanlar ise %48.19.\n"
   ]
  },
  {
   "cell_type": "code",
   "execution_count": 97,
   "id": "3d339770",
   "metadata": {},
   "outputs": [
    {
     "name": "stdout",
     "output_type": "stream",
     "text": [
      "price_category\n",
      "düşük      619.583333\n",
      "orta       497.906977\n",
      "yüksek    1181.785714\n",
      "Name: fee, dtype: float64\n"
     ]
    }
   ],
   "source": [
    "# Her fiyat kategorisindeki ortalama fee miktarını hesapla\n",
    "print(df.groupby('price_category')['fee'].mean())"
   ]
  },
  {
   "cell_type": "code",
   "execution_count": 98,
   "id": "0565f087",
   "metadata": {},
   "outputs": [
    {
     "data": {
      "text/plain": [
       "78"
      ]
     },
     "execution_count": 98,
     "metadata": {},
     "output_type": "execute_result"
    }
   ],
   "source": [
    "df['credit'].isna().sum()"
   ]
  },
  {
   "cell_type": "code",
   "execution_count": 99,
   "id": "4a7140b9",
   "metadata": {},
   "outputs": [
    {
     "data": {
      "text/plain": [
       "262"
      ]
     },
     "execution_count": 99,
     "metadata": {},
     "output_type": "execute_result"
    }
   ],
   "source": [
    "df['barter'].isna().sum()"
   ]
  },
  {
   "cell_type": "markdown",
   "id": "3757c5d8",
   "metadata": {},
   "source": [
    "### 1. **Boolean Değerlerine Dönüştürme:**\n",
    "   - `df['credit']` ve `df['barter']` kolonlarındaki `'True'` ve `'False'` string değerleri, Python'daki boolean (`True`, `False`) değerlerine dönüştürülmüştür.\n",
    "\n",
    "### 2. **Eksik Verilerin Fiyat Kategorisine Göre Doldurulması:**\n",
    "   - Eksik (`NaN`) değerlerin, `price_category` bazında gruplama yapılarak doldurulması sağlanmıştır.\n",
    "   - Her bir `price_category` grubu için, `credit` ve `barter` kolonlarındaki eksik veriler, o gruptaki en sık görülen değer mode ile doldurulmuştur.\n",
    "   - Bu işlemde kullanılan `fill_with_mode` fonksiyonu, bir grup için mode değeri boş değilse (yani grupta tek bir yaygın değer varsa) bu değeri kullanarak eksik veriyi doldurmuştur. Eğer mode değeri mevcut değilse, eksik değerler `False` ile doldurulmuştur.\n"
   ]
  },
  {
   "cell_type": "code",
   "execution_count": 100,
   "id": "820cd440",
   "metadata": {},
   "outputs": [
    {
     "name": "stdout",
     "output_type": "stream",
     "text": [
      "0 0\n"
     ]
    }
   ],
   "source": [
    "# True/False olarak işaretle\n",
    "df['credit'] = df['credit'].map({'True': True, 'False': False})\n",
    "df['barter'] = df['barter'].map({'True': True, 'False': False})\n",
    "\n",
    "# Eksik verileri fiyat kategorisine göre mode ile doldur\n",
    "fill_with_mode = lambda x: x.fillna(x.mode()[0] if not x.mode().empty else False)\n",
    "df['credit'] = df.groupby('price_category')['credit'].transform(fill_with_mode)\n",
    "df['barter'] = df.groupby('price_category')['barter'].transform(fill_with_mode)\n",
    "\n",
    "# Kontrol edelim\n",
    "missing_credit = df['credit'].isna().sum()\n",
    "missing_barter = df['barter'].isna().sum()\n",
    "\n",
    "print(missing_credit, missing_barter)"
   ]
  },
  {
   "cell_type": "code",
   "execution_count": 101,
   "id": "6c686e7c",
   "metadata": {},
   "outputs": [
    {
     "name": "stdout",
     "output_type": "stream",
     "text": [
      "barter\n",
      "True     1372\n",
      "False     808\n",
      "Name: count, dtype: int64\n"
     ]
    }
   ],
   "source": [
    "print(df[\"barter\"].value_counts())"
   ]
  },
  {
   "cell_type": "code",
   "execution_count": 102,
   "id": "9e95f2a1",
   "metadata": {},
   "outputs": [
    {
     "data": {
      "text/plain": [
       "0             NaN\n",
       "1             NaN\n",
       "2       50.385391\n",
       "3       28.141878\n",
       "4             NaN\n",
       "          ...    \n",
       "2175          NaN\n",
       "2176          NaN\n",
       "2177    60.259280\n",
       "2178          NaN\n",
       "2179          NaN\n",
       "Name: searchScore, Length: 2180, dtype: float64"
      ]
     },
     "execution_count": 102,
     "metadata": {},
     "output_type": "execute_result"
    }
   ],
   "source": [
    "df['searchScore']"
   ]
  },
  {
   "cell_type": "code",
   "execution_count": 103,
   "id": "c3973e85",
   "metadata": {},
   "outputs": [
    {
     "data": {
      "text/plain": [
       "1840"
      ]
     },
     "execution_count": 103,
     "metadata": {},
     "output_type": "execute_result"
    }
   ],
   "source": [
    "df['searchScore'].isna().sum()\n"
   ]
  },
  {
   "cell_type": "code",
   "execution_count": 104,
   "id": "416e0e92",
   "metadata": {},
   "outputs": [],
   "source": [
    "df = df.drop(columns=['searchScore'])"
   ]
  },
  {
   "cell_type": "code",
   "execution_count": 105,
   "id": "de9fa016",
   "metadata": {},
   "outputs": [
    {
     "data": {
      "text/plain": [
       "(2180, 69)"
      ]
     },
     "execution_count": 105,
     "metadata": {},
     "output_type": "execute_result"
    }
   ],
   "source": [
    "df.shape"
   ]
  },
  {
   "cell_type": "code",
   "execution_count": null,
   "id": "47acad55",
   "metadata": {},
   "outputs": [],
   "source": []
  },
  {
   "cell_type": "code",
   "execution_count": 106,
   "id": "1d4e53c6",
   "metadata": {},
   "outputs": [
    {
     "data": {
      "text/plain": [
       "0       False\n",
       "1       False\n",
       "2       False\n",
       "3       False\n",
       "4       False\n",
       "        ...  \n",
       "2175    False\n",
       "2176    False\n",
       "2177    False\n",
       "2178    False\n",
       "2179    False\n",
       "Name: stale, Length: 2180, dtype: bool"
      ]
     },
     "execution_count": 106,
     "metadata": {},
     "output_type": "execute_result"
    }
   ],
   "source": [
    "df['stale']"
   ]
  },
  {
   "cell_type": "code",
   "execution_count": 107,
   "id": "75abc955",
   "metadata": {},
   "outputs": [
    {
     "data": {
      "text/plain": [
       "0"
      ]
     },
     "execution_count": 107,
     "metadata": {},
     "output_type": "execute_result"
    }
   ],
   "source": [
    "df['stale'].isnull().sum()"
   ]
  },
  {
   "cell_type": "code",
   "execution_count": 108,
   "id": "5135d39e",
   "metadata": {},
   "outputs": [
    {
     "name": "stdout",
     "output_type": "stream",
     "text": [
      "stale\n",
      "False    2103\n",
      "True       77\n",
      "Name: count, dtype: int64\n"
     ]
    }
   ],
   "source": [
    "# 'stale' sütunundaki True ve False değerlerinin sayısını alalım\n",
    "stale_counts = df['stale'].value_counts()\n",
    "\n",
    "# Sonuçları yazdırma\n",
    "print(stale_counts)"
   ]
  },
  {
   "cell_type": "code",
   "execution_count": 109,
   "id": "46d1d3ae",
   "metadata": {},
   "outputs": [
    {
     "name": "stdout",
     "output_type": "stream",
     "text": [
      "count    2180.000000\n",
      "mean      101.779817\n",
      "std        23.851444\n",
      "min        69.000000\n",
      "25%        82.000000\n",
      "50%        95.000000\n",
      "75%       116.000000\n",
      "max       168.000000\n",
      "Name: days_since_update, dtype: float64\n"
     ]
    }
   ],
   "source": [
    "import pandas as pd\n",
    "\n",
    "# Convert to datetime and drop timezone info\n",
    "df['updatedDate'] = pd.to_datetime(df['updatedDate']).dt.tz_localize(None)\n",
    "\n",
    "# Calculate freshness using today's date\n",
    "today = pd.Timestamp.today().normalize()\n",
    "df['days_since_update'] = (today - df['updatedDate']).dt.days\n",
    "\n",
    "print(df['days_since_update'].describe())"
   ]
  },
  {
   "cell_type": "code",
   "execution_count": 110,
   "id": "09c67e64",
   "metadata": {},
   "outputs": [
    {
     "data": {
      "text/html": [
       "<div>\n",
       "<style scoped>\n",
       "    .dataframe tbody tr th:only-of-type {\n",
       "        vertical-align: middle;\n",
       "    }\n",
       "\n",
       "    .dataframe tbody tr th {\n",
       "        vertical-align: top;\n",
       "    }\n",
       "\n",
       "    .dataframe thead th {\n",
       "        text-align: right;\n",
       "    }\n",
       "</style>\n",
       "<table border=\"1\" class=\"dataframe\">\n",
       "  <thead>\n",
       "    <tr style=\"text-align: right;\">\n",
       "      <th></th>\n",
       "      <th>count</th>\n",
       "      <th>mean</th>\n",
       "      <th>std</th>\n",
       "      <th>min</th>\n",
       "      <th>25%</th>\n",
       "      <th>50%</th>\n",
       "      <th>75%</th>\n",
       "      <th>max</th>\n",
       "    </tr>\n",
       "    <tr>\n",
       "      <th>stale</th>\n",
       "      <th></th>\n",
       "      <th></th>\n",
       "      <th></th>\n",
       "      <th></th>\n",
       "      <th></th>\n",
       "      <th></th>\n",
       "      <th></th>\n",
       "      <th></th>\n",
       "    </tr>\n",
       "  </thead>\n",
       "  <tbody>\n",
       "    <tr>\n",
       "      <th>False</th>\n",
       "      <td>2103.0</td>\n",
       "      <td>101.792677</td>\n",
       "      <td>23.098243</td>\n",
       "      <td>72.0</td>\n",
       "      <td>82.0</td>\n",
       "      <td>95.0</td>\n",
       "      <td>116.0</td>\n",
       "      <td>166.0</td>\n",
       "    </tr>\n",
       "    <tr>\n",
       "      <th>True</th>\n",
       "      <td>77.0</td>\n",
       "      <td>101.428571</td>\n",
       "      <td>39.424621</td>\n",
       "      <td>69.0</td>\n",
       "      <td>76.0</td>\n",
       "      <td>78.0</td>\n",
       "      <td>159.0</td>\n",
       "      <td>168.0</td>\n",
       "    </tr>\n",
       "  </tbody>\n",
       "</table>\n",
       "</div>"
      ],
      "text/plain": [
       "        count        mean        std   min   25%   50%    75%    max\n",
       "stale                                                               \n",
       "False  2103.0  101.792677  23.098243  72.0  82.0  95.0  116.0  166.0\n",
       "True     77.0  101.428571  39.424621  69.0  76.0  78.0  159.0  168.0"
      ]
     },
     "execution_count": 110,
     "metadata": {},
     "output_type": "execute_result"
    }
   ],
   "source": [
    "df.groupby('stale')['days_since_update'].describe()"
   ]
  },
  {
   "cell_type": "code",
   "execution_count": 111,
   "id": "fd1257e3",
   "metadata": {},
   "outputs": [
    {
     "data": {
      "text/html": [
       "<div>\n",
       "<style scoped>\n",
       "    .dataframe tbody tr th:only-of-type {\n",
       "        vertical-align: middle;\n",
       "    }\n",
       "\n",
       "    .dataframe tbody tr th {\n",
       "        vertical-align: top;\n",
       "    }\n",
       "\n",
       "    .dataframe thead th {\n",
       "        text-align: right;\n",
       "    }\n",
       "</style>\n",
       "<table border=\"1\" class=\"dataframe\">\n",
       "  <thead>\n",
       "    <tr style=\"text-align: right;\">\n",
       "      <th></th>\n",
       "      <th>count</th>\n",
       "      <th>mean</th>\n",
       "      <th>std</th>\n",
       "      <th>min</th>\n",
       "      <th>25%</th>\n",
       "      <th>50%</th>\n",
       "      <th>75%</th>\n",
       "      <th>max</th>\n",
       "    </tr>\n",
       "    <tr>\n",
       "      <th>Stale_corrected</th>\n",
       "      <th></th>\n",
       "      <th></th>\n",
       "      <th></th>\n",
       "      <th></th>\n",
       "      <th></th>\n",
       "      <th></th>\n",
       "      <th></th>\n",
       "      <th></th>\n",
       "    </tr>\n",
       "  </thead>\n",
       "  <tbody>\n",
       "    <tr>\n",
       "      <th>False</th>\n",
       "      <td>949.0</td>\n",
       "      <td>81.118019</td>\n",
       "      <td>4.635305</td>\n",
       "      <td>69.0</td>\n",
       "      <td>78.0</td>\n",
       "      <td>81.0</td>\n",
       "      <td>85.0</td>\n",
       "      <td>90.0</td>\n",
       "    </tr>\n",
       "    <tr>\n",
       "      <th>True</th>\n",
       "      <td>1231.0</td>\n",
       "      <td>117.708367</td>\n",
       "      <td>20.197808</td>\n",
       "      <td>91.0</td>\n",
       "      <td>101.0</td>\n",
       "      <td>112.0</td>\n",
       "      <td>131.0</td>\n",
       "      <td>168.0</td>\n",
       "    </tr>\n",
       "  </tbody>\n",
       "</table>\n",
       "</div>"
      ],
      "text/plain": [
       "                  count        mean        std   min    25%    50%    75%  \\\n",
       "Stale_corrected                                                             \n",
       "False             949.0   81.118019   4.635305  69.0   78.0   81.0   85.0   \n",
       "True             1231.0  117.708367  20.197808  91.0  101.0  112.0  131.0   \n",
       "\n",
       "                   max  \n",
       "Stale_corrected         \n",
       "False             90.0  \n",
       "True             168.0  "
      ]
     },
     "execution_count": 111,
     "metadata": {},
     "output_type": "execute_result"
    }
   ],
   "source": [
    "# Create 'stale_predicted' column based on threshold\n",
    "df['Stale_corrected'] = df['days_since_update'] > 90\n",
    "\n",
    "# View descriptive statistics\n",
    "df.groupby('Stale_corrected')['days_since_update'].describe()"
   ]
  },
  {
   "cell_type": "code",
   "execution_count": 112,
   "id": "e04aecad",
   "metadata": {},
   "outputs": [
    {
     "name": "stdout",
     "output_type": "stream",
     "text": [
      "Number of incorrect stale entries: 1264\n"
     ]
    }
   ],
   "source": [
    "# Compare the actual 'stale' column with the expected one\n",
    "df['stale_correct?'] = df['stale'] == df['Stale_corrected']\n",
    "\n",
    "# Count how many rows are mismatched\n",
    "incorrect_count = (~df['stale_correct?']).sum()\n",
    "print(f\"Number of incorrect stale entries: {incorrect_count}\")\n"
   ]
  },
  {
   "cell_type": "markdown",
   "id": "aecc97aa",
   "metadata": {},
   "source": [
    "^^ Cok fazla farkli degerler oldugu icin bence 120 olsun"
   ]
  },
  {
   "cell_type": "code",
   "execution_count": 113,
   "id": "86c39c74",
   "metadata": {},
   "outputs": [
    {
     "name": "stdout",
     "output_type": "stream",
     "text": [
      "Stale=False but expected to be True: 1209\n",
      "count    1209.000000\n",
      "mean      116.885856\n",
      "std        19.400115\n",
      "min        91.000000\n",
      "25%       100.000000\n",
      "50%       112.000000\n",
      "75%       130.000000\n",
      "max       166.000000\n",
      "Name: days_since_update, dtype: float64\n",
      "\n",
      "Stale=True but expected to be False: 55\n",
      "count    55.000000\n",
      "mean     76.836364\n",
      "std       2.514872\n",
      "min      69.000000\n",
      "25%      76.000000\n",
      "50%      76.000000\n",
      "75%      78.000000\n",
      "max      89.000000\n",
      "Name: days_since_update, dtype: float64\n"
     ]
    }
   ],
   "source": [
    "# stale=False but expected_stale=True (should have been stale)\n",
    "false_but_should_be_true = df[(df['stale'] == False) & (df['Stale_corrected'] == True)]\n",
    "print(f\"Stale=False but expected to be True: {len(false_but_should_be_true)}\")\n",
    "print(false_but_should_be_true['days_since_update'].describe())\n",
    "\n",
    "print()\n",
    "\n",
    "# stale=True but expected_stale=False (should have been stale)\n",
    "true_but_should_be_false = df[(df['stale'] == True) & (df['Stale_corrected'] == False)]\n",
    "print(f\"Stale=True but expected to be False: {len(true_but_should_be_false)}\")\n",
    "print(true_but_should_be_false['days_since_update'].describe())"
   ]
  },
  {
   "cell_type": "code",
   "execution_count": 114,
   "id": "c852c075",
   "metadata": {},
   "outputs": [],
   "source": [
    "# var olan 'stale' yanlisiklar iceriyor, 'expected_stale' kullanilacak\n",
    "df = df.drop(columns=['stale', 'stale_correct?']) "
   ]
  },
  {
   "cell_type": "code",
   "execution_count": null,
   "id": "f07efc66",
   "metadata": {},
   "outputs": [],
   "source": []
  },
  {
   "cell_type": "code",
   "execution_count": null,
   "id": "f65b228c",
   "metadata": {},
   "outputs": [],
   "source": []
  },
  {
   "cell_type": "code",
   "execution_count": 115,
   "id": "8138aa80",
   "metadata": {},
   "outputs": [
    {
     "name": "stdout",
     "output_type": "stream",
     "text": [
      "startDate                     object\n",
      "endDate                       object\n",
      "createdDate                   object\n",
      "updatedDate           datetime64[ns]\n",
      "listingUpdatedDate            object\n",
      "dtype: object\n"
     ]
    }
   ],
   "source": [
    "print(df[['startDate', 'endDate', 'createdDate', 'updatedDate', 'listingUpdatedDate']].dtypes)"
   ]
  },
  {
   "cell_type": "code",
   "execution_count": 116,
   "id": "97d6b932-b227-45d7-bc0c-061069d0e9bd",
   "metadata": {},
   "outputs": [
    {
     "name": "stdout",
     "output_type": "stream",
     "text": [
      "startDate null değerleri 0\n",
      "endDate null değerleri 2\n",
      "createdDate null değerleri 0\n",
      "updatedDate null değerleri 0\n",
      "listingUpdatedDate null değerleri 0\n"
     ]
    }
   ],
   "source": [
    "print(f\"startDate null değerleri {df['startDate'].isna().sum()}\")\n",
    "print(f\"endDate null değerleri {df['endDate'].isna().sum()}\")\n",
    "print(f\"createdDate null değerleri {df['createdDate'].isna().sum()}\")\n",
    "print(f\"updatedDate null değerleri {df['updatedDate'].isna().sum()}\")\n",
    "print(f\"listingUpdatedDate null değerleri {df['listingUpdatedDate'].isna().sum()}\")"
   ]
  },
  {
   "cell_type": "code",
   "execution_count": 117,
   "id": "cce94239",
   "metadata": {},
   "outputs": [
    {
     "name": "stdout",
     "output_type": "stream",
     "text": [
      "  listingUpdatedDate updatedDate createdDate   startDate     endDate\n",
      "0         2024-11-08  2025-02-07  2024-11-08  2025-02-07  2025-05-08\n",
      "1         2025-01-13  2025-01-13  2024-03-23  2025-01-10  2025-04-13\n",
      "2         2023-09-21  2025-02-05  2023-05-11  2025-02-05  2025-05-06\n",
      "3         2025-02-12  2025-02-12  2024-02-08  2025-02-12  2025-05-13\n",
      "4         2025-02-01  2025-02-01  2025-02-01  2025-02-01  2025-05-02\n"
     ]
    }
   ],
   "source": [
    "import re\n",
    "\n",
    "# Fix function to truncate timezone offset to 4 digits\n",
    "def fix_timezone(s):\n",
    "    return re.sub(r'(\\+\\d{4})\\d*$', r'\\1', s)\n",
    "\n",
    "# Apply the fix and convert to date\n",
    "for col in ['startDate', 'endDate', 'createdDate', 'updatedDate', 'listingUpdatedDate']:\n",
    "    df[col] = df[col].astype(str).apply(fix_timezone)\n",
    "    df[col] = pd.to_datetime(df[col], errors='coerce').dt.date  # use errors='coerce' to handle any remaining bad rows\n",
    "\n",
    "# View result\n",
    "print(df[['listingUpdatedDate','updatedDate', 'createdDate', 'startDate' , 'endDate']].head())"
   ]
  },
  {
   "cell_type": "code",
   "execution_count": 118,
   "id": "202b0450",
   "metadata": {},
   "outputs": [
    {
     "name": "stdout",
     "output_type": "stream",
     "text": [
      "Aynı olan kayıt sayısı: 1226\n",
      "Farklı olan kayıt sayısı: 954\n"
     ]
    }
   ],
   "source": [
    "# Karşılaştırma yap\n",
    "aynilar = df[df['startDate'] == df['createdDate']]\n",
    "farklilar = df[df['startDate'] != df['createdDate']]\n",
    "\n",
    "# Sonuçları yazdır\n",
    "print(f\"Aynı olan kayıt sayısı: {len(aynilar)}\")\n",
    "print(f\"Farklı olan kayıt sayısı: {len(farklilar)}\")\n"
   ]
  },
  {
   "cell_type": "code",
   "execution_count": 119,
   "id": "84abf5c0",
   "metadata": {},
   "outputs": [
    {
     "name": "stdout",
     "output_type": "stream",
     "text": [
      "Aynı olan kayıt sayısı: 1385\n",
      "Farklı olan kayıt sayısı: 795\n"
     ]
    }
   ],
   "source": [
    "# Karşılaştırma yap\n",
    "aynilar = df[df['listingUpdatedDate'] == df['updatedDate']]\n",
    "farklilar = df[df['listingUpdatedDate'] != df['updatedDate']]\n",
    "\n",
    "# Sonuçları yazdır\n",
    "print(f\"Aynı olan kayıt sayısı: {len(aynilar)}\")\n",
    "print(f\"Farklı olan kayıt sayısı: {len(farklilar)}\")"
   ]
  },
  {
   "cell_type": "code",
   "execution_count": 120,
   "id": "3e42d3bd",
   "metadata": {},
   "outputs": [
    {
     "name": "stdout",
     "output_type": "stream",
     "text": [
      "Aynı olan kayıt sayısı: 1386\n",
      "Farklı olan kayıt sayısı: 794\n"
     ]
    }
   ],
   "source": [
    "# Karşılaştırma yap\n",
    "aynilar = df[df['startDate'] == df['updatedDate']]\n",
    "farklilar = df[df['startDate'] != df['updatedDate']]\n",
    "\n",
    "# Sonuçları yazdır\n",
    "print(f\"Aynı olan kayıt sayısı: {len(aynilar)}\")\n",
    "print(f\"Farklı olan kayıt sayısı: {len(farklilar)}\")"
   ]
  },
  {
   "cell_type": "code",
   "execution_count": 121,
   "id": "8777e8e8",
   "metadata": {},
   "outputs": [
    {
     "name": "stdout",
     "output_type": "stream",
     "text": [
      "Aynı olan kayıt sayısı: 905\n",
      "Farklı olan kayıt sayısı: 1275\n"
     ]
    }
   ],
   "source": [
    "# Karşılaştırma yap\n",
    "aynilar = df[df['startDate'] == df['listingUpdatedDate']]\n",
    "farklilar = df[df['startDate'] != df['listingUpdatedDate']]\n",
    "\n",
    "# Sonuçları yazdır\n",
    "print(f\"Aynı olan kayıt sayısı: {len(aynilar)}\")\n",
    "print(f\"Farklı olan kayıt sayısı: {len(farklilar)}\")"
   ]
  },
  {
   "cell_type": "code",
   "execution_count": 122,
   "id": "3c605aa2",
   "metadata": {},
   "outputs": [
    {
     "name": "stdout",
     "output_type": "stream",
     "text": [
      "Aynı olan kayıt sayısı: 793\n",
      "Farklı olan kayıt sayısı: 1387\n"
     ]
    }
   ],
   "source": [
    "# Karşılaştırma yap\n",
    "aynilar = df[df['createdDate'] == df['updatedDate']]\n",
    "farklilar = df[df['createdDate'] != df['updatedDate']]\n",
    "\n",
    "# Sonuçları yazdır\n",
    "print(f\"Aynı olan kayıt sayısı: {len(aynilar)}\")\n",
    "print(f\"Farklı olan kayıt sayısı: {len(farklilar)}\")"
   ]
  },
  {
   "cell_type": "code",
   "execution_count": 123,
   "id": "11ce4017",
   "metadata": {},
   "outputs": [
    {
     "name": "stdout",
     "output_type": "stream",
     "text": [
      "Aynı olan kayıt sayısı: 1357\n",
      "Farklı olan kayıt sayısı: 823\n"
     ]
    }
   ],
   "source": [
    "# Karşılaştırma yap\n",
    "aynilar = df[df['createdDate'] == df['listingUpdatedDate']]\n",
    "farklilar = df[df['createdDate'] != df['listingUpdatedDate']]\n",
    "\n",
    "# Sonuçları yazdır\n",
    "print(f\"Aynı olan kayıt sayısı: {len(aynilar)}\")\n",
    "print(f\"Farklı olan kayıt sayısı: {len(farklilar)}\")"
   ]
  },
  {
   "cell_type": "code",
   "execution_count": 124,
   "id": "30547877-c493-48a9-afe3-3054ea4a6f03",
   "metadata": {},
   "outputs": [
    {
     "data": {
      "text/plain": [
       "count    2177.000000\n",
       "mean       70.789159\n",
       "std       206.355751\n",
       "min         0.000000\n",
       "25%         0.000000\n",
       "50%         0.000000\n",
       "75%        52.000000\n",
       "max      3471.000000\n",
       "Name: DateFarki, dtype: float64"
      ]
     },
     "execution_count": 124,
     "metadata": {},
     "output_type": "execute_result"
    }
   ],
   "source": [
    "# createdDate ve updatedDate sütunlarını datetime formatına çevir\n",
    "df['createdDate'] = pd.to_datetime(df['createdDate'])\n",
    "df['startDate'] = pd.to_datetime(df['startDate'])\n",
    "\n",
    "# DateFarki sütununu oluştur (gün cinsinden fark)\n",
    "df['DateFarki'] = (df['startDate'] - df['createdDate']).dt.days\n",
    "df['DateFarki'].describe()"
   ]
  },
  {
   "cell_type": "code",
   "execution_count": 125,
   "id": "67b7cde6-f8ef-47a1-a79a-0c64c8a07445",
   "metadata": {},
   "outputs": [
    {
     "data": {
      "text/plain": [
       "count    2177.000000\n",
       "mean      -70.789159\n",
       "std       206.355751\n",
       "min     -3471.000000\n",
       "25%       -52.000000\n",
       "50%         0.000000\n",
       "75%         0.000000\n",
       "max         0.000000\n",
       "Name: DateFarki, dtype: float64"
      ]
     },
     "execution_count": 125,
     "metadata": {},
     "output_type": "execute_result"
    }
   ],
   "source": [
    "# createdDate ve updatedDate sütunlarını datetime formatına çevir\n",
    "df['createdDate'] = pd.to_datetime(df['createdDate'])\n",
    "df['startDate'] = pd.to_datetime(df['startDate'])\n",
    "\n",
    "# updateFrequency sütununu oluştur (gün cinsinden fark)\n",
    "df['DateFarki'] = (df['createdDate'] - df['startDate']).dt.days\n",
    "df['DateFarki'].describe()"
   ]
  },
  {
   "cell_type": "markdown",
   "id": "1df83825-f2e7-45d1-8759-f0617627ea00",
   "metadata": {},
   "source": [
    "<h4> ^ startDate createdDate'ten daha yenidir demek </h4>"
   ]
  },
  {
   "cell_type": "code",
   "execution_count": 126,
   "id": "341d8160-fd7c-40ba-a166-415f0ae5808d",
   "metadata": {},
   "outputs": [
    {
     "data": {
      "text/plain": [
       "count    2180.000000\n",
       "mean       38.088991\n",
       "std       121.509556\n",
       "min         0.000000\n",
       "25%         0.000000\n",
       "50%         0.000000\n",
       "75%        17.000000\n",
       "max      1735.000000\n",
       "Name: DateFarki, dtype: float64"
      ]
     },
     "execution_count": 126,
     "metadata": {},
     "output_type": "execute_result"
    }
   ],
   "source": [
    "# createdDate ve updatedDate sütunlarını datetime formatına çevir\n",
    "df['updatedDate'] = pd.to_datetime(df['updatedDate'])\n",
    "df['listingUpdatedDate'] = pd.to_datetime(df['listingUpdatedDate'])\n",
    "\n",
    "# updateFrequency sütununu oluştur (gün cinsinden fark)\n",
    "df['DateFarki'] = (df['updatedDate'] - df['listingUpdatedDate']).dt.days\n",
    "df['DateFarki'].describe()"
   ]
  },
  {
   "cell_type": "code",
   "execution_count": 127,
   "id": "e9a7315f-e680-4999-9ed1-af742b69b6d7",
   "metadata": {},
   "outputs": [
    {
     "data": {
      "text/plain": [
       "count    2180.000000\n",
       "mean      -38.088991\n",
       "std       121.509556\n",
       "min     -1735.000000\n",
       "25%       -17.000000\n",
       "50%         0.000000\n",
       "75%         0.000000\n",
       "max         0.000000\n",
       "Name: DateFarki, dtype: float64"
      ]
     },
     "execution_count": 127,
     "metadata": {},
     "output_type": "execute_result"
    }
   ],
   "source": [
    "# createdDate ve updatedDate sütunlarını datetime formatına çevir\n",
    "df['updatedDate'] = pd.to_datetime(df['updatedDate'])\n",
    "df['listingUpdatedDate'] = pd.to_datetime(df['listingUpdatedDate'])\n",
    "\n",
    "# updateFrequency sütununu oluştur (gün cinsinden fark)\n",
    "df['DateFarki'] = ( df['listingUpdatedDate'] - df['updatedDate']).dt.days\n",
    "df['DateFarki'].describe()"
   ]
  },
  {
   "cell_type": "markdown",
   "id": "94a6d9c2-59d0-48f0-bd47-726e047e50f9",
   "metadata": {},
   "source": [
    "<h4> ^ updatedDate listingUpdatedDate'ten daha yenidir demek </h4>"
   ]
  },
  {
   "cell_type": "markdown",
   "id": "38955d8b",
   "metadata": {},
   "source": [
    "### 📌 Not: `updatedDate` ve `startDate` sütunların kullanımının tercih etme nedeni:\n",
    "\n",
    "Veri setinde `startDate`, `createdDate`, `updatedDate` ve `listingUpdatedDate` olmak üzere 4 farklı tarih sütunu bulunmaktaydı. Yapılan analizler sonucunda:\n",
    "\n",
    "- `startDate` ile `createdDate` sütunlarının büyük ölçüde benzer olduğu,ancak bazı kayıtlarda farklılık gösterdiği,\n",
    "- `startDate` sütunu `createdDate` sütun'den daha yeni olduğu,\n",
    "- `listingUpdatedDate` ile `updatedDate` sütunlarının büyük ölçüde benzer olduğu,ancak bazı kayıtlarda farklılık gösterdiği,\n",
    "- `listingUpdatedDate` sütunu `updatedDate` sütun'den daha yeni olduğu,\n",
    "- `updatedDate` sütununun `startDate` ile yani ilanın oluşturulma tarihi ile çokça benzer değerlere sahip olduğu,\n",
    "- `listingUpdatedDate` sütununun `createdDate` ile yani ilanın oluşturulma tarihi ile çokça benzer değerlere sahip olduğu,\n",
    "\n",
    "Bu nedenle, analizlerde yalnızca **`startDate`** ve **`updatedDate`** sütunu kullanılmaya karar verilmiştir.\n"
   ]
  },
  {
   "cell_type": "code",
   "execution_count": 128,
   "id": "ee0ae2d4",
   "metadata": {},
   "outputs": [],
   "source": [
    "df = df.drop(columns=['DateFarki'])"
   ]
  },
  {
   "cell_type": "code",
   "execution_count": null,
   "id": "96ca1b40",
   "metadata": {},
   "outputs": [],
   "source": []
  },
  {
   "cell_type": "code",
   "execution_count": 129,
   "id": "3d3817f9",
   "metadata": {},
   "outputs": [],
   "source": [
    "df['startDate'] = pd.to_datetime(df['startDate'], errors='coerce')\n",
    "df['endDate'] = pd.to_datetime(df['endDate'], errors='coerce')\n",
    "\n",
    "# startDate ve endDate farkından durationDate sütunu oluştur (gün cinsinden)\n",
    "df['duration'] = (df['endDate'] - df['startDate']).dt.days"
   ]
  },
  {
   "cell_type": "code",
   "execution_count": 130,
   "id": "1e184787",
   "metadata": {},
   "outputs": [
    {
     "data": {
      "text/plain": [
       "0        90.0\n",
       "1        93.0\n",
       "2        90.0\n",
       "3        90.0\n",
       "4        90.0\n",
       "        ...  \n",
       "2175    148.0\n",
       "2176     92.0\n",
       "2177     92.0\n",
       "2178    152.0\n",
       "2179    121.0\n",
       "Name: duration, Length: 2180, dtype: float64"
      ]
     },
     "execution_count": 130,
     "metadata": {},
     "output_type": "execute_result"
    }
   ],
   "source": [
    "df['duration']"
   ]
  },
  {
   "cell_type": "code",
   "execution_count": 131,
   "id": "cca9ebe2",
   "metadata": {},
   "outputs": [
    {
     "data": {
      "text/plain": [
       "7"
      ]
     },
     "execution_count": 131,
     "metadata": {},
     "output_type": "execute_result"
    }
   ],
   "source": [
    "df['duration'].isna().sum()"
   ]
  },
  {
   "cell_type": "code",
   "execution_count": 132,
   "id": "1aac1cd9",
   "metadata": {},
   "outputs": [],
   "source": [
    "# duration sütunundaki boşlukları ortalama ile doldur\n",
    "if 'duration' in df.columns:\n",
    "    mean_duration = df['duration'].mean()\n",
    "    df['duration'] = df['duration'].fillna(mean_duration)"
   ]
  },
  {
   "cell_type": "code",
   "execution_count": 133,
   "id": "3c44ebc1",
   "metadata": {},
   "outputs": [
    {
     "data": {
      "text/plain": [
       "count    2180.000000\n",
       "mean      100.484123\n",
       "std        30.344244\n",
       "min        90.000000\n",
       "25%        90.000000\n",
       "50%        90.000000\n",
       "75%        92.000000\n",
       "max       433.000000\n",
       "Name: duration, dtype: float64"
      ]
     },
     "execution_count": 133,
     "metadata": {},
     "output_type": "execute_result"
    }
   ],
   "source": [
    "df['duration'].describe()"
   ]
  },
  {
   "cell_type": "code",
   "execution_count": 134,
   "id": "9b368154",
   "metadata": {},
   "outputs": [
    {
     "data": {
      "text/plain": [
       "dtype('float64')"
      ]
     },
     "execution_count": 134,
     "metadata": {},
     "output_type": "execute_result"
    }
   ],
   "source": [
    "df['duration'].dtypes"
   ]
  },
  {
   "cell_type": "code",
   "execution_count": 135,
   "id": "4db8e470",
   "metadata": {},
   "outputs": [],
   "source": [
    "# startDate ve endDate sütunlarını kaldır\n",
    "#df = df.drop(['startDate', 'endDate'], axis=1, inplace=False)"
   ]
  },
  {
   "cell_type": "markdown",
   "id": "db84a9a9",
   "metadata": {},
   "source": [
    "### 🔍 Aykırı Değer Tespiti ve Temizlenmesi (Outlier Detection with IQR)\n",
    "\n",
    "\n",
    "-Büyük çoğunluk 90–95 aralığında yoğunlaşmış.\n",
    "-Ancak 150’nin üzerinde ve özellikle 200–400 arasında dikkat çekici sayıda aykırı değer (outlier) var.\n",
    "\n",
    "### 🧮 IQR Yöntemi\n",
    "\n",
    "- **IQR** yalnızca çeyrek dilimlere odaklanır ve bu nedenle veri setinin yapısını daha doğru yansıtır.\n",
    "- **Q1** (25. yüzdelik) ve Q3 (75. yüzdelik) arasındaki fark alınarak hesaplanan IQR sayesinde, veri setindeki normal dağılım dışına çıkan değerler kolaylıkla belirlenebilir.\n",
    "\n",
    "Aykırı değerler, doğrudan silinmek yerine **medyan** ile değiştirildi çünkü:\n",
    "\n",
    "- **Uç** değerlerden etkilenmez, \n",
    "\n",
    "\n",
    "---\n"
   ]
  },
  {
   "cell_type": "code",
   "execution_count": 136,
   "id": "5a3b1bb3",
   "metadata": {},
   "outputs": [
    {
     "data": {
      "image/png": "[encoded data removed]",
      "text/plain": [
       "<Figure size 800x400 with 1 Axes>"
      ]
     },
     "metadata": {},
     "output_type": "display_data"
    }
   ],
   "source": [
    "import matplotlib.pyplot as plt\n",
    "import seaborn as sns\n",
    "\n",
    "plt.figure(figsize=(8, 4))\n",
    "sns.boxplot(x=df['duration'])\n",
    "plt.title(\"Duration Sütunu için Boxplot (Aykırı Değer Görselleştirme)\")\n",
    "plt.show()\n"
   ]
  },
  {
   "cell_type": "code",
   "execution_count": 137,
   "id": "00fc66e6",
   "metadata": {},
   "outputs": [
    {
     "data": {
      "image/png": "[encoded data removed]",
      "text/plain": [
       "<Figure size 640x480 with 1 Axes>"
      ]
     },
     "metadata": {},
     "output_type": "display_data"
    }
   ],
   "source": [
    "import matplotlib.pyplot as plt\n",
    "\n",
    "plt.hist(df['duration'].dropna(), bins=30, edgecolor='black')\n",
    "plt.xlabel(\"Süre (gün)\")\n",
    "plt.ylabel(\"Kayıt Sayısı\")\n",
    "plt.title(\"İlan Süre Dağılımı\")\n",
    "plt.show()\n"
   ]
  },
  {
   "cell_type": "code",
   "execution_count": null,
   "id": "6c64f324-8023-4be3-818d-a0d4270a8501",
   "metadata": {},
   "outputs": [],
   "source": []
  },
  {
   "cell_type": "code",
   "execution_count": 138,
   "id": "f3228e9d-140f-483f-8374-61f3bbb7dc6c",
   "metadata": {},
   "outputs": [
    {
     "name": "stdout",
     "output_type": "stream",
     "text": [
      "  createdDate listingUpdatedDate  updateFrequency\n",
      "0  2024-11-08         2024-11-08                0\n",
      "1  2024-03-23         2025-01-13              296\n",
      "2  2023-05-11         2023-09-21              133\n",
      "3  2024-02-08         2025-02-12              370\n",
      "4  2025-02-01         2025-02-01                0\n",
      "\n"
     ]
    },
    {
     "data": {
      "text/plain": [
       "count    2180.000000\n",
       "mean       45.565138\n",
       "std       161.201853\n",
       "min         0.000000\n",
       "25%         0.000000\n",
       "50%         0.000000\n",
       "75%        22.000000\n",
       "max      3469.000000\n",
       "Name: updateFrequency, dtype: float64"
      ]
     },
     "execution_count": 138,
     "metadata": {},
     "output_type": "execute_result"
    }
   ],
   "source": [
    "# createdDate ve updatedDate sütunlarını datetime formatına çevir\n",
    "df['createdDate'] = pd.to_datetime(df['createdDate'])\n",
    "df['listingUpdatedDate'] = pd.to_datetime(df['listingUpdatedDate'])\n",
    "\n",
    "# updateFrequency sütununu oluştur (gün cinsinden fark)\n",
    "df['updateFrequency'] = (df['listingUpdatedDate'] - df['createdDate']).dt.days\n",
    "\n",
    "# İlk birkaç satırı kontrol et\n",
    "print(df[['createdDate', 'listingUpdatedDate', 'updateFrequency']].head())\n",
    "print()\n",
    "df['updateFrequency'].describe()"
   ]
  },
  {
   "cell_type": "code",
   "execution_count": 139,
   "id": "277b323d-1ed1-4c8d-9d36-17e86ea9b0ff",
   "metadata": {},
   "outputs": [
    {
     "name": "stdout",
     "output_type": "stream",
     "text": [
      "   startDate listingUpdatedDate  updateFrequency\n",
      "0 2025-02-07         2024-11-08            -91.0\n",
      "1 2025-01-10         2025-01-13              3.0\n",
      "2 2025-02-05         2023-09-21           -503.0\n",
      "3 2025-02-12         2025-02-12              0.0\n",
      "4 2025-02-01         2025-02-01              0.0\n",
      "\n"
     ]
    },
    {
     "data": {
      "text/plain": [
       "count    2177.000000\n",
       "mean      -25.224621\n",
       "std       127.669152\n",
       "min     -1735.000000\n",
       "25%        -6.000000\n",
       "50%         0.000000\n",
       "75%         2.000000\n",
       "max       343.000000\n",
       "Name: updateFrequency, dtype: float64"
      ]
     },
     "execution_count": 139,
     "metadata": {},
     "output_type": "execute_result"
    }
   ],
   "source": [
    "# createdDate ve updatedDate sütunlarını datetime formatına çevir\n",
    "df['startDate'] = pd.to_datetime(df['startDate'])\n",
    "df['listingUpdatedDate'] = pd.to_datetime(df['listingUpdatedDate'])\n",
    "\n",
    "# updateFrequency sütununu oluştur (gün cinsinden fark)\n",
    "df['updateFrequency'] = (df['listingUpdatedDate'] - df['startDate']).dt.days\n",
    "\n",
    "# İlk birkaç satırı kontrol et\n",
    "print(df[['startDate', 'listingUpdatedDate', 'updateFrequency']].head())\n",
    "print()\n",
    "df['updateFrequency'].describe()"
   ]
  },
  {
   "cell_type": "code",
   "execution_count": 140,
   "id": "93f29d3b-6f2e-44ac-9f00-46485b2f7008",
   "metadata": {},
   "outputs": [
    {
     "name": "stdout",
     "output_type": "stream",
     "text": [
      "  createdDate updatedDate  updateFrequency\n",
      "0  2024-11-08  2025-02-07               91\n",
      "1  2024-03-23  2025-01-13              296\n",
      "2  2023-05-11  2025-02-05              636\n",
      "3  2024-02-08  2025-02-12              370\n",
      "4  2025-02-01  2025-02-01                0\n",
      "\n"
     ]
    },
    {
     "data": {
      "text/plain": [
       "count    2180.000000\n",
       "mean       83.654128\n",
       "std       209.903019\n",
       "min         0.000000\n",
       "25%         0.000000\n",
       "50%        11.000000\n",
       "75%        86.000000\n",
       "max      3471.000000\n",
       "Name: updateFrequency, dtype: float64"
      ]
     },
     "execution_count": 140,
     "metadata": {},
     "output_type": "execute_result"
    }
   ],
   "source": [
    "# createdDate ve updatedDate sütunlarını datetime formatına çevir\n",
    "df['createdDate'] = pd.to_datetime(df['createdDate'])\n",
    "df['updatedDate'] = pd.to_datetime(df['updatedDate'])\n",
    "\n",
    "# updateFrequency sütununu oluştur (gün cinsinden fark)\n",
    "df['updateFrequency'] = (df['updatedDate'] - df['createdDate']).dt.days\n",
    "\n",
    "# İlk birkaç satırı kontrol et\n",
    "print(df[['createdDate', 'updatedDate', 'updateFrequency']].head())\n",
    "print()\n",
    "df['updateFrequency'].describe()"
   ]
  },
  {
   "cell_type": "code",
   "execution_count": 141,
   "id": "0d72edd1-96c7-4c2d-847e-8abeba7b0c06",
   "metadata": {},
   "outputs": [
    {
     "name": "stdout",
     "output_type": "stream",
     "text": [
      "   startDate updatedDate  updateFrequency\n",
      "0 2025-02-07  2025-02-07              0.0\n",
      "1 2025-01-10  2025-01-13              3.0\n",
      "2 2025-02-05  2025-02-05              0.0\n",
      "3 2025-02-12  2025-02-12              0.0\n",
      "4 2025-02-01  2025-02-01              0.0\n",
      "\n"
     ]
    },
    {
     "data": {
      "text/plain": [
       "count    2177.000000\n",
       "mean       12.906752\n",
       "std        31.664951\n",
       "min         0.000000\n",
       "25%         0.000000\n",
       "50%         0.000000\n",
       "75%         9.000000\n",
       "max       343.000000\n",
       "Name: updateFrequency, dtype: float64"
      ]
     },
     "execution_count": 141,
     "metadata": {},
     "output_type": "execute_result"
    }
   ],
   "source": [
    "# createdDate ve updatedDate sütunlarını datetime formatına çevir\n",
    "df['startDate'] = pd.to_datetime(df['startDate'])\n",
    "df['updatedDate'] = pd.to_datetime(df['updatedDate'])\n",
    "\n",
    "# updateFrequency sütununu oluştur (gün cinsinden fark)\n",
    "df['updateFrequency'] = (df['updatedDate'] - df['startDate']).dt.days\n",
    "\n",
    "# İlk birkaç satırı kontrol et\n",
    "print(df[['startDate', 'updatedDate', 'updateFrequency']].head())\n",
    "print()\n",
    "df['updateFrequency'].describe()"
   ]
  },
  {
   "cell_type": "code",
   "execution_count": 142,
   "id": "24c3de8c-ef4a-4f8f-93b4-6cabe60ba630",
   "metadata": {},
   "outputs": [
    {
     "data": {
      "text/plain": [
       "count    2177.000000\n",
       "mean       12.906752\n",
       "std        31.664951\n",
       "min         0.000000\n",
       "25%         0.000000\n",
       "50%         0.000000\n",
       "75%         9.000000\n",
       "max       343.000000\n",
       "Name: updateFrequency, dtype: float64"
      ]
     },
     "execution_count": 142,
     "metadata": {},
     "output_type": "execute_result"
    }
   ],
   "source": [
    "#'updatedDate' ile 'startDate' kullanılacak\n",
    "df['updateFrequency'].describe()"
   ]
  },
  {
   "cell_type": "code",
   "execution_count": 143,
   "id": "b0a8eaf2-cdf9-4ddf-85ec-8f7b62eac99a",
   "metadata": {},
   "outputs": [
    {
     "data": {
      "text/plain": [
       "dtype('float64')"
      ]
     },
     "execution_count": 143,
     "metadata": {},
     "output_type": "execute_result"
    }
   ],
   "source": [
    "df['updateFrequency'].dtypes"
   ]
  },
  {
   "cell_type": "code",
   "execution_count": 144,
   "id": "aa2594bb-c802-4f15-a342-2126ff124f7a",
   "metadata": {},
   "outputs": [
    {
     "data": {
      "text/plain": [
       "3"
      ]
     },
     "execution_count": 144,
     "metadata": {},
     "output_type": "execute_result"
    }
   ],
   "source": [
    "df['updateFrequency'].isna().sum()"
   ]
  },
  {
   "cell_type": "code",
   "execution_count": 145,
   "id": "b31656da-179a-4820-8824-4014d4e35bcd",
   "metadata": {},
   "outputs": [
    {
     "data": {
      "text/plain": [
       "3"
      ]
     },
     "execution_count": 145,
     "metadata": {},
     "output_type": "execute_result"
    }
   ],
   "source": [
    "# updateFrequency sütunundaki 0 degerleri medyan ile doldur\n",
    "if 'updateFrequency' in df.columns:\n",
    "    median_update = df.loc[df['updateFrequency'] != 0, 'updateFrequency'].median()\n",
    "    df.loc[df['updateFrequency'] == 0, 'updateFrequency'] = median_update\n",
    "    \n",
    "df['updateFrequency'].isna().sum()"
   ]
  },
  {
   "cell_type": "code",
   "execution_count": 146,
   "id": "be37004d-7250-475e-9181-3d71ed63dd88",
   "metadata": {},
   "outputs": [],
   "source": [
    "# Stale sutünü yeterlı oldugundan dolayı updateFrequency'e gerek yok\n",
    "df=df.drop(columns=['updateFrequency'])  "
   ]
  },
  {
   "cell_type": "code",
   "execution_count": 147,
   "id": "92bf1f8e-3f31-47bf-a056-7aa47338974c",
   "metadata": {},
   "outputs": [],
   "source": [
    "df = df.drop(columns=['endDate','startDate','createdDate','updatedDate','listingUpdatedDate'])"
   ]
  },
  {
   "cell_type": "code",
   "execution_count": 148,
   "id": "8a7b6f59",
   "metadata": {},
   "outputs": [
    {
     "name": "stdout",
     "output_type": "stream",
     "text": [
      "   duration  days_since_update  Stale_corrected\n",
      "0      90.0                100             True\n",
      "1      93.0                125             True\n",
      "2      90.0                102             True\n",
      "3      90.0                 95             True\n",
      "4      90.0                106             True\n"
     ]
    }
   ],
   "source": [
    "# Tarih sutünlerinden çıkadığımız anlamlı sutünler:\n",
    "print(df[['duration', 'days_since_update', 'Stale_corrected']].head())"
   ]
  },
  {
   "cell_type": "code",
   "execution_count": 149,
   "id": "49c00e06",
   "metadata": {},
   "outputs": [],
   "source": [
    "#################################################"
   ]
  },
  {
   "cell_type": "code",
   "execution_count": null,
   "id": "ffd91173",
   "metadata": {},
   "outputs": [],
   "source": []
  },
  {
   "cell_type": "code",
   "execution_count": null,
   "id": "32362dd1",
   "metadata": {},
   "outputs": [],
   "source": []
  },
  {
   "cell_type": "markdown",
   "id": "30c2d83f",
   "metadata": {},
   "source": [
    "- Tüm metinleri **küçük harfe** çevirir.  \n",
    "\n",
    "- Metinlerin **başında veya sonunda bulunan gereksiz boşlukları** temizler.  \n"
   ]
  },
  {
   "cell_type": "code",
   "execution_count": 150,
   "id": "61486953",
   "metadata": {},
   "outputs": [],
   "source": [
    "for col in ['areas', 'district', 'county', 'city']:\n",
    "    df[col] = df[col].str.lower().str.strip()"
   ]
  },
  {
   "cell_type": "code",
   "execution_count": 151,
   "id": "c55caf8d",
   "metadata": {},
   "outputs": [
    {
     "name": "stdout",
     "output_type": "stream",
     "text": [
      "areas           1\n",
      "district        0\n",
      "county          0\n",
      "city            0\n",
      "mapLocation     0\n",
      "isMapHidden     0\n",
      "streetView     77\n",
      "dtype: int64\n"
     ]
    }
   ],
   "source": [
    "columns_to_check = ['areas', 'district', 'county', 'city', 'mapLocation', 'isMapHidden', 'streetView']\n",
    "\n",
    "null_counts = df[columns_to_check].isnull().sum()\n",
    "\n",
    "print(null_counts)\n"
   ]
  },
  {
   "cell_type": "code",
   "execution_count": 152,
   "id": "1fe0dcbe",
   "metadata": {},
   "outputs": [
    {
     "data": {
      "text/html": [
       "<div>\n",
       "<style scoped>\n",
       "    .dataframe tbody tr th:only-of-type {\n",
       "        vertical-align: middle;\n",
       "    }\n",
       "\n",
       "    .dataframe tbody tr th {\n",
       "        vertical-align: top;\n",
       "    }\n",
       "\n",
       "    .dataframe thead th {\n",
       "        text-align: right;\n",
       "    }\n",
       "</style>\n",
       "<table border=\"1\" class=\"dataframe\">\n",
       "  <thead>\n",
       "    <tr style=\"text-align: right;\">\n",
       "      <th></th>\n",
       "      <th>areas</th>\n",
       "      <th>district</th>\n",
       "      <th>county</th>\n",
       "      <th>city</th>\n",
       "      <th>mapLocation</th>\n",
       "      <th>isMapHidden</th>\n",
       "      <th>streetView</th>\n",
       "    </tr>\n",
       "  </thead>\n",
       "  <tbody>\n",
       "    <tr>\n",
       "      <th>0</th>\n",
       "      <td>[{\"id\":1055,\"name\":\"i̇stiklal\"}]</td>\n",
       "      <td>{\"id\":15148,\"name\":\"kurtuluş\",\"tier\":2}</td>\n",
       "      <td>{\"id\":2068,\"name\":\"adapazarı\",\"tier\":2}</td>\n",
       "      <td>{\"id\":54,\"name\":\"sakarya\",\"tier\":2}</td>\n",
       "      <td>{\"lat\":40.78177696011071,\"lon\":30.400175993150...</td>\n",
       "      <td>False</td>\n",
       "      <td>False</td>\n",
       "    </tr>\n",
       "    <tr>\n",
       "      <th>1</th>\n",
       "      <td>[{\"id\":5451,\"name\":\"diğer\"}]</td>\n",
       "      <td>{\"id\":15223,\"name\":\"yalı\",\"tier\":2}</td>\n",
       "      <td>{\"id\":1442,\"name\":\"karasu\",\"tier\":2}</td>\n",
       "      <td>{\"id\":54,\"name\":\"sakarya\",\"tier\":2}</td>\n",
       "      <td>{\"lat\":41.10962272499753,\"lon\":30.692469430880...</td>\n",
       "      <td>False</td>\n",
       "      <td>False</td>\n",
       "    </tr>\n",
       "    <tr>\n",
       "      <th>2</th>\n",
       "      <td>[{\"id\":5371,\"name\":\"diğer\"},{\"id\":6180,\"name\":...</td>\n",
       "      <td>{\"id\":97323,\"name\":\"kırkpınar soğuksu\",\"tier\":3}</td>\n",
       "      <td>{\"id\":1595,\"name\":\"sapanca\",\"tier\":3}</td>\n",
       "      <td>{\"id\":54,\"name\":\"sakarya\",\"tier\":2}</td>\n",
       "      <td>{\"lat\":40.701133631737555,\"lon\":30.21435713528...</td>\n",
       "      <td>False</td>\n",
       "      <td>False</td>\n",
       "    </tr>\n",
       "    <tr>\n",
       "      <th>3</th>\n",
       "      <td>[{\"id\":5451,\"name\":\"diğer\"}]</td>\n",
       "      <td>{\"id\":15224,\"name\":\"kabakoz\",\"tier\":2}</td>\n",
       "      <td>{\"id\":1442,\"name\":\"karasu\",\"tier\":2}</td>\n",
       "      <td>{\"id\":54,\"name\":\"sakarya\",\"tier\":2}</td>\n",
       "      <td>{\"lat\":41.10212238429355,\"lon\":30.681114194206...</td>\n",
       "      <td>False</td>\n",
       "      <td>False</td>\n",
       "    </tr>\n",
       "    <tr>\n",
       "      <th>4</th>\n",
       "      <td>[{\"id\":5617,\"name\":\"diğer\"}]</td>\n",
       "      <td>{\"id\":17452,\"name\":\"yayla\",\"tier\":4}</td>\n",
       "      <td>{\"id\":1818,\"name\":\"kocaali\",\"tier\":4}</td>\n",
       "      <td>{\"id\":54,\"name\":\"sakarya\",\"tier\":2}</td>\n",
       "      <td>{\"lat\":41.07494321848645,\"lon\":30.85647390116245}</td>\n",
       "      <td>False</td>\n",
       "      <td>False</td>\n",
       "    </tr>\n",
       "  </tbody>\n",
       "</table>\n",
       "</div>"
      ],
      "text/plain": [
       "                                               areas  \\\n",
       "0                   [{\"id\":1055,\"name\":\"i̇stiklal\"}]   \n",
       "1                       [{\"id\":5451,\"name\":\"diğer\"}]   \n",
       "2  [{\"id\":5371,\"name\":\"diğer\"},{\"id\":6180,\"name\":...   \n",
       "3                       [{\"id\":5451,\"name\":\"diğer\"}]   \n",
       "4                       [{\"id\":5617,\"name\":\"diğer\"}]   \n",
       "\n",
       "                                           district  \\\n",
       "0           {\"id\":15148,\"name\":\"kurtuluş\",\"tier\":2}   \n",
       "1               {\"id\":15223,\"name\":\"yalı\",\"tier\":2}   \n",
       "2  {\"id\":97323,\"name\":\"kırkpınar soğuksu\",\"tier\":3}   \n",
       "3            {\"id\":15224,\"name\":\"kabakoz\",\"tier\":2}   \n",
       "4              {\"id\":17452,\"name\":\"yayla\",\"tier\":4}   \n",
       "\n",
       "                                    county  \\\n",
       "0  {\"id\":2068,\"name\":\"adapazarı\",\"tier\":2}   \n",
       "1     {\"id\":1442,\"name\":\"karasu\",\"tier\":2}   \n",
       "2    {\"id\":1595,\"name\":\"sapanca\",\"tier\":3}   \n",
       "3     {\"id\":1442,\"name\":\"karasu\",\"tier\":2}   \n",
       "4    {\"id\":1818,\"name\":\"kocaali\",\"tier\":4}   \n",
       "\n",
       "                                  city  \\\n",
       "0  {\"id\":54,\"name\":\"sakarya\",\"tier\":2}   \n",
       "1  {\"id\":54,\"name\":\"sakarya\",\"tier\":2}   \n",
       "2  {\"id\":54,\"name\":\"sakarya\",\"tier\":2}   \n",
       "3  {\"id\":54,\"name\":\"sakarya\",\"tier\":2}   \n",
       "4  {\"id\":54,\"name\":\"sakarya\",\"tier\":2}   \n",
       "\n",
       "                                         mapLocation  isMapHidden streetView  \n",
       "0  {\"lat\":40.78177696011071,\"lon\":30.400175993150...        False      False  \n",
       "1  {\"lat\":41.10962272499753,\"lon\":30.692469430880...        False      False  \n",
       "2  {\"lat\":40.701133631737555,\"lon\":30.21435713528...        False      False  \n",
       "3  {\"lat\":41.10212238429355,\"lon\":30.681114194206...        False      False  \n",
       "4  {\"lat\":41.07494321848645,\"lon\":30.85647390116245}        False      False  "
      ]
     },
     "execution_count": 152,
     "metadata": {},
     "output_type": "execute_result"
    }
   ],
   "source": [
    "df[columns_to_check].head()"
   ]
  },
  {
   "cell_type": "code",
   "execution_count": 153,
   "id": "325b4e12",
   "metadata": {},
   "outputs": [
    {
     "name": "stdout",
     "output_type": "stream",
     "text": [
      "areas          object\n",
      "district       object\n",
      "county         object\n",
      "city           object\n",
      "mapLocation    object\n",
      "isMapHidden      bool\n",
      "streetView     object\n",
      "dtype: object\n"
     ]
    }
   ],
   "source": [
    "types = df[columns_to_check].dtypes\n",
    "\n",
    "print(types)"
   ]
  },
  {
   "cell_type": "code",
   "execution_count": 154,
   "id": "f9645204",
   "metadata": {},
   "outputs": [],
   "source": [
    "# Tekil JSON parse (district, county, city)\n",
    "def parse_single_json(val):\n",
    "    if pd.notnull(val):\n",
    "        obj = json.loads(val)\n",
    "        return obj.get('name').lower().strip()\n",
    "    else:\n",
    "        return None\n",
    "\n",
    "# Liste JSON parse (areas)\n",
    "def parse_list_json(val):\n",
    "    if pd.notnull(val):\n",
    "        obj_list = json.loads(val)\n",
    "        if isinstance(obj_list, list) and len(obj_list) > 0:\n",
    "            return obj_list[0]['name'].lower().strip()  # ilk area'yı al\n",
    "        else:\n",
    "            return None\n",
    "    else:\n",
    "        return None\n",
    "\n",
    "# Uygulama\n",
    "df['area_name'] = df['areas'].apply(parse_list_json)\n",
    "df['district_name'] = df['district'].apply(parse_single_json)\n",
    "df['county_name'] = df['county'].apply(parse_single_json)\n",
    "df['city_name'] = df['city'].apply(parse_single_json)\n"
   ]
  },
  {
   "cell_type": "code",
   "execution_count": 155,
   "id": "f85bc6dd",
   "metadata": {},
   "outputs": [
    {
     "name": "stdout",
     "output_type": "stream",
     "text": [
      "   area_name      district_name county_name city_name\n",
      "0  i̇stiklal           kurtuluş   adapazarı   sakarya\n",
      "1      diğer               yalı      karasu   sakarya\n",
      "2      diğer  kırkpınar soğuksu     sapanca   sakarya\n",
      "3      diğer            kabakoz      karasu   sakarya\n",
      "4      diğer              yayla     kocaali   sakarya\n"
     ]
    }
   ],
   "source": [
    "print(df[['area_name', 'district_name', 'county_name', 'city_name']].head())\n"
   ]
  },
  {
   "cell_type": "code",
   "execution_count": null,
   "id": "73d869e4",
   "metadata": {},
   "outputs": [],
   "source": []
  },
  {
   "cell_type": "code",
   "execution_count": 156,
   "id": "1a968551",
   "metadata": {},
   "outputs": [
    {
     "name": "stdout",
     "output_type": "stream",
     "text": [
      "area_name        78\n",
      "district_name     0\n",
      "county_name       0\n",
      "city_name         0\n",
      "dtype: int64\n"
     ]
    }
   ],
   "source": [
    "print(df[['area_name', 'district_name', 'county_name', 'city_name']].isna().sum())"
   ]
  },
  {
   "cell_type": "code",
   "execution_count": 157,
   "id": "a20f992d",
   "metadata": {},
   "outputs": [],
   "source": [
    "\n",
    "import unicodedata\n",
    "# Varsayalım area_name sütunun var\n",
    "df['area_name'] = df['area_name'].astype(str).str.lower()\n",
    "\n",
    "# Türkçe karakterleri normalize edelim ve boşlukları temizleyelim\n",
    "def normalize_text(text):\n",
    "    text = unicodedata.normalize('NFKD', text).encode('ascii', 'ignore').decode('utf-8')\n",
    "    return text.strip().replace(\" \", \"\")\n",
    "\n",
    "df['area_name'] = df['area_name'].apply(normalize_text)\n",
    "\n",
    "# Yaygın yanlışları düzeltelim\n",
    "df['area_name'] = df['area_name'].replace({\n",
    "    'diger': 'diger',\n",
    "    'diğer': 'diger',\n",
    "    'di�er': 'diger',\n",
    "    'i̇stiklal': 'istiklal',\n",
    "    'istiklal': 'istiklal',\n",
    "    'kirsalmahalle': 'kirsalmah',\n",
    "    'kirsal mahalle': 'kirsalmah',\n",
    "    'kırsal mahalle': 'kirsalmah',\n",
    "    'tigcilar': 'tigcilar',\n",
    "    'tığcılar': 'tigcilar',\n",
    "    'serdivanmerkez': 'serdivanmerkez',\n",
    "    'sapancamerkez': 'sapancamerkez',\n",
    "    'akyazimerkez': 'akyazimerkez',\n",
    "    'erenlermerkez': 'erenlermerkez',\n",
    "    'arifiyemerkez': 'arifiyemerkez',\n",
    "})\n",
    "\n",
    "# NaN varsa doldur (isteğe bağlı)\n",
    "df['area_name'] = df['area_name'].replace('nan', np.nan)\n",
    "df['area_name'] = df['area_name'].fillna('bilinmiyor')"
   ]
  },
  {
   "cell_type": "code",
   "execution_count": null,
   "id": "bcb87bf5",
   "metadata": {},
   "outputs": [],
   "source": []
  },
  {
   "cell_type": "code",
   "execution_count": null,
   "id": "5a608d6d",
   "metadata": {},
   "outputs": [],
   "source": []
  },
  {
   "cell_type": "code",
   "execution_count": 158,
   "id": "f51eadfb",
   "metadata": {},
   "outputs": [
    {
     "data": {
      "text/plain": [
       "county_name\n",
       "karasu        888\n",
       "kocaali       339\n",
       "adapazarı     275\n",
       "serdivan      219\n",
       "sapanca       159\n",
       "arifiye        58\n",
       "erenler        46\n",
       "hendek         42\n",
       "pamukova       38\n",
       "geyve          34\n",
       "akyazı         30\n",
       "kaynarca       11\n",
       "ferizli        10\n",
       "taraklı         9\n",
       "söğütlü         8\n",
       "adapazari       8\n",
       "karapürçek      1\n",
       "silivri         1\n",
       "ergene          1\n",
       "pınarhisar      1\n",
       "karap�r�ek      1\n",
       "akyazi          1\n",
       "Name: count, dtype: int64"
      ]
     },
     "execution_count": 158,
     "metadata": {},
     "output_type": "execute_result"
    }
   ],
   "source": [
    "df['county_name'].value_counts()"
   ]
  },
  {
   "cell_type": "code",
   "execution_count": 159,
   "id": "f962af91",
   "metadata": {},
   "outputs": [],
   "source": [
    "# Gereksiz satırları kaldır\n",
    "df = df[~df['county_name'].isin(['silivri', 'ergene', 'pınarhisar'])]\n",
    "\n",
    "# Karakter bozukluğu olan ismi düzelt\n",
    "df['county_name'] = df['county_name'].replace({'karap�r�ek': 'karapürçek'})\n",
    " "
   ]
  },
  {
   "cell_type": "code",
   "execution_count": 160,
   "id": "3c541564",
   "metadata": {},
   "outputs": [
    {
     "data": {
      "text/plain": [
       "county_name\n",
       "karasu        888\n",
       "kocaali       339\n",
       "adapazarı     275\n",
       "serdivan      219\n",
       "sapanca       159\n",
       "arifiye        58\n",
       "erenler        46\n",
       "hendek         42\n",
       "pamukova       38\n",
       "geyve          34\n",
       "akyazı         30\n",
       "kaynarca       11\n",
       "ferizli        10\n",
       "taraklı         9\n",
       "söğütlü         8\n",
       "adapazari       8\n",
       "karapürçek      2\n",
       "akyazi          1\n",
       "Name: count, dtype: int64"
      ]
     },
     "execution_count": 160,
     "metadata": {},
     "output_type": "execute_result"
    }
   ],
   "source": [
    "df['county_name'].value_counts()"
   ]
  },
  {
   "cell_type": "code",
   "execution_count": 161,
   "id": "796f3f90",
   "metadata": {},
   "outputs": [
    {
     "data": {
      "text/plain": [
       "city_name\n",
       "sakarya    2177\n",
       "Name: count, dtype: int64"
      ]
     },
     "execution_count": 161,
     "metadata": {},
     "output_type": "execute_result"
    }
   ],
   "source": [
    "df['city_name'].value_counts()"
   ]
  },
  {
   "cell_type": "code",
   "execution_count": 162,
   "id": "076e453c",
   "metadata": {},
   "outputs": [],
   "source": [
    "import json\n",
    "\n",
    "# Tekil JSON (district, county, city) için tier alma\n",
    "def parse_single_json_tier(val):\n",
    "    if pd.notnull(val):\n",
    "        obj = json.loads(val)\n",
    "        return obj.get('tier')\n",
    "    return None\n",
    "\n",
    "# Liste JSON (areas) için tier alma (ilk elemanı baz alır)\n",
    "def parse_list_json_tier(val):\n",
    "    if pd.notnull(val):\n",
    "        obj_list = json.loads(val)\n",
    "        if isinstance(obj_list, list) and len(obj_list) > 0:\n",
    "            return obj_list[0].get('tier')\n",
    "    return None\n",
    "\n",
    "# Uygulama\n",
    "df['district_tier'] = df['district'].apply(parse_single_json_tier)\n",
    "df['county_tier'] = df['county'].apply(parse_single_json_tier)\n"
   ]
  },
  {
   "cell_type": "code",
   "execution_count": 163,
   "id": "048a716a",
   "metadata": {},
   "outputs": [
    {
     "name": "stdout",
     "output_type": "stream",
     "text": [
      "district_tier    0\n",
      "county_tier      0\n",
      "dtype: int64\n"
     ]
    }
   ],
   "source": [
    "print(df[['district_tier', 'county_tier']].isna().sum())"
   ]
  },
  {
   "cell_type": "code",
   "execution_count": 164,
   "id": "96cf12ed",
   "metadata": {},
   "outputs": [
    {
     "name": "stdout",
     "output_type": "stream",
     "text": [
      "Aynı değere sahip olanlar: 2177\n",
      "Farklı değere sahip olanlar: 0\n"
     ]
    }
   ],
   "source": [
    "# Her ikisi de dolu olup aynı olanlar\n",
    "both_equal = df[\n",
    "    df['district_tier'].notna() & \n",
    "    df['county_tier'].notna() & \n",
    "    (df['district_tier'] == df['county_tier'])\n",
    "]\n",
    "print(f\"Aynı değere sahip olanlar: {len(both_equal)}\")\n",
    "\n",
    "# Her ikisi de dolu olup farklı olanlar\n",
    "both_different = df[\n",
    "    df['district_tier'].notna() & \n",
    "    df['county_tier'].notna() & \n",
    "    (df['district_tier'] != df['county_tier'])\n",
    "]\n",
    "print(f\"Farklı değere sahip olanlar: {len(both_different)}\")\n"
   ]
  },
  {
   "cell_type": "code",
   "execution_count": 165,
   "id": "d862460e",
   "metadata": {},
   "outputs": [],
   "source": [
    "# district_tier sütununu sil\n",
    "df = df.drop(columns='district_tier')\n",
    "\n",
    "# county_tier sütununu 'tier' olarak yeniden adlandır\n",
    "df = df.rename(columns={'county_tier': 'tier'})\n"
   ]
  },
  {
   "cell_type": "code",
   "execution_count": null,
   "id": "3cbe3cf1",
   "metadata": {},
   "outputs": [],
   "source": []
  },
  {
   "cell_type": "code",
   "execution_count": 166,
   "id": "16282cda",
   "metadata": {},
   "outputs": [],
   "source": [
    "def extract_lat_lon(val):\n",
    "    if pd.notnull(val):\n",
    "        loc = json.loads(val)\n",
    "        return pd.Series([loc.get('lat'), loc.get('lon')])\n",
    "    else:\n",
    "        return pd.Series([None, None])\n",
    "\n",
    "df[['latitude', 'longitude']] = df['mapLocation'].apply(extract_lat_lon)\n",
    "#mapLocation'dan latitude ve longitude çıkararak koordinat ayırmak."
   ]
  },
  {
   "cell_type": "markdown",
   "id": "c0312f1a",
   "metadata": {},
   "source": [
    "### Sakarya Merkezine Olan Mesafenin Hesaplanması\n",
    "\n",
    "veri setindeki her bir ilan (satır) için Sakarya şehir merkezine olan uzaklığı kilometre cinsinden hesaplar ve bu değeri yeni bir sütun olarak veri çerçevesine ekler:\n",
    "\n",
    "- Her bir satırda bulunan **`latitude` (enlem)** ve **`longitude` (boylam)** bilgileri alınır.\n",
    "- Eğer bu iki bilgi **eksik değilse** (`pd.notnull` ile kontrol edilir):\n",
    "  - `geopy` kütüphanesinin `geodesic()` fonksiyonu kullanılarak, Sakarya şehir merkezinin koordinatları (`40.7808`, `30.4036`) ile ilan konumu arasındaki **coğrafi mesafe** kilometre cinsinden hesaplanır.\n",
    "- Eğer koordinat bilgileri **eksikse**, mesafe değeri olarak `None` (boş değer) atanır.\n",
    "- Hesaplanan mesafeler, `distance_to_center_km` adlı yeni bir sütun olarak DataFrame'e eklenir.\n"
   ]
  },
  {
   "cell_type": "code",
   "execution_count": 167,
   "id": "757dbd80",
   "metadata": {},
   "outputs": [
    {
     "name": "stdout",
     "output_type": "stream",
     "text": [
      "  area_name  distance_to_sakarya_center_km sakarya_center_category  \\\n",
      "0  istiklal                       0.308721                  0-5 km   \n",
      "1     diger                      43.876305                  20+ km   \n",
      "2     diger                      18.269098                10-20 km   \n",
      "3     diger                      42.655024                  20+ km   \n",
      "4     diger                      50.219380                  20+ km   \n",
      "\n",
      "   distance_to_karasu_km karasu_category  distance_to_sapanca_km  \\\n",
      "0             105.514260          20+ km               27.534329   \n",
      "1              78.167696          20+ km               67.712763   \n",
      "2             113.578168          20+ km               10.559525   \n",
      "3              78.441318          20+ km               66.446416   \n",
      "4              88.809634          20+ km               76.496409   \n",
      "\n",
      "  sapanca_category  distance_to_sakarya_university_km  \\\n",
      "0           20+ km                           1.258536   \n",
      "1           20+ km                          43.840884   \n",
      "2         10-20 km                          18.767915   \n",
      "3           20+ km                          42.627278   \n",
      "4           20+ km                          49.925740   \n",
      "\n",
      "  sakarya_university_category  \n",
      "0                      0-5 km  \n",
      "1                      20+ km  \n",
      "2                    10-20 km  \n",
      "3                      20+ km  \n",
      "4                      20+ km  \n"
     ]
    }
   ],
   "source": [
    "# Koordinatlar\n",
    "sakarya_center = (40.7808, 30.4036)  # Sakarya merkezi\n",
    "karasu_sahili = (41.7237, 30.2356)  # Karasu sahili\n",
    "sapanca_golu = (40.7064, 30.0896)  # Sapanca Gölü\n",
    "sakarya_university = (40.7764, 30.4133)  # Sakarya Üniversitesi\n",
    "\n",
    "# Mesafe hesaplama fonksiyonu\n",
    "def distance_to_location(row, location):\n",
    "    property_loc = (row['latitude'], row['longitude'])\n",
    "    if pd.notnull(row['latitude']) and pd.notnull(row['longitude']):\n",
    "        return geodesic(location, property_loc).km\n",
    "    else:\n",
    "        return None\n",
    "\n",
    "# Sakarya merkezi, Karasu sahili, Sapanca Gölü ve Sakarya Üniversitesi mesafelerini hesapla\n",
    "df['distance_to_sakarya_center_km'] = df.apply(lambda row: distance_to_location(row, sakarya_center), axis=1)\n",
    "df['distance_to_karasu_km'] = df.apply(lambda row: distance_to_location(row, karasu_sahili), axis=1)\n",
    "df['distance_to_sapanca_km'] = df.apply(lambda row: distance_to_location(row, sapanca_golu), axis=1)\n",
    "df['distance_to_sakarya_university_km'] = df.apply(lambda row: distance_to_location(row, sakarya_university), axis=1)\n",
    "\n",
    "# Mesafeyi kategorilere ayıralım\n",
    "def categorize_distance(distance):\n",
    "    if distance <= 5:\n",
    "        return '0-5 km'\n",
    "    elif distance <= 10:\n",
    "        return '5-10 km'\n",
    "    elif distance <= 20:\n",
    "        return '10-20 km'\n",
    "    else:\n",
    "        return '20+ km'\n",
    "\n",
    "df['sakarya_center_category'] = df['distance_to_sakarya_center_km'].apply(categorize_distance)\n",
    "df['karasu_category'] = df['distance_to_karasu_km'].apply(categorize_distance)\n",
    "df['sapanca_category'] = df['distance_to_sapanca_km'].apply(categorize_distance)\n",
    "df['sakarya_university_category'] = df['distance_to_sakarya_university_km'].apply(categorize_distance)\n",
    "\n",
    "# Sonuçları kontrol edelim\n",
    "print(df[['area_name', 'distance_to_sakarya_center_km', 'sakarya_center_category',\n",
    "          'distance_to_karasu_km', 'karasu_category', \n",
    "          'distance_to_sapanca_km', 'sapanca_category',\n",
    "          'distance_to_sakarya_university_km', 'sakarya_university_category']].head())\n",
    "\n"
   ]
  },
  {
   "cell_type": "code",
   "execution_count": 168,
   "id": "de93c71f",
   "metadata": {},
   "outputs": [
    {
     "data": {
      "image/png": "[encoded data removed]",
      "text/plain": [
       "<Figure size 640x480 with 1 Axes>"
      ]
     },
     "metadata": {},
     "output_type": "display_data"
    }
   ],
   "source": [
    "# Mesafeye göre fiyat kategorilerini görselleştirelim\n",
    "df.groupby('sakarya_center_category')['price_category'].value_counts().unstack().plot(kind='bar', stacked=True)\n",
    "plt.title('Sakarya Merkezine Göre Fiyat Kategorisi Dağılımı')\n",
    "plt.xlabel('Mesafe Kategorisi')\n",
    "plt.ylabel('Fiyat Kategorisi Sayısı')\n",
    "plt.xticks(rotation=45)\n",
    "plt.show()"
   ]
  },
  {
   "cell_type": "code",
   "execution_count": 169,
   "id": "a9530866",
   "metadata": {},
   "outputs": [
    {
     "data": {
      "image/png": "[encoded data removed]",
      "text/plain": [
       "<Figure size 640x480 with 1 Axes>"
      ]
     },
     "metadata": {},
     "output_type": "display_data"
    }
   ],
   "source": [
    "# Her mesafe kategorisi için ortalama fiyat hesaplayalım\n",
    "avg_price_by_distance = df.groupby('sakarya_center_category')['price'].mean()\n",
    "\n",
    "# Sonuçları görselleştirelim\n",
    "avg_price_by_distance.plot(kind='bar', color='lightblue')\n",
    "plt.title('Mesafeye Göre Ortalama Fiyat')\n",
    "plt.xlabel('Mesafe Kategorisi')\n",
    "plt.ylabel('Ortalama Fiyat')\n",
    "plt.xticks(rotation=45)\n",
    "plt.tight_layout()\n",
    "plt.show()"
   ]
  },
  {
   "cell_type": "code",
   "execution_count": 170,
   "id": "f6ef685f",
   "metadata": {},
   "outputs": [
    {
     "data": {
      "image/png": "[encoded data removed]",
      "text/plain": [
       "<Figure size 640x480 with 1 Axes>"
      ]
     },
     "metadata": {},
     "output_type": "display_data"
    }
   ],
   "source": [
    "df.groupby('karasu_category')['price_category'].value_counts().unstack().plot(kind='bar', stacked=True)\n",
    "plt.title('Karasu Sahiline Göre Fiyat Kategorisi Dağılımı')\n",
    "plt.xlabel('Karasu Mesafe Kategorisi')\n",
    "plt.ylabel('Fiyat Kategorisi Sayısı')\n",
    "plt.xticks(rotation=45)\n",
    "plt.legend(title=\"Fiyat Kategorisi\", bbox_to_anchor=(1.05, 1), loc='upper left')\n",
    "plt.tight_layout()\n",
    "plt.show()\n"
   ]
  },
  {
   "cell_type": "code",
   "execution_count": 171,
   "id": "69509775",
   "metadata": {},
   "outputs": [
    {
     "data": {
      "image/png": "[encoded data removed]",
      "text/plain": [
       "<Figure size 640x480 with 1 Axes>"
      ]
     },
     "metadata": {},
     "output_type": "display_data"
    }
   ],
   "source": [
    "df.groupby('sapanca_category')['price_category'].value_counts().unstack().plot(kind='bar', stacked=True)\n",
    "plt.title('Sapanca Gölüne Göre Fiyat Kategorisi Dağılımı')\n",
    "plt.xlabel('Sapanca Mesafe Kategorisi')\n",
    "plt.ylabel('Fiyat Kategorisi Sayısı')\n",
    "plt.xticks(rotation=45)\n",
    "plt.legend(title=\"Fiyat Kategorisi\", bbox_to_anchor=(1.05, 1), loc='upper left')\n",
    "plt.tight_layout()\n",
    "plt.show()\n"
   ]
  },
  {
   "cell_type": "code",
   "execution_count": 172,
   "id": "12e5636b",
   "metadata": {},
   "outputs": [
    {
     "data": {
      "image/png": "[encoded data removed]",
      "text/plain": [
       "<Figure size 640x480 with 1 Axes>"
      ]
     },
     "metadata": {},
     "output_type": "display_data"
    }
   ],
   "source": [
    "df.groupby('sapanca_category')['price'].mean().plot(kind='bar', color='lightgreen')\n",
    "plt.title('Sapanca Gölüne Göre Ortalama Fiyat')\n",
    "plt.xlabel('Mesafe Kategorisi')\n",
    "plt.ylabel('Ortalama Fiyat')\n",
    "plt.xticks(rotation=45)\n",
    "plt.tight_layout()\n",
    "plt.show()\n"
   ]
  },
  {
   "cell_type": "code",
   "execution_count": 173,
   "id": "3043417e",
   "metadata": {},
   "outputs": [
    {
     "data": {
      "image/png": "[encoded data removed]",
      "text/plain": [
       "<Figure size 640x480 with 1 Axes>"
      ]
     },
     "metadata": {},
     "output_type": "display_data"
    }
   ],
   "source": [
    "df.groupby('sakarya_university_category')['price_category'].value_counts().unstack().plot(kind='bar', stacked=True)\n",
    "plt.title('SAÜ\\'ye Göre Fiyat Kategorisi Dağılımı')\n",
    "plt.xlabel('Sakarya Üniversitesi Mesafe Kategorisi')\n",
    "plt.ylabel('Fiyat Kategorisi Sayısı')\n",
    "plt.xticks(rotation=45)\n",
    "plt.legend(title=\"Fiyat Kategorisi\", bbox_to_anchor=(1.05, 1), loc='upper left')\n",
    "plt.tight_layout()\n",
    "plt.show()"
   ]
  },
  {
   "cell_type": "code",
   "execution_count": 174,
   "id": "e9970d4a",
   "metadata": {},
   "outputs": [
    {
     "data": {
      "image/png": "[encoded data removed]",
      "text/plain": [
       "<Figure size 640x480 with 1 Axes>"
      ]
     },
     "metadata": {},
     "output_type": "display_data"
    }
   ],
   "source": [
    "df.groupby('sakarya_university_category')['price'].mean().plot(kind='bar', color='orange')\n",
    "plt.title('SAÜ\\'ye Göre Ortalama Fiyat')\n",
    "plt.xlabel('Mesafe Kategorisi')\n",
    "plt.ylabel('Ortalama Fiyat')\n",
    "plt.xticks(rotation=45)\n",
    "plt.tight_layout()\n",
    "plt.show()\n"
   ]
  },
  {
   "cell_type": "code",
   "execution_count": null,
   "id": "418e8428",
   "metadata": {},
   "outputs": [],
   "source": []
  },
  {
   "cell_type": "code",
   "execution_count": null,
   "id": "0026a712",
   "metadata": {},
   "outputs": [],
   "source": []
  },
  {
   "cell_type": "code",
   "execution_count": 175,
   "id": "db21baa5",
   "metadata": {},
   "outputs": [],
   "source": [
    "df['isMapHidden'] = df['isMapHidden'].astype(int)\n"
   ]
  },
  {
   "cell_type": "code",
   "execution_count": 176,
   "id": "9bd5b7aa",
   "metadata": {},
   "outputs": [
    {
     "data": {
      "text/plain": [
       "0       False\n",
       "1       False\n",
       "2       False\n",
       "3       False\n",
       "4       False\n",
       "        ...  \n",
       "2175    False\n",
       "2176    False\n",
       "2177    False\n",
       "2178    False\n",
       "2179    False\n",
       "Name: streetView, Length: 2177, dtype: object"
      ]
     },
     "execution_count": 176,
     "metadata": {},
     "output_type": "execute_result"
    }
   ],
   "source": [
    "df['streetView']"
   ]
  },
  {
   "cell_type": "code",
   "execution_count": 177,
   "id": "193bbe86",
   "metadata": {},
   "outputs": [],
   "source": [
    "# Önce boolean'a dönüştür\n",
    "df['streetView'] = df['streetView'].map({True: True, False: False, 'True': True, 'False': False})\n",
    "\n",
    "# Sonra integer'a çevir\n",
    "df['streetView'] = df['streetView'].fillna(0).astype(int)\n"
   ]
  },
  {
   "cell_type": "code",
   "execution_count": 178,
   "id": "d94fdf69",
   "metadata": {},
   "outputs": [],
   "source": [
    "df = df.drop(columns=['areas', 'district', 'county', 'city'])\n"
   ]
  },
  {
   "cell_type": "code",
   "execution_count": 179,
   "id": "51793d09",
   "metadata": {},
   "outputs": [
    {
     "data": {
      "text/plain": [
       "(2177, 77)"
      ]
     },
     "execution_count": 179,
     "metadata": {},
     "output_type": "execute_result"
    }
   ],
   "source": [
    "df.shape\n"
   ]
  },
  {
   "cell_type": "code",
   "execution_count": null,
   "id": "71684e74",
   "metadata": {},
   "outputs": [],
   "source": []
  },
  {
   "cell_type": "code",
   "execution_count": 180,
   "id": "59270715",
   "metadata": {},
   "outputs": [
    {
     "name": "stdout",
     "output_type": "stream",
     "text": [
      "room               object\n",
      "livingRoom         object\n",
      "bathRoom            int64\n",
      "bedCount          float64\n",
      "floor              object\n",
      "entranceHeight    float64\n",
      "age               float64\n",
      "dtype: object\n"
     ]
    }
   ],
   "source": [
    "columns_to_analyze = ['room', 'livingRoom', 'bathRoom', 'bedCount', 'floor', 'entranceHeight', 'age']\n",
    "print(df[columns_to_analyze].dtypes)"
   ]
  },
  {
   "cell_type": "code",
   "execution_count": 181,
   "id": "82a0c064",
   "metadata": {},
   "outputs": [
    {
     "data": {
      "text/plain": [
       "0    [3]\n",
       "1    [2]\n",
       "2    [4]\n",
       "3    [3]\n",
       "4    [3]\n",
       "Name: room, dtype: object"
      ]
     },
     "execution_count": 181,
     "metadata": {},
     "output_type": "execute_result"
    }
   ],
   "source": [
    "df['room'].head()"
   ]
  },
  {
   "cell_type": "code",
   "execution_count": 182,
   "id": "ef7b8d87",
   "metadata": {},
   "outputs": [],
   "source": [
    "df['room'] = df['room'].str.strip('[]').astype('int64')"
   ]
  },
  {
   "cell_type": "code",
   "execution_count": 183,
   "id": "ac9c1664",
   "metadata": {},
   "outputs": [
    {
     "data": {
      "text/plain": [
       "0    3\n",
       "1    2\n",
       "2    4\n",
       "3    3\n",
       "4    3\n",
       "Name: room, dtype: int64"
      ]
     },
     "execution_count": 183,
     "metadata": {},
     "output_type": "execute_result"
    }
   ],
   "source": [
    "df['room'].head()"
   ]
  },
  {
   "cell_type": "code",
   "execution_count": 184,
   "id": "8d0bab58",
   "metadata": {},
   "outputs": [
    {
     "data": {
      "text/plain": [
       "0"
      ]
     },
     "execution_count": 184,
     "metadata": {},
     "output_type": "execute_result"
    }
   ],
   "source": [
    "#room SÜTUNUNDA KAÇ ADET NULL DEĞER VAR\n",
    "\n",
    "df['room'].isnull().sum()"
   ]
  },
  {
   "cell_type": "code",
   "execution_count": 185,
   "id": "9bfd347e",
   "metadata": {},
   "outputs": [
    {
     "data": {
      "text/plain": [
       "room\n",
       "2     789\n",
       "3     690\n",
       "4     317\n",
       "1     222\n",
       "5      92\n",
       "6      30\n",
       "0      10\n",
       "8      10\n",
       "7       8\n",
       "9       3\n",
       "10      2\n",
       "12      2\n",
       "22      1\n",
       "13      1\n",
       "Name: count, dtype: int64"
      ]
     },
     "execution_count": 185,
     "metadata": {},
     "output_type": "execute_result"
    }
   ],
   "source": [
    "df['room'].value_counts()"
   ]
  },
  {
   "cell_type": "code",
   "execution_count": 186,
   "id": "3d1696ff",
   "metadata": {},
   "outputs": [
    {
     "data": {
      "text/plain": [
       "0    [1]\n",
       "1    [1]\n",
       "2    [1]\n",
       "3    [1]\n",
       "4    [1]\n",
       "Name: livingRoom, dtype: object"
      ]
     },
     "execution_count": 186,
     "metadata": {},
     "output_type": "execute_result"
    }
   ],
   "source": [
    "df['livingRoom'].head()"
   ]
  },
  {
   "cell_type": "code",
   "execution_count": 187,
   "id": "17ec5ae3",
   "metadata": {},
   "outputs": [
    {
     "data": {
      "text/plain": [
       "livingRoom\n",
       "[1]    2061\n",
       "[2]      65\n",
       "[0]      40\n",
       "[3]      10\n",
       "[4]       1\n",
       "Name: count, dtype: int64"
      ]
     },
     "execution_count": 187,
     "metadata": {},
     "output_type": "execute_result"
    }
   ],
   "source": [
    "# Değerleri ve adetlerini göster\n",
    "df['livingRoom'].value_counts()"
   ]
  },
  {
   "cell_type": "code",
   "execution_count": 188,
   "id": "f87b8360",
   "metadata": {},
   "outputs": [],
   "source": [
    "# Köşeli parantezleri kaldırarak sadece sayıyı alalım\n",
    "df['livingRoom'] = df['livingRoom'].apply(lambda x: eval(str(x))[0] if isinstance(x, str) and x.startswith('[') else x)"
   ]
  },
  {
   "cell_type": "code",
   "execution_count": 189,
   "id": "7c76f272",
   "metadata": {},
   "outputs": [
    {
     "data": {
      "text/plain": [
       "0    1\n",
       "1    1\n",
       "2    1\n",
       "3    1\n",
       "4    1\n",
       "Name: livingRoom, dtype: int64"
      ]
     },
     "execution_count": 189,
     "metadata": {},
     "output_type": "execute_result"
    }
   ],
   "source": [
    "df['livingRoom'].head()"
   ]
  },
  {
   "cell_type": "code",
   "execution_count": 190,
   "id": "bc41092d",
   "metadata": {},
   "outputs": [
    {
     "data": {
      "text/plain": [
       "0"
      ]
     },
     "execution_count": 190,
     "metadata": {},
     "output_type": "execute_result"
    }
   ],
   "source": [
    "df['livingRoom'].isnull().sum()"
   ]
  },
  {
   "cell_type": "code",
   "execution_count": null,
   "id": "67a3c3fd",
   "metadata": {},
   "outputs": [],
   "source": []
  },
  {
   "cell_type": "code",
   "execution_count": 191,
   "id": "92c70c1d",
   "metadata": {},
   "outputs": [
    {
     "data": {
      "text/plain": [
       "0       [\"3+1\"]\n",
       "1       [\"2+1\"]\n",
       "2       [\"4+1\"]\n",
       "3       [\"3+1\"]\n",
       "4       [\"3+1\"]\n",
       "         ...   \n",
       "2175    [\"3+1\"]\n",
       "2176    [\"3+1\"]\n",
       "2177    [\"4+1\"]\n",
       "2178    [\"2+1\"]\n",
       "2179    [\"4+1\"]\n",
       "Name: roomAndLivingRoom, Length: 2177, dtype: object"
      ]
     },
     "execution_count": 191,
     "metadata": {},
     "output_type": "execute_result"
    }
   ],
   "source": [
    "df['roomAndLivingRoom']"
   ]
  },
  {
   "cell_type": "code",
   "execution_count": 192,
   "id": "6f90a927",
   "metadata": {
    "scrolled": true
   },
   "outputs": [
    {
     "name": "stdout",
     "output_type": "stream",
     "text": [
      "0       3+1\n",
      "1       2+1\n",
      "2       4+1\n",
      "3       3+1\n",
      "4       3+1\n",
      "       ... \n",
      "2175    3+1\n",
      "2176    3+1\n",
      "2177    4+1\n",
      "2178    2+1\n",
      "2179    4+1\n",
      "Name: roomAndLivingRoom, Length: 2177, dtype: object\n"
     ]
    }
   ],
   "source": [
    "# 'roomAndLivingRoom' sütunundaki veriyi işleme\n",
    "df['roomAndLivingRoom'] = df['roomAndLivingRoom'].apply(lambda x: x.strip('[]\"') if isinstance(x, str) else x)\n",
    "# Sonuçları yazdırma\n",
    "print(df['roomAndLivingRoom'])"
   ]
  },
  {
   "cell_type": "code",
   "execution_count": 193,
   "id": "8bfc7efd",
   "metadata": {},
   "outputs": [
    {
     "name": "stdout",
     "output_type": "stream",
     "text": [
      "roomAndLivingRoom\n",
      "2+1             777\n",
      "3+1             680\n",
      "4+1             293\n",
      "1+1             212\n",
      "5+1              74\n",
      "4+2              20\n",
      "6+1              19\n",
      "9 ve üzeri       18\n",
      "5+2              17\n",
      "2                11\n",
      "6+2              10\n",
      "Stüdyo           10\n",
      "3+2               5\n",
      "8+2               5\n",
      "4                 4\n",
      "7+2               4\n",
      "8+3               4\n",
      "7+1               3\n",
      "3                 3\n",
      "3+3 ve üzeri      2\n",
      "5+3               1\n",
      "2+2 ve üzeri      1\n",
      "6+3               1\n",
      "8+1               1\n",
      "7+3               1\n",
      "9veüzeri          1\n",
      "Name: count, dtype: int64\n"
     ]
    }
   ],
   "source": [
    "print(df['roomAndLivingRoom'].value_counts())"
   ]
  },
  {
   "cell_type": "code",
   "execution_count": 194,
   "id": "d7b5a61e",
   "metadata": {},
   "outputs": [],
   "source": [
    "def normalize_roomAndLivingRoom(value):\n",
    "    value = str(value).strip().lower()\n",
    "\n",
    "    if 'stüdyo' in value:\n",
    "        return '1+0'\n",
    "    if value in ['9 ve üzeri', '9veüzeri']:\n",
    "        return '9+0'\n",
    "    if 've üzeri' in value or 'veüzeri' in value:\n",
    "        return value.replace(' ve üzeri', '').replace('veüzeri', '')\n",
    "    return value\n",
    "\n",
    "    return np.nan\n",
    "df['roomAndLivingRoom'] = df['roomAndLivingRoom'].apply(normalize_roomAndLivingRoom)\n",
    "  "
   ]
  },
  {
   "cell_type": "code",
   "execution_count": 195,
   "id": "6355a872",
   "metadata": {},
   "outputs": [
    {
     "name": "stdout",
     "output_type": "stream",
     "text": [
      "roomAndLivingRoom\n",
      "2+1    777\n",
      "3+1    680\n",
      "4+1    293\n",
      "1+1    212\n",
      "5+1     74\n",
      "4+2     20\n",
      "6+1     19\n",
      "9+0     19\n",
      "5+2     17\n",
      "2       11\n",
      "1+0     10\n",
      "6+2     10\n",
      "8+2      5\n",
      "3+2      5\n",
      "4        4\n",
      "7+2      4\n",
      "8+3      4\n",
      "7+1      3\n",
      "3        3\n",
      "3+3      2\n",
      "6+3      1\n",
      "5+3      1\n",
      "2+2      1\n",
      "8+1      1\n",
      "7+3      1\n",
      "Name: count, dtype: int64\n"
     ]
    }
   ],
   "source": [
    "# Değerleri ve adetlerini göster\n",
    "print(df['roomAndLivingRoom'].value_counts())"
   ]
  },
  {
   "cell_type": "code",
   "execution_count": 196,
   "id": "db77b650",
   "metadata": {},
   "outputs": [
    {
     "name": "stdout",
     "output_type": "stream",
     "text": [
      "      room  livingRoom roomAndLivingRoom\n",
      "69       9           3               9+0\n",
      "251      9           2               9+0\n",
      "279      2           0                 2\n",
      "280      0           0               9+0\n",
      "282      0           0               9+0\n",
      "285      0           0               9+0\n",
      "286      0           0               9+0\n",
      "291      0           0               9+0\n",
      "292      0           0               9+0\n",
      "293      0           0               9+0\n",
      "294      0           0               9+0\n",
      "297      0           0               9+0\n",
      "298      0           0               9+0\n",
      "362      2           0                 2\n",
      "414      4           0                 4\n",
      "433      2           0                 2\n",
      "596      9           2               9+0\n",
      "611      4           0                 4\n",
      "616      2           2               2+2\n",
      "833      2           0                 2\n",
      "856      3           0                 3\n",
      "909     10           2               9+0\n",
      "936      2           0                 2\n",
      "1013     2           0                 2\n",
      "1015    12           1               9+0\n",
      "1154     2           0                 2\n",
      "1249     3           3               3+3\n",
      "1250     3           3               3+3\n",
      "1295    10           0               9+0\n",
      "1689     3           0                 3\n",
      "1697     4           0                 4\n",
      "1709     3           0                 3\n",
      "1755     2           0                 2\n",
      "1996    12           4               9+0\n",
      "1997     2           0                 2\n",
      "2005    22           0               9+0\n",
      "2044     4           0                 4\n",
      "2069     2           0                 2\n",
      "2074     2           0                 2\n",
      "2098    13           1               9+0\n"
     ]
    }
   ],
   "source": [
    "# İstenen değerleri içeren satırları filtrele ve ilgili sütunları seç\n",
    "filtered_df = df[df['roomAndLivingRoom'].isin(['2', '3', '4', '9+0','3+3','2+2'])][['room', 'livingRoom', 'roomAndLivingRoom']]\n",
    "# Sonuçları görüntüle\n",
    "print(filtered_df)"
   ]
  },
  {
   "cell_type": "code",
   "execution_count": 197,
   "id": "2b186fc8",
   "metadata": {},
   "outputs": [],
   "source": [
    "# room ve livingRoom sütunlarını string olarak birleştir\n",
    "df['combined_roomLiving'] = df['room'].astype(str) + '+' + df['livingRoom'].astype(str)\n"
   ]
  },
  {
   "cell_type": "code",
   "execution_count": 198,
   "id": "20bea591",
   "metadata": {},
   "outputs": [
    {
     "name": "stdout",
     "output_type": "stream",
     "text": [
      "Eşleşen satır sayısı: 2140\n",
      "Toplam satır sayısı: 2177\n",
      "Eşleşme oranı: 98.30%\n"
     ]
    }
   ],
   "source": [
    "# Karşılaştırma: kaç tanesi roomAndLivingRoom ile aynı\n",
    "matching_count = (df['combined_roomLiving'] == df['roomAndLivingRoom']).sum()\n",
    "total_count = len(df)\n",
    "\n",
    "print(f\"Eşleşen satır sayısı: {matching_count}\")\n",
    "print(f\"Toplam satır sayısı: {total_count}\")\n",
    "print(f\"Eşleşme oranı: {matching_count / total_count:.2%}\")"
   ]
  },
  {
   "cell_type": "code",
   "execution_count": 199,
   "id": "bfaffc92",
   "metadata": {},
   "outputs": [
    {
     "name": "stdout",
     "output_type": "stream",
     "text": [
      "      room  livingRoom roomAndLivingRoom\n",
      "69       9           3               9+0\n",
      "251      9           2               9+0\n",
      "279      2           0                 2\n",
      "280      0           0               9+0\n",
      "282      0           0               9+0\n",
      "285      0           0               9+0\n",
      "286      0           0               9+0\n",
      "291      0           0               9+0\n",
      "292      0           0               9+0\n",
      "293      0           0               9+0\n",
      "294      0           0               9+0\n",
      "297      0           0               9+0\n",
      "298      0           0               9+0\n",
      "362      2           0                 2\n",
      "414      4           0                 4\n",
      "433      2           0                 2\n",
      "596      9           2               9+0\n",
      "611      4           0                 4\n",
      "833      2           0                 2\n",
      "856      3           0                 3\n",
      "909     10           2               9+0\n",
      "936      2           0                 2\n",
      "1013     2           0                 2\n",
      "1015    12           1               9+0\n",
      "1154     2           0                 2\n",
      "1295    10           0               9+0\n",
      "1689     3           0                 3\n",
      "1697     4           0                 4\n",
      "1709     3           0                 3\n",
      "1755     2           0                 2\n",
      "1996    12           4               9+0\n",
      "1997     2           0                 2\n",
      "2005    22           0               9+0\n",
      "2044     4           0                 4\n",
      "2069     2           0                 2\n",
      "2074     2           0                 2\n",
      "2098    13           1               9+0\n"
     ]
    }
   ],
   "source": [
    "# Eşleşmeyen satırları filtrele\n",
    "mismatch_df = df[df['combined_roomLiving'] != df['roomAndLivingRoom']][['room', 'livingRoom', 'roomAndLivingRoom']]\n",
    "\n",
    "# Sonuçları göster\n",
    "print(mismatch_df)"
   ]
  },
  {
   "cell_type": "code",
   "execution_count": null,
   "id": "2d0f508f",
   "metadata": {},
   "outputs": [],
   "source": []
  },
  {
   "cell_type": "code",
   "execution_count": null,
   "id": "3bfff45a",
   "metadata": {},
   "outputs": [],
   "source": []
  },
  {
   "cell_type": "code",
   "execution_count": 200,
   "id": "cf63563c",
   "metadata": {},
   "outputs": [],
   "source": [
    "def extract_room(value):\n",
    "    value = str(value).strip()\n",
    "    \n",
    "    # \"3+1\", \"4+2\" gibi ifadeleri yakala\n",
    "    match = re.match(r'^(\\d+)\\s*\\+', value)\n",
    "    if match:\n",
    "        return int(match.group(1))\n",
    "    \n",
    "    # Sadece rakam varsa, direkt al (örneğin \"3\", \"4\")\n",
    "    if value.isdigit():\n",
    "        return int(value)\n",
    "    \n",
    "    return np.nan\n",
    "\n",
    "# Uygula\n",
    "df['extracted_room'] = df['roomAndLivingRoom'].apply(extract_room)\n"
   ]
  },
  {
   "cell_type": "code",
   "execution_count": 201,
   "id": "9d021c3f",
   "metadata": {},
   "outputs": [
    {
     "data": {
      "text/plain": [
       "0"
      ]
     },
     "execution_count": 201,
     "metadata": {},
     "output_type": "execute_result"
    }
   ],
   "source": [
    "df['extracted_room'].isnull().sum()"
   ]
  },
  {
   "cell_type": "code",
   "execution_count": 202,
   "id": "20ffffb6",
   "metadata": {},
   "outputs": [
    {
     "data": {
      "text/plain": [
       "extracted_room\n",
       "2    789\n",
       "3    690\n",
       "4    317\n",
       "1    222\n",
       "5     92\n",
       "6     30\n",
       "9     19\n",
       "8     10\n",
       "7      8\n",
       "Name: count, dtype: int64"
      ]
     },
     "execution_count": 202,
     "metadata": {},
     "output_type": "execute_result"
    }
   ],
   "source": [
    "# Değerleri ve adetlerini göster\n",
    "df['extracted_room'].value_counts()"
   ]
  },
  {
   "cell_type": "code",
   "execution_count": 203,
   "id": "5e5854c6",
   "metadata": {},
   "outputs": [
    {
     "data": {
      "text/plain": [
       "room\n",
       "2     789\n",
       "3     690\n",
       "4     317\n",
       "1     222\n",
       "5      92\n",
       "6      30\n",
       "0      10\n",
       "8      10\n",
       "7       8\n",
       "9       3\n",
       "10      2\n",
       "12      2\n",
       "22      1\n",
       "13      1\n",
       "Name: count, dtype: int64"
      ]
     },
     "execution_count": 203,
     "metadata": {},
     "output_type": "execute_result"
    }
   ],
   "source": [
    "# Değerleri ve adetlerini göster\n",
    "df['room'].value_counts()"
   ]
  },
  {
   "cell_type": "code",
   "execution_count": 204,
   "id": "83a6462d",
   "metadata": {},
   "outputs": [
    {
     "name": "stdout",
     "output_type": "stream",
     "text": [
      "Farklı olan kayıt sayısı: 16\n",
      "       listingId roomAndLivingRoom  room  extracted_room  property_type  \\\n",
      "280   147368-153               9+0     0               9          Bahçe   \n",
      "282   147368-155               9+0     0               9   İmarlı Konut   \n",
      "285   147368-158               9+0     0               9          Tarla   \n",
      "286   147368-159               9+0     0               9          Bahçe   \n",
      "291   147368-164               9+0     0               9          Bahçe   \n",
      "292   147368-165               9+0     0               9  Konut Ticaret   \n",
      "293   147368-166               9+0     0               9          Bahçe   \n",
      "294   147368-167               9+0     0               9   İmarlı Konut   \n",
      "297   120340-614               9+0     0               9          Tarla   \n",
      "298   120340-615               9+0     0               9          Tarla   \n",
      "909     154659-2               9+0    10               9    Müstakil Ev   \n",
      "1015  78781-1731               9+0    12               9          Daire   \n",
      "1295   147682-70               9+0    10               9    Müstakil Ev   \n",
      "1996    154749-3               9+0    12               9           Bina   \n",
      "2005   9887-2576               9+0    22               9    Çiftlik Evi   \n",
      "2098  74658-1768               9+0    13               9          Villa   \n",
      "\n",
      "                               residence  \n",
      "280                                  NaN  \n",
      "282                                  NaN  \n",
      "285                                  NaN  \n",
      "286                                  NaN  \n",
      "291                                  NaN  \n",
      "292                                  NaN  \n",
      "293                                  NaN  \n",
      "294                                  NaN  \n",
      "297                                  NaN  \n",
      "298                                  NaN  \n",
      "909   {\"id\":101007,\"name\":\"Müstakil Ev\"}  \n",
      "1015        {\"id\":101004,\"name\":\"Daire\"}  \n",
      "1295                                 NaN  \n",
      "1996   {\"id\":101007,\"name\":\"MüstakilEv\"}  \n",
      "2005                                 NaN  \n",
      "2098      {\"id\":101005,\"name\":\"Dubleks\"}  \n"
     ]
    }
   ],
   "source": [
    "# extracted_room ile room farklı olan kayıtları bul\n",
    "differences = df[df['room'] != df['extracted_room']]\n",
    "\n",
    "# Sonuçları göster\n",
    "print(f\"Farklı olan kayıt sayısı: {len(differences)}\")\n",
    "print(differences[['listingId', 'roomAndLivingRoom', 'room', 'extracted_room','property_type', 'residence']])\n"
   ]
  },
  {
   "cell_type": "markdown",
   "id": "07bb3ab5",
   "metadata": {},
   "source": [
    "### 🛠 Room Sütunundaki 0 Değerlere göre RoomAndLivingRoom Güncellenmesi\n",
    "\n",
    "- **Room** sütununda yer alan `0` değerleri, doğrudur.\n",
    "- Bu değerler, `roomAndLivingRoom` sütunundaki yanlış değerleri düzeltmede kullanılmıştır.\n"
   ]
  },
  {
   "cell_type": "code",
   "execution_count": 205,
   "id": "b5817915",
   "metadata": {},
   "outputs": [
    {
     "name": "stdout",
     "output_type": "stream",
     "text": [
      "\"0+0\" olarak güncellenen roomAndLivingRoom sayısı: 10\n"
     ]
    }
   ],
   "source": [
    "# room == 0 olanları tespit et\n",
    "zero_room_mask = df['room'] == 0\n",
    "\n",
    "# Bu kayıtlarda roomAndLivingRoom sütununu \"0+0\" yap\n",
    "df.loc[zero_room_mask, 'roomAndLivingRoom'] = '0+0'\n",
    "\n",
    "# Kaç kayıt güncellendiğini yazdır\n",
    "print(f'\"0+0\" olarak güncellenen roomAndLivingRoom sayısı: {zero_room_mask.sum()}')\n"
   ]
  },
  {
   "cell_type": "code",
   "execution_count": null,
   "id": "40509e1a",
   "metadata": {},
   "outputs": [],
   "source": []
  },
  {
   "cell_type": "code",
   "execution_count": 206,
   "id": "d4462ee6",
   "metadata": {},
   "outputs": [],
   "source": [
    "def fix_room_and_living_room(row):\n",
    "    if pd.notna(row['roomAndLivingRoom']) and '+' in row['roomAndLivingRoom']:\n",
    "        parts = row['roomAndLivingRoom'].split('+', 1)\n",
    "        current_room_str = parts[0].strip()\n",
    "        rest = parts[1].strip()\n",
    "        try:\n",
    "            if int(current_room_str) != int(row['room']):\n",
    "                return f\"{int(row['room'])}+{rest}\"\n",
    "        except:\n",
    "            pass\n",
    "    return row['roomAndLivingRoom']\n",
    "\n",
    "# Sadece farklı olanları güncelle\n",
    "mask = (df['room'] != df['extracted_room']) & df['roomAndLivingRoom'].str.contains('\\+')\n",
    "df.loc[mask, 'roomAndLivingRoom'] = df.loc[mask].apply(fix_room_and_living_room, axis=1)\n"
   ]
  },
  {
   "cell_type": "code",
   "execution_count": 207,
   "id": "3f8ddf56",
   "metadata": {},
   "outputs": [
    {
     "name": "stdout",
     "output_type": "stream",
     "text": [
      "Düzenlenen kayıt sayısı: 16\n"
     ]
    }
   ],
   "source": [
    "print(f\"Düzenlenen kayıt sayısı: {mask.sum()}\")\n"
   ]
  },
  {
   "cell_type": "code",
   "execution_count": 208,
   "id": "f2d372b5",
   "metadata": {},
   "outputs": [
    {
     "name": "stdout",
     "output_type": "stream",
     "text": [
      "       listingId roomAndLivingRoom  room  extracted_room  property_type\n",
      "280   147368-153               0+0     0               9          Bahçe\n",
      "282   147368-155               0+0     0               9   İmarlı Konut\n",
      "285   147368-158               0+0     0               9          Tarla\n",
      "286   147368-159               0+0     0               9          Bahçe\n",
      "291   147368-164               0+0     0               9          Bahçe\n",
      "292   147368-165               0+0     0               9  Konut Ticaret\n",
      "293   147368-166               0+0     0               9          Bahçe\n",
      "294   147368-167               0+0     0               9   İmarlı Konut\n",
      "297   120340-614               0+0     0               9          Tarla\n",
      "298   120340-615               0+0     0               9          Tarla\n",
      "909     154659-2              10+0    10               9    Müstakil Ev\n",
      "1015  78781-1731              12+0    12               9          Daire\n",
      "1295   147682-70              10+0    10               9    Müstakil Ev\n",
      "1996    154749-3              12+0    12               9           Bina\n",
      "2005   9887-2576              22+0    22               9    Çiftlik Evi\n",
      "2098  74658-1768              13+0    13               9          Villa\n"
     ]
    }
   ],
   "source": [
    "print(df.loc[mask, ['listingId', 'roomAndLivingRoom', 'room', 'extracted_room','property_type']])"
   ]
  },
  {
   "cell_type": "markdown",
   "id": "7c22584a",
   "metadata": {},
   "source": [
    "HEPSI GUNCELENNDI FARKLI BIR DEGER BULUNMUYOR"
   ]
  },
  {
   "cell_type": "code",
   "execution_count": 209,
   "id": "83a50f22",
   "metadata": {},
   "outputs": [
    {
     "data": {
      "text/plain": [
       "count    2177.000000\n",
       "mean        1.022049\n",
       "std         0.265114\n",
       "min         0.000000\n",
       "25%         1.000000\n",
       "50%         1.000000\n",
       "75%         1.000000\n",
       "max         4.000000\n",
       "Name: livingRoom, dtype: float64"
      ]
     },
     "execution_count": 209,
     "metadata": {},
     "output_type": "execute_result"
    }
   ],
   "source": [
    "df['livingRoom'].describe()"
   ]
  },
  {
   "cell_type": "code",
   "execution_count": 210,
   "id": "dfc46445",
   "metadata": {},
   "outputs": [],
   "source": [
    "# + işaretinden sonra gelen kısmı livingroom_extracted olarak çıkar\n",
    "df['livingroom_extracted'] = df['roomAndLivingRoom'].str.extract(r'\\+\\s*(\\d+)').astype('Int64')"
   ]
  },
  {
   "cell_type": "code",
   "execution_count": 211,
   "id": "be9fcf5d",
   "metadata": {},
   "outputs": [
    {
     "data": {
      "text/plain": [
       "0       1\n",
       "1       1\n",
       "2       1\n",
       "3       1\n",
       "4       1\n",
       "       ..\n",
       "2175    1\n",
       "2176    1\n",
       "2177    1\n",
       "2178    1\n",
       "2179    1\n",
       "Name: livingroom_extracted, Length: 2177, dtype: Int64"
      ]
     },
     "execution_count": 211,
     "metadata": {},
     "output_type": "execute_result"
    }
   ],
   "source": [
    "df['livingroom_extracted']"
   ]
  },
  {
   "cell_type": "code",
   "execution_count": 212,
   "id": "69442afe",
   "metadata": {},
   "outputs": [
    {
     "name": "stdout",
     "output_type": "stream",
     "text": [
      "Farklı salon sayısı olan kayıt sayısı: 7\n",
      "       listingId roomAndLivingRoom  livingRoom  livingroom_extracted\n",
      "69     3006-6573               9+0           3                     0\n",
      "251   85563-1848               9+0           2                     0\n",
      "596   130312-147               9+0           2                     0\n",
      "909     154659-2              10+0           2                     0\n",
      "1015  78781-1731              12+0           1                     0\n",
      "1996    154749-3              12+0           4                     0\n",
      "2098  74658-1768              13+0           1                     0\n"
     ]
    }
   ],
   "source": [
    "livingroom_diff_mask = df['livingroom_extracted'] != df['livingRoom']\n",
    "diffs = df[livingroom_diff_mask][['listingId', 'roomAndLivingRoom', 'livingRoom', 'livingroom_extracted']]\n",
    "print(f\"Farklı salon sayısı olan kayıt sayısı: {len(diffs)}\")\n",
    "print(diffs)\n"
   ]
  },
  {
   "cell_type": "code",
   "execution_count": 213,
   "id": "ffc7b867",
   "metadata": {},
   "outputs": [],
   "source": [
    "mask = df['livingroom_extracted'] != df['livingRoom']\n",
    "df.loc[mask, 'roomAndLivingRoom'] = (\n",
    "    df.loc[mask, 'room'].astype(str) + '+' + df.loc[mask, 'livingRoom'].astype(str)\n",
    ")\n"
   ]
  },
  {
   "cell_type": "code",
   "execution_count": 214,
   "id": "2052fb77",
   "metadata": {},
   "outputs": [],
   "source": [
    "# + işaretinden sonra gelen kısmı livingroom_extracted olarak çıkar\n",
    "df['livingroom_extractedafter'] = df['roomAndLivingRoom'].str.extract(r'\\+\\s*(\\d+)').astype('Int64')"
   ]
  },
  {
   "cell_type": "code",
   "execution_count": 215,
   "id": "07c70b20",
   "metadata": {},
   "outputs": [
    {
     "data": {
      "text/html": [
       "<div>\n",
       "<style scoped>\n",
       "    .dataframe tbody tr th:only-of-type {\n",
       "        vertical-align: middle;\n",
       "    }\n",
       "\n",
       "    .dataframe tbody tr th {\n",
       "        vertical-align: top;\n",
       "    }\n",
       "\n",
       "    .dataframe thead th {\n",
       "        text-align: right;\n",
       "    }\n",
       "</style>\n",
       "<table border=\"1\" class=\"dataframe\">\n",
       "  <thead>\n",
       "    <tr style=\"text-align: right;\">\n",
       "      <th></th>\n",
       "      <th>listingId</th>\n",
       "      <th>room</th>\n",
       "      <th>livingRoom</th>\n",
       "      <th>roomAndLivingRoom</th>\n",
       "      <th>livingroom_extracted</th>\n",
       "    </tr>\n",
       "  </thead>\n",
       "  <tbody>\n",
       "    <tr>\n",
       "      <th>69</th>\n",
       "      <td>3006-6573</td>\n",
       "      <td>9</td>\n",
       "      <td>3</td>\n",
       "      <td>9+3</td>\n",
       "      <td>0</td>\n",
       "    </tr>\n",
       "    <tr>\n",
       "      <th>251</th>\n",
       "      <td>85563-1848</td>\n",
       "      <td>9</td>\n",
       "      <td>2</td>\n",
       "      <td>9+2</td>\n",
       "      <td>0</td>\n",
       "    </tr>\n",
       "    <tr>\n",
       "      <th>596</th>\n",
       "      <td>130312-147</td>\n",
       "      <td>9</td>\n",
       "      <td>2</td>\n",
       "      <td>9+2</td>\n",
       "      <td>0</td>\n",
       "    </tr>\n",
       "    <tr>\n",
       "      <th>909</th>\n",
       "      <td>154659-2</td>\n",
       "      <td>10</td>\n",
       "      <td>2</td>\n",
       "      <td>10+2</td>\n",
       "      <td>0</td>\n",
       "    </tr>\n",
       "    <tr>\n",
       "      <th>1015</th>\n",
       "      <td>78781-1731</td>\n",
       "      <td>12</td>\n",
       "      <td>1</td>\n",
       "      <td>12+1</td>\n",
       "      <td>0</td>\n",
       "    </tr>\n",
       "    <tr>\n",
       "      <th>1996</th>\n",
       "      <td>154749-3</td>\n",
       "      <td>12</td>\n",
       "      <td>4</td>\n",
       "      <td>12+4</td>\n",
       "      <td>0</td>\n",
       "    </tr>\n",
       "    <tr>\n",
       "      <th>2098</th>\n",
       "      <td>74658-1768</td>\n",
       "      <td>13</td>\n",
       "      <td>1</td>\n",
       "      <td>13+1</td>\n",
       "      <td>0</td>\n",
       "    </tr>\n",
       "  </tbody>\n",
       "</table>\n",
       "</div>"
      ],
      "text/plain": [
       "       listingId  room  livingRoom roomAndLivingRoom  livingroom_extracted\n",
       "69     3006-6573     9           3               9+3                     0\n",
       "251   85563-1848     9           2               9+2                     0\n",
       "596   130312-147     9           2               9+2                     0\n",
       "909     154659-2    10           2              10+2                     0\n",
       "1015  78781-1731    12           1              12+1                     0\n",
       "1996    154749-3    12           4              12+4                     0\n",
       "2098  74658-1768    13           1              13+1                     0"
      ]
     },
     "execution_count": 215,
     "metadata": {},
     "output_type": "execute_result"
    }
   ],
   "source": [
    "updated_records = df.loc[mask, ['listingId', 'room', 'livingRoom', 'roomAndLivingRoom', 'livingroom_extracted']]\n",
    "\n",
    "updated_records"
   ]
  },
  {
   "cell_type": "code",
   "execution_count": 216,
   "id": "4b81ae12",
   "metadata": {},
   "outputs": [
    {
     "name": "stdout",
     "output_type": "stream",
     "text": [
      "Farklı salon sayısı olan kayıt sayısı: 0\n",
      "Empty DataFrame\n",
      "Columns: [listingId, roomAndLivingRoom, livingRoom, livingroom_extractedafter]\n",
      "Index: []\n"
     ]
    }
   ],
   "source": [
    "livingroom_diff_mask = df['livingroom_extractedafter'] != df['livingRoom']\n",
    "diffs = df[livingroom_diff_mask][['listingId', 'roomAndLivingRoom', 'livingRoom', 'livingroom_extractedafter']]\n",
    "print(f\"Farklı salon sayısı olan kayıt sayısı: {len(diffs)}\")\n",
    "print(diffs)"
   ]
  },
  {
   "cell_type": "code",
   "execution_count": 217,
   "id": "8f8666e1",
   "metadata": {},
   "outputs": [],
   "source": [
    "df = df.drop(columns=['extracted_room'])\n",
    "df = df.drop(columns=['livingroom_extracted'])\n",
    "df = df.drop(columns=['livingroom_extractedafter'])\n",
    "df = df.drop(columns=['combined_roomLiving'])\n"
   ]
  },
  {
   "cell_type": "code",
   "execution_count": null,
   "id": "a6de9e03",
   "metadata": {},
   "outputs": [],
   "source": []
  },
  {
   "cell_type": "code",
   "execution_count": 218,
   "id": "f2e28beb",
   "metadata": {},
   "outputs": [
    {
     "data": {
      "text/plain": [
       "dtype('int64')"
      ]
     },
     "execution_count": 218,
     "metadata": {},
     "output_type": "execute_result"
    }
   ],
   "source": [
    "df['room'].dtype"
   ]
  },
  {
   "cell_type": "code",
   "execution_count": 219,
   "id": "e7f6928c",
   "metadata": {},
   "outputs": [
    {
     "data": {
      "text/plain": [
       "count    2177.000000\n",
       "mean        2.765273\n",
       "std         1.323059\n",
       "min         0.000000\n",
       "25%         2.000000\n",
       "50%         3.000000\n",
       "75%         3.000000\n",
       "max        22.000000\n",
       "Name: room, dtype: float64"
      ]
     },
     "execution_count": 219,
     "metadata": {},
     "output_type": "execute_result"
    }
   ],
   "source": [
    "df['room'].describe()"
   ]
  },
  {
   "cell_type": "code",
   "execution_count": 220,
   "id": "e7c0de5e",
   "metadata": {},
   "outputs": [
    {
     "name": "stdout",
     "output_type": "stream",
     "text": [
      "\n",
      "Ortalama (mean): 2.77\n",
      "Medyan (median): 3.0\n"
     ]
    }
   ],
   "source": [
    "mean_room = df['room'].mean()\n",
    "median_room = df['room'].median()\n",
    "\n",
    "print(f\"\\nOrtalama (mean): {mean_room:.2f}\")\n",
    "print(f\"Medyan (median): {median_room}\")"
   ]
  },
  {
   "cell_type": "code",
   "execution_count": 221,
   "id": "64b6804e",
   "metadata": {},
   "outputs": [
    {
     "data": {
      "image/png": "[encoded data removed]",
      "text/plain": [
       "<Figure size 800x400 with 1 Axes>"
      ]
     },
     "metadata": {},
     "output_type": "display_data"
    }
   ],
   "source": [
    "# Kutu grafiği (boxplot) ile görselleştirme\n",
    "plt.figure(figsize=(8, 4))\n",
    "plt.boxplot(df['room'], vert=False)\n",
    "plt.title(\"'room' Sütunu Aykırı Değer Analizi\")\n",
    "plt.xlabel(\"Oda Sayısı\")\n",
    "plt.show()\n"
   ]
  },
  {
   "cell_type": "code",
   "execution_count": 222,
   "id": "eed6a076",
   "metadata": {},
   "outputs": [
    {
     "data": {
      "text/plain": [
       "room\n",
       "2     789\n",
       "3     690\n",
       "4     317\n",
       "1     222\n",
       "5      92\n",
       "6      30\n",
       "0      10\n",
       "8      10\n",
       "7       8\n",
       "9       3\n",
       "10      2\n",
       "12      2\n",
       "22      1\n",
       "13      1\n",
       "Name: count, dtype: int64"
      ]
     },
     "execution_count": 222,
     "metadata": {},
     "output_type": "execute_result"
    }
   ],
   "source": [
    "df['room'].value_counts()"
   ]
  },
  {
   "cell_type": "code",
   "execution_count": 223,
   "id": "764a525e",
   "metadata": {},
   "outputs": [
    {
     "data": {
      "text/html": [
       "<div>\n",
       "<style scoped>\n",
       "    .dataframe tbody tr th:only-of-type {\n",
       "        vertical-align: middle;\n",
       "    }\n",
       "\n",
       "    .dataframe tbody tr th {\n",
       "        vertical-align: top;\n",
       "    }\n",
       "\n",
       "    .dataframe thead th {\n",
       "        text-align: right;\n",
       "    }\n",
       "</style>\n",
       "<table border=\"1\" class=\"dataframe\">\n",
       "  <thead>\n",
       "    <tr style=\"text-align: right;\">\n",
       "      <th></th>\n",
       "      <th>listingId</th>\n",
       "      <th>title</th>\n",
       "      <th>description</th>\n",
       "      <th>price</th>\n",
       "      <th>currency</th>\n",
       "      <th>residence</th>\n",
       "      <th>timeShareName</th>\n",
       "      <th>room</th>\n",
       "      <th>livingRoom</th>\n",
       "      <th>bathRoom</th>\n",
       "      <th>...</th>\n",
       "      <th>latitude</th>\n",
       "      <th>longitude</th>\n",
       "      <th>distance_to_sakarya_center_km</th>\n",
       "      <th>distance_to_karasu_km</th>\n",
       "      <th>distance_to_sapanca_km</th>\n",
       "      <th>distance_to_sakarya_university_km</th>\n",
       "      <th>sakarya_center_category</th>\n",
       "      <th>karasu_category</th>\n",
       "      <th>sapanca_category</th>\n",
       "      <th>sakarya_university_category</th>\n",
       "    </tr>\n",
       "  </thead>\n",
       "  <tbody>\n",
       "    <tr>\n",
       "      <th>2005</th>\n",
       "      <td>9887-2576</td>\n",
       "      <td>-SATILIK-TAVUKÇUOĞLU EMLAK ADAPAZARI ARİFİYE'D...</td>\n",
       "      <td>&lt;p style=\\\"text-align:center\\\"&gt;&lt;b&gt;&amp;nbsp;TAVUKÇ...</td>\n",
       "      <td>130000000</td>\n",
       "      <td>TL</td>\n",
       "      <td>NaN</td>\n",
       "      <td>NaN</td>\n",
       "      <td>22</td>\n",
       "      <td>0</td>\n",
       "      <td>0</td>\n",
       "      <td>...</td>\n",
       "      <td>40.666336</td>\n",
       "      <td>30.36096</td>\n",
       "      <td>13.211668</td>\n",
       "      <td>117.898264</td>\n",
       "      <td>23.366283</td>\n",
       "      <td>12.997791</td>\n",
       "      <td>10-20 km</td>\n",
       "      <td>20+ km</td>\n",
       "      <td>20+ km</td>\n",
       "      <td>10-20 km</td>\n",
       "    </tr>\n",
       "  </tbody>\n",
       "</table>\n",
       "<p>1 rows × 77 columns</p>\n",
       "</div>"
      ],
      "text/plain": [
       "      listingId                                              title  \\\n",
       "2005  9887-2576  -SATILIK-TAVUKÇUOĞLU EMLAK ADAPAZARI ARİFİYE'D...   \n",
       "\n",
       "                                            description      price currency  \\\n",
       "2005  <p style=\\\"text-align:center\\\"><b>&nbsp;TAVUKÇ...  130000000       TL   \n",
       "\n",
       "     residence timeShareName  room  livingRoom  bathRoom  ...   latitude  \\\n",
       "2005       NaN           NaN    22           0         0  ...  40.666336   \n",
       "\n",
       "     longitude  distance_to_sakarya_center_km distance_to_karasu_km  \\\n",
       "2005  30.36096                      13.211668            117.898264   \n",
       "\n",
       "      distance_to_sapanca_km  distance_to_sakarya_university_km  \\\n",
       "2005               23.366283                          12.997791   \n",
       "\n",
       "      sakarya_center_category karasu_category  sapanca_category  \\\n",
       "2005                 10-20 km          20+ km            20+ km   \n",
       "\n",
       "     sakarya_university_category  \n",
       "2005                    10-20 km  \n",
       "\n",
       "[1 rows x 77 columns]"
      ]
     },
     "execution_count": 223,
     "metadata": {},
     "output_type": "execute_result"
    }
   ],
   "source": [
    "df[df['room'].isin([22])]\n",
    "#buna baktım buyuk bır cıftlık evı ve bırcok kucuk kucuk evden olusuyor \n",
    "#model eğitildikten sonra sonuca göre kaldırılacak"
   ]
  },
  {
   "cell_type": "code",
   "execution_count": null,
   "id": "e3cdcd22",
   "metadata": {},
   "outputs": [],
   "source": []
  },
  {
   "cell_type": "code",
   "execution_count": null,
   "id": "231ad9ff",
   "metadata": {},
   "outputs": [],
   "source": []
  },
  {
   "cell_type": "code",
   "execution_count": null,
   "id": "1ff39402",
   "metadata": {},
   "outputs": [],
   "source": []
  },
  {
   "cell_type": "code",
   "execution_count": 224,
   "id": "f8d5ec7f",
   "metadata": {},
   "outputs": [
    {
     "data": {
      "text/plain": [
       "count    2177.000000\n",
       "mean        1.022049\n",
       "std         0.265114\n",
       "min         0.000000\n",
       "25%         1.000000\n",
       "50%         1.000000\n",
       "75%         1.000000\n",
       "max         4.000000\n",
       "Name: livingRoom, dtype: float64"
      ]
     },
     "execution_count": 224,
     "metadata": {},
     "output_type": "execute_result"
    }
   ],
   "source": [
    "df['livingRoom'].describe()"
   ]
  },
  {
   "cell_type": "code",
   "execution_count": null,
   "id": "d964a03a",
   "metadata": {},
   "outputs": [],
   "source": []
  },
  {
   "cell_type": "code",
   "execution_count": null,
   "id": "459d1005",
   "metadata": {},
   "outputs": [],
   "source": []
  },
  {
   "cell_type": "code",
   "execution_count": 225,
   "id": "26537063",
   "metadata": {},
   "outputs": [
    {
     "data": {
      "text/plain": [
       "bathRoom\n",
       "1     1263\n",
       "2      437\n",
       "3      308\n",
       "4      111\n",
       "0       29\n",
       "5       17\n",
       "6        6\n",
       "8        2\n",
       "7        1\n",
       "19       1\n",
       "21       1\n",
       "9        1\n",
       "Name: count, dtype: int64"
      ]
     },
     "execution_count": 225,
     "metadata": {},
     "output_type": "execute_result"
    }
   ],
   "source": [
    "df['bathRoom'].value_counts()"
   ]
  },
  {
   "cell_type": "code",
   "execution_count": 226,
   "id": "ae6d927c",
   "metadata": {},
   "outputs": [
    {
     "data": {
      "text/html": [
       "<div>\n",
       "<style scoped>\n",
       "    .dataframe tbody tr th:only-of-type {\n",
       "        vertical-align: middle;\n",
       "    }\n",
       "\n",
       "    .dataframe tbody tr th {\n",
       "        vertical-align: top;\n",
       "    }\n",
       "\n",
       "    .dataframe thead th {\n",
       "        text-align: right;\n",
       "    }\n",
       "</style>\n",
       "<table border=\"1\" class=\"dataframe\">\n",
       "  <thead>\n",
       "    <tr style=\"text-align: right;\">\n",
       "      <th></th>\n",
       "      <th>listingId</th>\n",
       "      <th>title</th>\n",
       "      <th>description</th>\n",
       "      <th>price</th>\n",
       "      <th>currency</th>\n",
       "      <th>residence</th>\n",
       "      <th>timeShareName</th>\n",
       "      <th>room</th>\n",
       "      <th>livingRoom</th>\n",
       "      <th>bathRoom</th>\n",
       "      <th>...</th>\n",
       "      <th>latitude</th>\n",
       "      <th>longitude</th>\n",
       "      <th>distance_to_sakarya_center_km</th>\n",
       "      <th>distance_to_karasu_km</th>\n",
       "      <th>distance_to_sapanca_km</th>\n",
       "      <th>distance_to_sakarya_university_km</th>\n",
       "      <th>sakarya_center_category</th>\n",
       "      <th>karasu_category</th>\n",
       "      <th>sapanca_category</th>\n",
       "      <th>sakarya_university_category</th>\n",
       "    </tr>\n",
       "  </thead>\n",
       "  <tbody>\n",
       "    <tr>\n",
       "      <th>1227</th>\n",
       "      <td>152668-7</td>\n",
       "      <td>KARASU MERKEZDE STAT YANI 3+1 ZEMİN KAT</td>\n",
       "      <td>&lt;h3&gt;&lt;span style=\\\"font-size: 12px;\\\"&gt;﻿&lt;/span&gt;S...</td>\n",
       "      <td>2200000</td>\n",
       "      <td>TL</td>\n",
       "      <td>{\"id\":101004,\"name\":\"Daire\"}</td>\n",
       "      <td>NaN</td>\n",
       "      <td>3</td>\n",
       "      <td>1</td>\n",
       "      <td>19</td>\n",
       "      <td>...</td>\n",
       "      <td>41.094950</td>\n",
       "      <td>30.697898</td>\n",
       "      <td>42.794367</td>\n",
       "      <td>79.814264</td>\n",
       "      <td>66.999913</td>\n",
       "      <td>42.730601</td>\n",
       "      <td>20+ km</td>\n",
       "      <td>20+ km</td>\n",
       "      <td>20+ km</td>\n",
       "      <td>20+ km</td>\n",
       "    </tr>\n",
       "    <tr>\n",
       "      <th>2084</th>\n",
       "      <td>141500-58</td>\n",
       "      <td>MÜSTAKİL GÖL MANZARALI VİLLAMIZ SATILIK...VİLL...</td>\n",
       "      <td>&lt;p&gt;MÜSTAKİL OLUP MEYVE AĞAÇLARI İLE DOLU ARSAM...</td>\n",
       "      <td>15000000</td>\n",
       "      <td>TL</td>\n",
       "      <td>{\"id\":101007,\"name\":\"Müstakil Ev\"}</td>\n",
       "      <td>NaN</td>\n",
       "      <td>4</td>\n",
       "      <td>1</td>\n",
       "      <td>21</td>\n",
       "      <td>...</td>\n",
       "      <td>40.682743</td>\n",
       "      <td>30.228176</td>\n",
       "      <td>18.389540</td>\n",
       "      <td>115.608115</td>\n",
       "      <td>12.003768</td>\n",
       "      <td>18.781531</td>\n",
       "      <td>10-20 km</td>\n",
       "      <td>20+ km</td>\n",
       "      <td>10-20 km</td>\n",
       "      <td>10-20 km</td>\n",
       "    </tr>\n",
       "  </tbody>\n",
       "</table>\n",
       "<p>2 rows × 77 columns</p>\n",
       "</div>"
      ],
      "text/plain": [
       "      listingId                                              title  \\\n",
       "1227   152668-7            KARASU MERKEZDE STAT YANI 3+1 ZEMİN KAT   \n",
       "2084  141500-58  MÜSTAKİL GÖL MANZARALI VİLLAMIZ SATILIK...VİLL...   \n",
       "\n",
       "                                            description     price currency  \\\n",
       "1227  <h3><span style=\\\"font-size: 12px;\\\">﻿</span>S...   2200000       TL   \n",
       "2084  <p>MÜSTAKİL OLUP MEYVE AĞAÇLARI İLE DOLU ARSAM...  15000000       TL   \n",
       "\n",
       "                               residence timeShareName  room  livingRoom  \\\n",
       "1227        {\"id\":101004,\"name\":\"Daire\"}           NaN     3           1   \n",
       "2084  {\"id\":101007,\"name\":\"Müstakil Ev\"}           NaN     4           1   \n",
       "\n",
       "      bathRoom  ...   latitude  longitude  distance_to_sakarya_center_km  \\\n",
       "1227        19  ...  41.094950  30.697898                      42.794367   \n",
       "2084        21  ...  40.682743  30.228176                      18.389540   \n",
       "\n",
       "     distance_to_karasu_km  distance_to_sapanca_km  \\\n",
       "1227             79.814264               66.999913   \n",
       "2084            115.608115               12.003768   \n",
       "\n",
       "      distance_to_sakarya_university_km  sakarya_center_category  \\\n",
       "1227                          42.730601                   20+ km   \n",
       "2084                          18.781531                 10-20 km   \n",
       "\n",
       "     karasu_category  sapanca_category sakarya_university_category  \n",
       "1227          20+ km            20+ km                      20+ km  \n",
       "2084          20+ km          10-20 km                    10-20 km  \n",
       "\n",
       "[2 rows x 77 columns]"
      ]
     },
     "execution_count": 226,
     "metadata": {},
     "output_type": "execute_result"
    }
   ],
   "source": [
    "# 19 ve 21 olan bathRoom değerine sahip satırları bulalım\n",
    "df[df['bathRoom'].isin([19, 21])]\n"
   ]
  },
  {
   "cell_type": "code",
   "execution_count": 227,
   "id": "4b0e205d",
   "metadata": {},
   "outputs": [],
   "source": [
    "# Değerleri manuel olarak düzeltme\n",
    "df['bathRoom'] = df['bathRoom'].replace({19: 1, 21: 2})"
   ]
  },
  {
   "cell_type": "code",
   "execution_count": 228,
   "id": "64b185d1",
   "metadata": {},
   "outputs": [
    {
     "name": "stdout",
     "output_type": "stream",
     "text": [
      "Empty DataFrame\n",
      "Columns: [listingId, title, description, price, currency, residence, timeShareName, room, livingRoom, bathRoom, isMapHidden, mapLocation, streetView, sqm, numberOfBuilding, entranceHeight, bedCount, floor, age, heating, fuel, build, buildState, land, usage, credit, barter, landRegisterName, housingComplex, rental, authorizedRealtor, furnished, detailUrl, detailDescription, firm, firmUser, category, subCategory, mainCategory, fee, roomAndLivingRoom, isVideoTypeVimeo, onlineVisit, hasBranded, hasUpdateBooster, registerState, listingPropertyOrder, image_count, bulunan_yonler, property_type, Contact, inAttributes_count, outAttributes_count, locationAttributes_count, inAttributes_count_is_missing, outAttributes_count_is_missing, locationAttributes_count_is_missing, price_category, fee_is_missing, days_since_update, Stale_corrected, duration, area_name, district_name, county_name, city_name, tier, latitude, longitude, distance_to_sakarya_center_km, distance_to_karasu_km, distance_to_sapanca_km, distance_to_sakarya_university_km, sakarya_center_category, karasu_category, sapanca_category, sakarya_university_category]\n",
      "Index: []\n",
      "\n",
      "[0 rows x 77 columns]\n"
     ]
    }
   ],
   "source": [
    "# 19 ve 21 olan satırları gör\n",
    "print(df[df['bathRoom'].isin([19, 21])])"
   ]
  },
  {
   "cell_type": "code",
   "execution_count": 229,
   "id": "879e5dc5",
   "metadata": {},
   "outputs": [
    {
     "data": {
      "text/plain": [
       "0"
      ]
     },
     "execution_count": 229,
     "metadata": {},
     "output_type": "execute_result"
    }
   ],
   "source": [
    "df['bathRoom'].isnull().sum()"
   ]
  },
  {
   "cell_type": "code",
   "execution_count": null,
   "id": "31631fd9",
   "metadata": {},
   "outputs": [],
   "source": [
    "\n"
   ]
  },
  {
   "cell_type": "markdown",
   "id": "b5e0fce7",
   "metadata": {},
   "source": [
    "## Banyo Sayısı Doldurma İşlemi\n",
    "\n",
    "Bu adımda, **banyo sayısı (bathRoom)** eksik veya aykırı olan verileri doğru bir şekilde doldurmak amacıyla kullanılan bir fonksiyon geliştirilmektedir. Verilerin doğru bir şekilde işlenebilmesi için aşağıdaki adımlar takip edilmiştir:\n",
    "\n",
    "### 1. **Aykırı Değerlerin Hesaplanması**\n",
    "\n",
    "Öncelikle, banyo sayısındaki aykırı değerler tespit edilmiştir. Aykırı değerleri belirlemek için **İnterquartile Range (IQR)** kullanılmıştır. Bu yöntemle:\n",
    "\n",
    "- **Alt sınır (lower bound)**: Q1 - 1.5 * IQR\n",
    "- **Üst sınır (upper bound)**: Q3 + 1.5 * IQR\n",
    "\n",
    "Bu sınırlar dışındaki veriler aykırı olarak kabul edilir. Aykırı değerler, belirlenen sınırların dışında kalan **bathRoom** verilerini temsil eder.\n",
    "\n",
    "### 2. **Aykırı Değerleri ve Eksik Verileri Filtreleme**\n",
    "\n",
    "Aykırı değerler ve eksik veriler filtrelenerek, yalnızca geçerli verilerle işlem yapılmıştır. Geçerli (normal) verilerdeki oda ve banyo sayıları arasındaki ilişki analiz edilmiştir.\n",
    "\n",
    "### 3. **Oda ve Banyo Sayısı Oranı**\n",
    "\n",
    "Oda sayısı ile banyo sayısı arasındaki ilişkiyi belirlemek amacıyla **oda/banyo oranı** hesaplanmıştır. Bu oran, geçerli verilerdeki oda sayısının, banyo sayısına oranı olarak hesaplanmıştır. Bu oran, ortalama 2.5 civarındadır.\n",
    "\n",
    "### 4. **Banyo Sayısı Tahmin Fonksiyonu**\n",
    "\n",
    "Oda sayısına bağlı olarak banyo sayısını tahmin etmek için bir fonksiyon geliştirilmiştir. Bu fonksiyon, geçerli oda sayısını kullanarak banyo sayısını tahmin eder. Fonksiyonun temel mantığı şu şekildedir:\n",
    "\n",
    "- Oda sayısı ile banyo sayısı arasındaki ilişkiyi kullanarak banyo sayısını tahmin et.\n",
    "- Eğer oda sayısı 0 ya da negatifse, tahmin yapılmaz ve `NaN` döndürülür.\n",
    "\n",
    "### 5. **Açıklamalarda Banyo Sayısının Bulunması**\n",
    "\n",
    "Eğer oda sayısı ile banyo sayısı arasındaki ilişki kullanılarak tahmin yapılamazsa, satırdaki açıklamalara bakılır. Açıklama metinlerinde \"banyo\" kelimesi aranır ve buradan çıkarılabilecek banyo sayısı kullanılarak **bathRoom** değeri güncellenir. \n",
    "\n",
    "- Açıklamalarda \"banyo\" kelimesi ve ardından bir sayı varsa, bu sayı kullanılarak banyo sayısı güncellenir.\n",
    "\n",
    "### 6. **Banyo Sayısı Güncellenmesi**\n",
    "\n",
    "Bütün bu adımlar tamamlandıktan sonra, **bathRoom** sütunundaki eksik veya aykırı banyo sayısı değerleri doldurulmuştur. Fonksiyon, her bir satır için tekrarlanarak verileri günceller.\n",
    "\n",
    "Bu işlem, verilerdeki eksiklikleri gidermek ve banyo sayısının doğruluğunu artırmak için etkili bir yöntemdir.\n"
   ]
  },
  {
   "cell_type": "code",
   "execution_count": 230,
   "id": "17843cc4",
   "metadata": {},
   "outputs": [
    {
     "data": {
      "text/plain": [
       "bathRoom\n",
       "1    1264\n",
       "2     438\n",
       "3     308\n",
       "4     111\n",
       "0      29\n",
       "5      17\n",
       "6       6\n",
       "8       2\n",
       "7       1\n",
       "9       1\n",
       "Name: count, dtype: int64"
      ]
     },
     "execution_count": 230,
     "metadata": {},
     "output_type": "execute_result"
    }
   ],
   "source": [
    "df['bathRoom'].value_counts()"
   ]
  },
  {
   "cell_type": "code",
   "execution_count": 231,
   "id": "3d91e4fb",
   "metadata": {},
   "outputs": [
    {
     "data": {
      "image/png": "[encoded data removed]",
      "text/plain": [
       "<Figure size 1000x400 with 1 Axes>"
      ]
     },
     "metadata": {},
     "output_type": "display_data"
    }
   ],
   "source": [
    "\n",
    "\n",
    "# Görselleştirme ile kontrol\n",
    "plt.figure(figsize=(10, 4))\n",
    "sns.boxplot(x=df['bathRoom'])\n",
    "plt.title('Güncellenmiş Banyo Sayısı (bathRoom)')\n",
    "plt.tight_layout()\n",
    "plt.show()"
   ]
  },
  {
   "cell_type": "code",
   "execution_count": 232,
   "id": "c8401ae3",
   "metadata": {},
   "outputs": [
    {
     "name": "stdout",
     "output_type": "stream",
     "text": [
      "Aykırı Değer Sınırları: Alt = -0.5, Üst = 3.5\n",
      "Toplam aykırı değer sayısı: 138\n"
     ]
    }
   ],
   "source": [
    "# Aykırı değer sınırlarını hesapla\n",
    "q1 = df['bathRoom'].quantile(0.25)\n",
    "q3 = df['bathRoom'].quantile(0.75)\n",
    "iqr = q3 - q1\n",
    "\n",
    "alt_sinir = q1 - 1.5 * iqr\n",
    "ust_sinir = q3 + 1.5 * iqr\n",
    "\n",
    "# Aykırı değerleri filtrele\n",
    "outliers = df[(df['bathRoom'] < alt_sinir) | (df['bathRoom'] > ust_sinir)]['bathRoom']\n",
    "\n",
    "print(f\"Aykırı Değer Sınırları: Alt = {alt_sinir}, Üst = {ust_sinir}\")\n",
    "print(f\"Toplam aykırı değer sayısı: {len(outliers)}\")\n"
   ]
  },
  {
   "cell_type": "code",
   "execution_count": 233,
   "id": "23b9adff",
   "metadata": {},
   "outputs": [],
   "source": [
    "# Aykırı olmayan veriler\n",
    "normal_veriler = df[(df['bathRoom'] >= alt_sinir) & (df['bathRoom'] <= ust_sinir) & (df['bathRoom'] > 0)]\n",
    "\n",
    "# Oda/banyo oranı\n",
    "oda_banyo_orani = normal_veriler['room'] / normal_veriler['bathRoom']\n",
    "ortalama_oran = oda_banyo_orani.mean()\n",
    "\n",
    "# Oda sayısına göre banyo sayısı tahmin fonksiyonu\n",
    "def banyo_tahmin_et(room):\n",
    "    if room and room > 0:\n",
    "        return max(1, round(room / ortalama_oran))\n",
    "    return np.nan\n",
    "\n"
   ]
  },
  {
   "cell_type": "code",
   "execution_count": 234,
   "id": "f3e19b28",
   "metadata": {},
   "outputs": [],
   "source": [
    "# Ana düzeltici fonksiyon\n",
    "def banyo_degeri_bul_akilli(row):\n",
    "    mevcut = row['bathRoom']\n",
    "    if pd.isna(mevcut) or (mevcut < alt_sinir) or (mevcut > ust_sinir):\n",
    "        for col in ['description', 'detailDescription']:\n",
    "            if isinstance(row.get(col), str):\n",
    "                match = re.search(r'(\\d+)\\s*banyo', row[col].lower())\n",
    "                if match:\n",
    "                    return int(match.group(1))\n",
    "        \n",
    "        if isinstance(row.get('attributes'), str):\n",
    "            try:\n",
    "                attr = json.loads(row['attributes'])\n",
    "                if 'banyo' in attr:\n",
    "                    return int(attr['banyo'])\n",
    "                elif 'bathroom' in attr:\n",
    "                    return int(attr['bathroom'])\n",
    "                elif 'WC' in attr:\n",
    "                    return int(attr['WC'])\n",
    "                elif 'wc' in attr:\n",
    "                    return int(attr['wc'])\n",
    "                elif 'tuvalet' in attr:\n",
    "                    return int(attr['tuvalet'])\n",
    "            except:\n",
    "                pass\n",
    "\n",
    "        return banyo_tahmin_et(row.get('room'))\n",
    "\n",
    "    return mevcut\n"
   ]
  },
  {
   "cell_type": "code",
   "execution_count": 235,
   "id": "34224519",
   "metadata": {},
   "outputs": [
    {
     "data": {
      "image/png": "[encoded data removed]",
      "text/plain": [
       "<Figure size 1000x400 with 1 Axes>"
      ]
     },
     "metadata": {},
     "output_type": "display_data"
    }
   ],
   "source": [
    "\n",
    "# Güncelleme işlemi (aynı sütunun üzerine yaz)\n",
    "df['bathRoom'] = df.apply(banyo_degeri_bul_akilli, axis=1)\n",
    "\n",
    "# Görselleştirme ile kontrol\n",
    "plt.figure(figsize=(10, 4))\n",
    "sns.boxplot(x=df['bathRoom'])\n",
    "plt.title('Güncellenmiş Banyo Sayısı (bathRoom)')\n",
    "plt.tight_layout()\n",
    "plt.show()\n"
   ]
  },
  {
   "cell_type": "code",
   "execution_count": 236,
   "id": "9735ff69",
   "metadata": {},
   "outputs": [
    {
     "data": {
      "text/plain": [
       "1227    1\n",
       "2084    2\n",
       "Name: bathRoom, dtype: int64"
      ]
     },
     "execution_count": 236,
     "metadata": {},
     "output_type": "execute_result"
    }
   ],
   "source": [
    "df[df['listingId'].isin(['152668-7', '141500-58'])]['bathRoom']\n"
   ]
  },
  {
   "cell_type": "code",
   "execution_count": 237,
   "id": "6bb466f9",
   "metadata": {},
   "outputs": [
    {
     "name": "stdout",
     "output_type": "stream",
     "text": [
      "🔍 Güncel 'bathRoom' sütunundaki aykırı değer sayısı: 24\n"
     ]
    }
   ],
   "source": [
    "# IQR sınırlarını hesapla\n",
    "q1 = df['bathRoom'].quantile(0.25)\n",
    "q3 = df['bathRoom'].quantile(0.75)\n",
    "iqr = q3 - q1\n",
    "alt_sinir = q1 - 1.5 * iqr\n",
    "ust_sinir = q3 + 1.5 * iqr\n",
    "\n",
    "# Aykırı değerleri bul\n",
    "aykiri_maskesi = (df['bathRoom'] < alt_sinir) | (df['bathRoom'] > ust_sinir)\n",
    "aykiri_sayisi = aykiri_maskesi.sum()\n",
    "\n",
    "print(f\"🔍 Güncel 'bathRoom' sütunundaki aykırı değer sayısı: {aykiri_sayisi}\")\n"
   ]
  },
  {
   "cell_type": "code",
   "execution_count": 238,
   "id": "a43fdfdc",
   "metadata": {},
   "outputs": [
    {
     "data": {
      "text/plain": [
       "count    2177.000000\n",
       "mean        1.576481\n",
       "std         0.833996\n",
       "min         0.000000\n",
       "25%         1.000000\n",
       "50%         1.000000\n",
       "75%         2.000000\n",
       "max         8.000000\n",
       "Name: bathRoom, dtype: float64"
      ]
     },
     "execution_count": 238,
     "metadata": {},
     "output_type": "execute_result"
    }
   ],
   "source": [
    "df['bathRoom'].describe()"
   ]
  },
  {
   "cell_type": "code",
   "execution_count": 239,
   "id": "36ca8277",
   "metadata": {},
   "outputs": [
    {
     "data": {
      "text/plain": [
       "bathRoom\n",
       "1    1265\n",
       "2     520\n",
       "3     339\n",
       "0      29\n",
       "4      15\n",
       "5       7\n",
       "8       1\n",
       "7       1\n",
       "Name: count, dtype: int64"
      ]
     },
     "execution_count": 239,
     "metadata": {},
     "output_type": "execute_result"
    }
   ],
   "source": [
    "df['bathRoom'].value_counts()"
   ]
  },
  {
   "cell_type": "code",
   "execution_count": 240,
   "id": "045f3c5d",
   "metadata": {},
   "outputs": [
    {
     "data": {
      "text/html": [
       "<div>\n",
       "<style scoped>\n",
       "    .dataframe tbody tr th:only-of-type {\n",
       "        vertical-align: middle;\n",
       "    }\n",
       "\n",
       "    .dataframe tbody tr th {\n",
       "        vertical-align: top;\n",
       "    }\n",
       "\n",
       "    .dataframe thead th {\n",
       "        text-align: right;\n",
       "    }\n",
       "</style>\n",
       "<table border=\"1\" class=\"dataframe\">\n",
       "  <thead>\n",
       "    <tr style=\"text-align: right;\">\n",
       "      <th></th>\n",
       "      <th>listingId</th>\n",
       "      <th>title</th>\n",
       "      <th>description</th>\n",
       "      <th>price</th>\n",
       "      <th>currency</th>\n",
       "      <th>residence</th>\n",
       "      <th>timeShareName</th>\n",
       "      <th>room</th>\n",
       "      <th>livingRoom</th>\n",
       "      <th>bathRoom</th>\n",
       "      <th>...</th>\n",
       "      <th>latitude</th>\n",
       "      <th>longitude</th>\n",
       "      <th>distance_to_sakarya_center_km</th>\n",
       "      <th>distance_to_karasu_km</th>\n",
       "      <th>distance_to_sapanca_km</th>\n",
       "      <th>distance_to_sakarya_university_km</th>\n",
       "      <th>sakarya_center_category</th>\n",
       "      <th>karasu_category</th>\n",
       "      <th>sapanca_category</th>\n",
       "      <th>sakarya_university_category</th>\n",
       "    </tr>\n",
       "  </thead>\n",
       "  <tbody>\n",
       "    <tr>\n",
       "      <th>21</th>\n",
       "      <td>138402-2086</td>\n",
       "      <td>FİYAT DÜŞTÜ!! SATILIK SERDİVAN'DA MÜSTAKİL BAH...</td>\n",
       "      <td>&lt;p&gt;&lt;br&gt;&lt;/p&gt; \\n&lt;p&gt;&lt;br&gt;&lt;/p&gt; \\n&lt;p style=\\\"color:r...</td>\n",
       "      <td>12350000</td>\n",
       "      <td>TL</td>\n",
       "      <td>NaN</td>\n",
       "      <td>NaN</td>\n",
       "      <td>5</td>\n",
       "      <td>1</td>\n",
       "      <td>5</td>\n",
       "      <td>...</td>\n",
       "      <td>40.793101</td>\n",
       "      <td>30.360920</td>\n",
       "      <td>3.852736</td>\n",
       "      <td>103.883496</td>\n",
       "      <td>24.854305</td>\n",
       "      <td>4.794555</td>\n",
       "      <td>0-5 km</td>\n",
       "      <td>20+ km</td>\n",
       "      <td>20+ km</td>\n",
       "      <td>0-5 km</td>\n",
       "    </tr>\n",
       "    <tr>\n",
       "      <th>37</th>\n",
       "      <td>134880-745</td>\n",
       "      <td>LÜKS TRİPLEKS VİLLA REMAX AY ERTANCAN ERYADINDAN</td>\n",
       "      <td>&lt;p&gt;LÜKS TRİPLEKS VİLLA REMAX AY ERTANCAN ERYAD...</td>\n",
       "      <td>28500000</td>\n",
       "      <td>TL</td>\n",
       "      <td>NaN</td>\n",
       "      <td>NaN</td>\n",
       "      <td>6</td>\n",
       "      <td>1</td>\n",
       "      <td>5</td>\n",
       "      <td>...</td>\n",
       "      <td>40.852817</td>\n",
       "      <td>30.302116</td>\n",
       "      <td>11.716116</td>\n",
       "      <td>96.880194</td>\n",
       "      <td>24.211501</td>\n",
       "      <td>12.649536</td>\n",
       "      <td>10-20 km</td>\n",
       "      <td>20+ km</td>\n",
       "      <td>20+ km</td>\n",
       "      <td>10-20 km</td>\n",
       "    </tr>\n",
       "    <tr>\n",
       "      <th>159</th>\n",
       "      <td>0-43684653</td>\n",
       "      <td>Sapanca'da  güvenlikli site içerisinde satılık...</td>\n",
       "      <td>&lt;p&gt;Sapanca’da Satılık Lüks Villa&lt;/p&gt;\\n&lt;p&gt;&lt;br&gt;&lt;...</td>\n",
       "      <td>16500000</td>\n",
       "      <td>TL</td>\n",
       "      <td>{\"id\":101001,\"name\":\"Bahçe Dubleksi\"}</td>\n",
       "      <td>\"\"</td>\n",
       "      <td>5</td>\n",
       "      <td>1</td>\n",
       "      <td>5</td>\n",
       "      <td>...</td>\n",
       "      <td>40.679142</td>\n",
       "      <td>30.176419</td>\n",
       "      <td>22.265703</td>\n",
       "      <td>116.112481</td>\n",
       "      <td>7.938149</td>\n",
       "      <td>22.740243</td>\n",
       "      <td>20+ km</td>\n",
       "      <td>20+ km</td>\n",
       "      <td>5-10 km</td>\n",
       "      <td>20+ km</td>\n",
       "    </tr>\n",
       "    <tr>\n",
       "      <th>353</th>\n",
       "      <td>3995-26559</td>\n",
       "      <td>REMAX REKOR ELİF GÜMRAH Sapanca Kuruçeşme Mah....</td>\n",
       "      <td>&lt;p style=\\\"margin-left: 10em;\\\"&gt;&lt;strong style=...</td>\n",
       "      <td>52000000</td>\n",
       "      <td>TL</td>\n",
       "      <td>{\"id\":101008,\"name\":\"Tripleks\"}</td>\n",
       "      <td>NaN</td>\n",
       "      <td>5</td>\n",
       "      <td>2</td>\n",
       "      <td>5</td>\n",
       "      <td>...</td>\n",
       "      <td>40.677715</td>\n",
       "      <td>30.282924</td>\n",
       "      <td>15.328831</td>\n",
       "      <td>116.232631</td>\n",
       "      <td>16.648429</td>\n",
       "      <td>15.537437</td>\n",
       "      <td>10-20 km</td>\n",
       "      <td>20+ km</td>\n",
       "      <td>10-20 km</td>\n",
       "      <td>10-20 km</td>\n",
       "    </tr>\n",
       "    <tr>\n",
       "      <th>406</th>\n",
       "      <td>133590-719</td>\n",
       "      <td>SAPANCA KURTKÖYDE SİTE İÇİ HAVUZLU SIFIR VİLLA</td>\n",
       "      <td>&lt;span style=\\\"-webkit-tap-highlight-color: rgb...</td>\n",
       "      <td>20750000</td>\n",
       "      <td>TL</td>\n",
       "      <td>{\"id\":101007,\"name\":\"Müstakil Ev\"}</td>\n",
       "      <td>\"\"</td>\n",
       "      <td>4</td>\n",
       "      <td>1</td>\n",
       "      <td>5</td>\n",
       "      <td>...</td>\n",
       "      <td>40.690167</td>\n",
       "      <td>30.200390</td>\n",
       "      <td>19.898397</td>\n",
       "      <td>114.820025</td>\n",
       "      <td>9.535619</td>\n",
       "      <td>20.375753</td>\n",
       "      <td>10-20 km</td>\n",
       "      <td>20+ km</td>\n",
       "      <td>5-10 km</td>\n",
       "      <td>20+ km</td>\n",
       "    </tr>\n",
       "    <tr>\n",
       "      <th>561</th>\n",
       "      <td>148295-79</td>\n",
       "      <td>SAPANCA'DA SEÇKİN ZEVKLER İÇİN DOĞANIN KALBİND...</td>\n",
       "      <td>&lt;div style=\\\"text-align:center\\\"&gt; \\n&lt;/div&gt; \\n&lt;...</td>\n",
       "      <td>11100000</td>\n",
       "      <td>TL</td>\n",
       "      <td>NaN</td>\n",
       "      <td>NaN</td>\n",
       "      <td>4</td>\n",
       "      <td>1</td>\n",
       "      <td>5</td>\n",
       "      <td>...</td>\n",
       "      <td>40.682090</td>\n",
       "      <td>30.286104</td>\n",
       "      <td>14.787593</td>\n",
       "      <td>115.756474</td>\n",
       "      <td>16.827054</td>\n",
       "      <td>15.004828</td>\n",
       "      <td>10-20 km</td>\n",
       "      <td>20+ km</td>\n",
       "      <td>10-20 km</td>\n",
       "      <td>10-20 km</td>\n",
       "    </tr>\n",
       "    <tr>\n",
       "      <th>1530</th>\n",
       "      <td>145085-44</td>\n",
       "      <td>DOĞA GAYRİMENKUL DEN NARLI BAHÇE VİLLALARI</td>\n",
       "      <td>&lt;p&gt;Göl mahallesinde tamamlanmak üzere olan &amp;nb...</td>\n",
       "      <td>15000000</td>\n",
       "      <td>TL</td>\n",
       "      <td>NaN</td>\n",
       "      <td>NaN</td>\n",
       "      <td>4</td>\n",
       "      <td>1</td>\n",
       "      <td>5</td>\n",
       "      <td>...</td>\n",
       "      <td>40.691500</td>\n",
       "      <td>30.279690</td>\n",
       "      <td>14.418400</td>\n",
       "      <td>114.693607</td>\n",
       "      <td>16.150802</td>\n",
       "      <td>14.706109</td>\n",
       "      <td>10-20 km</td>\n",
       "      <td>20+ km</td>\n",
       "      <td>10-20 km</td>\n",
       "      <td>10-20 km</td>\n",
       "    </tr>\n",
       "  </tbody>\n",
       "</table>\n",
       "<p>7 rows × 77 columns</p>\n",
       "</div>"
      ],
      "text/plain": [
       "        listingId                                              title  \\\n",
       "21    138402-2086  FİYAT DÜŞTÜ!! SATILIK SERDİVAN'DA MÜSTAKİL BAH...   \n",
       "37     134880-745   LÜKS TRİPLEKS VİLLA REMAX AY ERTANCAN ERYADINDAN   \n",
       "159    0-43684653  Sapanca'da  güvenlikli site içerisinde satılık...   \n",
       "353    3995-26559  REMAX REKOR ELİF GÜMRAH Sapanca Kuruçeşme Mah....   \n",
       "406    133590-719     SAPANCA KURTKÖYDE SİTE İÇİ HAVUZLU SIFIR VİLLA   \n",
       "561     148295-79  SAPANCA'DA SEÇKİN ZEVKLER İÇİN DOĞANIN KALBİND...   \n",
       "1530    145085-44         DOĞA GAYRİMENKUL DEN NARLI BAHÇE VİLLALARI   \n",
       "\n",
       "                                            description     price currency  \\\n",
       "21    <p><br></p> \\n<p><br></p> \\n<p style=\\\"color:r...  12350000       TL   \n",
       "37    <p>LÜKS TRİPLEKS VİLLA REMAX AY ERTANCAN ERYAD...  28500000       TL   \n",
       "159   <p>Sapanca’da Satılık Lüks Villa</p>\\n<p><br><...  16500000       TL   \n",
       "353   <p style=\\\"margin-left: 10em;\\\"><strong style=...  52000000       TL   \n",
       "406   <span style=\\\"-webkit-tap-highlight-color: rgb...  20750000       TL   \n",
       "561   <div style=\\\"text-align:center\\\"> \\n</div> \\n<...  11100000       TL   \n",
       "1530  <p>Göl mahallesinde tamamlanmak üzere olan &nb...  15000000       TL   \n",
       "\n",
       "                                  residence timeShareName  room  livingRoom  \\\n",
       "21                                      NaN           NaN     5           1   \n",
       "37                                      NaN           NaN     6           1   \n",
       "159   {\"id\":101001,\"name\":\"Bahçe Dubleksi\"}            \"\"     5           1   \n",
       "353         {\"id\":101008,\"name\":\"Tripleks\"}           NaN     5           2   \n",
       "406      {\"id\":101007,\"name\":\"Müstakil Ev\"}            \"\"     4           1   \n",
       "561                                     NaN           NaN     4           1   \n",
       "1530                                    NaN           NaN     4           1   \n",
       "\n",
       "      bathRoom  ...   latitude  longitude  distance_to_sakarya_center_km  \\\n",
       "21           5  ...  40.793101  30.360920                       3.852736   \n",
       "37           5  ...  40.852817  30.302116                      11.716116   \n",
       "159          5  ...  40.679142  30.176419                      22.265703   \n",
       "353          5  ...  40.677715  30.282924                      15.328831   \n",
       "406          5  ...  40.690167  30.200390                      19.898397   \n",
       "561          5  ...  40.682090  30.286104                      14.787593   \n",
       "1530         5  ...  40.691500  30.279690                      14.418400   \n",
       "\n",
       "     distance_to_karasu_km  distance_to_sapanca_km  \\\n",
       "21              103.883496               24.854305   \n",
       "37               96.880194               24.211501   \n",
       "159             116.112481                7.938149   \n",
       "353             116.232631               16.648429   \n",
       "406             114.820025                9.535619   \n",
       "561             115.756474               16.827054   \n",
       "1530            114.693607               16.150802   \n",
       "\n",
       "      distance_to_sakarya_university_km  sakarya_center_category  \\\n",
       "21                             4.794555                   0-5 km   \n",
       "37                            12.649536                 10-20 km   \n",
       "159                           22.740243                   20+ km   \n",
       "353                           15.537437                 10-20 km   \n",
       "406                           20.375753                 10-20 km   \n",
       "561                           15.004828                 10-20 km   \n",
       "1530                          14.706109                 10-20 km   \n",
       "\n",
       "     karasu_category  sapanca_category sakarya_university_category  \n",
       "21            20+ km            20+ km                      0-5 km  \n",
       "37            20+ km            20+ km                    10-20 km  \n",
       "159           20+ km           5-10 km                      20+ km  \n",
       "353           20+ km          10-20 km                    10-20 km  \n",
       "406           20+ km           5-10 km                      20+ km  \n",
       "561           20+ km          10-20 km                    10-20 km  \n",
       "1530          20+ km          10-20 km                    10-20 km  \n",
       "\n",
       "[7 rows x 77 columns]"
      ]
     },
     "execution_count": 240,
     "metadata": {},
     "output_type": "execute_result"
    }
   ],
   "source": [
    "df[df['bathRoom'].isin([5])]"
   ]
  },
  {
   "cell_type": "code",
   "execution_count": 241,
   "id": "5a2f6f37",
   "metadata": {},
   "outputs": [
    {
     "data": {
      "text/html": [
       "<div>\n",
       "<style scoped>\n",
       "    .dataframe tbody tr th:only-of-type {\n",
       "        vertical-align: middle;\n",
       "    }\n",
       "\n",
       "    .dataframe tbody tr th {\n",
       "        vertical-align: top;\n",
       "    }\n",
       "\n",
       "    .dataframe thead th {\n",
       "        text-align: right;\n",
       "    }\n",
       "</style>\n",
       "<table border=\"1\" class=\"dataframe\">\n",
       "  <thead>\n",
       "    <tr style=\"text-align: right;\">\n",
       "      <th></th>\n",
       "      <th>listingId</th>\n",
       "      <th>title</th>\n",
       "      <th>description</th>\n",
       "      <th>price</th>\n",
       "      <th>currency</th>\n",
       "      <th>residence</th>\n",
       "      <th>timeShareName</th>\n",
       "      <th>room</th>\n",
       "      <th>livingRoom</th>\n",
       "      <th>bathRoom</th>\n",
       "      <th>...</th>\n",
       "      <th>latitude</th>\n",
       "      <th>longitude</th>\n",
       "      <th>distance_to_sakarya_center_km</th>\n",
       "      <th>distance_to_karasu_km</th>\n",
       "      <th>distance_to_sapanca_km</th>\n",
       "      <th>distance_to_sakarya_university_km</th>\n",
       "      <th>sakarya_center_category</th>\n",
       "      <th>karasu_category</th>\n",
       "      <th>sapanca_category</th>\n",
       "      <th>sakarya_university_category</th>\n",
       "    </tr>\n",
       "  </thead>\n",
       "  <tbody>\n",
       "    <tr>\n",
       "      <th>251</th>\n",
       "      <td>85563-1848</td>\n",
       "      <td>SAPANCA GÖL EMLAK TAN 670 M² ARSA IÇERISINDE 9...</td>\n",
       "      <td>&lt;h1&gt;&lt;strong style=\\\"font-family: Arial; color:...</td>\n",
       "      <td>35500000</td>\n",
       "      <td>TL</td>\n",
       "      <td>{\"id\":101008,\"name\":\"Tripleks\"}</td>\n",
       "      <td>NaN</td>\n",
       "      <td>9</td>\n",
       "      <td>2</td>\n",
       "      <td>8</td>\n",
       "      <td>...</td>\n",
       "      <td>40.693097</td>\n",
       "      <td>30.258112</td>\n",
       "      <td>15.680512</td>\n",
       "      <td>114.4722</td>\n",
       "      <td>14.318324</td>\n",
       "      <td>16.044329</td>\n",
       "      <td>10-20 km</td>\n",
       "      <td>20+ km</td>\n",
       "      <td>10-20 km</td>\n",
       "      <td>10-20 km</td>\n",
       "    </tr>\n",
       "  </tbody>\n",
       "</table>\n",
       "<p>1 rows × 77 columns</p>\n",
       "</div>"
      ],
      "text/plain": [
       "      listingId                                              title  \\\n",
       "251  85563-1848  SAPANCA GÖL EMLAK TAN 670 M² ARSA IÇERISINDE 9...   \n",
       "\n",
       "                                           description     price currency  \\\n",
       "251  <h1><strong style=\\\"font-family: Arial; color:...  35500000       TL   \n",
       "\n",
       "                           residence timeShareName  room  livingRoom  \\\n",
       "251  {\"id\":101008,\"name\":\"Tripleks\"}           NaN     9           2   \n",
       "\n",
       "     bathRoom  ...   latitude  longitude  distance_to_sakarya_center_km  \\\n",
       "251         8  ...  40.693097  30.258112                      15.680512   \n",
       "\n",
       "    distance_to_karasu_km  distance_to_sapanca_km  \\\n",
       "251              114.4722               14.318324   \n",
       "\n",
       "     distance_to_sakarya_university_km  sakarya_center_category  \\\n",
       "251                          16.044329                 10-20 km   \n",
       "\n",
       "    karasu_category  sapanca_category sakarya_university_category  \n",
       "251          20+ km          10-20 km                    10-20 km  \n",
       "\n",
       "[1 rows x 77 columns]"
      ]
     },
     "execution_count": 241,
     "metadata": {},
     "output_type": "execute_result"
    }
   ],
   "source": [
    "df[df['bathRoom'].isin([8])]"
   ]
  },
  {
   "cell_type": "code",
   "execution_count": null,
   "id": "5797f4d9",
   "metadata": {},
   "outputs": [],
   "source": []
  },
  {
   "cell_type": "code",
   "execution_count": null,
   "id": "5c675c8d",
   "metadata": {},
   "outputs": [],
   "source": []
  },
  {
   "cell_type": "code",
   "execution_count": 242,
   "id": "ad7323b3",
   "metadata": {},
   "outputs": [
    {
     "name": "stdout",
     "output_type": "stream",
     "text": [
      "📊 'bedCount' Sütun Özeti:\n",
      "- Veri tipi: float64\n",
      "- Toplam satır: 2177\n",
      "- Null (eksik) değer sayısı: 76 (3.49%)\n",
      "- 0 olan değer sayısı: 2101 (96.51%)\n",
      "- Null olmayan satır sayısı: 2101 (96.51%)\n"
     ]
    }
   ],
   "source": [
    "# bedCount sütununa genel bakış\n",
    "total_rows = len(df)\n",
    "null_count = df['bedCount'].isna().sum()\n",
    "zero_count = (df['bedCount'] == 0).sum()\n",
    "non_null_rows = df['bedCount'].notna().sum()\n",
    "\n",
    "print(\"📊 'bedCount' Sütun Özeti:\")\n",
    "print(f\"- Veri tipi: {df['bedCount'].dtype}\")\n",
    "print(f\"- Toplam satır: {total_rows}\")\n",
    "print(f\"- Null (eksik) değer sayısı: {null_count} ({(null_count / total_rows) * 100:.2f}%)\")\n",
    "print(f\"- 0 olan değer sayısı: {zero_count} ({(zero_count / total_rows) * 100:.2f}%)\")\n",
    "print(f\"- Null olmayan satır sayısı: {non_null_rows} ({(non_null_rows / total_rows) * 100:.2f}%)\")\n"
   ]
  },
  {
   "cell_type": "code",
   "execution_count": 243,
   "id": "a3134a1d",
   "metadata": {},
   "outputs": [],
   "source": [
    "#bedCount sütunu sadece 0 ve null değerlerden oluştuğu için siliyoruz\n",
    "\n",
    "df = df.drop(columns=['bedCount'])\n"
   ]
  },
  {
   "cell_type": "code",
   "execution_count": 244,
   "id": "247c19d5",
   "metadata": {},
   "outputs": [
    {
     "data": {
      "text/plain": [
       "0        {\"id\":101216,\"count\":4,\"name\":\"2. Kat\"}\n",
       "1        {\"id\":101216,\"count\":3,\"name\":\"2. Kat\"}\n",
       "2              {\"id\":null,\"count\":2,\"name\":null}\n",
       "3        {\"id\":101217,\"count\":3,\"name\":\"3. Kat\"}\n",
       "4              {\"id\":null,\"count\":3,\"name\":null}\n",
       "5    {\"id\":101214,\"count\":3,\"name\":\"En Üst Kat\"}\n",
       "6              {\"id\":null,\"count\":2,\"name\":null}\n",
       "7        {\"id\":101217,\"count\":3,\"name\":\"3. Kat\"}\n",
       "8              {\"id\":null,\"count\":3,\"name\":null}\n",
       "9              {\"id\":null,\"count\":3,\"name\":null}\n",
       "Name: floor, dtype: object"
      ]
     },
     "execution_count": 244,
     "metadata": {},
     "output_type": "execute_result"
    }
   ],
   "source": [
    "df['floor'].head(10)"
   ]
  },
  {
   "cell_type": "code",
   "execution_count": 245,
   "id": "7496c810",
   "metadata": {},
   "outputs": [
    {
     "data": {
      "text/plain": [
       "floor\n",
       "{\"id\":null,\"count\":3,\"name\":null}              340\n",
       "{\"id\":null,\"count\":2,\"name\":null}              217\n",
       "{\"id\":101216,\"count\":3,\"name\":\"2. Kat\"}        214\n",
       "{\"id\":101217,\"count\":3,\"name\":\"3. Kat\"}        168\n",
       "{\"id\":101237,\"count\":3,\"name\":\"Ara Kat\"}       132\n",
       "                                              ... \n",
       "{\"id\":101203,\"count\":4,\"name\":\"Bodrum\"}          1\n",
       "{\"id\":101205,\"count\":5,\"name\":\"Zemin\"}           1\n",
       "{\"id\":101207,\"count\":1,\"name\":\"Bah�e Kati\"}      1\n",
       "{\"id\":101215,\"count\":3,\"name\":\"1.Kat\"}           1\n",
       "{\"id\":101207,\"count\":5,\"name\":\"Bahçe Katı\"}      1\n",
       "Name: count, Length: 91, dtype: int64"
      ]
     },
     "execution_count": 245,
     "metadata": {},
     "output_type": "execute_result"
    }
   ],
   "source": [
    "df['floor'].value_counts()"
   ]
  },
  {
   "cell_type": "code",
   "execution_count": 246,
   "id": "4273ebca",
   "metadata": {},
   "outputs": [
    {
     "name": "stdout",
     "output_type": "stream",
     "text": [
      "Null değer sayısı: 10\n",
      "Null değer yüzdesi: %0.46\n"
     ]
    }
   ],
   "source": [
    "null_count = df['floor'].isna().sum()\n",
    "total_count = len(df)\n",
    "null_percentage = (null_count / total_count) * 100\n",
    "\n",
    "print(f\"Null değer sayısı: {null_count}\")\n",
    "print(f\"Null değer yüzdesi: %{null_percentage:.2f}\")"
   ]
  },
  {
   "cell_type": "markdown",
   "id": "f26678bd",
   "metadata": {},
   "source": [
    "## Floor (Kat) Verisinin İşlenmesi\n",
    "\n",
    "Bu adımda, **floor** sütunundaki eksik ve aykırı verileri temizlemek ve doğru bir şekilde işlemek amacıyla aşağıdaki işlemler yapılacaktır.\n",
    "\n",
    "### 1. **floor Sütununun Ayrılması**\n",
    "\n",
    "İlk olarak, **floor** sütunu 3 ayrı sütuna ayrılacaktır:\n",
    "\n",
    "- **floorID**: Binanın kat kimliği.\n",
    "- **floorName**: Binadaki kat ismi (örneğin, \"1. Kat\", \"2. Kat\", vb.).\n",
    "- **floorCount**: Binadaki toplam kat sayısı.\n",
    "\n",
    "Bu adım, kat ile ilgili bilgilerin daha anlamlı ve işlenebilir bir şekilde düzenlenmesini sağlar.\n",
    "\n",
    "### 2. **Null Değerlerin Tespiti ve Doldurulması**\n",
    "\n",
    "- **floorID** ve **floorName** sütunlarındaki **null** değerler kontrol edilecektir. Bu iki sütundaki eksik veriler, **birbirleriyle ilişkilendirilerek** tamamlanacaktır. Yani, bir sütundaki değer eksikse, diğer sütundaki veriler kullanılarak eksik veri tamamlanacaktır.\n",
    "\n",
    "- **floorCount** sütunundaki **null** değerler, **Description** ve diğer açıklama sütunlarındaki bilgilerle doldurulmaya çalışılacaktır. Eğer bu da mümkün değilse, eksik verileri doldurmak için farklı bir strateji belirlenerek uygun şekilde tamamlanacaktır.\n",
    "\n",
    "### 3. **floorFloat ve countFloat Sütunlarının Oluşturulması**\n",
    "\n",
    "- **floorName** sütununun sayısal bir karşılığını oluşturmak amacıyla yeni bir sütun **floorFloat** oluşturulacaktır. Bu sütun, **floorName** değerlerinin **float64** tipine dönüştürülmesiyle elde edilecektir.\n",
    "  \n",
    "- Aynı şekilde, **floorCount** sütunu da **float64** tipine dönüştürülerek yeni bir sütun olan **countFloat** oluşturulacaktır.\n",
    "\n",
    "### 4. **floorRatio Sütununun Hesaplanması**\n",
    "\n",
    "Son olarak, **floorFloat** ve **countFloat** sütunları kullanılarak **floorRatio** adlı yeni bir sütun oluşturulacaktır. Bu sütun, bir dairenin bulunduğu kat ile binadaki toplam kat sayısının oranını gösterecektir. Bu oran, dairenin hangi kat ve hangi binada yer aldığı bilgilerini daha anlaşılır bir şekilde sunacaktır.\n"
   ]
  },
  {
   "cell_type": "code",
   "execution_count": 247,
   "id": "ef57f49d",
   "metadata": {},
   "outputs": [
    {
     "name": "stdout",
     "output_type": "stream",
     "text": [
      "Null değer sayıları:\n",
      "floorID      : 605\n",
      "floorName    : 606\n",
      "floorCount   : 10\n"
     ]
    }
   ],
   "source": [
    "\n",
    "def parse_floor_info(val):\n",
    "    try:\n",
    "        floor_data = json.loads(val.replace(\"'\", \"\\\"\")) if isinstance(val, str) else {}\n",
    "        return pd.Series({\n",
    "            'floorID': floor_data.get('id', np.nan),\n",
    "            'floorName': floor_data.get('name', np.nan),\n",
    "            'floorCount': floor_data.get('count', np.nan)\n",
    "        })\n",
    "    except:\n",
    "        return pd.Series({'floorID': np.nan, 'floorName': np.nan, 'floorCount': np.nan})\n",
    "\n",
    "df[['floorID', 'floorName', 'floorCount']] = df['floor'].apply(parse_floor_info)\n",
    "\n",
    "# Her bir yeni sütundaki null (NaN) değer sayısını yazdırıyoruz\n",
    "print(\"Null değer sayıları:\")\n",
    "print(f\"floorID      : {df['floorID'].isna().sum()}\")\n",
    "print(f\"floorName    : {df['floorName'].isna().sum()}\")\n",
    "print(f\"floorCount   : {df['floorCount'].isna().sum()}\")"
   ]
  },
  {
   "cell_type": "code",
   "execution_count": 248,
   "id": "cbb5fe04",
   "metadata": {},
   "outputs": [
    {
     "name": "stderr",
     "output_type": "stream",
     "text": [
      "C:\\Users\\dilar\\AppData\\Local\\Temp\\ipykernel_2532\\1497221182.py:2: FutureWarning: Series.fillna with 'method' is deprecated and will raise in a future version. Use obj.ffill() or obj.bfill() instead.\n",
      "  df['floorName'] = df.groupby('floorID')['floorName'].transform(lambda x: x.fillna(method='ffill').fillna(method='bfill'))\n",
      "C:\\Users\\dilar\\AppData\\Local\\Temp\\ipykernel_2532\\1497221182.py:5: FutureWarning: Series.fillna with 'method' is deprecated and will raise in a future version. Use obj.ffill() or obj.bfill() instead.\n",
      "  df['floorID'] = df.groupby('floorName')['floorID'].transform(lambda x: x.fillna(method='ffill').fillna(method='bfill'))\n"
     ]
    }
   ],
   "source": [
    "# Aynı ID'ye sahip satırlar varsa, o ID'ye ait floorName'i boş olanlara atama\n",
    "df['floorName'] = df.groupby('floorID')['floorName'].transform(lambda x: x.fillna(method='ffill').fillna(method='bfill'))\n",
    "\n",
    "# Aynı floorName'e sahip satırlar varsa, ID'si boş olanlara ID'yi atama\n",
    "df['floorID'] = df.groupby('floorName')['floorID'].transform(lambda x: x.fillna(method='ffill').fillna(method='bfill'))\n"
   ]
  },
  {
   "cell_type": "code",
   "execution_count": 249,
   "id": "c90b832e",
   "metadata": {},
   "outputs": [
    {
     "name": "stdout",
     "output_type": "stream",
     "text": [
      "Güncel null değer sayıları:\n",
      "floorName null sayısı: 606\n",
      "floorID null sayısı: 606\n"
     ]
    }
   ],
   "source": [
    "# floorName ve floorID sütunlarında kalan null değer sayısı\n",
    "print(\"Güncel null değer sayıları:\")\n",
    "print(\"floorName null sayısı:\", df['floorName'].isna().sum())\n",
    "print(\"floorID null sayısı:\", df['floorID'].isna().sum())\n"
   ]
  },
  {
   "cell_type": "code",
   "execution_count": 250,
   "id": "41eb7541",
   "metadata": {},
   "outputs": [],
   "source": [
    "# Kat ifadelerini eşleştiren sözlük\n",
    "kat_terimleri = {\n",
    "    \"zemin\": \"Zemin Kat\",\n",
    "    \"giriş\": \"Zemin Kat\",\n",
    "    \"bahçe\": \"Zemin Kat\",\n",
    "    \"bodrum\": \"Bodrum Kat\",\n",
    "    \"1. kat\": \"1. Kat\",\n",
    "    \"birinci kat\": \"1. Kat\",\n",
    "    \"2. kat\": \"2. Kat\",\n",
    "    \"ikinci kat\": \"2. Kat\",\n",
    "    \"3. kat\": \"3. Kat\",\n",
    "    \"üçüncü kat\": \"3. Kat\",\n",
    "    \"en üst\": \"En Üst Kat\",\n",
    "    \"çatı\": \"Çatı Katı\"\n",
    "}\n",
    "\n",
    "def floor_name_bul(row):\n",
    "    if pd.isna(row['floorName']):\n",
    "        text_sources = [row.get('description', ''), row.get('detailDescription', '')]\n",
    "        for text in text_sources:\n",
    "            if isinstance(text, str):\n",
    "                text_lower = text.lower()\n",
    "                for anahtar, deger in kat_terimleri.items():\n",
    "                    if anahtar in text_lower:\n",
    "                        return deger\n",
    "    return row['floorName']\n",
    "\n",
    "df['floorName'] = df.apply(floor_name_bul, axis=1)\n"
   ]
  },
  {
   "cell_type": "code",
   "execution_count": 251,
   "id": "842a5a67",
   "metadata": {},
   "outputs": [
    {
     "data": {
      "text/plain": [
       "floorName\n",
       "2. Kat          324\n",
       "Zemin Kat       301\n",
       "Bahçe Katı      279\n",
       "3. Kat          211\n",
       "Ara Kat         163\n",
       "Yüksek Giriş    161\n",
       "1. Kat          154\n",
       "En Üst Kat      101\n",
       "4. Kat           38\n",
       "Giriş Katı       28\n",
       "Zemin            19\n",
       "Çatı Katı        11\n",
       "Villa Katı       11\n",
       "Bah�e Kati       10\n",
       "YüksekGiriş       7\n",
       "5. Kat            6\n",
       "2.Kat             6\n",
       "Y�ksek Giris      5\n",
       "3. Floor          5\n",
       "BahçeKatı         5\n",
       "Kot 3             3\n",
       "Kot 2             3\n",
       "Middle Floor      2\n",
       "2. Floor          2\n",
       "1. Floor          2\n",
       "EnÜstKat          2\n",
       "3.Kat             2\n",
       "AraKat            2\n",
       "Bodrum            2\n",
       "1.Kat             2\n",
       "Kot 1             2\n",
       "En �st Kat        2\n",
       "4.Kat             1\n",
       "Y�ksek Giri�      1\n",
       "Bah�e Kat�        1\n",
       "GirişKatı         1\n",
       "Tripleks          1\n",
       "Garden Floor      1\n",
       "Ground Floor      1\n",
       "Bodrum Kat        1\n",
       "Teras Katı        1\n",
       "Top Floor         1\n",
       "Name: count, dtype: int64"
      ]
     },
     "execution_count": 251,
     "metadata": {},
     "output_type": "execute_result"
    }
   ],
   "source": [
    "df['floorName'].value_counts()"
   ]
  },
  {
   "cell_type": "code",
   "execution_count": 252,
   "id": "711dea85",
   "metadata": {},
   "outputs": [],
   "source": [
    "#floorName sütunu için biraz düzeltme\n",
    "# Düzgün eşleşmeler için normalize edilen kat adları\n",
    "floor_mapping = {\n",
    "    '2. Kat': '2. Kat', '2.Kat': '2. Kat', '2. Floor': '2. Kat',\n",
    "    '3. Kat': '3. Kat', '3.Kat': '3. Kat', '3. Floor': '3. Kat',\n",
    "    '4. Kat': '4. Kat', '4.Kat': '4. Kat',\n",
    "    '5. Kat': '5. Kat',\n",
    "    '1. Kat': '1. Kat', '1.Kat': '1. Kat', '1. Floor': '1. Kat',\n",
    "    'Zemin Kat': 'Zemin Kat', 'Zemin': 'Zemin Kat',\n",
    "    'Giriş Katı': 'Giriş Katı', 'GirişKatı': 'Giriş Katı',\n",
    "    'Bahçe Katı': 'Bahçe Katı', 'BahçeKatı': 'Bahçe Katı', 'Bah�e Kati': 'Bahçe Katı', 'Bah�e Kat�': 'Bahçe Katı',\n",
    "    'Yüksek Giriş': 'Yüksek Giriş', 'YüksekGiriş': 'Yüksek Giriş', 'Y�ksek Giris': 'Yüksek Giriş', 'Y�ksek Giri�': 'Yüksek Giriş',\n",
    "    'Ara Kat': 'Ara Kat', 'AraKat': 'Ara Kat',\n",
    "    'En Üst Kat': 'En Üst Kat', 'En �st Kat': 'En Üst Kat', 'EnÜstKat': 'En Üst Kat',\n",
    "    'Çatı Katı': 'Çatı Katı',\n",
    "    'Teras Katı': 'Teras Katı',\n",
    "    'Kot 1': 'Kot -1', 'Kot 2': 'Kot -2', 'Kot 3': 'Kot -3',\n",
    "    'Middle Floor': 'Ara Kat', 'Top Floor': 'En Üst Kat',\n",
    "    'Ground Floor': 'Zemin Kat', 'Garden Floor': 'Bahçe Katı',\n",
    "    'Villa Katı': 'Villa Katı',\n",
    "    'Tripleks': 'Tripleks',\n",
    "    'Bodrum': 'Bodrum Kat', 'Bodrum Kat': 'Bodrum Kat'\n",
    "}\n",
    "\n",
    "# Temizleme işlemi (eşleşmeyenler olduğu gibi kalır)\n",
    "df['floorName'] = df['floorName'].map(floor_mapping).fillna(df['floorName'])\n"
   ]
  },
  {
   "cell_type": "code",
   "execution_count": 253,
   "id": "1cec755a",
   "metadata": {},
   "outputs": [
    {
     "data": {
      "text/plain": [
       "floorName\n",
       "2. Kat          332\n",
       "Zemin Kat       321\n",
       "Bahçe Katı      296\n",
       "3. Kat          218\n",
       "Yüksek Giriş    174\n",
       "Ara Kat         167\n",
       "1. Kat          158\n",
       "En Üst Kat      106\n",
       "4. Kat           39\n",
       "Giriş Katı       29\n",
       "Çatı Katı        11\n",
       "Villa Katı       11\n",
       "5. Kat            6\n",
       "Bodrum Kat        3\n",
       "Kot -3            3\n",
       "Kot -2            3\n",
       "Kot -1            2\n",
       "Teras Katı        1\n",
       "Tripleks          1\n",
       "Name: count, dtype: int64"
      ]
     },
     "execution_count": 253,
     "metadata": {},
     "output_type": "execute_result"
    }
   ],
   "source": [
    "df['floorName'].value_counts()"
   ]
  },
  {
   "cell_type": "code",
   "execution_count": 254,
   "id": "8c69e3c4",
   "metadata": {},
   "outputs": [
    {
     "data": {
      "text/plain": [
       "296"
      ]
     },
     "execution_count": 254,
     "metadata": {},
     "output_type": "execute_result"
    }
   ],
   "source": [
    "df['floorName'].isna().sum()"
   ]
  },
  {
   "cell_type": "code",
   "execution_count": null,
   "id": "945c6f09",
   "metadata": {},
   "outputs": [],
   "source": []
  },
  {
   "cell_type": "code",
   "execution_count": null,
   "id": "1ec93901",
   "metadata": {},
   "outputs": [],
   "source": []
  },
  {
   "cell_type": "code",
   "execution_count": 255,
   "id": "46716ea5",
   "metadata": {},
   "outputs": [],
   "source": [
    "def floor_count_bul(row):\n",
    "    if pd.isna(row['floorCount']):\n",
    "        # Açıklamalardan sayısal kat bilgisi arama\n",
    "        text_sources = [row.get('description', ''), row.get('detailDescription', '')]\n",
    "        for text in text_sources:\n",
    "            if isinstance(text, str):\n",
    "                match = re.search(r'(\\d+)\\s*(katlı|kat)', text.lower())\n",
    "                if match:\n",
    "                    return int(match.group(1))\n",
    "        # JSON içindeki attributes sütunundan floorCount arama\n",
    "        if isinstance(row.get('attributes'), str):\n",
    "            try:\n",
    "                attr = json.loads(row['attributes'])\n",
    "                for key in ['binaKatSayisi', 'floorCount']:\n",
    "                    if key in attr and str(attr[key]).isdigit():\n",
    "                        return int(attr[key])\n",
    "            except:\n",
    "                pass\n",
    "    return row['floorCount']\n",
    "\n",
    "df['floorCount'] = df.apply(floor_count_bul, axis=1)"
   ]
  },
  {
   "cell_type": "code",
   "execution_count": 256,
   "id": "748b2a86",
   "metadata": {},
   "outputs": [
    {
     "name": "stdout",
     "output_type": "stream",
     "text": [
      "floorCount\n",
      "3.0      1369\n",
      "2.0       474\n",
      "4.0       203\n",
      "1.0        63\n",
      "5.0        54\n",
      "8.0         2\n",
      "10.0        1\n",
      "11.0        1\n",
      "314.0       1\n",
      "Name: count, dtype: int64\n"
     ]
    }
   ],
   "source": [
    "print(df['floorCount'].value_counts())"
   ]
  },
  {
   "cell_type": "code",
   "execution_count": 257,
   "id": "ddc3ea8e",
   "metadata": {},
   "outputs": [
    {
     "data": {
      "text/plain": [
       "0    4.0\n",
       "1    3.0\n",
       "2    2.0\n",
       "3    3.0\n",
       "4    3.0\n",
       "Name: floorCount, dtype: float64"
      ]
     },
     "execution_count": 257,
     "metadata": {},
     "output_type": "execute_result"
    }
   ],
   "source": [
    "df['floorCount'].head()"
   ]
  },
  {
   "cell_type": "code",
   "execution_count": 258,
   "id": "9109dcd4",
   "metadata": {},
   "outputs": [
    {
     "name": "stdout",
     "output_type": "stream",
     "text": [
      "floorCount sütunundaki kalan null değer sayısı: 9\n"
     ]
    }
   ],
   "source": [
    "print(\"floorCount sütunundaki kalan null değer sayısı:\", df['floorCount'].isna().sum())"
   ]
  },
  {
   "cell_type": "code",
   "execution_count": 259,
   "id": "6abbbabe",
   "metadata": {},
   "outputs": [
    {
     "name": "stdout",
     "output_type": "stream",
     "text": [
      "Kalan null floorID sayısı: 606\n"
     ]
    }
   ],
   "source": [
    "# 1. Eşleşme sözlüğü: floorName'e göre floorID eşlemesi\n",
    "floor_mapping = {\n",
    "    '2. kat': 101216.0,\n",
    "    '2.kat': 101216.0,\n",
    "    '3. kat': 101217.0,\n",
    "    '3.kat': 101217.0,\n",
    "    'en üst kat': 101214.0,\n",
    "    'en st kat': 101214.0,\n",
    "    'enüstkat': 101214.0,\n",
    "    'bahçe katı': 101207.0,\n",
    "    'bahçekatı': 101207.0,\n",
    "    'bahe kati': 101207.0,\n",
    "    'bahe kat': 101207.0,\n",
    "    '1. kat': 101215.0,\n",
    "    '1.kat': 101215.0,\n",
    "    'zemin kat': 101209.0,\n",
    "    'zemin': 101209.0,\n",
    "    'bodrum kat': 101208.0,\n",
    "    'bodrumkat': 101208.0,\n",
    "    'bodrum': 101208.0,\n",
    "    'bodrum katı': 101208.0,\n",
    "    'giriş katı': 101210.0,\n",
    "    'girişkatı': 101210.0,\n",
    "    'ara kat': 101219.0,\n",
    "    'arakat': 101219.0,\n",
    "    'yüksek giriş': 101213.0,\n",
    "    'yksk giris': 101213.0,\n",
    "    'yksk giri': 101213.0,\n",
    "    'yüksekgiriş': 101213.0,\n",
    "    'teras katı': 101218.0,\n",
    "    'teras kat': 101218.0,\n",
    "    'villa katı': 101205.0,\n",
    "    '5. kat': 101237.0,\n",
    "    '5.kat': 101237.0,\n",
    "    '4. kat': 101236.0,\n",
    "    '4.kat': 101236.0,\n",
    "    'kot 1': 101212.0,\n",
    "    'kot 2': 101202.0,\n",
    "    'kot 3': 101203.0,\n",
    "    'çatı katı': 101201.0,\n",
    "    'top floor': 101214.0,\n",
    "    'ground floor': 101209.0,\n",
    "    'garden floor': 101207.0,\n",
    "    'middle floor': 101219.0,\n",
    "    '1. floor': 101215.0,\n",
    "    '2. floor': 101216.0,\n",
    "    '3. floor': 101217.0\n",
    "    # Diğerleri için de ihtiyaca göre ekleme yapılabilir\n",
    "}\n",
    "\n",
    "# 2. floorID sütunundaki null'ları, floorName'e göre eşleşen ID ile doldur\n",
    "df['floorID'] = df.apply(\n",
    "    lambda row: floor_mapping.get(row['floorName'], row['floorID']), axis=1\n",
    ")\n",
    "# 3. Sonuç: Kaç null kaldı?\n",
    "null_count = df['floorID'].isna().sum()\n",
    "print(f\"Kalan null floorID sayısı: {null_count}\")"
   ]
  },
  {
   "cell_type": "code",
   "execution_count": null,
   "id": "dd795ed9",
   "metadata": {},
   "outputs": [],
   "source": []
  },
  {
   "cell_type": "code",
   "execution_count": null,
   "id": "e95422f7",
   "metadata": {},
   "outputs": [],
   "source": []
  },
  {
   "cell_type": "code",
   "execution_count": 260,
   "id": "2e3d6e65",
   "metadata": {},
   "outputs": [
    {
     "data": {
      "text/plain": [
       "floorNameFloat\n",
       "0     646\n",
       "2     332\n",
       "3     218\n",
       "1     158\n",
       "4      39\n",
       "5       6\n",
       "-4      3\n",
       "-3      3\n",
       "-2      3\n",
       "-1      2\n",
       "Name: count, dtype: int64"
      ]
     },
     "execution_count": 260,
     "metadata": {},
     "output_type": "execute_result"
    }
   ],
   "source": [
    "# Kat isimlerini sayıya eşleyen sözlük\n",
    "pd.options.display.float_format = '{:.0f}'.format\n",
    "\n",
    "floorName_map = {\n",
    "    \"Bodrum Kat\": -4,\n",
    "    \"Bodrum\": -4,\n",
    "    \"Kot 3\": -3,\n",
    "    \"Kot3\": -3,\n",
    "    \"Kot 2\": -2,\n",
    "    \"Kot2\": -2,\n",
    "    \"Kot 1\": -1,\n",
    "    \"Kot1\": -1,\n",
    "    \"Kot -2\": -2,\n",
    "    \"Kot -3\": -3,\n",
    "    \"Kot -1\": -1,\n",
    "    \"Zemin Kat\": 0,\n",
    "    \"Giriş Katı\": 0,\n",
    "    \"Zemin\": 0,\n",
    "    \"Ground Floor\": 0,\n",
    "    \"GirişKatı\": 0,\n",
    "    \"1. Floor\": 1,\n",
    "    \"1.Kat\": 1,\n",
    "    \"1. Kat\": 1,\n",
    "    \"2. Floor\": 2,\n",
    "    \"2.Kat\": 2,\n",
    "    \"2. Kat\": 2,\n",
    "    \"3. Floor\": 3,\n",
    "    \"3.Kat\": 3,\n",
    "    \"3. Kat\": 3,\n",
    "    \"4. Kat\": 4,\n",
    "    \"4.Kat\": 4,\n",
    "    \"5.Kat\": 5,\n",
    "    \"5. Kat\": 5,\n",
    "    \"AraKat\": \"Ara Kat\",\n",
    "    \"Y�ksek Giri�\": 1,\n",
    "    \"Y�ksek Giris\": 1,\n",
    "    \"YüksekGiriş\": 1,\n",
    "    \"EnÜstKat\": \"En Üst Kat\",\n",
    "    \"Top Floor\": \"En Üst Kat\",\n",
    "    \"En �st Kat\": \"En Üst Kat\",\n",
    "    \"Bah�e Kati\": 0,\n",
    "    \"BahçeKatı\": 0,\n",
    "    \"Garden Floor\": 0,\n",
    "    \"Bahçe Katı\": 0,\n",
    "    \"Bah�e Kat�\": 0\n",
    "}\n",
    "\n",
    "# floorName sütunundaki eşleşen stringleri sayısal değere çevir\n",
    "df['floorNameFloat'] = df['floorName'].map(floorName_map)\n",
    "df['floorNameFloat'].value_counts()"
   ]
  },
  {
   "cell_type": "code",
   "execution_count": 261,
   "id": "afa38947",
   "metadata": {},
   "outputs": [],
   "source": [
    "####ara kat flourcountın orta değerini alacak\n"
   ]
  },
  {
   "cell_type": "code",
   "execution_count": null,
   "id": "7b2b6e82",
   "metadata": {},
   "outputs": [],
   "source": []
  },
  {
   "cell_type": "code",
   "execution_count": 262,
   "id": "36beff52",
   "metadata": {},
   "outputs": [],
   "source": [
    "# 1. floorCount sütununu float64'e çeviriyoruz\n",
    "df['floorCount'] = df['floorCount'].astype('float64')"
   ]
  },
  {
   "cell_type": "code",
   "execution_count": 263,
   "id": "fee1c852",
   "metadata": {},
   "outputs": [],
   "source": [
    "# 2. floorNameFloat null olan ve floorName belirli olan değerleri dolduruyoruz\n",
    "import numpy as np\n",
    "\n",
    "# 1. Sayısal karşılıkları eşleştir\n",
    "df['floorNameFloat'] = df['floorName'].map(floorName_map)\n",
    "\n",
    "# 2. En üst kat ve tripleks\n",
    "df.loc[\n",
    "    (df['floorNameFloat'].isnull()) & \n",
    "    (df['floorName'].isin(['En Üst Kat', 'Tripleks'])) & \n",
    "    (df['floorCount'].notnull()),\n",
    "    'floorNameFloat'\n",
    "] = df['floorCount']\n",
    "\n",
    "# 3. Teras / çatı katı\n",
    "df.loc[\n",
    "    (df['floorNameFloat'].isnull()) & \n",
    "    (df['floorName'].isin(['Villa Katı', 'Çatı Katı','Teras Katı'])) & \n",
    "    (df['floorCount'].notnull()),\n",
    "    'floorNameFloat'\n",
    "] = df['floorCount'] + 1\n",
    "\n",
    "# 4. Ara kat -> yukarı yuvarla\n",
    "df.loc[\n",
    "    (df['floorNameFloat'].isnull()) & \n",
    "    (df['floorName'].isin(['Ara Kat'])) & \n",
    "    (df['floorCount'].notnull()),\n",
    "    'floorNameFloat'\n",
    "] = np.ceil(df['floorCount'] / 2)\n"
   ]
  },
  {
   "cell_type": "code",
   "execution_count": 264,
   "id": "91bfa37c",
   "metadata": {},
   "outputs": [],
   "source": [
    "df['floorNameFloat'] = df['floorNameFloat'].astype('Int64')"
   ]
  },
  {
   "cell_type": "code",
   "execution_count": 265,
   "id": "7723d6d3",
   "metadata": {},
   "outputs": [
    {
     "data": {
      "text/plain": [
       "floorNameFloat\n",
       "0     646\n",
       "2     490\n",
       "3     307\n",
       "1     169\n",
       "4      68\n",
       "5      16\n",
       "-4      3\n",
       "-3      3\n",
       "-2      3\n",
       "-1      2\n",
       "Name: count, dtype: Int64"
      ]
     },
     "execution_count": 265,
     "metadata": {},
     "output_type": "execute_result"
    }
   ],
   "source": [
    "df['floorNameFloat'].value_counts()"
   ]
  },
  {
   "cell_type": "code",
   "execution_count": null,
   "id": "952f1c6d",
   "metadata": {},
   "outputs": [],
   "source": []
  },
  {
   "cell_type": "code",
   "execution_count": null,
   "id": "f9fa22b6",
   "metadata": {},
   "outputs": [],
   "source": []
  },
  {
   "cell_type": "code",
   "execution_count": 266,
   "id": "3a6ac696",
   "metadata": {},
   "outputs": [
    {
     "name": "stdout",
     "output_type": "stream",
     "text": [
      "'floorRatio' sütunundaki null (NaN) değer sayısı: 474\n"
     ]
    }
   ],
   "source": [
    "df['floorCountFloat'] = pd.to_numeric(df['floorCount'], errors='coerce')\n",
    "df['floorRatio'] = df['floorNameFloat'] / df['floorCountFloat']\n",
    "print(f\"'floorRatio' sütunundaki null (NaN) değer sayısı: {df['floorRatio'].isna().sum()}\")"
   ]
  },
  {
   "cell_type": "code",
   "execution_count": 267,
   "id": "fe48714a",
   "metadata": {},
   "outputs": [
    {
     "data": {
      "text/plain": [
       "606"
      ]
     },
     "execution_count": 267,
     "metadata": {},
     "output_type": "execute_result"
    }
   ],
   "source": [
    "df['floorID'].isna().sum()"
   ]
  },
  {
   "cell_type": "code",
   "execution_count": 268,
   "id": "fabba1ab",
   "metadata": {},
   "outputs": [
    {
     "data": {
      "text/plain": [
       "296"
      ]
     },
     "execution_count": 268,
     "metadata": {},
     "output_type": "execute_result"
    }
   ],
   "source": [
    "df['floorName'].isna().sum()"
   ]
  },
  {
   "cell_type": "code",
   "execution_count": 269,
   "id": "15045d13",
   "metadata": {},
   "outputs": [
    {
     "data": {
      "text/plain": [
       "9"
      ]
     },
     "execution_count": 269,
     "metadata": {},
     "output_type": "execute_result"
    }
   ],
   "source": [
    "df['floorCount'].isna().sum()"
   ]
  },
  {
   "cell_type": "code",
   "execution_count": 270,
   "id": "8f375be8",
   "metadata": {},
   "outputs": [
    {
     "data": {
      "text/plain": [
       "0"
      ]
     },
     "execution_count": 270,
     "metadata": {},
     "output_type": "execute_result"
    }
   ],
   "source": [
    "df['floorCount'].value_counts().get(0, 0)\n"
   ]
  },
  {
   "cell_type": "code",
   "execution_count": 271,
   "id": "019c524c",
   "metadata": {},
   "outputs": [
    {
     "name": "stdout",
     "output_type": "stream",
     "text": [
      "      listingId  floorName  floorCount\n",
      "280  147368-153  Zemin Kat         NaN\n",
      "282  147368-155        NaN         NaN\n",
      "285  147368-158        NaN         NaN\n",
      "286  147368-159  Zemin Kat         NaN\n",
      "291  147368-164  Zemin Kat         NaN\n",
      "292  147368-165        NaN         NaN\n",
      "293  147368-166  Zemin Kat         NaN\n",
      "297  120340-614        NaN         NaN\n",
      "298  120340-615        NaN         NaN\n"
     ]
    }
   ],
   "source": [
    "# floorCount sütunu boş (NaN) olan satırları göster\n",
    "missing_floorcount = df[df['floorCount'].isna()]\n",
    "print(missing_floorcount[['listingId', 'floorName', 'floorCount']])"
   ]
  },
  {
   "cell_type": "code",
   "execution_count": null,
   "id": "71e2ef17-68e0-42b7-9fc1-0a35e9df317a",
   "metadata": {},
   "outputs": [],
   "source": []
  },
  {
   "cell_type": "markdown",
   "id": "3510b794",
   "metadata": {},
   "source": [
    "arsa tarla bahçe bunların floorcount değerleri 0 ile dolduruluyor"
   ]
  },
  {
   "cell_type": "code",
   "execution_count": 272,
   "id": "dbb63d99",
   "metadata": {},
   "outputs": [],
   "source": [
    "# floorCount sütunu NaN olan (ve arsa/bahçe olduğu bilinen) satırları 0 yap\n",
    "df.loc[df['floorCount'].isna(), 'floorCount'] = 0\n"
   ]
  },
  {
   "cell_type": "code",
   "execution_count": 273,
   "id": "d3198cfe-db2d-4c53-b268-a2760b02e882",
   "metadata": {},
   "outputs": [],
   "source": [
    "# Koşul: property_type istenenlerden biri VE floorName 'Zemin Kat' veya NaN\n",
    "condition = (\n",
    "    df['property_type'].isin(['Bahçe', 'İmarlı Konut', 'Konut Ticaret', 'Tarla']) &\n",
    "    (\n",
    "        (df['floorName'].isna()) |\n",
    "        (df['floorName'].str.lower() == 'zemin kat')\n",
    "    )\n",
    ")\n",
    "\n",
    "# floorName değerini 'Yapı Yok' yap\n",
    "df.loc[condition, 'floorName'] = 'Yapı Yok'"
   ]
  },
  {
   "cell_type": "code",
   "execution_count": null,
   "id": "4b6edd25-02a0-4b3b-9c55-3ff34998187a",
   "metadata": {},
   "outputs": [],
   "source": []
  },
  {
   "cell_type": "code",
   "execution_count": 274,
   "id": "7b50161d",
   "metadata": {},
   "outputs": [
    {
     "name": "stdout",
     "output_type": "stream",
     "text": [
      "     property_type  floorCount  room roomAndLivingRoom\n",
      "69            Bina           3    27               9+3\n",
      "157           Bina           3    12               4+1\n",
      "208           Bina           3    18               6+3\n",
      "411           Bina           3    24               8+2\n",
      "501           Bina           3     9               3+1\n",
      "543           Bina           3    15               5+3\n",
      "546           Bina           2     4               2+1\n",
      "739           Bina           3     9               3+1\n",
      "767           Bina           3    15               5+1\n",
      "1019          Bina           2     4               2+1\n",
      "1037          Bina           2    12               6+2\n",
      "1249          Bina           3     9               3+3\n",
      "1250          Bina           3     9               3+3\n",
      "1323          Bina           3     9               3+1\n",
      "1633          Bina           4     8               2+1\n",
      "1635          Bina           3     9               3+1\n",
      "1841          Bina           2     6               3+2\n",
      "1916          Bina           3     6               2+1\n",
      "1963          Bina           2     8               4+1\n",
      "1970          Bina           3     9               3+1\n",
      "1996          Bina           4    48              12+4\n",
      "2006          Bina           3     9               3+1\n",
      "2080          Bina           2     6               3+1\n"
     ]
    }
   ],
   "source": [
    "# Only run this once to store the original rooms per floor (must come BEFORE modifying 'room')\n",
    "if 'rooms_per_floor' not in df.columns:\n",
    "    df['rooms_per_floor'] = df['room']  # make a backup\n",
    "\n",
    "# Filter only rows where the property type is 'bina'\n",
    "bina_mask = df['property_type'] == 'Bina'\n",
    "\n",
    "# Update 'room' only for 'bina' rows using the original per-floor value\n",
    "df.loc[bina_mask, 'room'] = df.loc[bina_mask, 'floorCount'] * df.loc[bina_mask, 'rooms_per_floor']\n",
    "\n",
    "# Print the updated rows to verify\n",
    "print(df[bina_mask][['property_type', 'floorCount', 'room', 'roomAndLivingRoom']])\n"
   ]
  },
  {
   "cell_type": "code",
   "execution_count": 275,
   "id": "29302038",
   "metadata": {},
   "outputs": [
    {
     "name": "stdout",
     "output_type": "stream",
     "text": [
      "     property_type  floorCount  livingRoom roomAndLivingRoom\n",
      "69            Bina           3           9               9+3\n",
      "157           Bina           3           3               4+1\n",
      "208           Bina           3           9               6+3\n",
      "411           Bina           3           6               8+2\n",
      "501           Bina           3           3               3+1\n",
      "543           Bina           3           9               5+3\n",
      "546           Bina           2           2               2+1\n",
      "739           Bina           3           3               3+1\n",
      "767           Bina           3           3               5+1\n",
      "1019          Bina           2           2               2+1\n",
      "1037          Bina           2           4               6+2\n",
      "1249          Bina           3           9               3+3\n",
      "1250          Bina           3           9               3+3\n",
      "1323          Bina           3           3               3+1\n",
      "1633          Bina           4           4               2+1\n",
      "1635          Bina           3           3               3+1\n",
      "1841          Bina           2           4               3+2\n",
      "1916          Bina           3           3               2+1\n",
      "1963          Bina           2           2               4+1\n",
      "1970          Bina           3           3               3+1\n",
      "1996          Bina           4          16              12+4\n",
      "2006          Bina           3           3               3+1\n",
      "2080          Bina           2           2               3+1\n"
     ]
    }
   ],
   "source": [
    "# Only run this once to store the original rooms per floor (must come BEFORE modifying 'room')\n",
    "if 'livingroom_per_floor' not in df.columns:\n",
    "    df['livingroom_per_floor'] = df['livingRoom']  # make a backup\n",
    "\n",
    "# Filter only rows where the property type is 'bina'\n",
    "bina_mask = df['property_type'] == 'Bina'\n",
    "\n",
    "# Update 'room' only for 'bina' rows using the original per-floor value\n",
    "df.loc[bina_mask, 'livingRoom'] = df.loc[bina_mask, 'floorCount'] * df.loc[bina_mask, 'livingroom_per_floor']\n",
    "\n",
    "# Print the updated rows to verify\n",
    "print(df[bina_mask][['property_type', 'floorCount','livingRoom','roomAndLivingRoom']])"
   ]
  },
  {
   "cell_type": "code",
   "execution_count": 276,
   "id": "b3de434b",
   "metadata": {},
   "outputs": [],
   "source": [
    "if 'rooms_per_floor' in df.columns:\n",
    "    df = df.drop(columns=['rooms_per_floor'])\n",
    "\n",
    "if 'livingroom_per_floor' in df.columns:\n",
    "    df = df.drop(columns=['livingroom_per_floor'])"
   ]
  },
  {
   "cell_type": "code",
   "execution_count": 277,
   "id": "262ac915",
   "metadata": {},
   "outputs": [
    {
     "name": "stdout",
     "output_type": "stream",
     "text": [
      "     property_type  room  livingRoom roomAndLivingRoom\n",
      "69            Bina    27           9               9+3\n",
      "157           Bina    12           3               4+1\n",
      "208           Bina    18           9               6+3\n",
      "411           Bina    24           6               8+2\n",
      "501           Bina     9           3               3+1\n",
      "543           Bina    15           9               5+3\n",
      "546           Bina     4           2               2+1\n",
      "739           Bina     9           3               3+1\n",
      "767           Bina    15           3               5+1\n",
      "1019          Bina     4           2               2+1\n",
      "1037          Bina    12           4               6+2\n",
      "1249          Bina     9           9               3+3\n",
      "1250          Bina     9           9               3+3\n",
      "1323          Bina     9           3               3+1\n",
      "1633          Bina     8           4               2+1\n",
      "1635          Bina     9           3               3+1\n",
      "1841          Bina     6           4               3+2\n",
      "1916          Bina     6           3               2+1\n",
      "1963          Bina     8           2               4+1\n",
      "1970          Bina     9           3               3+1\n",
      "1996          Bina    48          16              12+4\n",
      "2006          Bina     9           3               3+1\n",
      "2080          Bina     6           2               3+1\n"
     ]
    }
   ],
   "source": [
    "#  Filter the DataFrame for 'bina' rows and print the selected columns\n",
    "print(df[df['property_type'] == 'Bina'][['property_type', 'room', 'livingRoom', 'roomAndLivingRoom']])"
   ]
  },
  {
   "cell_type": "code",
   "execution_count": 278,
   "id": "049c95f2",
   "metadata": {},
   "outputs": [
    {
     "name": "stdout",
     "output_type": "stream",
     "text": [
      "     property_type  floorCount  bathRoom\n",
      "69            Bina           3         9\n",
      "157           Bina           3         3\n",
      "208           Bina           3         9\n",
      "411           Bina           3        12\n",
      "501           Bina           3         3\n",
      "543           Bina           3         9\n",
      "546           Bina           2         2\n",
      "739           Bina           3         3\n",
      "767           Bina           3         6\n",
      "1019          Bina           2         2\n",
      "1037          Bina           2         4\n",
      "1249          Bina           3         9\n",
      "1250          Bina           3         9\n",
      "1323          Bina           3         3\n",
      "1633          Bina           4         4\n",
      "1635          Bina           3         3\n",
      "1841          Bina           2         4\n",
      "1916          Bina           3         6\n",
      "1963          Bina           2         2\n",
      "1970          Bina           3         3\n",
      "1996          Bina           4         8\n",
      "2006          Bina           3         3\n",
      "2080          Bina           2         2\n"
     ]
    }
   ],
   "source": [
    "# Only run this once to store the original bathRooms per floor (must come BEFORE modifying 'bathRoom')\n",
    "if 'bathRooms_per_floor' not in df.columns:\n",
    "    df['bathRooms_per_floor'] = df['bathRoom']  # make a backup\n",
    "\n",
    "# Filter only rows where the property type is 'bina'\n",
    "bina_mask = df['property_type'] == 'Bina'\n",
    "\n",
    "# Update 'bathRoom' only for 'bina' rows using the original per-floor value\n",
    "df.loc[bina_mask, 'bathRoom'] = df.loc[bina_mask, 'floorCount'] * df.loc[bina_mask, 'bathRooms_per_floor']\n",
    "\n",
    "# Print the updated rows to verify\n",
    "print(df[bina_mask][['property_type', 'floorCount','bathRoom']])"
   ]
  },
  {
   "cell_type": "code",
   "execution_count": 279,
   "id": "2ad31805",
   "metadata": {},
   "outputs": [],
   "source": [
    "if 'bathRooms_per_floor' in df.columns:\n",
    "    df = df.drop(columns=['bathRooms_per_floor'])"
   ]
  },
  {
   "cell_type": "code",
   "execution_count": null,
   "id": "233f899b",
   "metadata": {},
   "outputs": [],
   "source": []
  },
  {
   "cell_type": "code",
   "execution_count": null,
   "id": "65826a4e",
   "metadata": {},
   "outputs": [],
   "source": []
  },
  {
   "cell_type": "code",
   "execution_count": 280,
   "id": "3eecb830",
   "metadata": {},
   "outputs": [
    {
     "name": "stdout",
     "output_type": "stream",
     "text": [
      "0 olan entranceHeight değer sayısı: 2101 (%96.51)\n",
      "NaN olan entranceHeight değer sayısı: 76 (%3.49)\n"
     ]
    }
   ],
   "source": [
    "#entranceHeight SÜTUNUNA BAKIYORUZ\n",
    "\n",
    "#toplam satır sayısını alıyoruz\n",
    "total_rows = len(df)\n",
    "\n",
    "# 0 olan değerlerin sayısı ve yüzdesi\n",
    "zero_count = (df['entranceHeight'] == 0).sum()\n",
    "zero_percent = 100 * zero_count / total_rows\n",
    "\n",
    "# Null (NaN) olan değerlerin sayısı ve yüzdesi\n",
    "null_count = df['entranceHeight'].isna().sum()\n",
    "null_percent = 100 * null_count / total_rows\n",
    "\n",
    "# Sonuçları yazdır\n",
    "print(f\"0 olan entranceHeight değer sayısı: {zero_count} (%{zero_percent:.2f})\")\n",
    "print(f\"NaN olan entranceHeight değer sayısı: {null_count} (%{null_percent:.2f})\")\n"
   ]
  },
  {
   "cell_type": "code",
   "execution_count": 281,
   "id": "ec5e6510",
   "metadata": {},
   "outputs": [
    {
     "name": "stdout",
     "output_type": "stream",
     "text": [
      "entranceHeight sütunu başarıyla silindi.\n"
     ]
    }
   ],
   "source": [
    "#entranceHeight SÜTUNU 0 VE NULL DEĞERELERDEN OLUŞUYOR BU SÜTUNU SİLİYORUZ\n",
    "df = df.drop(columns=['entranceHeight'])\n",
    "print(\"entranceHeight sütunu başarıyla silindi.\")\n"
   ]
  },
  {
   "cell_type": "code",
   "execution_count": 282,
   "id": "9e31ae24",
   "metadata": {},
   "outputs": [
    {
     "name": "stdout",
     "output_type": "stream",
     "text": [
      "Temel İstatistikler:\n",
      "Ortalama: 6.81\n",
      "Medyan: 4.0\n",
      "Minimum: 0.0\n",
      "Maksimum: 695.0\n",
      "Standart Sapma: 17.48\n",
      "\n",
      "Eşsiz Değerler (ilk 20):\n",
      "age\n",
      "9      14\n",
      "13     14\n",
      "14     10\n",
      "17     11\n",
      "18      6\n",
      "19      4\n",
      "22      4\n",
      "23      3\n",
      "24     10\n",
      "27      6\n",
      "28      3\n",
      "32      6\n",
      "34      2\n",
      "35     12\n",
      "40     10\n",
      "42      1\n",
      "45      4\n",
      "46      1\n",
      "50      1\n",
      "695     1\n",
      "Name: count, dtype: int64\n",
      "\n",
      "Null Değer Sayısı: 86 (3.95%)\n",
      "0 Değer Sayısı: 824 (37.85%)\n",
      "100 üzeri yaş değeri sayısı: 1\n"
     ]
    }
   ],
   "source": [
    "#age SÜTUNUNA BAKIYORUZ\n",
    "\n",
    "# 1. Temel istatistikler\n",
    "mean_age = df['age'].mean()\n",
    "median_age = df['age'].median()\n",
    "min_age = df['age'].min()\n",
    "max_age = df['age'].max()\n",
    "std_age = df['age'].std()\n",
    "print(\"Temel İstatistikler:\")\n",
    "print(f\"Ortalama: {mean_age:.2f}\")\n",
    "print(f\"Medyan: {median_age}\")\n",
    "print(f\"Minimum: {min_age}\")\n",
    "print(f\"Maksimum: {max_age}\")\n",
    "print(f\"Standart Sapma: {std_age:.2f}\")\n",
    "\n",
    "# 2. Eşsiz değerler ve dağılım\n",
    "print(\"\\nEşsiz Değerler (ilk 20):\")\n",
    "print(df['age'].value_counts().tail(20).sort_index())\n",
    "\n",
    "# 3. Null ve 0 kontrolü\n",
    "null_count = df['age'].isna().sum()\n",
    "zero_count = (df['age'] == 0).sum()\n",
    "total = len(df)\n",
    "print(f\"\\nNull Değer Sayısı: {null_count} ({(null_count/total)*100:.2f}%)\")\n",
    "print(f\"0 Değer Sayısı: {zero_count} ({(zero_count/total)*100:.2f}%)\")\n",
    "\n",
    "# 4. Aykırı değer kontrolü (örneğin 100 yaş üstü)\n",
    "outlier_count = (df['age'] > 100).sum()\n",
    "print(f\"100 üzeri yaş değeri sayısı: {outlier_count}\")\n"
   ]
  },
  {
   "cell_type": "code",
   "execution_count": 283,
   "id": "16b72c1a",
   "metadata": {},
   "outputs": [
    {
     "name": "stderr",
     "output_type": "stream",
     "text": [
      "C:\\Users\\dilar\\anaconda3\\Lib\\site-packages\\seaborn\\_oldcore.py:1119: FutureWarning: use_inf_as_na option is deprecated and will be removed in a future version. Convert inf values to NaN before operating instead.\n",
      "  with pd.option_context('mode.use_inf_as_na', True):\n"
     ]
    },
    {
     "data": {
      "image/png": "[encoded data removed]",
      "text/plain": [
       "<Figure size 1000x600 with 1 Axes>"
      ]
     },
     "metadata": {},
     "output_type": "display_data"
    }
   ],
   "source": [
    "#AYKIRI DEĞER SINIRINI BULABİLMEK İÇİN AGE SÜTUNU DAĞILIMINA BAKIYORUZ\n",
    "\n",
    "import matplotlib.pyplot as plt\n",
    "import seaborn as sns\n",
    "\n",
    "plt.figure(figsize=(10, 6))\n",
    "sns.histplot(data=df, x='age', bins=30, kde=True, color='skyblue')\n",
    "plt.title('Age Sütunu Dağılımı')\n",
    "plt.xlabel('Yaş (age)')\n",
    "plt.ylabel('Frekans')\n",
    "plt.grid(True)\n",
    "plt.show()\n"
   ]
  },
  {
   "cell_type": "code",
   "execution_count": 284,
   "id": "efc7326a",
   "metadata": {},
   "outputs": [
    {
     "name": "stdout",
     "output_type": "stream",
     "text": [
      "40'tan büyük olan ve NaN yapılan değer sayısı: 94\n",
      "[15.0, 16.0, 17.0, 18.0, 19.0, 20.0, 21.0, 22.0, 23.0, 24.0, 25.0, 26.0, 27.0, 28.0, 30.0, 31.0, 32.0, 34.0, 35.0, 40.0]\n"
     ]
    }
   ],
   "source": [
    "# Age sütununda 40'tan büyük olan değerleri NaN yap\n",
    "df.loc[df['age'] > 40, 'age'] = np.nan\n",
    "\n",
    "# Sonuçları kontrol et: Kaç tane değer değişti?\n",
    "print(\"40'tan büyük olan ve NaN yapılan değer sayısı:\", df['age'].isna().sum())\n",
    "\n",
    "print(sorted(df['age'].dropna().unique())[-20:])"
   ]
  },
  {
   "cell_type": "code",
   "execution_count": 285,
   "id": "e91fee5a",
   "metadata": {},
   "outputs": [
    {
     "name": "stdout",
     "output_type": "stream",
     "text": [
      "\n",
      "Doldurma sonrası age sütunu null sayısı: 0\n",
      "\n",
      "Age sütunu istatistikleri:\n",
      "count   2177\n",
      "mean       6\n",
      "std        8\n",
      "min        0\n",
      "25%        0\n",
      "50%        4\n",
      "75%        8\n",
      "max       40\n",
      "Name: age, dtype: Float64\n"
     ]
    }
   ],
   "source": [
    "import warnings\n",
    "warnings.filterwarnings('ignore')\n",
    "\n",
    "\n",
    "# JSON formatındaki sütunları parse etmek için fonksiyon\n",
    "def parse_json_column(json_str):\n",
    "    if pd.isna(json_str):\n",
    "        return None, None\n",
    "    try:\n",
    "        data = json.loads(json_str)\n",
    "        return data.get('id'), data.get('name')\n",
    "    except:\n",
    "        return None, None\n",
    "\n",
    "# 1. Adım: buildState sütunundan yaş çıkar\n",
    "df['buildState_id'], df['buildState_name'] = zip(*df['buildState'].apply(parse_json_column))\n",
    "\n",
    "def assign_age_from_buildstate(row):\n",
    "    if not pd.isna(row['age']):\n",
    "        return row['age']\n",
    "    if row['buildState_name'] in ['Sıfır', 'Sifir', '0', 'Yapım Aşamasında']:\n",
    "        return 0\n",
    "    return np.nan\n",
    "\n",
    "df['age'] = df.apply(assign_age_from_buildstate, axis=1)\n",
    "\n",
    "# 2. Adım: description ve detailDescription'dan yaş çıkar\n",
    "def extract_age_from_text(text):\n",
    "    if pd.isna(text):\n",
    "        return None\n",
    "    patterns = [\n",
    "        r'(\\d+)\\s*yaşında', r'(\\d+)\\s*yaşındadır', r'(\\d+)\\s*yıllık',\n",
    "        r'(\\d+)\\s*yaşında\\s*bina', r'bina\\s*yaşı\\s*(\\d+)',\n",
    "        r'(\\d+)\\s*yaş', r'yaş\\s*:\\s*(\\d+)', r'yaş\\s*(\\d+)'\n",
    "    ]\n",
    "    for pattern in patterns:\n",
    "        matches = re.findall(pattern, text.lower())\n",
    "        if matches:\n",
    "            try:\n",
    "                age = int(matches[0])\n",
    "                if 0 <= age <= 100:\n",
    "                    return age\n",
    "            except:\n",
    "                continue\n",
    "    return None\n",
    "\n",
    "def extract_age_from_descriptions(row):\n",
    "    if not pd.isna(row['age']):\n",
    "        return row['age']\n",
    "    for col in ['description', 'detailDescription']:\n",
    "        age = extract_age_from_text(row.get(col))\n",
    "        if age is not None:\n",
    "            return age\n",
    "    return row['age']\n",
    "\n",
    "df['age'] = df.apply(extract_age_from_descriptions, axis=1)\n",
    "\n",
    "# 3. Adım: district bazlı doldurma\n",
    "# Burada doğru sütun adını kullanarak district sütunu üzerinde işlem yapıyoruz\n",
    "df['district_id'], df['district_name'] = zip(*df['district_name'].apply(parse_json_column))  # district_name sütunu kullanıldı\n",
    "district_avg_ages = df.groupby('district_id')['age'].mean().to_dict()\n",
    "\n",
    "def fill_age_with_district_avg(row):\n",
    "    if not pd.isna(row['age']):\n",
    "        return row['age']\n",
    "    return district_avg_ages.get(row['district_id'], np.nan)\n",
    "\n",
    "df['age'] = df.apply(fill_age_with_district_avg, axis=1)\n",
    "\n",
    "# 4. Adım: build bazlı doldurma\n",
    "df['build_id'], df['build_name'] = zip(*df['build'].apply(parse_json_column))\n",
    "build_avg_ages = df.groupby('build_id')['age'].mean().to_dict()\n",
    "\n",
    "def fill_age_with_build_avg(row):\n",
    "    if not pd.isna(row['age']):\n",
    "        return row['age']\n",
    "    return build_avg_ages.get(row['build_id'], np.nan)\n",
    "\n",
    "df['age'] = df.apply(fill_age_with_build_avg, axis=1)\n",
    "\n",
    "# 5. Adım: medyan ile doldurma\n",
    "median_age = df['age'].median()           #KALANLARI MEDYAN İLE DOLDURMA AŞAMASI\n",
    "df['age'] = df['age'].fillna(median_age)\n",
    "\n",
    "# Yaşları yuvarla ve tipini düzenle\n",
    "df['age'] = df['age'].round().astype('Int64')\n",
    "\n",
    "# Sonuçları göster\n",
    "print(\"\\nDoldurma sonrası age sütunu null sayısı:\", df['age'].isnull().sum())\n",
    "print(\"\\nAge sütunu istatistikleri:\")\n",
    "print(df['age'].describe())\n"
   ]
  },
  {
   "cell_type": "code",
   "execution_count": 286,
   "id": "a52e3084",
   "metadata": {},
   "outputs": [],
   "source": [
    "df = df.drop(columns = ['district_id', 'district_name', 'buildState_id', 'buildState_name', 'build_id', 'build_name'])"
   ]
  },
  {
   "cell_type": "code",
   "execution_count": 287,
   "id": "b781005b",
   "metadata": {},
   "outputs": [
    {
     "name": "stdout",
     "output_type": "stream",
     "text": [
      "room           0\n",
      "livingRoom     0\n",
      "bathRoom       0\n",
      "floor         10\n",
      "age            0\n",
      "dtype: int64\n"
     ]
    }
   ],
   "source": [
    "columns_to_analyze = ['room', 'livingRoom', 'bathRoom', 'floor', 'age']\n",
    "\n",
    "null_counts = df[columns_to_analyze].isnull().sum()\n",
    "\n",
    "print(null_counts)"
   ]
  },
  {
   "cell_type": "code",
   "execution_count": null,
   "id": "dfb2f0ce",
   "metadata": {},
   "outputs": [],
   "source": []
  },
  {
   "cell_type": "code",
   "execution_count": null,
   "id": "7df9b663",
   "metadata": {},
   "outputs": [],
   "source": []
  },
  {
   "cell_type": "code",
   "execution_count": 288,
   "id": "63fc88b0",
   "metadata": {},
   "outputs": [],
   "source": [
    "def safe_parse(val):\n",
    "    if pd.isna(val):\n",
    "        return {\"id\": 101704, \"name\": \"Belirtilmemiş\"}\n",
    "    try:\n",
    "        data = ast.literal_eval(val)\n",
    "        if data.get(\"name\") is None:\n",
    "            data[\"name\"] = \"Belirtilmemiş\"\n",
    "        return data\n",
    "    except:\n",
    "        return {\"id\": 101704, \"name\": \"Belirtilmemiş\"}\n",
    "\n",
    "df['usage'] = df['usage'].apply(safe_parse)"
   ]
  },
  {
   "cell_type": "code",
   "execution_count": 289,
   "id": "af230fa3",
   "metadata": {},
   "outputs": [
    {
     "data": {
      "text/plain": [
       "0            {'id': 101701, 'name': 'Boş'}\n",
       "1            {'id': 101701, 'name': 'Boş'}\n",
       "2            {'id': 101701, 'name': 'Boş'}\n",
       "3            {'id': 101701, 'name': 'Boş'}\n",
       "4            {'id': 101701, 'name': 'Boş'}\n",
       "                       ...                \n",
       "2175         {'id': 101701, 'name': 'Boş'}\n",
       "2176    {'id': 101702, 'name': 'Kiracılı'}\n",
       "2177         {'id': 101701, 'name': 'Boş'}\n",
       "2178         {'id': 101701, 'name': 'Boş'}\n",
       "2179         {'id': 101701, 'name': 'Boş'}\n",
       "Name: usage, Length: 2177, dtype: object"
      ]
     },
     "execution_count": 289,
     "metadata": {},
     "output_type": "execute_result"
    }
   ],
   "source": [
    "df['usage']"
   ]
  },
  {
   "cell_type": "code",
   "execution_count": 290,
   "id": "b2db6f8b",
   "metadata": {},
   "outputs": [
    {
     "data": {
      "text/plain": [
       "0"
      ]
     },
     "execution_count": 290,
     "metadata": {},
     "output_type": "execute_result"
    }
   ],
   "source": [
    "df['usage'].isnull().sum()"
   ]
  },
  {
   "cell_type": "code",
   "execution_count": 291,
   "id": "deb7da6d",
   "metadata": {},
   "outputs": [
    {
     "data": {
      "text/plain": [
       "usage\n",
       "{'id': 101701, 'name': 'Boş'}              1439\n",
       "{'id': 101703, 'name': 'Mülk Sahibi'}       278\n",
       "{'id': 101704, 'name': 'Belirtilmemiş'}     206\n",
       "{'id': 101702, 'name': 'Kiracılı'}          172\n",
       "{'id': 101701, 'name': 'Bos'}                44\n",
       "{'id': 101701, 'name': 'Empty'}              17\n",
       "{'id': 101703, 'name': 'M�lk Sahibi'}         8\n",
       "{'id': 101703, 'name': 'MülkSahibi'}          4\n",
       "{'id': 101702, 'name': 'Kiracili'}            3\n",
       "{'id': 101701, 'name': 'Bo�'}                 3\n",
       "{'id': 101703, 'name': 'Owner'}               2\n",
       "{'id': 101702, 'name': 'Tenanted'}            1\n",
       "Name: count, dtype: int64"
      ]
     },
     "execution_count": 291,
     "metadata": {},
     "output_type": "execute_result"
    }
   ],
   "source": [
    "df['usage'].value_counts()"
   ]
  },
  {
   "cell_type": "code",
   "execution_count": 292,
   "id": "12104752",
   "metadata": {},
   "outputs": [],
   "source": [
    "\n",
    "# name alanını normalize et\n",
    "def normalize_name(name):\n",
    "    if isinstance(name, str):\n",
    "        name = name.lower()\n",
    "        if name in [\"boş\", \"empty\",\"bos\",\"bo�\"]:\n",
    "            return \"Boş\"\n",
    "        elif name in [\"owner\", \"mülk sahibi\",\"mülksahibi\",\"m�lk sahibi\"]:\n",
    "            return \"Mülk Sahibi\"\n",
    "        elif name in [\"kiracılı\",\"kiracili\",\"tenanted\"]:\n",
    "            return \"Kiracılı\"\n",
    "        elif name in [\"belirtilmemiş\", \"none\", \"null\"]:\n",
    "            return \"Belirtilmemiş\"\n",
    "    return name\n",
    "\n",
    "df['usage'] = df['usage'].apply(lambda x: {\"id\": x[\"id\"], \"name\": normalize_name(x[\"name\"])})\n"
   ]
  },
  {
   "cell_type": "code",
   "execution_count": 293,
   "id": "8287f629",
   "metadata": {},
   "outputs": [],
   "source": [
    "\"\"\"ID ALANINI VE NAME'İ ATMAK İSTEDİM\"\"\"\n",
    "# Fonksiyon: dict ise parçala, değilse boş dön\n",
    "def extract_usage(x):\n",
    "    if isinstance(x, dict):\n",
    "        return pd.Series({'usage_id': x.get('id'), 'usage_name': x.get('name')})\n",
    "    return pd.Series({'usage_id': None, 'usage_name': None})\n",
    "\n",
    "# Uygula\n",
    "df[['usage_id', 'usage_name']] = df['usage'].apply(extract_usage)\n",
    "\n",
    "\"\"\"eski usage ve usage_id kısmını kaldırdım\"\"\"\n",
    "df = df.drop(columns=['usage'])\n",
    "df = df.drop(columns=['usage_id'])"
   ]
  },
  {
   "cell_type": "code",
   "execution_count": 294,
   "id": "1686bf4a",
   "metadata": {},
   "outputs": [
    {
     "data": {
      "text/plain": [
       "usage_name\n",
       "Boş              1503\n",
       "Mülk Sahibi       292\n",
       "Belirtilmemiş     206\n",
       "Kiracılı          176\n",
       "Name: count, dtype: int64"
      ]
     },
     "execution_count": 294,
     "metadata": {},
     "output_type": "execute_result"
    }
   ],
   "source": [
    "df['usage_name'].value_counts()"
   ]
  },
  {
   "cell_type": "code",
   "execution_count": null,
   "id": "600f0622",
   "metadata": {},
   "outputs": [],
   "source": []
  },
  {
   "cell_type": "markdown",
   "id": "5f7bcd34",
   "metadata": {},
   "source": [
    "<h2> numberOfBuilding sütunu kaldırıldı çünkü çoğu satırda eksik (boş) değer vardı ve sadece çok azında veri bulunuyordu </h2>"
   ]
  },
  {
   "cell_type": "code",
   "execution_count": 295,
   "id": "60e22a50",
   "metadata": {},
   "outputs": [],
   "source": [
    "df = df.drop(columns=['numberOfBuilding'])"
   ]
  },
  {
   "cell_type": "markdown",
   "id": "7f0f82f9",
   "metadata": {},
   "source": [
    "\n",
    "- 'fuel', 'heating', 'build', 'buildState': Bu sütunlar normalize edilip temizlenmiştir.\n",
    "   → Bu sütunlardan elde edilen bilgilerle aşağıdaki **yeni sütunlar** oluşturulmuştur:\n",
    "    'yakit', 'isitma', 'yapi', 'yapiDurumu'\n",
    "   → Temizleme ve daha okunabilir hale getirme amacıyla orijinal sütunlar **drop()** ile silinmiştir.\n",
    "- 'land' sütunu: İçeriğinde JSON formatında yer alan veriler ('municipality', 'island', 'parcel') ayrıştırılarak yeni sütunlara aktarılmıştır.\n",
    "    → Bu işlem sonrası 'land' sütunu da silinmiştir çünkü bilgi artık daha erişilebilir sütunlarda tutulmaktadır.\n",
    "   → municipality' sütunu da çıkarılmış ancak tüm değerleri None olduğu için \n",
    " - 'sqm' sütunu: Net alan, brüt alan vb. bilgileri içeren JSON yapıdadır. Bu veriler de ayrıştırılarak:\n",
    "   'netSqm', 'grossSqm', 'indoorGrossSqm', 'outdoorGrossSqm', 'indoorNetSqm', 'outdoorNetSqm', \n",
    "   'openAreaSqm', 'closedAreaSqm', 'priceSqm', 'currencyCode' gibi yeni sütunlar oluşturulmuştur.\n",
    "   → Daha sonra orijinal 'sqm' sütunu silinmiştir.\n",
    "\n"
   ]
  },
  {
   "cell_type": "code",
   "execution_count": 296,
   "id": "031b7667",
   "metadata": {},
   "outputs": [],
   "source": [
    "def safe_parse( x, mapping):\n",
    "    try:\n",
    "        if pd.isna(x) or not isinstance(x, str):\n",
    "            return None\n",
    "        d = ast.literal_eval(x)\n",
    "        name = d.get('name') if isinstance(d, dict) else None\n",
    "        if name is None:\n",
    "            return None\n",
    "        return mapping.get(str(name).lower(), name)\n",
    "    except (ValueError, SyntaxError):\n",
    "        return None"
   ]
  },
  {
   "cell_type": "code",
   "execution_count": 297,
   "id": "3174d190",
   "metadata": {},
   "outputs": [],
   "source": [
    "\"\"\"\" fuel sütunu içerisinden anlamlı bilgi çıkarımı \"\"\"\n",
    "mapping_yakit = {\n",
    "    'doğalgaz': 'Doğalgaz',\n",
    "    'dogalgaz': 'Doğalgaz',\n",
    "    'gas': 'Doğalgaz',\n",
    "    'elektrik': 'Elektrik',\n",
    "    'electric': 'Elektrik',\n",
    "    'kömür-odun': 'Kömür-Odun',\n",
    "    'akaryakıt': 'Akaryakıt',\n",
    "    'yerden ısıtma': 'Yerden Isıtma',\n",
    "    'null' : None\n",
    "}"
   ]
  },
  {
   "cell_type": "code",
   "execution_count": 298,
   "id": "630b7c77",
   "metadata": {},
   "outputs": [],
   "source": [
    "mapping_isitma = {\n",
    "    # Isıtma türleri\n",
    "    'kombi': 'Kombi',\n",
    "    'combi boiler': 'Kombi',\n",
    "    'merkezi': 'Merkezi Sistem',\n",
    "    'merkezi (pay ölçer)': 'Merkezi Sistem',\n",
    "    'merkezi (payölçer)': 'Merkezi Sistem',\n",
    "    'soba': 'Soba',\n",
    "    'heating stove': 'Soba',\n",
    "    'klima': 'Klima',\n",
    "    'güneş enerjisi': 'Güneş Enerjisi',\n",
    "    'ısı pompası': 'Isı Pompası',\n",
    "    'kat kaloriferi': 'Kat Kaloriferi',\n",
    "    'jeotermal ısıtma': 'Jeotermal Isıtma',\n",
    "    'belirtilmemiş': 'Belirtilmemiş',\n",
    "    'ısıtma yok': 'Isıtma Yok',\n",
    "    'null' : None,\n",
    "    # Yerden Isıtma varyasyonları\n",
    "    'yerden ısıtma': 'Yerden Isıtma',\n",
    "    'yerden isitma': 'Yerden Isıtma',\n",
    "    'yerdenısıtma': 'Yerden Isıtma',\n",
    "    'yerden isıtma': 'Yerden Isıtma',\n",
    "    'YerdenIsıtma' : 'Yerden Isıtma',\n",
    "    'yerden is�tma': 'Yerden Isıtma',\n",
    "    'underfloor heating': 'Yerden Isıtma',\n",
    "\n",
    "    # Doğalgaz Sobası varyasyonları\n",
    "    'doğalgaz sobası': 'Doğalgaz Sobası',\n",
    "    'doğalgazsobası': 'Doğalgaz Sobası',\n",
    "\n",
    "    # Yakıt türleri\n",
    "    'doğalgaz': 'Doğalgaz',\n",
    "    'dogalgaz': 'Doğalgaz',\n",
    "    'gas': 'Doğalgaz',\n",
    "    'elektrik': 'Elektrik',\n",
    "    'electric': 'Elektrik',\n",
    "    'kömür-odun': 'Kömür-Odun',\n",
    "    'akaryakıt': 'Akaryakıt'}"
   ]
  },
  {
   "cell_type": "code",
   "execution_count": 299,
   "id": "466171d7",
   "metadata": {},
   "outputs": [],
   "source": [
    "mapping_yapi = {\n",
    "    'betonarme': 'Betonarme',\n",
    "    'bet tonarme': 'Betonarme',\n",
    "    'reinforced concrete': 'Betonarme',\n",
    "\n",
    "    'ahşap': 'Ahşap',\n",
    "\n",
    "    'kagir': 'Kagir',\n",
    "\n",
    "    'taş bina': 'Taş Bina',\n",
    "    'taşbina': 'Taş Bina',\n",
    "\n",
    "    'prefabrik': 'Prefabrik',\n",
    "\n",
    "    'yığma': 'Yığma',\n",
    "\n",
    "    'çelik': 'Çelik',\n",
    "    \n",
    "    'null' : None\n",
    "}"
   ]
  },
  {
   "cell_type": "code",
   "execution_count": 300,
   "id": "9f75c082",
   "metadata": {},
   "outputs": [],
   "source": [
    "mapping_durum = {\n",
    "    # Durumlar\n",
    "    'ikinci el': 'İkinci El',\n",
    "    'ikinciel': 'İkinci El',\n",
    "    'second hand': 'İkinci El',\n",
    "    'İkinciEl' : 'İkinci El',\n",
    "    \n",
    "    'sıfır': 'Sıfır',\n",
    "    'sifir': 'Sıfır',\n",
    "    \n",
    "    'kiracılı': 'Kiracılı',\n",
    "    \n",
    "    'yapım aşamasında': 'Yapım Aşamasında',\n",
    "    \n",
    "    '0': 'Sıfır',  # Burada 0'ı Sıfır olarak kabul ediyoruz\n",
    "    \n",
    "    'null' : None\n",
    "}\n"
   ]
  },
  {
   "cell_type": "code",
   "execution_count": 301,
   "id": "ad344113",
   "metadata": {},
   "outputs": [
    {
     "name": "stdout",
     "output_type": "stream",
     "text": [
      "Yakıt null sayısı:  1080\n",
      "Isıtma null sayısı:  86\n",
      "Yapı null sayısı:  1110\n",
      "Yapı Durumu null sayısı:  1000\n"
     ]
    }
   ],
   "source": [
    "\n",
    "df['yakit'] = df['fuel'].apply(lambda x: safe_parse(x, mapping_yakit))\n",
    "df = df.drop(columns=['fuel'])\n",
    "print('Yakıt null sayısı: ', df['yakit'].isnull().sum())\n",
    "\n",
    "df['isitma'] = df['heating'].apply(lambda x: safe_parse(x, mapping_isitma))\n",
    "df['isitma'] = df['isitma'].replace('YerdenIsıtma', 'Yerden Isıtma')\n",
    "df = df.drop(columns=['heating'])\n",
    "print('Isıtma null sayısı: ', df['isitma'].isnull().sum())\n",
    "\n",
    "df['yapi'] = df['build'].apply(lambda x: safe_parse(x, mapping_yapi))\n",
    "df = df.drop(columns=['build'])\n",
    "print('Yapı null sayısı: ', df['yapi'].isnull().sum())\n",
    "\n",
    "df['yapiDurumu'] = df['buildState'].apply(lambda x: safe_parse(x, mapping_durum))\n",
    "df['yapiDurumu'] = df['yapiDurumu'].replace('İkinciEl', 'İkinci El')\n",
    "df = df.drop(columns=['buildState'])\n",
    "print('Yapı Durumu null sayısı: ', df['yapiDurumu'].isnull().sum())\n"
   ]
  },
  {
   "cell_type": "code",
   "execution_count": 302,
   "id": "8c6c7d5d",
   "metadata": {},
   "outputs": [
    {
     "name": "stdout",
     "output_type": "stream",
     "text": [
      "Yakit null sayısı 2:  424\n"
     ]
    }
   ],
   "source": [
    "# yakit'taki boş değerler isitma'nın kombi olması takdirinde \"Doğalgaz\" olarak belirlendi\n",
    "# isitma kombi ise yakit doğalgazdır\n",
    "def yakit_doldur(row):\n",
    "    if pd.isna(row['yakit']) and row['isitma'] == 'Kombi':\n",
    "        return 'Doğalgaz'\n",
    "    elif pd.isna(row['yakit']) and row['isitma'] == 'Soba':\n",
    "        return 'Kömür-Odun'\n",
    "    elif pd.isna(row['yakit']) and row['isitma'] == 'Doğalgaz Sobası':\n",
    "        return 'Doğalgaz'\n",
    "    return row['yakit']\n",
    "\n",
    "df['yakit'] = df.apply(yakit_doldur, axis=1)\n",
    "\n",
    "print('Yakit null sayısı 2: ', df['yakit'].isnull().sum())"
   ]
  },
  {
   "cell_type": "code",
   "execution_count": 303,
   "id": "35f47449",
   "metadata": {},
   "outputs": [
    {
     "name": "stdout",
     "output_type": "stream",
     "text": [
      "Doldurulduktan sonra yakit null sayısı:  140\n"
     ]
    }
   ],
   "source": [
    "# Eksik yakit değerlerini doldurmak için yardımcı fonksiyon\n",
    "def yakit_tahmin_et(row, yakit_mode_dict):\n",
    "    if pd.isna(row['yakit']):\n",
    "        key = (row['property_type'], row['age'], row['isitma'])\n",
    "        return yakit_mode_dict.get(key, None)\n",
    "    return row['yakit']\n",
    "\n",
    "# property_type, age ve isitma'ya göre yakit modlarını hesapla\n",
    "yakit_mode_dict = (\n",
    "    df.groupby(['property_type', 'age', 'isitma'])['yakit']\n",
    "    .agg(lambda x: x.mode().iloc[0] if not x.mode().empty else None)\n",
    "    .to_dict()\n",
    ")\n",
    "\n",
    "# Uygula\n",
    "df['yakit'] = df.apply(lambda row: yakit_tahmin_et(row, yakit_mode_dict), axis=1)\n",
    "\n",
    "\n",
    "print('Doldurulduktan sonra yakit null sayısı: ', df['yakit'].isnull().sum())"
   ]
  },
  {
   "cell_type": "code",
   "execution_count": null,
   "id": "1c3d3914",
   "metadata": {},
   "outputs": [],
   "source": []
  },
  {
   "cell_type": "code",
   "execution_count": 304,
   "id": "c4ce2f5b",
   "metadata": {},
   "outputs": [
    {
     "name": "stdout",
     "output_type": "stream",
     "text": [
      "Yapı Durumu null sayısı 2:  0\n"
     ]
    }
   ],
   "source": [
    "# Yaş dütununa göre 1'den küçük olduğu durumlarda sıfır bilgisi girildi\n",
    "def yapi_durumu_tahmin_et(row):\n",
    "    if pd.isna(row['yapiDurumu']):\n",
    "        if row['age'] <= 1:\n",
    "            return 'Sıfır'\n",
    "        else:\n",
    "            return 'İkinci El'\n",
    "    return row['yapiDurumu']\n",
    "\n",
    "df['yapiDurumu'] = df.apply(yapi_durumu_tahmin_et, axis=1)\n",
    "\n",
    "print('Yapı Durumu null sayısı 2: ', df['yapiDurumu'].isnull().sum())"
   ]
  },
  {
   "cell_type": "code",
   "execution_count": 305,
   "id": "796168e9",
   "metadata": {},
   "outputs": [
    {
     "name": "stdout",
     "output_type": "stream",
     "text": [
      "kiracılı sayısı : 1\n"
     ]
    }
   ],
   "source": [
    "# yapiDurumu sütunundaki \"Kiracılı\" verisi ikinci el olarak değiştirildi\n",
    "# \"Kiracılı\" olan satırları say\n",
    "print('kiracılı sayısı :', (df['yapiDurumu'] == 'Kiracılı').sum())"
   ]
  },
  {
   "cell_type": "code",
   "execution_count": 306,
   "id": "019e8b82",
   "metadata": {},
   "outputs": [],
   "source": [
    "# \"Kiracılı\" olanları \"İkinci El\" ile değiştir\n",
    "df['yapiDurumu'] = df['yapiDurumu'].replace('Kiracılı', 'İkinci El')"
   ]
  },
  {
   "cell_type": "code",
   "execution_count": 307,
   "id": "767a1d20",
   "metadata": {},
   "outputs": [
    {
     "name": "stdout",
     "output_type": "stream",
     "text": [
      "Yaşı 1'den büyük olup 'Sıfır' olarak işaretlenen satır sayısı: 63\n",
      "bu satırlarıdaki ortalama yaş:  4.76\n"
     ]
    }
   ],
   "source": [
    "# Yaşı sıfırdan büyük sıfır evlerde yaş max 8 ise kabul edilebilir, ancak daha büyük\n",
    "# olanlar İkinci El olarak değiştirilecek\n",
    "durumSifir = df[(df['age'] > 1) & (df['yapiDurumu'] == 'Sıfır')]\n",
    "# bu satırların ortalamasını al\n",
    "ortalama_yas = round(df.loc[(df['yapiDurumu'] == 'Sıfır') & (df['age'] > 1), 'age'].mean(), 2)\n",
    "print(f\"Yaşı 1'den büyük olup 'Sıfır' olarak işaretlenen satır sayısı: {len(durumSifir)}\")\n",
    "print('bu satırlarıdaki ortalama yaş: ', str(ortalama_yas))"
   ]
  },
  {
   "cell_type": "code",
   "execution_count": 308,
   "id": "0f339e39",
   "metadata": {},
   "outputs": [],
   "source": [
    "# burada ortalama yaş int çevrildiği için 5  olarak olınır\n",
    "df.loc[(df['age'] >= int(ortalama_yas)) & (df['yapiDurumu'] == 'Sıfır'), 'yapiDurumu'] = 'İkinci El'"
   ]
  },
  {
   "cell_type": "code",
   "execution_count": 309,
   "id": "589fdf3a",
   "metadata": {},
   "outputs": [
    {
     "name": "stdout",
     "output_type": "stream",
     "text": [
      "'Yapım Aşamasında' olup yaşı girilmiş satır sayısı: 2\n"
     ]
    }
   ],
   "source": [
    "# Verilerde yapiDurumu sütunundaki tutarsız Yapım Aşamasında verilerini inceliyoruz\n",
    "# ve gerekli değişiklikler yapılıyor\n",
    "durumYapim = df[(df['yapiDurumu'] == 'Yapım Aşamasında') & (df['age'] > 0)]\n",
    "\n",
    "print(f\"'Yapım Aşamasında' olup yaşı girilmiş satır sayısı: {len(durumYapim)}\")\n",
    "# birinin age değeri 18 diğerinin 1 "
   ]
  },
  {
   "cell_type": "code",
   "execution_count": 310,
   "id": "40dc4ad4",
   "metadata": {},
   "outputs": [
    {
     "name": "stdout",
     "output_type": "stream",
     "text": [
      "Yapım Aşamasında sayısı: 5\n"
     ]
    }
   ],
   "source": [
    "yapimAsamasinda = df[(df['yapiDurumu'] == 'Yapım Aşamasında')]\n",
    "print('Yapım Aşamasında sayısı:', (df['yapiDurumu'] == 'Yapım Aşamasında').sum())\n"
   ]
  },
  {
   "cell_type": "code",
   "execution_count": 311,
   "id": "4f1c9f60",
   "metadata": {},
   "outputs": [],
   "source": [
    "df.loc[(df['yapiDurumu'] == 'Yapım Aşamasında') & (df['age'] == 18), 'yapiDurumu'] = 'İkinci El'\n",
    "df.loc[(df['yapiDurumu'] == 'Yapım Aşamasında') & (df['age'] == 1), 'age'] = 0\n",
    "\n",
    "durumYapimKontrol = df[(df['yapiDurumu'] == 'Yapım Aşamasında') & (df['age'] > 0)]"
   ]
  },
  {
   "cell_type": "code",
   "execution_count": 312,
   "id": "f53fb7c3",
   "metadata": {},
   "outputs": [
    {
     "name": "stdout",
     "output_type": "stream",
     "text": [
      " Yapım Aşamasında olup yaşı 0'dan büyük olan kayıt sayısı: 0\n",
      "\n"
     ]
    }
   ],
   "source": [
    "# Kaç kayıt var?\n",
    "print(f\" Yapım Aşamasında olup yaşı 0'dan büyük olan kayıt sayısı: {len(durumYapimKontrol)}\\n\")\n"
   ]
  },
  {
   "cell_type": "code",
   "execution_count": 313,
   "id": "50aff150",
   "metadata": {},
   "outputs": [
    {
     "name": "stdout",
     "output_type": "stream",
     "text": [
      "Yaşı 0 olup 'İkinci El' olarak işaretlenen satır sayısı: 27\n"
     ]
    }
   ],
   "source": [
    "# Yaşı 0 olup da ikinci el olarak girilenlerde kiricılı olma durumuna göre ikinci el \n",
    "# verisi korunacak yoksa veride yaş baz alınarak yapiDurumu Sıfır olarak güncellenecek\n",
    "durum2 = df[(df['age'] == 0) & (df['yapiDurumu'] == 'İkinci El')]\n",
    "print(f\"Yaşı 0 olup 'İkinci El' olarak işaretlenen satır sayısı: {len(durum2)}\")\n"
   ]
  },
  {
   "cell_type": "code",
   "execution_count": 314,
   "id": "a947e5b7",
   "metadata": {},
   "outputs": [],
   "source": [
    "# Bir tanesi \"Mülk Sahibi\" diğerleri hepsi \"Boş\"\n",
    "degistirilecek_veri = durum2[durum2['usage_name'] != 'Kiracılı']\n",
    "# usage_name'i 'Kiracılı' olmayanları seç\n",
    "degistirilecek_indexler = durum2[durum2['usage_name'] != 'Kiracılı'].index\n",
    "# Bu satırların yapiDurumu değerini 'Sıfır' yap\n",
    "df.loc[degistirilecek_indexler, 'yapiDurumu'] = 'Sıfır'\n",
    "\n",
    "durum2kontrol = df[(df['age'] == 0) & (df['yapiDurumu'] == 'İkinci El')]\n"
   ]
  },
  {
   "cell_type": "code",
   "execution_count": 315,
   "id": "e54992d6",
   "metadata": {},
   "outputs": [
    {
     "name": "stdout",
     "output_type": "stream",
     "text": [
      " 0\n",
      "\n"
     ]
    }
   ],
   "source": [
    "# Kaç kayıt var?\n",
    "print(f\" {len(durum2kontrol)}\\n\")"
   ]
  },
  {
   "cell_type": "code",
   "execution_count": null,
   "id": "515a33e7",
   "metadata": {},
   "outputs": [],
   "source": []
  },
  {
   "cell_type": "code",
   "execution_count": 316,
   "id": "a5204339",
   "metadata": {},
   "outputs": [],
   "source": [
    "\n",
    "# NaN veya None olan hücreleri kontrol et ve JSON parsing işlemi yapmadan önce boş string yap\n",
    "df['land'] = df['land'].apply(lambda x: '' if pd.isna(x) else x)\n",
    "\n",
    "# JSON string'lerini ayırma ve sözlük oluşturma\n",
    "df['land'] = df['land'].apply(lambda x: json.loads(x) if x else None)\n",
    "\n",
    "# Municipality, Island ve Parcel sütunlarını ayırma\n",
    "# ilki belediye ait bilgiler/ gayrimenkulün hangi belediyeye ait olduğu bilgisi\n",
    "df['municipality'] = df['land'].apply(lambda x: x['municipality'] if x and x['municipality'] != \"\" else None)\n",
    "df['island'] = df['land'].apply(lambda x: x['island'] if x and x['island'] != \"\" else None)\n",
    "df['parcel'] = df['land'].apply(lambda x: x['parcel'] if x and x['parcel'] != \"\" else None)\n"
   ]
  },
  {
   "cell_type": "code",
   "execution_count": 317,
   "id": "79c7ef25",
   "metadata": {},
   "outputs": [
    {
     "name": "stdout",
     "output_type": "stream",
     "text": [
      "     municipality island parcel\n",
      "2170         None   None   None\n",
      "2171         None   None   None\n",
      "2172         None   None   None\n",
      "2173         None   None   None\n",
      "2174         None   None   None\n",
      "2175         None   None   None\n",
      "2176         None   None   None\n",
      "2177         None   None   None\n",
      "2178         None   None   None\n",
      "2179         None    446     97\n"
     ]
    }
   ],
   "source": [
    "print(df[['municipality','island','parcel']].tail(10))"
   ]
  },
  {
   "cell_type": "code",
   "execution_count": 318,
   "id": "5c1ead72",
   "metadata": {},
   "outputs": [],
   "source": [
    "df = df.drop(columns=['land'])\n",
    "df = df.drop(columns=['municipality'])"
   ]
  },
  {
   "cell_type": "code",
   "execution_count": 319,
   "id": "d4fae047",
   "metadata": {},
   "outputs": [
    {
     "data": {
      "text/plain": [
       "0        225\n",
       "1       None\n",
       "2       None\n",
       "3       None\n",
       "4       None\n",
       "        ... \n",
       "2175    None\n",
       "2176    None\n",
       "2177    None\n",
       "2178    None\n",
       "2179     446\n",
       "Name: island, Length: 2177, dtype: object"
      ]
     },
     "execution_count": 319,
     "metadata": {},
     "output_type": "execute_result"
    }
   ],
   "source": [
    "df['island']"
   ]
  },
  {
   "cell_type": "code",
   "execution_count": 320,
   "id": "09eda37a",
   "metadata": {},
   "outputs": [
    {
     "data": {
      "text/plain": [
       "0         18\n",
       "1       None\n",
       "2       None\n",
       "3       None\n",
       "4       None\n",
       "        ... \n",
       "2175    None\n",
       "2176    None\n",
       "2177    None\n",
       "2178    None\n",
       "2179      97\n",
       "Name: parcel, Length: 2177, dtype: object"
      ]
     },
     "execution_count": 320,
     "metadata": {},
     "output_type": "execute_result"
    }
   ],
   "source": [
    "df['parcel']"
   ]
  },
  {
   "cell_type": "code",
   "execution_count": null,
   "id": "79a91950",
   "metadata": {},
   "outputs": [],
   "source": []
  },
  {
   "cell_type": "code",
   "execution_count": 321,
   "id": "0d770236",
   "metadata": {},
   "outputs": [
    {
     "data": {
      "text/plain": [
       "(2177, 80)"
      ]
     },
     "execution_count": 321,
     "metadata": {},
     "output_type": "execute_result"
    }
   ],
   "source": [
    "df.shape"
   ]
  },
  {
   "cell_type": "code",
   "execution_count": 322,
   "id": "ad5ebd0e",
   "metadata": {},
   "outputs": [],
   "source": [
    "# JSON string'ini ayırma ve Python sözlüğüne dönüştürme\n",
    "df['sqm'] = df['sqm'].apply(lambda x: json.loads(x) if pd.notna(x) else {})\n",
    "\n",
    "\n",
    "# NaN veya None olan hücreleri kontrol et ve boş string yap\n",
    "df['sqm'] = df['sqm'].apply(lambda x: '' if pd.isna(x) else x)\n",
    "\n",
    "# JSON string'lerini sözlüğe dönüştürme, sadece string olanlar için\n",
    "df['sqm'] = df['sqm'].apply(lambda x: json.loads(x) if isinstance(x, str) and x else x)\n",
    "\n",
    "# Sadece sqm sütunlarını ayıralım: netSqm, grossSqm, indoorGrossSqm vb.\n",
    "sqm_columns = ['netSqm', 'grossSqm', 'indoorGrossSqm', 'outdoorGrossSqm', 'indoorNetSqm', 'outdoorNetSqm', 'openAreaSqm', 'closedAreaSqm', 'priceSqm', 'currencyCode']\n",
    "# netSqm kullanılabilir net alan\n",
    "# grossSqm brüt alan, binanın tüm yüze alanı (duvarlar vb. dahil)\n",
    "\n",
    "\n",
    "# Her bir sqm sütununu ayrı ayıralım\n",
    "for col in sqm_columns:\n",
    "    df[col] = df['sqm'].apply(lambda x: x[col] if isinstance(x, dict) and col in x else None)\n",
    "\n",
    "df['grossSqm'] = df['grossSqm'].apply(lambda x: x[0] if isinstance(x, list) and len(x) > 0 else None)"
   ]
  },
  {
   "cell_type": "code",
   "execution_count": 323,
   "id": "87f265d3",
   "metadata": {},
   "outputs": [],
   "source": [
    "df = df.drop(columns=['sqm'])"
   ]
  },
  {
   "cell_type": "code",
   "execution_count": 324,
   "id": "1fe8303a",
   "metadata": {},
   "outputs": [
    {
     "name": "stdout",
     "output_type": "stream",
     "text": [
      "   netSqm  grossSqm  indoorGrossSqm  outdoorGrossSqm  indoorNetSqm  \\\n",
      "0     110       122               0                0             0   \n",
      "1      75        80               0                0             0   \n",
      "2     200       250               0                0             0   \n",
      "3     120       130               0                0             0   \n",
      "4     140       160               0                0             0   \n",
      "\n",
      "   outdoorNetSqm  openAreaSqm  closedAreaSqm priceSqm currencyCode  \n",
      "0              0            0              0     None         None  \n",
      "1              0            0              0     None         None  \n",
      "2              0            0              0     None         None  \n",
      "3              0            0              0     None         None  \n",
      "4              0            0              0     None         None  \n"
     ]
    }
   ],
   "source": [
    "print(df[['netSqm', 'grossSqm', 'indoorGrossSqm', 'outdoorGrossSqm', 'indoorNetSqm', 'outdoorNetSqm', 'openAreaSqm', 'closedAreaSqm', 'priceSqm', 'currencyCode']].head(5))"
   ]
  },
  {
   "cell_type": "code",
   "execution_count": 325,
   "id": "01ef7b69",
   "metadata": {},
   "outputs": [],
   "source": [
    "df = df.drop(columns=['indoorGrossSqm', 'outdoorGrossSqm', 'indoorNetSqm', 'outdoorNetSqm', 'priceSqm', 'currencyCode'])\n"
   ]
  },
  {
   "cell_type": "code",
   "execution_count": 326,
   "id": "5c3105cd",
   "metadata": {},
   "outputs": [
    {
     "name": "stdout",
     "output_type": "stream",
     "text": [
      "['listingId', 'title', 'description', 'price', 'currency', 'residence', 'timeShareName', 'room', 'livingRoom', 'bathRoom', 'isMapHidden', 'mapLocation', 'streetView', 'floor', 'age', 'credit', 'barter', 'landRegisterName', 'housingComplex', 'rental', 'authorizedRealtor', 'furnished', 'detailUrl', 'detailDescription', 'firm', 'firmUser', 'category', 'subCategory', 'mainCategory', 'fee', 'roomAndLivingRoom', 'isVideoTypeVimeo', 'onlineVisit', 'hasBranded', 'hasUpdateBooster', 'registerState', 'listingPropertyOrder', 'image_count', 'bulunan_yonler', 'property_type', 'Contact', 'inAttributes_count', 'outAttributes_count', 'locationAttributes_count', 'inAttributes_count_is_missing', 'outAttributes_count_is_missing', 'locationAttributes_count_is_missing', 'price_category', 'fee_is_missing', 'days_since_update', 'Stale_corrected', 'duration', 'area_name', 'county_name', 'city_name', 'tier', 'latitude', 'longitude', 'distance_to_sakarya_center_km', 'distance_to_karasu_km', 'distance_to_sapanca_km', 'distance_to_sakarya_university_km', 'sakarya_center_category', 'karasu_category', 'sapanca_category', 'sakarya_university_category', 'floorID', 'floorName', 'floorCount', 'floorNameFloat', 'floorCountFloat', 'floorRatio', 'usage_name', 'yakit', 'isitma', 'yapi', 'yapiDurumu', 'island', 'parcel', 'netSqm', 'grossSqm', 'openAreaSqm', 'closedAreaSqm']\n"
     ]
    }
   ],
   "source": [
    "print(df.columns.tolist())\n"
   ]
  },
  {
   "cell_type": "code",
   "execution_count": 327,
   "id": "400ec8e6",
   "metadata": {
    "scrolled": true
   },
   "outputs": [
    {
     "name": "stdout",
     "output_type": "stream",
     "text": [
      "OpenAreaSqm 0 sayısı:  2100\n",
      "OpenAreaSqm null sayısı:  76\n",
      "ClosedAreaSqm 0 sayısı:  2100\n",
      "ClosedAreaSqm null sayısı:  76\n",
      "Net m2 null sayısı:  0\n",
      "Net 0 sayısı:  10\n",
      "Brüt m2 null sayısı:  0\n",
      "Brüt 0 sayısı:  0\n",
      "Island null sayısı:  1969\n",
      "Parcel null sayısı:  1955\n"
     ]
    }
   ],
   "source": [
    "# 'openAreaSqm' ve 'closedAreaSqm' sütunları için 0 ve null değerlerinin sayısını hesaplama\n",
    "print('OpenAreaSqm 0 sayısı: ', (df['openAreaSqm'] == 0).sum())\n",
    "print('OpenAreaSqm null sayısı: ', df['openAreaSqm'].isnull().sum())\n",
    "print('ClosedAreaSqm 0 sayısı: ', (df['closedAreaSqm'] == 0).sum())\n",
    "print('ClosedAreaSqm null sayısı: ', df['closedAreaSqm'].isnull().sum())\n",
    "\n",
    "# aynı şekilde diğerleri için de \n",
    "print('Net m2 null sayısı: ', df['netSqm'].isnull().sum())\n",
    "print('Net 0 sayısı: ', (df['netSqm'] == 0).sum())\n",
    "print('Brüt m2 null sayısı: ', df['grossSqm'].isnull().sum())\n",
    "print('Brüt 0 sayısı: ', (df['grossSqm'] == 0).sum())\n",
    "print('Island null sayısı: ', df['island'].isnull().sum())\n",
    "print('Parcel null sayısı: ', df['parcel'].isnull().sum())\n",
    "\n"
   ]
  },
  {
   "cell_type": "code",
   "execution_count": 328,
   "id": "5e74855f",
   "metadata": {},
   "outputs": [],
   "source": [
    "df = df.drop(columns=['openAreaSqm', 'closedAreaSqm'])\n",
    "\n"
   ]
  },
  {
   "cell_type": "code",
   "execution_count": 329,
   "id": "75a51368",
   "metadata": {},
   "outputs": [
    {
     "name": "stdout",
     "output_type": "stream",
     "text": [
      "property_type\n",
      "Bina          1\n",
      "Bungalov      1\n",
      "Daire         1\n",
      "Köy Evi       0\n",
      "Köşk          1\n",
      "Müstakil Ev   1\n",
      "Prefabrik     1\n",
      "Villa         1\n",
      "Yazlık        1\n",
      "Çiftlik Evi   1\n",
      "Name: ratio, dtype: float64\n"
     ]
    }
   ],
   "source": [
    "# Sıfır olmayan değerleri filtrele\n",
    "df_valid = df[(df['netSqm'] > 0) & (df['grossSqm'] > 0)].copy()\n",
    "df_valid['ratio'] = df_valid['netSqm'] / df_valid['grossSqm']\n",
    "\n",
    "# Her property türü için ortalama oran\n",
    "property_ratios = df_valid.groupby('property_type')['ratio'].mean()\n",
    "print(property_ratios)"
   ]
  },
  {
   "cell_type": "code",
   "execution_count": 330,
   "id": "1b89c937",
   "metadata": {},
   "outputs": [
    {
     "data": {
      "text/plain": [
       "10"
      ]
     },
     "execution_count": 330,
     "metadata": {},
     "output_type": "execute_result"
    }
   ],
   "source": [
    "(df['netSqm'] == 0).sum()\n"
   ]
  },
  {
   "cell_type": "code",
   "execution_count": 331,
   "id": "1416d5dc",
   "metadata": {},
   "outputs": [],
   "source": [
    "# Net = 0 olanları bul\n",
    "mask = df['netSqm'] == 0\n",
    "\n",
    "# Tahmin fonksiyonu\n",
    "def estimate_net(row):\n",
    "    try:\n",
    "        ratio = property_ratios[row['propertyType']]\n",
    "        return row['grossSqm'] * ratio\n",
    "    except KeyError:\n",
    "        return row['netSqm']  # oran yoksa değiştirme\n",
    "\n",
    "# Net değeri 0 olanlara tahmini değer ata\n",
    "df.loc[mask, 'netSqm'] = df[mask].apply(estimate_net, axis=1)"
   ]
  },
  {
   "cell_type": "code",
   "execution_count": 332,
   "id": "f8c27028",
   "metadata": {},
   "outputs": [],
   "source": [
    "# Genel oran ortalamasını hesapla\n",
    "genel_oran = df_valid['ratio'].mean()\n",
    "\n",
    "# Kalan 0 netSqm olan satırları tekrar seç\n",
    "mask_kalan = df['netSqm'] == 0\n",
    "\n",
    "# Genel oranla tahmin et\n",
    "df.loc[mask_kalan, 'netSqm'] = df.loc[mask_kalan, 'grossSqm'] * genel_oran\n"
   ]
  },
  {
   "cell_type": "code",
   "execution_count": 333,
   "id": "11112ad4",
   "metadata": {},
   "outputs": [
    {
     "data": {
      "text/plain": [
       "0"
      ]
     },
     "execution_count": 333,
     "metadata": {},
     "output_type": "execute_result"
    }
   ],
   "source": [
    "(df['netSqm'] == 0).sum()"
   ]
  },
  {
   "cell_type": "code",
   "execution_count": null,
   "id": "1dfa2df7",
   "metadata": {},
   "outputs": [],
   "source": []
  },
  {
   "cell_type": "code",
   "execution_count": 334,
   "id": "d51bd34f",
   "metadata": {},
   "outputs": [],
   "source": [
    "from scipy.stats import zscore\n",
    "# netSqm ve grossSqm birbirleriyle ilişkili sütunlardır kontrolü sağlanmalı \n",
    "# Fark sütunu oluştur\n",
    "df['sqm_fark'] = df['grossSqm'] - df['netSqm']"
   ]
  },
  {
   "cell_type": "code",
   "execution_count": 335,
   "id": "351806cf",
   "metadata": {},
   "outputs": [
    {
     "data": {
      "text/plain": [
       "count   2177\n",
       "mean      38\n",
       "std      245\n",
       "min        1\n",
       "25%        5\n",
       "50%       10\n",
       "75%       20\n",
       "max     6803\n",
       "Name: sqm_fark, dtype: float64"
      ]
     },
     "execution_count": 335,
     "metadata": {},
     "output_type": "execute_result"
    }
   ],
   "source": [
    "df['sqm_fark'].describe()"
   ]
  },
  {
   "cell_type": "code",
   "execution_count": 336,
   "id": "a05def45",
   "metadata": {},
   "outputs": [
    {
     "data": {
      "text/plain": [
       "0      12\n",
       "1       5\n",
       "2      50\n",
       "3      10\n",
       "4      20\n",
       "       ..\n",
       "2175   10\n",
       "2176   24\n",
       "2177   10\n",
       "2178   10\n",
       "2179   10\n",
       "Name: sqm_fark, Length: 2177, dtype: float64"
      ]
     },
     "execution_count": 336,
     "metadata": {},
     "output_type": "execute_result"
    }
   ],
   "source": [
    "df['sqm_fark']"
   ]
  },
  {
   "cell_type": "code",
   "execution_count": 337,
   "id": "09466071",
   "metadata": {},
   "outputs": [
    {
     "name": "stdout",
     "output_type": "stream",
     "text": [
      "Mantıksız (net > gross) kayıt sayısı: 0\n",
      "Absürt (gross - net > 100 m²) kayıt sayısı: 63\n"
     ]
    }
   ],
   "source": [
    "# Mantıksız durumlar: net > gross\n",
    "mantiksiz_durumlar = df['sqm_fark'] < 0\n",
    "\n",
    "# Absürt farklar: fark > 100 m²\n",
    "absurt_farklar = df['sqm_fark'] > 100\n",
    "\n",
    "# Sayılarını yazdır\n",
    "print(f\"Mantıksız (net > gross) kayıt sayısı: {mantiksiz_durumlar.sum()}\")\n",
    "print(f\"Absürt (gross - net > 100 m²) kayıt sayısı: {absurt_farklar.sum()}\")"
   ]
  },
  {
   "cell_type": "code",
   "execution_count": null,
   "id": "461f7af8-2867-460a-8e42-1d4507524bb4",
   "metadata": {},
   "outputs": [],
   "source": []
  },
  {
   "cell_type": "markdown",
   "id": "2df50bcc-321b-446b-a175-4edb58e8b738",
   "metadata": {},
   "source": [
    "Absürt durumlar yani aradaki farkın çok büyük olduğu satırların düzeltme işlemi;\n",
    "Farkın çok büyük olan satrıları al \n",
    "netSqm'e bak\n",
    "netSqm kendi sütununda aykırı değer ifade etmiyorsa hesaplanan ortalama farkını bunun üzerine ekleyerek grossSqm elde et\n",
    "netSqm kendi satırında aykırı bir değer ise grossSqm'e bak ve ortakama farkı bu değerden çıkartarak netSqm elde et"
   ]
  },
  {
   "cell_type": "code",
   "execution_count": 338,
   "id": "5771c3ae-b6ea-40e2-a2ac-12c40798c04d",
   "metadata": {},
   "outputs": [
    {
     "name": "stdout",
     "output_type": "stream",
     "text": [
      "100 metrekareden büyük farklara sahip satır sayısı: 63\n"
     ]
    }
   ],
   "source": [
    "absurt_farklar = df[df['sqm_fark'] > 100]\n",
    "\n",
    "# 100 metrekareden büyük farklara sahip satırlar\n",
    "print(f\"100 metrekareden büyük farklara sahip satır sayısı: {len(absurt_farklar)}\")\n"
   ]
  },
  {
   "cell_type": "code",
   "execution_count": 339,
   "id": "e97cae4a-8e51-4b58-9eed-f0b3c5bb6ab2",
   "metadata": {},
   "outputs": [
    {
     "name": "stdout",
     "output_type": "stream",
     "text": [
      "Farkı 100 metrekareden büyük olanların indeksleri: Index([   6,   32,   37,   39,   69,  159,  251,  280,  285,  286,  291,  293,\n",
      "        297,  325,  346,  374,  423,  479,  508,  670,  673,  714,  807,  914,\n",
      "        919, 1051, 1092, 1099, 1184, 1256, 1276, 1289, 1318, 1326, 1341, 1343,\n",
      "       1345, 1377, 1418, 1501, 1521, 1561, 1645, 1650, 1674, 1681, 1684, 1687,\n",
      "       1691, 1729, 1730, 1792, 1829, 1833, 1944, 1974, 1976, 1982, 1986, 1996,\n",
      "       2070, 2075, 2098],\n",
      "      dtype='int64')\n"
     ]
    }
   ],
   "source": [
    "\n",
    "# absürt farkı olanların indexlerini al\n",
    "absurt_indexes = absurt_farklar.index\n",
    "# İndeksleri yazdır\n",
    "print(\"Farkı 100 metrekareden büyük olanların indeksleri:\", absurt_indexes)\n"
   ]
  },
  {
   "cell_type": "code",
   "execution_count": 340,
   "id": "1ff0b18b-6532-475f-abff-373c49a8816e",
   "metadata": {},
   "outputs": [
    {
     "name": "stdout",
     "output_type": "stream",
     "text": [
      "Bina olanların indeksleri: Index([  69,  157,  208,  411,  501,  543,  546,  739,  767, 1019, 1037, 1249,\n",
      "       1250, 1323, 1633, 1635, 1841, 1916, 1963, 1970, 1996, 2006, 2080],\n",
      "      dtype='int64')\n"
     ]
    }
   ],
   "source": [
    "# property_type 'bina' olanların indexlerini al\n",
    "binalar = df[df['property_type'] == 'Bina']\n",
    "# property_type 'bina' olanların indexlerini al\n",
    "bina_indexes = df[df['property_type'] == 'Bina'].index\n",
    "# İndeksleri yazdır\n",
    "print(\"Bina olanların indeksleri:\", bina_indexes)\n",
    "# absurt indexlerle karşılaştımak için yazdırdık\n",
    "# 69  1996   absurt indekslerinin property_type'ları bina\n",
    "# daha sonrasında karmaşıklık olmasın diye bunun kontrolğnğ yapıyoruz "
   ]
  },
  {
   "cell_type": "code",
   "execution_count": 341,
   "id": "c894a932-b178-4049-a3db-53c046e1ae93",
   "metadata": {},
   "outputs": [],
   "source": [
    "# Ortalama farkı hesapla (düzgün satırlardan)\n",
    "ortalama_fark = df[df['sqm_fark'] < 100]['sqm_fark'].mean()"
   ]
  },
  {
   "cell_type": "code",
   "execution_count": 342,
   "id": "068469c7-1066-489f-bd87-1cdaa7a68223",
   "metadata": {},
   "outputs": [],
   "source": [
    "# Düzeltme işlemi: \n",
    "for index, row in absurt_farklar.iterrows():\n",
    "    # Eğer netSqm düzgünse\n",
    "    if pd.notna(row['netSqm']) and row['netSqm'] > 0:\n",
    "        # NetSqm kullanarak grossSqm'i güncelle\n",
    "        new_grossSqm = row['netSqm'] + ortalama_fark\n",
    "        df.at[index, 'grossSqm'] = new_grossSqm\n",
    "    # Eğer grossSqm düzgünse\n",
    "    elif pd.notna(row['grossSqm']) and row['grossSqm'] > 0:\n",
    "        # GrossSqm kullanarak netSqm'i güncelle\n",
    "        new_netSqm = row['grossSqm'] - ortalama_fark\n",
    "        df.at[index, 'netSqm'] = new_netSqm"
   ]
  },
  {
   "cell_type": "code",
   "execution_count": 343,
   "id": "d4be2948-3f35-432a-ba6f-73b698f0ed1b",
   "metadata": {},
   "outputs": [
    {
     "name": "stdout",
     "output_type": "stream",
     "text": [
      "Yeniden hesaplanan farklar: 8\n"
     ]
    }
   ],
   "source": [
    "# Yeniden fark hesapla\n",
    "df['sqm_fark'] = df['grossSqm'] - df['netSqm']\n",
    "\n",
    "# Yeni farkları kontrol et\n",
    "aykiri_farklar_sonra = df[df['sqm_fark'] >= 100]\n",
    "print(f\"Yeniden hesaplanan farklar: {len(aykiri_farklar_sonra)}\")"
   ]
  },
  {
   "cell_type": "code",
   "execution_count": null,
   "id": "f4fad07c-1631-4889-8ae0-32705160178c",
   "metadata": {},
   "outputs": [],
   "source": []
  },
  {
   "cell_type": "markdown",
   "id": "660d80f2-cffc-416d-849e-7be22f2640cb",
   "metadata": {},
   "source": [
    "Daire bazlı girilen bina metrekarelerinin kat ile çarpılarak gerçek değerinin elde edilmesi"
   ]
  },
  {
   "cell_type": "code",
   "execution_count": 344,
   "id": "6207a237-6974-4316-9b84-e7455c874f26",
   "metadata": {},
   "outputs": [
    {
     "name": "stdout",
     "output_type": "stream",
     "text": [
      "Binalar için ortalama net metrekare:  249.8695652173913\n",
      "Yukarı yuvarlanmış eşik değer: 250\n",
      "Güncellenecek indexler:  Index([157, 501, 546, 739, 767, 1019, 1249, 1250, 1323, 1633, 1841, 1916, 1970,\n",
      "       2006],\n",
      "      dtype='int64')\n",
      "Toplam bina sayısı:  23\n",
      "Güncellenen satır sayısı: 14\n"
     ]
    }
   ],
   "source": [
    "\n",
    "# Binaların ortalama net metrekare değerini al\n",
    "esik_deger = binalar['netSqm'].mean()\n",
    "print('Binalar için ortalama net metrekare: ', esik_deger)\n",
    "esik_deger_up = math.ceil(binalar['netSqm'].mean())\n",
    "print(f\"Yukarı yuvarlanmış eşik değer: {esik_deger_up}\")\n",
    "\n",
    "# Belirli koşulları sağlayan binaların indexlerini al\n",
    "guncellenecek_indexler = binalar[(binalar['netSqm'] < esik_deger_up) & (binalar['floorCount'] > 0)].index\n",
    "print('Güncellenecek indexler: ', guncellenecek_indexler)\n",
    "\n",
    "# netSqm'i floorCount ile çarp\n",
    "df.loc[guncellenecek_indexler, 'netSqm'] = (\n",
    "    df.loc[guncellenecek_indexler, 'floorCount'] * df.loc[guncellenecek_indexler, 'netSqm']\n",
    ")\n",
    "# Binalar için net ve brüt arasındaki farkı bul \n",
    "# Her satır için sqm_fark = mevcut sqm_fark * floorCount\n",
    "sqm_carpim_fark = df.loc[guncellenecek_indexler, 'sqm_fark'] * df.loc[guncellenecek_indexler, 'floorCount']\n",
    "# grossSqm = netSqm + ortalama fark\n",
    "df.loc[guncellenecek_indexler, 'grossSqm'] = (\n",
    "    df.loc[guncellenecek_indexler, 'netSqm'] + sqm_carpim_fark\n",
    ")\n",
    "\n",
    "print('Toplam bina sayısı: ', len(binalar))\n",
    "guncellenen_satirlar = df.loc[guncellenecek_indexler]\n",
    "# Kaç satırda işlem yapıldığını yazdır\n",
    "print(f\"Güncellenen satır sayısı: {len(guncellenen_satirlar)}\")\n",
    "\n",
    "# sqm_fark'ı yeniden hesapla\n",
    "df['sqm_fark'] = df['grossSqm'] - df['netSqm']\n"
   ]
  },
  {
   "cell_type": "code",
   "execution_count": 345,
   "id": "095f2d74-d398-4c6c-a913-586e2ae8c4e3",
   "metadata": {},
   "outputs": [
    {
     "name": "stdout",
     "output_type": "stream",
     "text": [
      "netSqm sütunundaki aykırı değer sayısı: 20\n",
      "aykırı satırların netSqm değerleri 69      760\n",
      "280    3592\n",
      "282     681\n",
      "285    1232\n",
      "286    2245\n",
      "291    1186\n",
      "293    1230\n",
      "297    3254\n",
      "507    3608\n",
      "607     990\n",
      "909     693\n",
      "1295   1255\n",
      "1697   1450\n",
      "1813    743\n",
      "1958   1190\n",
      "1996   1000\n",
      "2005   1600\n",
      "2084    930\n",
      "2121    998\n",
      "2143   1900\n",
      "Name: netSqm, dtype: float64\n"
     ]
    }
   ],
   "source": [
    "# Ayrı ayrı sütunlardaki aykırı değerlerin hesaplanması \n",
    "# Neyse ki aynı satırlar\n",
    "\n",
    "# Z-score hesapla\n",
    "df['netSqm_z'] = zscore(df['netSqm'])\n",
    "\n",
    "# Aykırı değer: Z-score değeri > 3 veya < -3\n",
    "netSqm_aykirilar = df[(df['netSqm_z'] > 3) | (df['netSqm_z'] < -3)]\n",
    "\n",
    "print(f\"netSqm sütunundaki aykırı değer sayısı: {len(netSqm_aykirilar)}\")\n",
    "\n",
    "print('aykırı satırların netSqm değerleri', netSqm_aykirilar['netSqm'])"
   ]
  },
  {
   "cell_type": "code",
   "execution_count": 346,
   "id": "812eeb4e-54ae-4c28-a914-8148da3a5e8a",
   "metadata": {},
   "outputs": [
    {
     "name": "stdout",
     "output_type": "stream",
     "text": [
      "grossSqm sütunundaki aykırı değer sayısı: 20\n",
      "aykırı satırların grossSqm değerleri 69      775\n",
      "280    3607\n",
      "282     775\n",
      "285    1247\n",
      "286    2260\n",
      "291    1201\n",
      "293    1245\n",
      "297    3269\n",
      "507    3609\n",
      "607    1000\n",
      "909     720\n",
      "1295   1260\n",
      "1697   1500\n",
      "1813    744\n",
      "1958   1200\n",
      "1996   1015\n",
      "2005   1700\n",
      "2084   1000\n",
      "2121   1000\n",
      "2143   1920\n",
      "Name: grossSqm, dtype: float64\n"
     ]
    }
   ],
   "source": [
    "\n",
    "# Z-score hesapla\n",
    "df['grossSqm_z'] = zscore(df['grossSqm'])\n",
    "\n",
    "# Aykırı değer: Z-score değeri > 3 veya < -3\n",
    "grossSqm_aykirilar = df[(df['grossSqm_z'] > 3) | (df['grossSqm_z'] < -3)]\n",
    "\n",
    "print(f\"grossSqm sütunundaki aykırı değer sayısı: {len(grossSqm_aykirilar)}\")\n",
    "\n",
    "print('aykırı satırların grossSqm değerleri', netSqm_aykirilar['grossSqm'])"
   ]
  },
  {
   "cell_type": "code",
   "execution_count": 347,
   "id": "7f6c832e-30c9-4435-a96a-4d6a36b94516",
   "metadata": {},
   "outputs": [],
   "source": [
    "# Aykırı değerleri çıkar (Z-score mutlak değeri 3'ten büyük olanlar)\n",
    "df = df[\n",
    "    (df['grossSqm_z'].abs() <= 3) & \n",
    "    (df['netSqm_z'].abs() <= 3)\n",
    "].copy()\n"
   ]
  },
  {
   "cell_type": "code",
   "execution_count": 348,
   "id": "ea37af87-2fb3-43a6-91d5-0af8cb863600",
   "metadata": {},
   "outputs": [],
   "source": [
    "# Artık z-score sütunlarına ihtiyaç yok\n",
    "df = df.drop(columns = ['grossSqm_z', 'netSqm_z'])"
   ]
  },
  {
   "cell_type": "code",
   "execution_count": 349,
   "id": "21947dfe-80f9-4562-a974-2ef0a31c3c86",
   "metadata": {},
   "outputs": [
    {
     "name": "stdout",
     "output_type": "stream",
     "text": [
      "Index(['listingId', 'title', 'description', 'price', 'currency', 'residence',\n",
      "       'timeShareName', 'room', 'livingRoom', 'bathRoom', 'isMapHidden',\n",
      "       'mapLocation', 'streetView', 'floor', 'age', 'credit', 'barter',\n",
      "       'landRegisterName', 'housingComplex', 'rental', 'authorizedRealtor',\n",
      "       'furnished', 'detailUrl', 'detailDescription', 'firm', 'firmUser',\n",
      "       'category', 'subCategory', 'mainCategory', 'fee', 'roomAndLivingRoom',\n",
      "       'isVideoTypeVimeo', 'onlineVisit', 'hasBranded', 'hasUpdateBooster',\n",
      "       'registerState', 'listingPropertyOrder', 'image_count',\n",
      "       'bulunan_yonler', 'property_type', 'Contact', 'inAttributes_count',\n",
      "       'outAttributes_count', 'locationAttributes_count',\n",
      "       'inAttributes_count_is_missing', 'outAttributes_count_is_missing',\n",
      "       'locationAttributes_count_is_missing', 'price_category',\n",
      "       'fee_is_missing', 'days_since_update', 'Stale_corrected', 'duration',\n",
      "       'area_name', 'county_name', 'city_name', 'tier', 'latitude',\n",
      "       'longitude', 'distance_to_sakarya_center_km', 'distance_to_karasu_km',\n",
      "       'distance_to_sapanca_km', 'distance_to_sakarya_university_km',\n",
      "       'sakarya_center_category', 'karasu_category', 'sapanca_category',\n",
      "       'sakarya_university_category', 'floorID', 'floorName', 'floorCount',\n",
      "       'floorNameFloat', 'floorCountFloat', 'floorRatio', 'usage_name',\n",
      "       'yakit', 'isitma', 'yapi', 'yapiDurumu', 'island', 'parcel', 'netSqm',\n",
      "       'grossSqm', 'sqm_fark'],\n",
      "      dtype='object')\n"
     ]
    }
   ],
   "source": [
    "# Bütün sütunları yazdır\n",
    "print(df.columns)\n"
   ]
  },
  {
   "cell_type": "code",
   "execution_count": null,
   "id": "92df99df-6964-4f18-83e7-4ada1a31862f",
   "metadata": {},
   "outputs": [],
   "source": []
  },
  {
   "cell_type": "code",
   "execution_count": null,
   "id": "4dec90a8-a101-4517-97bb-e2b239c33a8d",
   "metadata": {},
   "outputs": [],
   "source": []
  },
  {
   "cell_type": "markdown",
   "id": "90b9da28-429a-44db-ab39-5a59fa90fdcc",
   "metadata": {},
   "source": [
    "Çok büyük olan aykırı değerler kaldırıldı yine bir aykırı değer kontrolü yapıyoruz \n",
    "ancak bu sefer çok saptıran değerler yok. Kalan değerler üzerinden yeniden aykırı\n",
    "veri tespitinde farklı satırlarla karşılaşıyoruz"
   ]
  },
  {
   "cell_type": "code",
   "execution_count": 350,
   "id": "7c0666e1",
   "metadata": {},
   "outputs": [
    {
     "name": "stdout",
     "output_type": "stream",
     "text": [
      "🟠 Aykırı Net Alan (netSqm) Kayıt Sayısı: 77\n",
      "count    77\n",
      "mean    364\n",
      "std      92\n",
      "min     280\n",
      "25%     300\n",
      "50%     320\n",
      "75%     400\n",
      "max     600\n",
      "Name: netSqm, dtype: float64\n",
      "\n",
      "🔵 Aykırı Brüt Alan (grossSqm) Kayıt Sayısı: 57\n",
      "count    57\n",
      "mean    435\n",
      "std      94\n",
      "min     325\n",
      "25%     350\n",
      "50%     400\n",
      "75%     500\n",
      "max     665\n",
      "Name: grossSqm, dtype: float64\n"
     ]
    }
   ],
   "source": [
    "# IQR (Interquartile Range) yöntemi ile aykırılık tespiti fonksiyonu\n",
    "def detect_outliers_iqr(df, column):\n",
    "    Q1 = df[column].quantile(0.25)\n",
    "    Q3 = df[column].quantile(0.75)\n",
    "    IQR = Q3 - Q1\n",
    "    lower_bound = Q1 - 1.5 * IQR\n",
    "    upper_bound = Q3 + 1.5 * IQR\n",
    "    return df[(df[column] < lower_bound) | (df[column] > upper_bound)]\n",
    "\n",
    "# Aykırı değerleri al\n",
    "outliers_net = detect_outliers_iqr(df, 'netSqm')\n",
    "outliers_gross = detect_outliers_iqr(df, 'grossSqm')\n",
    "\n",
    "# netSqm için\n",
    "print(\"🟠 Aykırı Net Alan (netSqm) Kayıt Sayısı:\", len(outliers_net))\n",
    "print(outliers_net['netSqm'].describe())\n",
    "\n",
    "# grossSqm için\n",
    "print(\"\\n🔵 Aykırı Brüt Alan (grossSqm) Kayıt Sayısı:\", len(outliers_gross))\n",
    "print(outliers_gross['grossSqm'].describe())\n"
   ]
  },
  {
   "cell_type": "code",
   "execution_count": 351,
   "id": "7ac63755",
   "metadata": {},
   "outputs": [
    {
     "name": "stdout",
     "output_type": "stream",
     "text": [
      "Z-score (netSqm):\n",
      "count   2157\n",
      "mean      -0\n",
      "std        1\n",
      "min       -2\n",
      "25%       -1\n",
      "50%       -0\n",
      "75%        0\n",
      "max        7\n",
      "Name: z_net, dtype: float64\n",
      "\n",
      "Z-score (grossSqm):\n",
      "count   2157\n",
      "mean      -0\n",
      "std        1\n",
      "min       -1\n",
      "25%       -1\n",
      "50%       -0\n",
      "75%        1\n",
      "max        7\n",
      "Name: z_gross, dtype: float64\n"
     ]
    }
   ],
   "source": [
    "from scipy.stats import zscore\n",
    "\n",
    "# Z-score hesapla\n",
    "df['z_net'] = zscore(df['netSqm'])\n",
    "df['z_gross'] = zscore(df['grossSqm'])\n",
    "\n",
    "# Z-score'ları yazdır\n",
    "print(\"Z-score (netSqm):\")\n",
    "print(df['z_net'].describe())\n",
    "\n",
    "print(\"\\nZ-score (grossSqm):\")\n",
    "print(df['z_gross'].describe())\n"
   ]
  },
  {
   "cell_type": "code",
   "execution_count": 352,
   "id": "c6ffabd0",
   "metadata": {},
   "outputs": [
    {
     "name": "stdout",
     "output_type": "stream",
     "text": [
      "\n",
      "🔺 Aykırı netSqm (|z| > 3) kayıt sayısı: 34\n",
      "🔻 Aykırı grossSqm (|z| > 3) kayıt sayısı: 38\n"
     ]
    }
   ],
   "source": [
    "# Aykırı değer sayısı\n",
    "outliers_z_net = df[df['z_net'].abs() > 3]\n",
    "outliers_z_gross = df[df['z_gross'].abs() > 3]\n",
    "\n",
    "print(f\"\\n🔺 Aykırı netSqm (|z| > 3) kayıt sayısı: {len(outliers_z_net)}\")\n",
    "print(f\"🔻 Aykırı grossSqm (|z| > 3) kayıt sayısı: {len(outliers_z_gross)}\")"
   ]
  },
  {
   "cell_type": "code",
   "execution_count": 353,
   "id": "3fd7da94-9b88-4919-87fa-4fc77757b583",
   "metadata": {},
   "outputs": [
    {
     "name": "stdout",
     "output_type": "stream",
     "text": [
      "Netteki aykırı satırların netSqm sütunu verileri \n",
      " 37     350\n",
      "157    420\n",
      "232    340\n",
      "251    550\n",
      "298    449\n",
      "353    500\n",
      "377    357\n",
      "384    450\n",
      "404    600\n",
      "406    505\n",
      "411    500\n",
      "494    575\n",
      "501    345\n",
      "654    350\n",
      "712    535\n",
      "739    435\n",
      "767    570\n",
      "798    390\n",
      "850    350\n",
      "1037   405\n",
      "1246   411\n",
      "1375   400\n",
      "1573   350\n",
      "1596   535\n",
      "1633   476\n",
      "1687   480\n",
      "1777   400\n",
      "1841   380\n",
      "1845   360\n",
      "1860   600\n",
      "2006   345\n",
      "2096   400\n",
      "2098   596\n",
      "2137   350\n",
      "Name: netSqm, dtype: float64\n"
     ]
    }
   ],
   "source": [
    "print('Netteki aykırı satırların netSqm sütunu verileri \\n', outliers_z_net['netSqm'])"
   ]
  },
  {
   "cell_type": "code",
   "execution_count": 354,
   "id": "531081d6-4312-4369-9ba6-e018c5b5b47d",
   "metadata": {},
   "outputs": [
    {
     "name": "stdout",
     "output_type": "stream",
     "text": [
      "Netteki aykırı satırların netSqm sütunu verileri \n",
      " 105    420\n",
      "157    450\n",
      "251    565\n",
      "298    511\n",
      "353    600\n",
      "377    450\n",
      "384    500\n",
      "404    665\n",
      "406    550\n",
      "411    545\n",
      "494    579\n",
      "501    390\n",
      "611    375\n",
      "654    400\n",
      "660    400\n",
      "712    536\n",
      "715    380\n",
      "739    450\n",
      "740    380\n",
      "767    660\n",
      "798    420\n",
      "850    400\n",
      "951    420\n",
      "1037   460\n",
      "1128   380\n",
      "1246   500\n",
      "1375   450\n",
      "1573   400\n",
      "1596   536\n",
      "1633   520\n",
      "1687   495\n",
      "1777   500\n",
      "1841   400\n",
      "1845   385\n",
      "1860   650\n",
      "2096   401\n",
      "2098   611\n",
      "2137   450\n",
      "Name: grossSqm, dtype: float64\n"
     ]
    }
   ],
   "source": [
    "print('Netteki aykırı satırların netSqm sütunu verileri \\n', outliers_z_gross['grossSqm'])"
   ]
  },
  {
   "cell_type": "markdown",
   "id": "5225c6f2-9589-44d5-b8e3-96e331049460",
   "metadata": {},
   "source": [
    "Önceki aykırı değerlerden çok daha küçük verilerimiz kaldı aykırı olarak sayılabilecek "
   ]
  },
  {
   "cell_type": "code",
   "execution_count": 355,
   "id": "b1aacac9",
   "metadata": {},
   "outputs": [],
   "source": [
    "df = df.drop(columns = ['z_net','z_gross'])"
   ]
  },
  {
   "cell_type": "code",
   "execution_count": null,
   "id": "c71afaef-d443-4dc8-9437-bac3ffba33b0",
   "metadata": {},
   "outputs": [],
   "source": []
  },
  {
   "cell_type": "code",
   "execution_count": 356,
   "id": "439ae246-9c8d-4019-bab1-92564c35fdd3",
   "metadata": {},
   "outputs": [
    {
     "name": "stdout",
     "output_type": "stream",
     "text": [
      "Satır sayısı: 2157\n",
      "Sütun sayısı: 82\n"
     ]
    }
   ],
   "source": [
    "# DataFrame'in satır ve sütun sayısı\n",
    "print(f\"Satır sayısı: {df.shape[0]}\")\n",
    "print(f\"Sütun sayısı: {df.shape[1]}\")"
   ]
  },
  {
   "cell_type": "code",
   "execution_count": null,
   "id": "f3dfe045",
   "metadata": {},
   "outputs": [],
   "source": []
  },
  {
   "cell_type": "code",
   "execution_count": null,
   "id": "15f996b7-a2b5-42fb-96a6-a1a59b150063",
   "metadata": {},
   "outputs": [],
   "source": []
  },
  {
   "cell_type": "markdown",
   "id": "c6551743",
   "metadata": {},
   "source": [
    "contact, firmUser ve whatsAppNumber sütunları gereksiz veya fazla detaylı bilgi içerdiği için tamamen silindi.\n",
    "\n",
    "firm sütunundaki karmaşık sözlük yapısından yalnızca firm_id bilgisi çıkarılarak yeni bir sütun olarak tutuldu, geri kalanı atıldı.\n",
    "\n",
    "authorizedRealtor ve onlineVisit sütunları veride kalmaya devam etti, çünkü ileride analiz edilebilir ya da kullanılabilirler."
   ]
  },
  {
   "cell_type": "code",
   "execution_count": 357,
   "id": "a8a8e7c3",
   "metadata": {},
   "outputs": [
    {
     "name": "stdout",
     "output_type": "stream",
     "text": [
      "                                                firm  \\\n",
      "0  {\"id\":78883,\"name\":\"ÇİFTÇİ EMLAK\",\"shortName\":...   \n",
      "1  {\"id\":54537,\"name\":\"EMRE FİLİZFİDANOĞLU İNŞAAT...   \n",
      "2  {\"id\":116181,\"name\":\"İLKAY SORUCU / WEN GAYRİM...   \n",
      "3  {\"id\":18262,\"name\":\"KIROĞLU EMLAK\",\"shortName\"...   \n",
      "4  {\"id\":131612,\"name\":\"DENİZ EMLAK\",\"shortName\":...   \n",
      "\n",
      "                                            firmUser  registerState  \n",
      "0  {\"id\":1507968,\"firstName\":\"Erdem\",\"lastName\":\"...  Kat Mülkiyeti  \n",
      "1  {\"id\":1022375,\"firstName\":\"EMRE\",\"lastName\":\"F...  Kat Mülkiyeti  \n",
      "2  {\"id\":2522559,\"firstName\":\"İLKAY\",\"lastName\":\"...  Kat Mülkiyeti  \n",
      "3  {\"id\":2475970,\"firstName\":\"CAN BERK\",\"lastName...   Kat İrtifakı  \n",
      "4  {\"id\":3421189,\"firstName\":\"Nihan\",\"lastName\":\"...  Kat Mülkiyeti  \n"
     ]
    }
   ],
   "source": [
    "print(df[['firm', 'firmUser', 'registerState']].head())"
   ]
  },
  {
   "cell_type": "code",
   "execution_count": 358,
   "id": "d81528d1",
   "metadata": {},
   "outputs": [],
   "source": [
    "df = df.drop(columns=['firmUser'])"
   ]
  },
  {
   "cell_type": "code",
   "execution_count": 359,
   "id": "552b8a5b",
   "metadata": {},
   "outputs": [],
   "source": [
    "import ast\n",
    "\n",
    "# firmdan sadecec id'si cikarmak\n",
    "def extract_firm_id(val):\n",
    "    try:\n",
    "        firm_dict = ast.literal_eval(val)\n",
    "        return firm_dict.get(\"id\")\n",
    "    except:\n",
    "        return None\n",
    "\n",
    "# Replace the 'firm' column with just the firm ID\n",
    "df['firm'] = df['firm'].apply(extract_firm_id)\n"
   ]
  },
  {
   "cell_type": "code",
   "execution_count": 360,
   "id": "05b9fe01",
   "metadata": {},
   "outputs": [
    {
     "name": "stdout",
     "output_type": "stream",
     "text": [
      "  landRegisterName  registerState\n",
      "0    Kat Mülkiyeti  Kat Mülkiyeti\n",
      "1    Kat Mülkiyeti  Kat Mülkiyeti\n",
      "2    Kat Mülkiyeti  Kat Mülkiyeti\n",
      "3     Kat İrtifakı   Kat İrtifakı\n",
      "4    Kat Mülkiyeti  Kat Mülkiyeti\n"
     ]
    }
   ],
   "source": [
    "print(df[['landRegisterName', 'registerState']].head())"
   ]
  },
  {
   "cell_type": "code",
   "execution_count": 361,
   "id": "347ea64d",
   "metadata": {},
   "outputs": [
    {
     "data": {
      "text/plain": [
       "landRegisterName  registerState  \n",
       "Kat Mülkiyeti     Kat Mülkiyeti      1318\n",
       "Kat İrtifakı      Kat İrtifakı        473\n",
       "Tapu Yok          Tapu Yok             54\n",
       "Kat M�lkiyeti     Kat M�lkiyeti        53\n",
       "Arsa              Arsa                 46\n",
       "KatMülkiyeti      KatMülkiyeti         23\n",
       "Condominium       Condominium          13\n",
       "Katİrtifakı       Katİrtifakı          13\n",
       "Hisseli Tapu      Hisseli Tapu         10\n",
       "KatMülkiyeti      Kat Mülkiyeti         9\n",
       "Katİrtifakı       Kat İrtifakı          5\n",
       "Floor Easement    Floor Easement        5\n",
       "Yabancıdan        Yabancıdan            5\n",
       "Kat Irtifaki      Kat Irtifaki          4\n",
       "Müstakil Parsel   Müstakil Parsel       3\n",
       "Kat �rtifak�      Kat �rtifak�          2\n",
       "Land              Land                  1\n",
       "TapuYok           TapuYok               1\n",
       "Yabancidan        Yabancidan            1\n",
       "Name: count, dtype: int64"
      ]
     },
     "execution_count": 361,
     "metadata": {},
     "output_type": "execute_result"
    }
   ],
   "source": [
    "df[['landRegisterName', 'registerState']].value_counts()"
   ]
  },
  {
   "cell_type": "code",
   "execution_count": 362,
   "id": "5d4c995e",
   "metadata": {},
   "outputs": [],
   "source": [
    "df = df.drop(columns=['landRegisterName'])"
   ]
  },
  {
   "cell_type": "code",
   "execution_count": 363,
   "id": "0dc691f3",
   "metadata": {},
   "outputs": [
    {
     "name": "stdout",
     "output_type": "stream",
     "text": [
      "registerState\n",
      "Kat Mülkiyeti      1416\n",
      "Kat İrtifakı        502\n",
      "NaN                 118\n",
      "Tapu Yok             55\n",
      "Arsa                 47\n",
      "Hisseli Tapu         10\n",
      "Yabancidan            6\n",
      "Müstakil Parsel       3\n",
      "Name: count, dtype: int64\n"
     ]
    }
   ],
   "source": [
    "import pandas as pd\n",
    "\n",
    "# Extended cleaning function with comprehensive normalization\n",
    "def clean_register_state(val):\n",
    "    if pd.isna(val):\n",
    "        return val\n",
    "    \n",
    "    # Normalize Turkish characters (ü, ı, etc.)\n",
    "    val = val.replace(\"�\", \"ü\")\n",
    "    val = val.replace(\"ı\", \"i\")  # Handles Turkish dotted 'i'\n",
    "    \n",
    "    # Normalize known variations to consistent naming\n",
    "    val = val.replace(\"katirtifaki\", \"Kat Irtifakı\")  \n",
    "    val = val.replace(\"katürtifakü\", \"Kat Irtifakı\")  \n",
    "    val = val.replace(\"katirtifakı\", \"Kat Irtifakı\")  \n",
    "    val = val.replace(\"Kat Irtifaki\", \"Kat Irtifakı\")\n",
    "    val = val.replace(\"Kat İrtifaki\", \"Kat Irtifakı\")  \n",
    "    val = val.replace(\"Katİrtifaki\", \"Kat Irtifakı\")  \n",
    "    \n",
    "    \n",
    "    val = val.replace(\"katmülkiyeti\", \"Kat Mülkiyeti\")\n",
    "    val = val.replace(\"katmülkiyeti\", \"Kat Mülkiyeti\")\n",
    "    val = val.replace(\"KatMülkiyeti\", \"Kat Mülkiyeti\")\n",
    "    val = val.replace(\"condominium\", \"Kat Mülkiyeti\")\n",
    "    val = val.replace(\"Condominium\", \"Kat Mülkiyeti\")\n",
    "    \n",
    "    val = val.replace(\"katmülkiyeti\", \"Kat Mülkiyeti\")\n",
    "    val = val.replace(\"kat mülkiyeti\", \"Kat Mülkiyeti\")  # Handle without capital letter variations\n",
    "    val = val.replace(\"flooreasement\", \"Kat Irtifakı\")  # Handle floor easement variation\n",
    "    val = val.replace(\"Floor Easement\", \"Kat Irtifakı\")  # Handle floor easement variation\n",
    "    val = val.replace(\"land\", \"Arsa\")\n",
    "    val = val.replace(\"Land\", \"Arsa\")\n",
    "    val = val.replace(\"arsa\", \"Arsa\")  # Normalize to one name\n",
    "    val = val.replace(\"katmülkiyeti\", \"Kat Mülkiyeti\")\n",
    "    val = val.replace(\"hisselitapu\", \"Hisseli Tapu\")\n",
    "    val = val.replace(\"yabancidan\", \"Yabancıdan\")\n",
    "    val = val.replace(\"tapuyok\", \"Tapu Yok\")\n",
    "    val = val.replace(\"TapuYok\", \"Tapu Yok\")\n",
    "    \n",
    "    # Handle extra variations\n",
    "    val = val.replace(\"katürfitaki\", \"Kat İrtifakı\")\n",
    "    val = val.replace(\"kat irtifaki\", \"Kat İrtifakı\")\n",
    "    val = val.replace(\"katırtifakı\", \"Kat İrtifakı\")\n",
    "    val = val.replace(\"kat ürtifakü\", \"Kat İrtifakı\")\n",
    "    val = val.replace(\"Kat ürtifakü\", \"Kat İrtifakı\")\n",
    "    val = val.replace(\"Kat Irtifakı\", \"Kat İrtifakı\")\n",
    "    \n",
    "    val = val.replace(\"katırtifaki\", \"Kat İrtifakı\")\n",
    "    val = val.replace(\"katirtifak\", \"Kat Irtifakı\")\n",
    "    \n",
    "    return val\n",
    "\n",
    "# Apply the clean function to the registerState column\n",
    "df['registerState'] = df['registerState'].apply(clean_register_state)\n",
    "\n",
    "# Now let's check the value counts after cleaning\n",
    "print(df['registerState'].value_counts(dropna=False))"
   ]
  },
  {
   "cell_type": "markdown",
   "id": "960c370e",
   "metadata": {},
   "source": [
    "NaN nasil doldurulmali karar verilmedi daha "
   ]
  },
  {
   "cell_type": "markdown",
   "id": "d8c69693",
   "metadata": {},
   "source": [
    "   \n",
    "    furnished sütunundaki boş değerleri en sık görülen değerle dolduruyoruz\n",
    "    \n",
    "    Usage sütunu üzerinde gerekli düzeltmeler yapıldı ve ID ile isimleri çıkardık.\n",
    "    \n",
    "    residence sütunundaki sözlük yapıları ayrıldı ve id, name sütunlarına atandı.\n",
    "    \n",
    "    TimeShareName sütunu boş olduğu için kaldırıldı.\n",
    "    \n",
    "    HousingComplex sütununda eksik değerleri 'Hayır' olarak işaretledik ama diğer sütunlardan değer çıkartılabilir\n",
    "    \n",
    "    Rental sütunundaki sözlük yapıları ayrıldı ve yeni sütunlar oluşturuldu.\n",
    "  \n"
   ]
  },
  {
   "cell_type": "code",
   "execution_count": 364,
   "id": "77b28485",
   "metadata": {},
   "outputs": [
    {
     "name": "stdout",
     "output_type": "stream",
     "text": [
      "['listingId', 'title', 'description', 'price', 'currency', 'residence', 'timeShareName', 'room', 'livingRoom', 'bathRoom', 'isMapHidden', 'mapLocation', 'streetView', 'floor', 'age', 'credit', 'barter', 'housingComplex', 'rental', 'authorizedRealtor', 'furnished', 'detailUrl', 'detailDescription', 'firm', 'category', 'subCategory', 'mainCategory', 'fee', 'roomAndLivingRoom', 'isVideoTypeVimeo', 'onlineVisit', 'hasBranded', 'hasUpdateBooster', 'registerState', 'listingPropertyOrder', 'image_count', 'bulunan_yonler', 'property_type', 'Contact', 'inAttributes_count', 'outAttributes_count', 'locationAttributes_count', 'inAttributes_count_is_missing', 'outAttributes_count_is_missing', 'locationAttributes_count_is_missing', 'price_category', 'fee_is_missing', 'days_since_update', 'Stale_corrected', 'duration', 'area_name', 'county_name', 'city_name', 'tier', 'latitude', 'longitude', 'distance_to_sakarya_center_km', 'distance_to_karasu_km', 'distance_to_sapanca_km', 'distance_to_sakarya_university_km', 'sakarya_center_category', 'karasu_category', 'sapanca_category', 'sakarya_university_category', 'floorID', 'floorName', 'floorCount', 'floorNameFloat', 'floorCountFloat', 'floorRatio', 'usage_name', 'yakit', 'isitma', 'yapi', 'yapiDurumu', 'island', 'parcel', 'netSqm', 'grossSqm', 'sqm_fark']\n"
     ]
    }
   ],
   "source": [
    "print(df.columns.tolist())\n"
   ]
  },
  {
   "cell_type": "code",
   "execution_count": 365,
   "id": "2df215ea",
   "metadata": {},
   "outputs": [
    {
     "data": {
      "text/plain": [
       "294"
      ]
     },
     "execution_count": 365,
     "metadata": {},
     "output_type": "execute_result"
    }
   ],
   "source": [
    "df['furnished'].isnull().sum()\n"
   ]
  },
  {
   "cell_type": "code",
   "execution_count": 366,
   "id": "a25ebf93",
   "metadata": {},
   "outputs": [
    {
     "name": "stdout",
     "output_type": "stream",
     "text": [
      "Adım 1 - İlk True sayısı: 227\n"
     ]
    }
   ],
   "source": [
    "# Sadece gerçekten True olanları tut, diğerlerini NaN yap\n",
    "df['furnished'] = df['furnished'].apply(lambda x: True if x is True else np.nan)\n",
    "\n",
    "# Kontrol: kaç tane True kaldı?\n",
    "print(\"Adım 1 - İlk True sayısı:\", df['furnished'].sum())"
   ]
  },
  {
   "cell_type": "code",
   "execution_count": 367,
   "id": "8c1c3154",
   "metadata": {},
   "outputs": [
    {
     "name": "stdout",
     "output_type": "stream",
     "text": [
      "Adım 2 - False sayısı: 22\n"
     ]
    }
   ],
   "source": [
    "# Negatif eşleşmeler için desen\n",
    "neg_pattern = r'\\b(eşyasız|boş daire|eşya yok|mobilyasız|bos daire)\\b'\n",
    "text_cols = ['title', 'description', 'detailDescription']\n",
    "\n",
    "# Negatif eşleşme maskesi\n",
    "neg_mask = pd.Series(False, index=df.index)\n",
    "for col in text_cols:\n",
    "    neg_mask |= df[col].fillna('').str.contains(neg_pattern, case=False, regex=True)\n",
    "\n",
    "# Negatif eşleşenleri False yap\n",
    "df.loc[neg_mask, 'furnished'] = False\n",
    "\n",
    "# Kontrol: Kaç tane False var?\n",
    "print(\"Adım 2 - False sayısı:\", (df['furnished'] == False).sum())"
   ]
  },
  {
   "cell_type": "code",
   "execution_count": 368,
   "id": "76d2bd95",
   "metadata": {},
   "outputs": [
    {
     "name": "stdout",
     "output_type": "stream",
     "text": [
      "Adım 3 - Pozitif metin eşleşmesi sonrası True sayısı: 279\n"
     ]
    }
   ],
   "source": [
    "# Pozitif eşleşme deseni\n",
    "pos_pattern = r'\\b(eşyalı|eşya|mobilya|mobilyalı|esyalı|furnished)\\b'\n",
    "\n",
    "# Pozitif eşleşme maskesi\n",
    "pos_mask = pd.Series(False, index=df.index)\n",
    "for col in text_cols:\n",
    "    pos_mask |= df[col].fillna('').str.contains(pos_pattern, case=False, regex=True)\n",
    "\n",
    "# Pozitif eşleşenleri True yap\n",
    "df.loc[pos_mask, 'furnished'] = True\n",
    "\n",
    "# Kontrol: Şu anki True sayısı\n",
    "print(\"Adım 3 - Pozitif metin eşleşmesi sonrası True sayısı:\", df['furnished'].sum())"
   ]
  },
  {
   "cell_type": "code",
   "execution_count": 369,
   "id": "4d165b2d",
   "metadata": {},
   "outputs": [
    {
     "name": "stdout",
     "output_type": "stream",
     "text": [
      "Adım 4 - room == 1 ile doldurma sonrası True sayısı: 449\n"
     ]
    }
   ],
   "source": [
    "# Tek odalı ve furnished değeri boş olanları True yap\n",
    "df.loc[(df['room'] == 1) & (df['furnished'].isna()), 'furnished'] = True\n",
    "\n",
    "# Son kontrol: Kaç tane True oldu?\n",
    "print(\"Adım 4 - room == 1 ile doldurma sonrası True sayısı:\", df['furnished'].sum())"
   ]
  },
  {
   "cell_type": "code",
   "execution_count": 370,
   "id": "f732b500",
   "metadata": {},
   "outputs": [
    {
     "name": "stdout",
     "output_type": "stream",
     "text": [
      "Grup ortalamaları:\n",
      "  county_name  room property_type  expected_price\n",
      "0   adapazari     1         Daire         1875000\n",
      "1   adapazari     2         Daire         2400000\n",
      "2   adapazari     3         Daire         2224750\n",
      "3   adapazari     5         Daire         4700000\n",
      "4   adapazarı     1         Daire         1561250\n"
     ]
    }
   ],
   "source": [
    "# Fiyatı etkileyebilecek sütunlara göre grup ortalaması\n",
    "group_cols = ['county_name', 'room', 'property_type']\n",
    "group_means = df.groupby(group_cols)['price'].mean().reset_index()\n",
    "\n",
    "# Kolon ismini değiştir\n",
    "group_means.rename(columns={'price': 'expected_price'}, inplace=True)\n",
    "\n",
    "# İlk 5 satırı kontrol\n",
    "print(\"Grup ortalamaları:\")\n",
    "print(group_means.head())"
   ]
  },
  {
   "cell_type": "code",
   "execution_count": 371,
   "id": "abb5a48f",
   "metadata": {},
   "outputs": [
    {
     "name": "stdout",
     "output_type": "stream",
     "text": [
      "Birleştirme sonrası kolonlar:\n",
      "      price  expected_price\n",
      "0   2500000         3185761\n",
      "1   1500000         2176899\n",
      "2  19500000        18921186\n",
      "3   3350000         3102093\n",
      "4   3700000         4439597\n"
     ]
    }
   ],
   "source": [
    "# Beklenen fiyatı ana veri ile birleştir\n",
    "df = df.merge(group_means, on=group_cols, how='left')\n",
    "\n",
    "# Kontrol: Yeni sütun eklendi mi?\n",
    "print(\"Birleştirme sonrası kolonlar:\")\n",
    "print(df[['price', 'expected_price']].head())\n"
   ]
  },
  {
   "cell_type": "code",
   "execution_count": 372,
   "id": "f4edc6e6",
   "metadata": {},
   "outputs": [
    {
     "name": "stdout",
     "output_type": "stream",
     "text": [
      "Beklenenin çok üstündeki fiyatlara göre True sayısı: 661\n"
     ]
    }
   ],
   "source": [
    "# Şartlı doldurma\n",
    "df.loc[\n",
    "    (df['furnished'].isna()) & (df['price'] > df['expected_price'] * 1.3),\n",
    "    'furnished'\n",
    "] = True\n",
    "\n",
    "# Kontrol: Kaç yeni True geldi?\n",
    "print(\"Beklenenin çok üstündeki fiyatlara göre True sayısı:\", df['furnished'].sum())\n"
   ]
  },
  {
   "cell_type": "code",
   "execution_count": 373,
   "id": "4730a3e6",
   "metadata": {},
   "outputs": [
    {
     "data": {
      "text/plain": [
       "1485"
      ]
     },
     "execution_count": 373,
     "metadata": {},
     "output_type": "execute_result"
    }
   ],
   "source": [
    "df['furnished'].isnull().sum()"
   ]
  },
  {
   "cell_type": "code",
   "execution_count": 374,
   "id": "3a2477e8",
   "metadata": {},
   "outputs": [
    {
     "name": "stdout",
     "output_type": "stream",
     "text": [
      "Toplam True sayısı: 661\n",
      "Toplam False sayısı: 1496\n"
     ]
    }
   ],
   "source": [
    "# Eksikleri False ile doldur\n",
    "df['furnished'] = df['furnished'].fillna(False)\n",
    "\n",
    "# Son kontrol\n",
    "print(\"Toplam True sayısı:\", df['furnished'].sum())\n",
    "print(\"Toplam False sayısı:\", (df['furnished'] == False).sum())\n"
   ]
  },
  {
   "cell_type": "code",
   "execution_count": 375,
   "id": "7184bdfa",
   "metadata": {},
   "outputs": [
    {
     "data": {
      "text/plain": [
       "0"
      ]
     },
     "execution_count": 375,
     "metadata": {},
     "output_type": "execute_result"
    }
   ],
   "source": [
    "df['furnished'].isnull().sum()"
   ]
  },
  {
   "cell_type": "code",
   "execution_count": 376,
   "id": "c4b3cc1b",
   "metadata": {},
   "outputs": [],
   "source": [
    "# Temizlik\n",
    "df = df.drop(columns=['expected_price'])"
   ]
  },
  {
   "cell_type": "code",
   "execution_count": null,
   "id": "d21898a6",
   "metadata": {},
   "outputs": [],
   "source": []
  },
  {
   "cell_type": "code",
   "execution_count": 377,
   "id": "942b4d36",
   "metadata": {},
   "outputs": [
    {
     "name": "stdout",
     "output_type": "stream",
     "text": [
      "1015\n"
     ]
    }
   ],
   "source": [
    "print(df['residence'].isnull().sum())   "
   ]
  },
  {
   "cell_type": "code",
   "execution_count": 378,
   "id": "c94c1ef8",
   "metadata": {},
   "outputs": [],
   "source": [
    "# Fonksiyon: string ise literal_eval ile dict'e çevir, sonra parçala\n",
    "def extract_residence(x):\n",
    "    try:\n",
    "        if isinstance(x, str):\n",
    "            x = ast.literal_eval(x)\n",
    "        if isinstance(x, dict):\n",
    "            return pd.Series({\n",
    "                'residence_id': x.get('id'),\n",
    "                'residence_name': x.get('name')\n",
    "            })\n",
    "    except:\n",
    "        pass\n",
    "    return pd.Series({'residence_id': None, 'residence_name': None})\n",
    "\n",
    "# Uygula\n",
    "df[['residence_id', 'residence_name']] = df['residence'].apply(extract_residence)\n",
    "\n",
    "\"\"\"eski residence ve residence_id kısmını kaldırdım\"\"\"\n",
    "df = df.drop(columns=['residence','residence_id'])\n"
   ]
  },
  {
   "cell_type": "code",
   "execution_count": 379,
   "id": "a1af4cc6",
   "metadata": {},
   "outputs": [
    {
     "data": {
      "text/plain": [
       "residence_name\n",
       "Daire              512\n",
       "Tripleks           281\n",
       "Müstakil Ev         93\n",
       "Dubleks             91\n",
       "Bahçe Katı          75\n",
       "Bahçe Dubleksi      34\n",
       "Çatı Dubleksi       20\n",
       "İkiz Ev              5\n",
       "MüstakilEv           3\n",
       "Ara Kat Dubleks      2\n",
       "Ters Dubleks         1\n",
       "�ati Dubleksi        1\n",
       "BahçeKatı            1\n",
       "BahçeDubleksi        1\n",
       "Name: count, dtype: int64"
      ]
     },
     "execution_count": 379,
     "metadata": {},
     "output_type": "execute_result"
    }
   ],
   "source": [
    "df['residence_name'].value_counts()"
   ]
  },
  {
   "cell_type": "code",
   "execution_count": 380,
   "id": "27097c86",
   "metadata": {},
   "outputs": [
    {
     "name": "stdout",
     "output_type": "stream",
     "text": [
      "residence_name\n",
      "Daire              512\n",
      "Tripleks           281\n",
      "Müstakil Ev         96\n",
      "Dubleks             91\n",
      "Bahçe Katı          76\n",
      "Bahçe Dubleksi      35\n",
      "Çatı Dubleksi       21\n",
      "İkiz Ev              5\n",
      "Ara Kat Dubleks      2\n",
      "Ters Dubleks         1\n",
      "Name: count, dtype: int64\n"
     ]
    }
   ],
   "source": [
    "# Konut türü düzenleme sözlüğü\n",
    "replace_map = {\n",
    "    'MüstakilEv': 'Müstakil Ev',\n",
    "    'BahçeKatı': 'Bahçe Katı',\n",
    "    'BahçeDubleksi': 'Bahçe Dubleksi',\n",
    "    '�ati Dubleksi': 'Çatı Dubleksi'\n",
    "}\n",
    "\n",
    "# residence_name sütununda düzeltmeleri yap\n",
    "df['residence_name'] = df['residence_name'].replace(replace_map)\n",
    "\n",
    "# Eğer boşluklara dikkat etmek istersen (örneğin \"BahçeKatı\" gibi), regex ile de temizlenebilir:\n",
    "df['residence_name'] = df['residence_name'].str.replace(r'(?<=[a-z])(?=[A-Z])', ' ', regex=True)\n",
    "\n",
    "# Ardından kategori sayısını yeniden görelim\n",
    "print(df['residence_name'].value_counts())\n"
   ]
  },
  {
   "cell_type": "code",
   "execution_count": 381,
   "id": "90ce89c9",
   "metadata": {},
   "outputs": [
    {
     "name": "stdout",
     "output_type": "stream",
     "text": [
      "                                                  title  \\\n",
      "6     SAPANCA GÖL EMLAKDAN 920 MT ARSA İÇİNDE 6+1 DU...   \n",
      "19    EVARSAL EMLAK OFİSİNDEN ÇARŞI MERKEZDE 2 KATLI...   \n",
      "37     LÜKS TRİPLEKS VİLLA REMAX AY ERTANCAN ERYADINDAN   \n",
      "43                KARASUDA SATILIK SIFIR LÜKS 5+1 VİLLA   \n",
      "52    HAVUZ BAŞINDA DENİZ MANZARASI: KOCAALİ'DE 3+1 ...   \n",
      "...                                                 ...   \n",
      "2140  AYPER&AYLA SAPANCA KIRKPINAR'DA YEŞİLLİKLER İÇ...   \n",
      "2142  SATILIK DUBLEKS EŞYALI DAİRE HARİKA KONUMDA FE...   \n",
      "2152  **BU FIRSAT KAÇMAZ**KARASU SAHİLDE DENİZE 2.PA...   \n",
      "2154  KIR YAPI İNŞAAT'TAN SON 2 VİLLA MÜSTAKİL BAHÇE...   \n",
      "2155  KARASU'DA EN UCUZ DENİZ GÖREN 2 +1 MUTFAK AYRI...   \n",
      "\n",
      "                                            description  \\\n",
      "6     <p>GÖL MAHALLESİNDE</p> \\n<p>FULL GÖL MANZARAL...   \n",
      "19    <p><span style=\\\"font-size: 14px; background-c...   \n",
      "37    <p>LÜKS TRİPLEKS VİLLA REMAX AY ERTANCAN ERYAD...   \n",
      "43    <p style=\\\"text-align:center\\\"><u>SAKARYA KARA...   \n",
      "52    <h2>DETAYLI BİLGİ VE DİĞER SEÇENEKLERİMİZİ GÖR...   \n",
      "...                                                 ...   \n",
      "2140  <p style=\\\"text-align: center;\\\"><strong><em>A...   \n",
      "2142  <h2 style=\\\"text-align: center;\\\"><strong styl...   \n",
      "2152  <p style=\\\"text-align: center;\\\"><strong style...   \n",
      "2154  <p style=\\\"text-align: center;\\\"><strong>KIROĞ...   \n",
      "2155  <p><br></p> \\n<p><br></p> \\n<p style=\\\"color:r...   \n",
      "\n",
      "                                      detailDescription  \n",
      "6     SAPANCA GÖL EMLAKDAN 920 MT ARSA İÇİNDE 6+1 DU...  \n",
      "19    EVARSAL EMLAK OFİSİNDEN ÇARŞI MERKEZDE 2 KATLI...  \n",
      "37    LÜKS TRİPLEKS VİLLA REMAX AY ERTANCAN ERYADIND...  \n",
      "43    KARASUDA SATILIK SIFIR LÜKS 5+1 VİLLA hepsieml...  \n",
      "52    HAVUZ BAŞINDA DENİZ MANZARASI: KOCAALİ'DE 3+1 ...  \n",
      "...                                                 ...  \n",
      "2140  AYPER&AYLA SAPANCA KIRKPINAR'DA YEŞİLLİKLER İÇ...  \n",
      "2142  SATILIK DUBLEKS EŞYALI DAİRE HARİKA KONUMDA FE...  \n",
      "2152  **BU FIRSAT KAÇMAZ**KARASU SAHİLDE DENİZE 2.PA...  \n",
      "2154  KIR YAPI İNŞAAT'TAN SON 2 VİLLA MÜSTAKİL BAHÇE...  \n",
      "2155  KARASU'DA EN UCUZ DENİZ GÖREN 2 +1 MUTFAK AYRI...  \n",
      "\n",
      "[234 rows x 3 columns]\n",
      "residence_name\n",
      "None               983\n",
      "Daire              512\n",
      "Tripleks           286\n",
      "Dubleks            136\n",
      "Müstakil Ev         96\n",
      "Bahçe Katı          80\n",
      "Bahçe Dubleksi      35\n",
      "Çatı Dubleksi       21\n",
      "İkiz Ev              5\n",
      "Ara Kat Dubleks      2\n",
      "Ters Dubleks         1\n",
      "Name: count, dtype: int64\n"
     ]
    }
   ],
   "source": [
    "import re\n",
    "\n",
    "# Anahtar kelimeler\n",
    "keywords = [\n",
    "    'tripleks', 'dubleks', 'bahçe dubleksi', 'bahçe katı', 'çatı dubleksi','ikiz ev','ters dubleks','ara kat dubleks','çatıdubleksi'\n",
    "]\n",
    "\n",
    "# Anahtar kelimeleri regex pattern'e çevir (küçük-büyük harf duyarsız)\n",
    "pattern = '|'.join([re.escape(word) for word in keywords])\n",
    "\n",
    "# Tüm metin sütunlarında ara\n",
    "mask = (\n",
    "    df['title'].str.contains(pattern, case=False, na=False) |\n",
    "    df['description'].str.contains(pattern, case=False, na=False) |\n",
    "    df['detailDescription'].str.contains(pattern, case=False, na=False)\n",
    ")\n",
    "\n",
    "# Eşleşen satırları göster\n",
    "matching_rows = df[mask]\n",
    "print(matching_rows[['title', 'description', 'detailDescription']])\n",
    "\n",
    "# Küçük harfli eşleşme için tüm metinleri küçült\n",
    "for keyword in keywords:\n",
    "    pattern = re.escape(keyword)\n",
    "    mask = (\n",
    "        df['residence_name'].isna() & (\n",
    "            df['title'].str.lower().str.contains(pattern, na=False) |\n",
    "            df['description'].str.lower().str.contains(pattern, na=False) |\n",
    "            df['detailDescription'].str.lower().str.contains(pattern, na=False)            \n",
    "        )\n",
    "    )\n",
    "    df.loc[mask, 'residence_name'] = keyword.title()  # Baş harfleri büyük yaz\n",
    "\n",
    "print(df['residence_name'].value_counts(dropna=False))"
   ]
  },
  {
   "cell_type": "code",
   "execution_count": 382,
   "id": "5169924a",
   "metadata": {},
   "outputs": [
    {
     "name": "stdout",
     "output_type": "stream",
     "text": [
      "residence_name\n",
      "None               983\n",
      "NaN                608\n",
      "Tripleks           286\n",
      "Dubleks            136\n",
      "Bahçe Katı          80\n",
      "Bahçe Dubleksi      35\n",
      "Çatı Dubleksi       21\n",
      "İkiz Ev              5\n",
      "Ara Kat Dubleks      2\n",
      "Ters Dubleks         1\n",
      "Name: count, dtype: int64\n"
     ]
    }
   ],
   "source": [
    "df.loc[df['residence_name'] == 'Daire', 'residence_name'] = np.nan\n",
    "df.loc[df['residence_name'] == 'Müstakil Ev', 'residence_name'] = np.nan\n",
    "\n",
    "print(df['residence_name'].value_counts(dropna=False))"
   ]
  },
  {
   "cell_type": "code",
   "execution_count": 383,
   "id": "b320b6d8",
   "metadata": {},
   "outputs": [
    {
     "name": "stdout",
     "output_type": "stream",
     "text": [
      "residence_name\n",
      "Belirtilmemiş      1591\n",
      "Tripleks            286\n",
      "Dubleks             136\n",
      "Bahçe Katı           80\n",
      "Bahçe Dubleksi       35\n",
      "Çatı Dubleksi        21\n",
      "İkiz Ev               5\n",
      "Ara Kat Dubleks       2\n",
      "Ters Dubleks          1\n",
      "Name: count, dtype: int64\n"
     ]
    }
   ],
   "source": [
    "# null degerleri (delirtilmedi) olarak doldurmak istesek\n",
    "df['residence_name'] = df['residence_name'].fillna('Belirtilmemiş')\n",
    "\n",
    "print(df['residence_name'].value_counts(dropna=False))"
   ]
  },
  {
   "cell_type": "code",
   "execution_count": null,
   "id": "20581777",
   "metadata": {},
   "outputs": [],
   "source": []
  },
  {
   "cell_type": "code",
   "execution_count": null,
   "id": "7bff4189",
   "metadata": {},
   "outputs": [],
   "source": []
  },
  {
   "cell_type": "code",
   "execution_count": 384,
   "id": "ab9f24fd",
   "metadata": {},
   "outputs": [],
   "source": [
    "df = df.drop(columns=['timeShareName'])"
   ]
  },
  {
   "cell_type": "code",
   "execution_count": 385,
   "id": "7660f53a",
   "metadata": {},
   "outputs": [
    {
     "name": "stdout",
     "output_type": "stream",
     "text": [
      "1762\n"
     ]
    }
   ],
   "source": [
    "\"\"\"housingComplex\"\"\"\n",
    "\"\"\"1765 boş satır var çok fazla bence ne yapmalıyız\"\"\"\n",
    "print(df['housingComplex'].isnull().sum())  \n",
    "\n",
    "def classify_housing_complex(x):\n",
    "    try:\n",
    "        if isinstance(x, str):\n",
    "            # JSON string içindeki \"null\"ları Python None olarak tanıması için\n",
    "            x = json.loads(x)\n",
    "        if isinstance(x, dict):\n",
    "            name = x.get('name', '').strip()\n",
    "            if name:  # boş string değilse\n",
    "                return 'Evet'\n",
    "    except Exception as e:\n",
    "        pass\n",
    "    return 'Hayır'\n",
    "\n",
    "# Uygula\n",
    "df['housingComplex_cleaned'] = df['housingComplex'].apply(classify_housing_complex)\n",
    "df = df.drop(columns=['housingComplex'])"
   ]
  },
  {
   "cell_type": "code",
   "execution_count": 386,
   "id": "f19e99f6",
   "metadata": {},
   "outputs": [
    {
     "name": "stdout",
     "output_type": "stream",
     "text": [
      "        listingId                                              title  \\\n",
      "2      116181-160             Sapanca,Kırkpınar’da Satılık 4+1 Villa   \n",
      "3       18262-757  EMSALSİZ PROJE KARASU MERKEZDE HAVUZLU LÜKS 3+...   \n",
      "5      147708-188  HAVUZLU SİTEDE, GENİŞ m2, HİÇ OTURUM OLMAMIŞ 2...   \n",
      "8       153064-88  KOCAALİ'DE YERDEN ISITMA 90 MT BAHÇE KULLANIM ...   \n",
      "14    115668-2225  YAZLIK ÇAĞER LOCA 3 TE 2+1  FIRSAT OTURUMA HAZ...   \n",
      "...           ...                                                ...   \n",
      "2144  131681-1040  ^^HAVUZLU BUTİK SİTEDE MÜSTAKİL BAHÇELİ 1+1 FU...   \n",
      "2147  122716-1098  KARASU'DA EVİNİZ HAZIR HAVUZLU GÜVENLİKLİ SİTE...   \n",
      "2148   93427-1675  Karasu Çiğdem Emlaktan HAVUZLU sitede GENİŞ ba...   \n",
      "2149   84727-1786  VERANDALI GİRİŞ KAT HAVUZLU SİTE İÇİ YAZLIK DA...   \n",
      "2150    153746-35  SAKARYA KARASU DA MASRAFSIZ ARA KAT GENİŞ 1+1 ...   \n",
      "\n",
      "                                            description     price currency  \\\n",
      "2     <p>https://app.immoviewer.com/portal/tour/2907...  19500000       TL   \n",
      "3     <p><br></p>\\n<p style=\\\"text-align: center;\\\">...   3350000       TL   \n",
      "5     <h1 style=\\\"text-align: center;\\\"><strong styl...   2150000       TL   \n",
      "8     <h3 style=\\\"text-align: center;\\\"><span style=...   5250000       TL   \n",
      "14    <p>Çağer Loca 3 Sitesinde Yüksek Girişli</p>\\n...   2750000       TL   \n",
      "...                                                 ...       ...      ...   \n",
      "2144  <p style=\\\"text-align: center;\\\"><strong>MEYRA...   1599999       TL   \n",
      "2147  <p><br></p> \\n<p><br></p> \\n<p style=\\\"color:r...   1850000       TL   \n",
      "2148  <p><br></p>\\n<p style=\\\"text-align: center;\\\">...   2750000       TL   \n",
      "2149  <p style=\\\"color:rgb( 0 , 0 , 0 );font-size:14...   2650000       TL   \n",
      "2150  Sakarya Karasu\\n<br>Aşağı Aziziye mah\\n<br>Ara...   1565000       TL   \n",
      "\n",
      "      room  livingRoom  bathRoom  isMapHidden  \\\n",
      "2        4           1         2            0   \n",
      "3        3           1         1            0   \n",
      "5        2           1         1            0   \n",
      "8        3           1         1            1   \n",
      "14       2           1         1            0   \n",
      "...    ...         ...       ...          ...   \n",
      "2144     1           1         1            0   \n",
      "2147     2           1         1            0   \n",
      "2148     2           1         1            0   \n",
      "2149     2           1         1            0   \n",
      "2150     1           1         1            0   \n",
      "\n",
      "                                            mapLocation  ...         isitma  \\\n",
      "2     {\"lat\":40.701133631737555,\"lon\":30.21435713528...  ...          Kombi   \n",
      "3     {\"lat\":41.10212238429355,\"lon\":30.681114194206...  ...          Kombi   \n",
      "5     {\"lat\":41.11971664428711,\"lon\":30.655254364013...  ...          Kombi   \n",
      "8     {\"lat\":41.10343095902843,\"lon\":30.707805633544...  ...  Yerden Isıtma   \n",
      "14    {\"lat\":40.80187472084961,\"lon\":30.350343223388...  ...          Kombi   \n",
      "...                                                 ...  ...            ...   \n",
      "2144  {\"lat\":41.089937986543035,\"lon\":30.71785128953...  ...          Kombi   \n",
      "2147  {\"lat\":41.096668460010996,\"lon\":30.72834584432...  ...          Kombi   \n",
      "2148  {\"lat\":41.10855086028965,\"lon\":30.697442806915...  ...          Kombi   \n",
      "2149  {\"lat\":41.09211988911133,\"lon\":30.721260664746...  ...  Yerden Isıtma   \n",
      "2150   {\"lat\":41.09937351259555,\"lon\":30.7103456737413}  ...          Kombi   \n",
      "\n",
      "           yapi  yapiDurumu  island  parcel netSqm grossSqm  sqm_fark  \\\n",
      "2     Betonarme   İkinci El    None    None    200      250        50   \n",
      "3          None       Sıfır    None    None    120      130        10   \n",
      "5     Betonarme   İkinci El    None    None     90       95         5   \n",
      "8     Betonarme       Sıfır    None    None    125      130         5   \n",
      "14    Betonarme   İkinci El    1815       3     85      100        15   \n",
      "...         ...         ...     ...     ...    ...      ...       ...   \n",
      "2144       None   İkinci El    None    None     55       60         5   \n",
      "2147       None   İkinci El    None    None     80       85         5   \n",
      "2148  Betonarme   İkinci El    None    None     80       85         5   \n",
      "2149       None       Sıfır    None    None     65       75        10   \n",
      "2150  Betonarme   İkinci El    None    None     50       55         5   \n",
      "\n",
      "     residence_name housingComplex_cleaned  \n",
      "2           Dubleks                  Hayır  \n",
      "3     Belirtilmemiş                   Evet  \n",
      "5     Belirtilmemiş                  Hayır  \n",
      "8          Tripleks                  Hayır  \n",
      "14       Bahçe Katı                   Evet  \n",
      "...             ...                    ...  \n",
      "2144     Bahçe Katı                  Hayır  \n",
      "2147  Belirtilmemiş                   Evet  \n",
      "2148     Bahçe Katı                  Hayır  \n",
      "2149  Belirtilmemiş                   Evet  \n",
      "2150  Belirtilmemiş                  Hayır  \n",
      "\n",
      "[699 rows x 79 columns]\n"
     ]
    }
   ],
   "source": [
    "# Anahtar kelimeler\n",
    "keywords = [\n",
    "    'evleri', 'sitesi', 'housing complex', 'blok', 'bloğu','kompleksi','siteleri','housingcomplex','site','toki'\n",
    "]\n",
    "\n",
    "# Anahtar kelimeleri regex pattern'e çevir (küçük-büyük harf duyarsız)\n",
    "pattern = '|'.join([re.escape(word) for word in keywords])\n",
    "\n",
    "# Tüm metin sütunlarında ara\n",
    "mask = (\n",
    "    df['title'].str.contains(pattern, case=False, na=False) |\n",
    "    df['description'].str.contains(pattern, case=False, na=False) |\n",
    "    df['detailDescription'].str.contains(pattern, case=False, na=False)\n",
    ")\n",
    "\n",
    "# Eşleşen satırları göster\n",
    "matching_rows = df[mask]\n",
    "print(matching_rows)\n"
   ]
  },
  {
   "cell_type": "code",
   "execution_count": 387,
   "id": "75f1a98b",
   "metadata": {},
   "outputs": [
    {
     "name": "stdout",
     "output_type": "stream",
     "text": [
      "0 satırda eksik (NaN) değer var.\n",
      "789\n"
     ]
    }
   ],
   "source": [
    "# Anahtar kelime geçen satırları \"Evet\" yap\n",
    "df.loc[mask, 'housingComplex_cleaned'] = 'Evet'\n",
    "\n",
    "# --- 3. Son olarak 'Evet' ve 'Hayır' ifadelerini bool tipe çevir ---\n",
    "df['housingComplex_cleaned'] = df['housingComplex_cleaned'].replace({'Evet': True, 'Hayır': False})\n",
    "\n",
    "# --- 4. Sonuç kontrolü ---\n",
    "\n",
    "print(f\"{df['housingComplex_cleaned'].isnull().sum()} satırda eksik (NaN) değer var.\")\n",
    "\n",
    "print(df['housingComplex_cleaned'].sum())\n"
   ]
  },
  {
   "cell_type": "code",
   "execution_count": 388,
   "id": "bafbad8e",
   "metadata": {},
   "outputs": [
    {
     "name": "stdout",
     "output_type": "stream",
     "text": [
      "76\n",
      "None\n",
      "0    {'amount': 15000, 'currencyCode': 'TL'}\n",
      "1        {'amount': 0, 'currencyCode': 'TL'}\n",
      "2    {'amount': 25000, 'currencyCode': 'TL'}\n",
      "3        {'amount': 0, 'currencyCode': 'TL'}\n",
      "4        {'amount': 0, 'currencyCode': 'TL'}\n",
      "Name: rental, dtype: object\n"
     ]
    }
   ],
   "source": [
    "\n",
    "\"\"\"rental\"\"\"\n",
    "print(df['rental'].isnull().sum())   \n",
    "\n",
    "\"\"\"en sık görülen değere göre doldurdum\"\"\"\n",
    "mode_value = df['rental'].mode()[0]\n",
    "print(df['rental'].fillna(mode_value, inplace=True))\n",
    "\n",
    "\"\"\"rentalı dictionary yapısına çevirip oradan ayırıyoruz\"\"\"\n",
    "# Veriyi dict'e çevir\n",
    "df['rental'] = df['rental'].apply(lambda x: ast.literal_eval(x) if isinstance(x, str) else x)\n",
    "\n",
    "\n",
    "print(df['rental'].head())\n",
    "\n",
    "df['rental_amount'] = df['rental'].apply(lambda x: x.get('amount') if isinstance(x, dict) else None)\n",
    "df['rental_currency_code'] = df['rental'].apply(lambda x: x.get('currencyCode') if isinstance(x, dict) else None)\n",
    "\n",
    "rentalzero_count = (df['rental_amount'] == 0).sum() "
   ]
  },
  {
   "cell_type": "code",
   "execution_count": 389,
   "id": "5a67f3af",
   "metadata": {},
   "outputs": [
    {
     "data": {
      "text/plain": [
       "(2157, 81)"
      ]
     },
     "execution_count": 389,
     "metadata": {},
     "output_type": "execute_result"
    }
   ],
   "source": [
    "df.shape"
   ]
  },
  {
   "cell_type": "code",
   "execution_count": 390,
   "id": "bcda2b54",
   "metadata": {},
   "outputs": [
    {
     "data": {
      "text/html": [
       "<div>\n",
       "<style scoped>\n",
       "    .dataframe tbody tr th:only-of-type {\n",
       "        vertical-align: middle;\n",
       "    }\n",
       "\n",
       "    .dataframe tbody tr th {\n",
       "        vertical-align: top;\n",
       "    }\n",
       "\n",
       "    .dataframe thead th {\n",
       "        text-align: right;\n",
       "    }\n",
       "</style>\n",
       "<table border=\"1\" class=\"dataframe\">\n",
       "  <thead>\n",
       "    <tr style=\"text-align: right;\">\n",
       "      <th></th>\n",
       "      <th>listingId</th>\n",
       "      <th>title</th>\n",
       "      <th>description</th>\n",
       "      <th>price</th>\n",
       "      <th>currency</th>\n",
       "      <th>room</th>\n",
       "      <th>livingRoom</th>\n",
       "      <th>bathRoom</th>\n",
       "      <th>isMapHidden</th>\n",
       "      <th>mapLocation</th>\n",
       "      <th>...</th>\n",
       "      <th>yapiDurumu</th>\n",
       "      <th>island</th>\n",
       "      <th>parcel</th>\n",
       "      <th>netSqm</th>\n",
       "      <th>grossSqm</th>\n",
       "      <th>sqm_fark</th>\n",
       "      <th>residence_name</th>\n",
       "      <th>housingComplex_cleaned</th>\n",
       "      <th>rental_amount</th>\n",
       "      <th>rental_currency_code</th>\n",
       "    </tr>\n",
       "  </thead>\n",
       "  <tbody>\n",
       "    <tr>\n",
       "      <th>0</th>\n",
       "      <td>78883-704</td>\n",
       "      <td>ÇİFTÇİ EMLAK 'tan BİLGE HAST. YANI ARA KAT ANA...</td>\n",
       "      <td>&lt;h2 style=\\\"text-align: center;\\\"&gt;&lt;strong styl...</td>\n",
       "      <td>2500000</td>\n",
       "      <td>TL</td>\n",
       "      <td>3</td>\n",
       "      <td>1</td>\n",
       "      <td>1</td>\n",
       "      <td>0</td>\n",
       "      <td>{\"lat\":40.78177696011071,\"lon\":30.400175993150...</td>\n",
       "      <td>...</td>\n",
       "      <td>İkinci El</td>\n",
       "      <td>225</td>\n",
       "      <td>18</td>\n",
       "      <td>110</td>\n",
       "      <td>122</td>\n",
       "      <td>12</td>\n",
       "      <td>Belirtilmemiş</td>\n",
       "      <td>False</td>\n",
       "      <td>15000</td>\n",
       "      <td>TL</td>\n",
       "    </tr>\n",
       "    <tr>\n",
       "      <th>1</th>\n",
       "      <td>54537-3457</td>\n",
       "      <td>SAKARYA KARASU'DA YAZLIK DAİRENİZ EMRE FİLİZFİ...</td>\n",
       "      <td>&lt;p style=\\\"text-align: center;\\\"&gt;&lt;br&gt;&lt;/p&gt;\\n&lt;p ...</td>\n",
       "      <td>1500000</td>\n",
       "      <td>TL</td>\n",
       "      <td>2</td>\n",
       "      <td>1</td>\n",
       "      <td>1</td>\n",
       "      <td>0</td>\n",
       "      <td>{\"lat\":41.10962272499753,\"lon\":30.692469430880...</td>\n",
       "      <td>...</td>\n",
       "      <td>Sıfır</td>\n",
       "      <td>None</td>\n",
       "      <td>None</td>\n",
       "      <td>75</td>\n",
       "      <td>80</td>\n",
       "      <td>5</td>\n",
       "      <td>Belirtilmemiş</td>\n",
       "      <td>False</td>\n",
       "      <td>0</td>\n",
       "      <td>TL</td>\n",
       "    </tr>\n",
       "    <tr>\n",
       "      <th>2</th>\n",
       "      <td>116181-160</td>\n",
       "      <td>Sapanca,Kırkpınar’da Satılık 4+1 Villa</td>\n",
       "      <td>&lt;p&gt;https://app.immoviewer.com/portal/tour/2907...</td>\n",
       "      <td>19500000</td>\n",
       "      <td>TL</td>\n",
       "      <td>4</td>\n",
       "      <td>1</td>\n",
       "      <td>2</td>\n",
       "      <td>0</td>\n",
       "      <td>{\"lat\":40.701133631737555,\"lon\":30.21435713528...</td>\n",
       "      <td>...</td>\n",
       "      <td>İkinci El</td>\n",
       "      <td>None</td>\n",
       "      <td>None</td>\n",
       "      <td>200</td>\n",
       "      <td>250</td>\n",
       "      <td>50</td>\n",
       "      <td>Dubleks</td>\n",
       "      <td>True</td>\n",
       "      <td>25000</td>\n",
       "      <td>TL</td>\n",
       "    </tr>\n",
       "    <tr>\n",
       "      <th>3</th>\n",
       "      <td>18262-757</td>\n",
       "      <td>EMSALSİZ PROJE KARASU MERKEZDE HAVUZLU LÜKS 3+...</td>\n",
       "      <td>&lt;p&gt;&lt;br&gt;&lt;/p&gt;\\n&lt;p style=\\\"text-align: center;\\\"&gt;...</td>\n",
       "      <td>3350000</td>\n",
       "      <td>TL</td>\n",
       "      <td>3</td>\n",
       "      <td>1</td>\n",
       "      <td>1</td>\n",
       "      <td>0</td>\n",
       "      <td>{\"lat\":41.10212238429355,\"lon\":30.681114194206...</td>\n",
       "      <td>...</td>\n",
       "      <td>Sıfır</td>\n",
       "      <td>None</td>\n",
       "      <td>None</td>\n",
       "      <td>120</td>\n",
       "      <td>130</td>\n",
       "      <td>10</td>\n",
       "      <td>Belirtilmemiş</td>\n",
       "      <td>True</td>\n",
       "      <td>0</td>\n",
       "      <td>TL</td>\n",
       "    </tr>\n",
       "    <tr>\n",
       "      <th>4</th>\n",
       "      <td>131612-1792</td>\n",
       "      <td>3+1 MERKEZİ KONUMDA , BAHÇELİ , DENİZE YAKIN S...</td>\n",
       "      <td>&lt;p&gt;&lt;strong&gt;SATILIK OLAN VİLLA İSTANBUL'A 2 SAA...</td>\n",
       "      <td>3700000</td>\n",
       "      <td>TL</td>\n",
       "      <td>3</td>\n",
       "      <td>1</td>\n",
       "      <td>3</td>\n",
       "      <td>0</td>\n",
       "      <td>{\"lat\":41.07494321848645,\"lon\":30.85647390116245}</td>\n",
       "      <td>...</td>\n",
       "      <td>Sıfır</td>\n",
       "      <td>None</td>\n",
       "      <td>None</td>\n",
       "      <td>140</td>\n",
       "      <td>160</td>\n",
       "      <td>20</td>\n",
       "      <td>Tripleks</td>\n",
       "      <td>False</td>\n",
       "      <td>0</td>\n",
       "      <td>TL</td>\n",
       "    </tr>\n",
       "  </tbody>\n",
       "</table>\n",
       "<p>5 rows × 81 columns</p>\n",
       "</div>"
      ],
      "text/plain": [
       "     listingId                                              title  \\\n",
       "0    78883-704  ÇİFTÇİ EMLAK 'tan BİLGE HAST. YANI ARA KAT ANA...   \n",
       "1   54537-3457  SAKARYA KARASU'DA YAZLIK DAİRENİZ EMRE FİLİZFİ...   \n",
       "2   116181-160             Sapanca,Kırkpınar’da Satılık 4+1 Villa   \n",
       "3    18262-757  EMSALSİZ PROJE KARASU MERKEZDE HAVUZLU LÜKS 3+...   \n",
       "4  131612-1792  3+1 MERKEZİ KONUMDA , BAHÇELİ , DENİZE YAKIN S...   \n",
       "\n",
       "                                         description     price currency  room  \\\n",
       "0  <h2 style=\\\"text-align: center;\\\"><strong styl...   2500000       TL     3   \n",
       "1  <p style=\\\"text-align: center;\\\"><br></p>\\n<p ...   1500000       TL     2   \n",
       "2  <p>https://app.immoviewer.com/portal/tour/2907...  19500000       TL     4   \n",
       "3  <p><br></p>\\n<p style=\\\"text-align: center;\\\">...   3350000       TL     3   \n",
       "4  <p><strong>SATILIK OLAN VİLLA İSTANBUL'A 2 SAA...   3700000       TL     3   \n",
       "\n",
       "   livingRoom  bathRoom  isMapHidden  \\\n",
       "0           1         1            0   \n",
       "1           1         1            0   \n",
       "2           1         2            0   \n",
       "3           1         1            0   \n",
       "4           1         3            0   \n",
       "\n",
       "                                         mapLocation  ...  yapiDurumu island  \\\n",
       "0  {\"lat\":40.78177696011071,\"lon\":30.400175993150...  ...   İkinci El    225   \n",
       "1  {\"lat\":41.10962272499753,\"lon\":30.692469430880...  ...       Sıfır   None   \n",
       "2  {\"lat\":40.701133631737555,\"lon\":30.21435713528...  ...   İkinci El   None   \n",
       "3  {\"lat\":41.10212238429355,\"lon\":30.681114194206...  ...       Sıfır   None   \n",
       "4  {\"lat\":41.07494321848645,\"lon\":30.85647390116245}  ...       Sıfır   None   \n",
       "\n",
       "   parcel  netSqm  grossSqm sqm_fark residence_name  housingComplex_cleaned  \\\n",
       "0      18     110       122       12  Belirtilmemiş                   False   \n",
       "1    None      75        80        5  Belirtilmemiş                   False   \n",
       "2    None     200       250       50        Dubleks                    True   \n",
       "3    None     120       130       10  Belirtilmemiş                    True   \n",
       "4    None     140       160       20       Tripleks                   False   \n",
       "\n",
       "  rental_amount rental_currency_code  \n",
       "0         15000                   TL  \n",
       "1             0                   TL  \n",
       "2         25000                   TL  \n",
       "3             0                   TL  \n",
       "4             0                   TL  \n",
       "\n",
       "[5 rows x 81 columns]"
      ]
     },
     "execution_count": 390,
     "metadata": {},
     "output_type": "execute_result"
    }
   ],
   "source": [
    "df.head()"
   ]
  },
  {
   "cell_type": "code",
   "execution_count": 391,
   "id": "3683ca15",
   "metadata": {},
   "outputs": [
    {
     "name": "stdout",
     "output_type": "stream",
     "text": [
      "Index(['listingId', 'title', 'description', 'price', 'currency', 'room',\n",
      "       'livingRoom', 'bathRoom', 'isMapHidden', 'mapLocation', 'streetView',\n",
      "       'floor', 'age', 'credit', 'barter', 'rental', 'authorizedRealtor',\n",
      "       'furnished', 'detailUrl', 'detailDescription', 'firm', 'category',\n",
      "       'subCategory', 'mainCategory', 'fee', 'roomAndLivingRoom',\n",
      "       'isVideoTypeVimeo', 'onlineVisit', 'hasBranded', 'hasUpdateBooster',\n",
      "       'registerState', 'listingPropertyOrder', 'image_count',\n",
      "       'bulunan_yonler', 'property_type', 'Contact', 'inAttributes_count',\n",
      "       'outAttributes_count', 'locationAttributes_count',\n",
      "       'inAttributes_count_is_missing', 'outAttributes_count_is_missing',\n",
      "       'locationAttributes_count_is_missing', 'price_category',\n",
      "       'fee_is_missing', 'days_since_update', 'Stale_corrected', 'duration',\n",
      "       'area_name', 'county_name', 'city_name', 'tier', 'latitude',\n",
      "       'longitude', 'distance_to_sakarya_center_km', 'distance_to_karasu_km',\n",
      "       'distance_to_sapanca_km', 'distance_to_sakarya_university_km',\n",
      "       'sakarya_center_category', 'karasu_category', 'sapanca_category',\n",
      "       'sakarya_university_category', 'floorID', 'floorName', 'floorCount',\n",
      "       'floorNameFloat', 'floorCountFloat', 'floorRatio', 'usage_name',\n",
      "       'yakit', 'isitma', 'yapi', 'yapiDurumu', 'island', 'parcel', 'netSqm',\n",
      "       'grossSqm', 'sqm_fark', 'residence_name', 'housingComplex_cleaned',\n",
      "       'rental_amount', 'rental_currency_code'],\n",
      "      dtype='object')\n"
     ]
    }
   ],
   "source": [
    "# Tüm sütun isimlerini görmek için:\n",
    "print(df.columns)\n"
   ]
  },
  {
   "cell_type": "code",
   "execution_count": 392,
   "id": "a3e95f73",
   "metadata": {},
   "outputs": [],
   "source": [
    "df = df.drop(columns=['isMapHidden','authorizedRealtor', 'hasUpdateBooster', 'floorID'])\n"
   ]
  },
  {
   "cell_type": "code",
   "execution_count": 393,
   "id": "77b7a83d",
   "metadata": {},
   "outputs": [],
   "source": [
    "df = df.drop(columns=['detailUrl','detailDescription','category','subCategory','mainCategory','isVideoTypeVimeo','listingPropertyOrder'])\n"
   ]
  },
  {
   "cell_type": "code",
   "execution_count": 394,
   "id": "35f35d8c",
   "metadata": {},
   "outputs": [
    {
     "data": {
      "text/plain": [
       "(2157, 70)"
      ]
     },
     "execution_count": 394,
     "metadata": {},
     "output_type": "execute_result"
    }
   ],
   "source": [
    "df.shape"
   ]
  },
  {
   "cell_type": "code",
   "execution_count": 395,
   "id": "bdcc6dde",
   "metadata": {},
   "outputs": [
    {
     "data": {
      "text/plain": [
       "onlineVisit\n",
       "False    1341\n",
       "True      816\n",
       "Name: count, dtype: int64"
      ]
     },
     "execution_count": 395,
     "metadata": {},
     "output_type": "execute_result"
    }
   ],
   "source": [
    "df['onlineVisit'].value_counts()"
   ]
  },
  {
   "cell_type": "markdown",
   "id": "ba0ffccc",
   "metadata": {},
   "source": [
    "HasBranded İŞLEMLERİ\n"
   ]
  },
  {
   "cell_type": "code",
   "execution_count": 396,
   "id": "a13235d7",
   "metadata": {},
   "outputs": [
    {
     "data": {
      "image/png": "[encoded data removed]",
      "text/plain": [
       "<Figure size 640x480 with 1 Axes>"
      ]
     },
     "metadata": {},
     "output_type": "display_data"
    }
   ],
   "source": [
    "sb.boxplot(data=df, x='hasBranded', y='price')\n",
    "plt.title('HasBranded vs. Price')\n",
    "plt.show()"
   ]
  },
  {
   "cell_type": "code",
   "execution_count": 397,
   "id": "8010d0b1",
   "metadata": {},
   "outputs": [],
   "source": [
    "#Markasız ilanlarda çok fazla aykırı değer var. Bunları model bilsin.\n",
    "Q1 = df['price'].quantile(0.25)\n",
    "Q3 = df['price'].quantile(0.75)\n",
    "IQR = Q3 - Q1\n",
    "upper_bound = Q3 + 1.5 * IQR\n",
    "df['is_outlier_price'] = (df['price'] > upper_bound).astype(int)"
   ]
  },
  {
   "cell_type": "code",
   "execution_count": 398,
   "id": "68f87628",
   "metadata": {},
   "outputs": [
    {
     "name": "stdout",
     "output_type": "stream",
     "text": [
      "Her Tier için hasBranded ortalaması:\n",
      " tier\n",
      "2   1\n",
      "3   0\n",
      "4   1\n",
      "Name: hasBranded, dtype: float64\n"
     ]
    }
   ],
   "source": [
    "# Tier analizi\n",
    "tier_rate = df.groupby('tier')['hasBranded'].mean()\n",
    "print(\"Her Tier için hasBranded ortalaması:\\n\", tier_rate)"
   ]
  },
  {
   "cell_type": "code",
   "execution_count": 399,
   "id": "044ef3df",
   "metadata": {},
   "outputs": [],
   "source": [
    "# tier'a göre markalı oran 1 veya 0 mı?\n",
    "tier_brand_ratio = df.groupby('tier')['hasBranded'].mean()\n",
    "df['tier_brand_ratio'] = df['tier'].map(tier_brand_ratio)\n",
    "df['tier_is_branded_only'] = ((df['tier_brand_ratio'] == 1.0) | (df['tier_brand_ratio'] == 0.0)).astype(int)\n"
   ]
  },
  {
   "cell_type": "raw",
   "id": "c487ffd0-9ba5-4cce-8ef4-587bc37f8140",
   "metadata": {},
   "source": [
    "import seaborn as sns\n",
    "plt.figure(figsize=(12, 6))\n",
    "sns.countplot(df, x='county_name', hue='hasBranded')\n",
    "plt.title('İlçelere Göre Markalı / Markasız İlan Sayısı')\n",
    "plt.xlabel('İlçe')\n",
    "plt.ylabel('İlan Sayısı')\n",
    "plt.xticks(rotation=45)\n",
    "plt.show()\n"
   ]
  },
  {
   "cell_type": "code",
   "execution_count": 400,
   "id": "00464aaf",
   "metadata": {},
   "outputs": [],
   "source": [
    "# Bazı ilçeler markalı ilanlara daha yatkın. Bu trendi modele öğret.\n",
    "county_brand_ratio = df.groupby('county_name')['hasBranded'].mean()\n",
    "df['county_brand_ratio'] = df['county_name'].map(county_brand_ratio)\n"
   ]
  },
  {
   "cell_type": "raw",
   "id": "e288800b-7b91-4e82-81bc-204249edb4ee",
   "metadata": {},
   "source": [
    "plt.figure(figsize=(10, 6))\n",
    "sns.countplot(x='property_type', hue='hasBranded', data=df)\n",
    "plt.title('HasBranded vs Property Type')\n",
    "plt.show()"
   ]
  },
  {
   "cell_type": "code",
   "execution_count": 401,
   "id": "2c658a4e",
   "metadata": {},
   "outputs": [],
   "source": [
    "# Property_type bazında markalı ilan (hasBranded) oranını hesapla\n",
    "branded_ratio = df.groupby('property_type')['hasBranded'].mean()\n",
    "\n",
    "# Bu oranı ana veriyle birleştir\n",
    "df['property_type_branded_ratio'] = df['property_type'].map(branded_ratio)\n"
   ]
  },
  {
   "cell_type": "code",
   "execution_count": 402,
   "id": "70c99956",
   "metadata": {},
   "outputs": [
    {
     "data": {
      "text/plain": [
       "0      1 \n",
       "1      1 \n",
       "2      1 \n",
       "3      1 \n",
       "4      1 \n",
       "       ..\n",
       "2152   1 \n",
       "2153   1 \n",
       "2154   1 \n",
       "2155   1 \n",
       "2156   1 \n",
       "Name: property_type_branded_ratio, Length: 2157, dtype: float64"
      ]
     },
     "execution_count": 402,
     "metadata": {},
     "output_type": "execute_result"
    }
   ],
   "source": [
    "df['property_type_branded_ratio']"
   ]
  },
  {
   "cell_type": "code",
   "execution_count": 403,
   "id": "2d68fd03",
   "metadata": {},
   "outputs": [
    {
     "data": {
      "text/plain": [
       "array([0.5474732 , 0.56464812, 0.4       , 0.83333333, 0.29787234,\n",
       "       0.0952381 , 0.        , 0.5       ])"
      ]
     },
     "execution_count": 403,
     "metadata": {},
     "output_type": "execute_result"
    }
   ],
   "source": [
    "df['property_type_branded_ratio'].unique()\n"
   ]
  },
  {
   "cell_type": "code",
   "execution_count": null,
   "id": "0a652eb5",
   "metadata": {},
   "outputs": [],
   "source": []
  },
  {
   "cell_type": "code",
   "execution_count": 404,
   "id": "d6c43ced",
   "metadata": {},
   "outputs": [
    {
     "data": {
      "text/plain": [
       "property_type_branded_ratio\n",
       "1    1306\n",
       "1     611\n",
       "0     155\n",
       "0      47\n",
       "0      21\n",
       "0       9\n",
       "1       6\n",
       "0       2\n",
       "Name: count, dtype: int64"
      ]
     },
     "execution_count": 404,
     "metadata": {},
     "output_type": "execute_result"
    }
   ],
   "source": [
    "df['property_type_branded_ratio'].value_counts()"
   ]
  },
  {
   "cell_type": "code",
   "execution_count": 405,
   "id": "49e4ed81",
   "metadata": {},
   "outputs": [
    {
     "data": {
      "text/plain": [
       "property_type  property_type_branded_ratio\n",
       "Bina           0                                21\n",
       "Bungalov       0                                 2\n",
       "Daire          1                              1306\n",
       "Konut Ticaret  0                                 1\n",
       "Köy Evi        0                                 1\n",
       "Köşk           0                                 2\n",
       "Müstakil Ev    0                               155\n",
       "Prefabrik      0                                 3\n",
       "Tarla          0                                 1\n",
       "Villa          1                               611\n",
       "Yazlık         0                                47\n",
       "Çiftlik Evi    1                                 6\n",
       "İmarlı Konut   0                                 1\n",
       "Name: count, dtype: int64"
      ]
     },
     "execution_count": 405,
     "metadata": {},
     "output_type": "execute_result"
    }
   ],
   "source": [
    "df.groupby('property_type')['property_type_branded_ratio'].value_counts()\n"
   ]
  },
  {
   "cell_type": "code",
   "execution_count": null,
   "id": "e91f1015",
   "metadata": {},
   "outputs": [],
   "source": []
  },
  {
   "cell_type": "code",
   "execution_count": null,
   "id": "2446e3a0",
   "metadata": {},
   "outputs": [],
   "source": []
  },
  {
   "cell_type": "code",
   "execution_count": null,
   "id": "34f47fe1",
   "metadata": {},
   "outputs": [],
   "source": []
  },
  {
   "cell_type": "code",
   "execution_count": 406,
   "id": "4fe1604c",
   "metadata": {},
   "outputs": [
    {
     "data": {
      "text/plain": [
       "['listingId',\n",
       " 'title',\n",
       " 'description',\n",
       " 'price',\n",
       " 'currency',\n",
       " 'room',\n",
       " 'livingRoom',\n",
       " 'bathRoom',\n",
       " 'mapLocation',\n",
       " 'streetView',\n",
       " 'floor',\n",
       " 'age',\n",
       " 'credit',\n",
       " 'barter',\n",
       " 'rental',\n",
       " 'furnished',\n",
       " 'firm',\n",
       " 'fee',\n",
       " 'roomAndLivingRoom',\n",
       " 'onlineVisit',\n",
       " 'hasBranded',\n",
       " 'registerState',\n",
       " 'image_count',\n",
       " 'bulunan_yonler',\n",
       " 'property_type',\n",
       " 'Contact',\n",
       " 'inAttributes_count',\n",
       " 'outAttributes_count',\n",
       " 'locationAttributes_count',\n",
       " 'inAttributes_count_is_missing',\n",
       " 'outAttributes_count_is_missing',\n",
       " 'locationAttributes_count_is_missing',\n",
       " 'price_category',\n",
       " 'fee_is_missing',\n",
       " 'days_since_update',\n",
       " 'Stale_corrected',\n",
       " 'duration',\n",
       " 'area_name',\n",
       " 'county_name',\n",
       " 'city_name',\n",
       " 'tier',\n",
       " 'latitude',\n",
       " 'longitude',\n",
       " 'distance_to_sakarya_center_km',\n",
       " 'distance_to_karasu_km',\n",
       " 'distance_to_sapanca_km',\n",
       " 'distance_to_sakarya_university_km',\n",
       " 'sakarya_center_category',\n",
       " 'karasu_category',\n",
       " 'sapanca_category',\n",
       " 'sakarya_university_category',\n",
       " 'floorName',\n",
       " 'floorCount',\n",
       " 'floorNameFloat',\n",
       " 'floorCountFloat',\n",
       " 'floorRatio',\n",
       " 'usage_name',\n",
       " 'yakit',\n",
       " 'isitma',\n",
       " 'yapi',\n",
       " 'yapiDurumu',\n",
       " 'island',\n",
       " 'parcel',\n",
       " 'netSqm',\n",
       " 'grossSqm',\n",
       " 'sqm_fark',\n",
       " 'residence_name',\n",
       " 'housingComplex_cleaned',\n",
       " 'rental_amount',\n",
       " 'rental_currency_code',\n",
       " 'is_outlier_price',\n",
       " 'tier_brand_ratio',\n",
       " 'tier_is_branded_only',\n",
       " 'county_brand_ratio',\n",
       " 'property_type_branded_ratio']"
      ]
     },
     "execution_count": 406,
     "metadata": {},
     "output_type": "execute_result"
    }
   ],
   "source": [
    "df.columns.tolist()"
   ]
  },
  {
   "cell_type": "code",
   "execution_count": null,
   "id": "3e1bd73a",
   "metadata": {},
   "outputs": [],
   "source": []
  },
  {
   "cell_type": "code",
   "execution_count": 407,
   "id": "90f6165b",
   "metadata": {},
   "outputs": [
    {
     "name": "stdout",
     "output_type": "stream",
     "text": [
      "listingId                                 0\n",
      "title                                     0\n",
      "description                              76\n",
      "price                                     0\n",
      "currency                                  3\n",
      "room                                      0\n",
      "livingRoom                                0\n",
      "bathRoom                                  0\n",
      "mapLocation                               0\n",
      "streetView                                0\n",
      "floor                                     3\n",
      "age                                       0\n",
      "credit                                    0\n",
      "barter                                    0\n",
      "rental                                    0\n",
      "furnished                                 0\n",
      "firm                                   2157\n",
      "fee                                    1861\n",
      "roomAndLivingRoom                         0\n",
      "onlineVisit                               0\n",
      "hasBranded                                0\n",
      "registerState                           118\n",
      "image_count                               0\n",
      "bulunan_yonler                            0\n",
      "property_type                             0\n",
      "Contact                                  76\n",
      "inAttributes_count                        0\n",
      "outAttributes_count                       0\n",
      "locationAttributes_count                  0\n",
      "inAttributes_count_is_missing             0\n",
      "outAttributes_count_is_missing            0\n",
      "locationAttributes_count_is_missing       0\n",
      "price_category                            0\n",
      "fee_is_missing                            0\n",
      "days_since_update                         0\n",
      "Stale_corrected                           0\n",
      "duration                                  0\n",
      "area_name                                 0\n",
      "county_name                               0\n",
      "city_name                                 0\n",
      "tier                                      0\n",
      "latitude                                  0\n",
      "longitude                                 0\n",
      "distance_to_sakarya_center_km             0\n",
      "distance_to_karasu_km                     0\n",
      "distance_to_sapanca_km                    0\n",
      "distance_to_sakarya_university_km         0\n",
      "sakarya_center_category                   0\n",
      "karasu_category                           0\n",
      "sapanca_category                          0\n",
      "sakarya_university_category               0\n",
      "floorName                               288\n",
      "floorCount                                0\n",
      "floorNameFloat                          465\n",
      "floorCountFloat                           2\n",
      "floorRatio                              465\n",
      "usage_name                                0\n",
      "yakit                                   131\n",
      "isitma                                   79\n",
      "yapi                                   1096\n",
      "yapiDurumu                                0\n",
      "island                                 1956\n",
      "parcel                                 1944\n",
      "netSqm                                    0\n",
      "grossSqm                                  0\n",
      "sqm_fark                                  0\n",
      "residence_name                            0\n",
      "housingComplex_cleaned                    0\n",
      "rental_amount                             0\n",
      "rental_currency_code                      0\n",
      "is_outlier_price                          0\n",
      "tier_brand_ratio                          0\n",
      "tier_is_branded_only                      0\n",
      "county_brand_ratio                        0\n",
      "property_type_branded_ratio               0\n",
      "dtype: int64\n"
     ]
    }
   ],
   "source": [
    "import pandas as pd\n",
    "\n",
    "# Tüm sütunların gösterilmesi için ayar\n",
    "pd.set_option('display.max_rows', None)\n",
    "\n",
    "# Null değer sayısını yazdır\n",
    "print(df.isnull().sum())\n"
   ]
  },
  {
   "cell_type": "code",
   "execution_count": 408,
   "id": "2c9ee70f",
   "metadata": {},
   "outputs": [],
   "source": [
    "df = df.drop(columns=['firm', 'floor', 'streetView', 'island','parcel', 'rental'])"
   ]
  },
  {
   "cell_type": "code",
   "execution_count": 409,
   "id": "990e2716",
   "metadata": {},
   "outputs": [
    {
     "data": {
      "text/plain": [
       "(2157, 69)"
      ]
     },
     "execution_count": 409,
     "metadata": {},
     "output_type": "execute_result"
    }
   ],
   "source": [
    "df.shape"
   ]
  },
  {
   "cell_type": "code",
   "execution_count": null,
   "id": "04913bd0-92be-4e03-8136-2410a80bc134",
   "metadata": {},
   "outputs": [],
   "source": []
  },
  {
   "cell_type": "code",
   "execution_count": 410,
   "id": "61d98b11-59d7-4553-bcdb-578dd0e58303",
   "metadata": {},
   "outputs": [
    {
     "name": "stdout",
     "output_type": "stream",
     "text": [
      "<class 'pandas.core.frame.DataFrame'>\n",
      "RangeIndex: 2157 entries, 0 to 2156\n",
      "Data columns (total 69 columns):\n",
      " #   Column                               Non-Null Count  Dtype  \n",
      "---  ------                               --------------  -----  \n",
      " 0   listingId                            2157 non-null   object \n",
      " 1   title                                2157 non-null   object \n",
      " 2   description                          2081 non-null   object \n",
      " 3   price                                2157 non-null   int64  \n",
      " 4   currency                             2154 non-null   object \n",
      " 5   room                                 2157 non-null   int64  \n",
      " 6   livingRoom                           2157 non-null   int64  \n",
      " 7   bathRoom                             2157 non-null   int64  \n",
      " 8   mapLocation                          2157 non-null   object \n",
      " 9   age                                  2157 non-null   Int64  \n",
      " 10  credit                               2157 non-null   bool   \n",
      " 11  barter                               2157 non-null   bool   \n",
      " 12  furnished                            2157 non-null   bool   \n",
      " 13  fee                                  296 non-null    float64\n",
      " 14  roomAndLivingRoom                    2157 non-null   object \n",
      " 15  onlineVisit                          2157 non-null   bool   \n",
      " 16  hasBranded                           2157 non-null   bool   \n",
      " 17  registerState                        2039 non-null   object \n",
      " 18  image_count                          2157 non-null   int64  \n",
      " 19  bulunan_yonler                       2157 non-null   object \n",
      " 20  property_type                        2157 non-null   object \n",
      " 21  Contact                              2081 non-null   object \n",
      " 22  inAttributes_count                   2157 non-null   float64\n",
      " 23  outAttributes_count                  2157 non-null   float64\n",
      " 24  locationAttributes_count             2157 non-null   float64\n",
      " 25  inAttributes_count_is_missing        2157 non-null   int32  \n",
      " 26  outAttributes_count_is_missing       2157 non-null   int32  \n",
      " 27  locationAttributes_count_is_missing  2157 non-null   int32  \n",
      " 28  price_category                       2157 non-null   object \n",
      " 29  fee_is_missing                       2157 non-null   bool   \n",
      " 30  days_since_update                    2157 non-null   int64  \n",
      " 31  Stale_corrected                      2157 non-null   bool   \n",
      " 32  duration                             2157 non-null   float64\n",
      " 33  area_name                            2157 non-null   object \n",
      " 34  county_name                          2157 non-null   object \n",
      " 35  city_name                            2157 non-null   object \n",
      " 36  tier                                 2157 non-null   int64  \n",
      " 37  latitude                             2157 non-null   float64\n",
      " 38  longitude                            2157 non-null   float64\n",
      " 39  distance_to_sakarya_center_km        2157 non-null   float64\n",
      " 40  distance_to_karasu_km                2157 non-null   float64\n",
      " 41  distance_to_sapanca_km               2157 non-null   float64\n",
      " 42  distance_to_sakarya_university_km    2157 non-null   float64\n",
      " 43  sakarya_center_category              2157 non-null   object \n",
      " 44  karasu_category                      2157 non-null   object \n",
      " 45  sapanca_category                     2157 non-null   object \n",
      " 46  sakarya_university_category          2157 non-null   object \n",
      " 47  floorName                            1869 non-null   object \n",
      " 48  floorCount                           2157 non-null   float64\n",
      " 49  floorNameFloat                       1692 non-null   Int64  \n",
      " 50  floorCountFloat                      2155 non-null   float64\n",
      " 51  floorRatio                           1692 non-null   Float64\n",
      " 52  usage_name                           2157 non-null   object \n",
      " 53  yakit                                2026 non-null   object \n",
      " 54  isitma                               2078 non-null   object \n",
      " 55  yapi                                 1061 non-null   object \n",
      " 56  yapiDurumu                           2157 non-null   object \n",
      " 57  netSqm                               2157 non-null   float64\n",
      " 58  grossSqm                             2157 non-null   float64\n",
      " 59  sqm_fark                             2157 non-null   float64\n",
      " 60  residence_name                       2157 non-null   object \n",
      " 61  housingComplex_cleaned               2157 non-null   bool   \n",
      " 62  rental_amount                        2157 non-null   int64  \n",
      " 63  rental_currency_code                 2157 non-null   object \n",
      " 64  is_outlier_price                     2157 non-null   int32  \n",
      " 65  tier_brand_ratio                     2157 non-null   float64\n",
      " 66  tier_is_branded_only                 2157 non-null   int32  \n",
      " 67  county_brand_ratio                   2157 non-null   float64\n",
      " 68  property_type_branded_ratio          2157 non-null   float64\n",
      "dtypes: Float64(1), Int64(2), bool(8), float64(19), int32(5), int64(8), object(26)\n",
      "memory usage: 1009.1+ KB\n"
     ]
    }
   ],
   "source": [
    "df.info()"
   ]
  },
  {
   "cell_type": "code",
   "execution_count": 411,
   "id": "4f8c0343",
   "metadata": {},
   "outputs": [],
   "source": [
    "df.to_csv(\"modeloncesi_veri.csv\", index=False)"
   ]
  },
  {
   "cell_type": "code",
   "execution_count": 412,
   "id": "9a380207",
   "metadata": {},
   "outputs": [],
   "source": [
    "df = df.drop(columns=['title', 'description', 'currency', 'mapLocation', 'Contact', 'fee','city_name',\n",
    "                      'latitude', 'longitude', 'rental_currency_code','yapi','listingId'])"
   ]
  },
  {
   "cell_type": "code",
   "execution_count": 413,
   "id": "61e729e4",
   "metadata": {},
   "outputs": [
    {
     "data": {
      "text/plain": [
       "(2157, 57)"
      ]
     },
     "execution_count": 413,
     "metadata": {},
     "output_type": "execute_result"
    }
   ],
   "source": [
    "df.shape"
   ]
  },
  {
   "cell_type": "code",
   "execution_count": 414,
   "id": "06436e46",
   "metadata": {},
   "outputs": [],
   "source": [
    "df.to_csv(\"modelhazir_veri.csv\", index=False)"
   ]
  },
  {
   "cell_type": "code",
   "execution_count": null,
   "id": "eb1c7308",
   "metadata": {},
   "outputs": [],
   "source": []
  },
  {
   "cell_type": "code",
   "execution_count": null,
   "id": "0a1bb4b1",
   "metadata": {},
   "outputs": [],
   "source": []
  },
  {
   "cell_type": "markdown",
   "id": "45099ebf-dc11-4edb-8348-b85982ac68e1",
   "metadata": {},
   "source": [
    "# Model çalışmaları sırasında eklenmesi gerekliliği ile karşılaşılan sütunlar "
   ]
  },
  {
   "cell_type": "markdown",
   "id": "c4731a8c-4233-40a6-9668-32f2190fc9b8",
   "metadata": {},
   "source": [
    "#### kategorik verilerle çalışamayan algoritmalar için bazı sütunların sayısal verilere dönüştürülmesi \n",
    "örn floorName'in sayısallaştırılmasında floorNameFloat sütunu dikkate alınabilir\n",
    "\n",
    "fiyat tahmininde lineer regresyon için bazı önemli sütunlara encoding işlemlerinin uygulanması "
   ]
  },
  {
   "cell_type": "code",
   "execution_count": null,
   "id": "117c3cbc-9787-4796-a00d-95ce2601a037",
   "metadata": {},
   "outputs": [],
   "source": []
  },
  {
   "cell_type": "markdown",
   "id": "aaffd3dc-bb01-4ac2-a476-61e11c568321",
   "metadata": {},
   "source": [
    "### Label encoding"
   ]
  },
  {
   "cell_type": "code",
   "execution_count": 415,
   "id": "17d18277-ad03-4cea-b619-2615344f45b8",
   "metadata": {},
   "outputs": [
    {
     "data": {
      "text/plain": [
       "array(['kuzey', '', 'kuzey, dogu, bati', 'bati', 'kuzey, bati', 'dogu',\n",
       "       'kuzey, dogu', 'dogu, bati'], dtype=object)"
      ]
     },
     "execution_count": 415,
     "metadata": {},
     "output_type": "execute_result"
    }
   ],
   "source": [
    "df['bulunan_yonler'].unique()"
   ]
  },
  {
   "cell_type": "code",
   "execution_count": 416,
   "id": "681a7ee0-9f2e-40a8-a13f-69b173f37e9d",
   "metadata": {},
   "outputs": [],
   "source": [
    "# Boş değerleri 'Belirtilmemiş' olarak güncelle\n",
    "df['bulunan_yonler'] = df['bulunan_yonler'].replace('', 'Belirtilmemiş')\n",
    "\n",
    "# Label Encoding sözlüğü (mantıklı sıralama ile)\n",
    "direction_map = {\n",
    "    'kuzey, dogu, bati': 7,\n",
    "    'dogu, bati': 6,\n",
    "    'kuzey, dogu': 5,\n",
    "    'kuzey, bati': 4,\n",
    "    'dogu': 3,\n",
    "    'bati': 2,\n",
    "    'kuzey': 1,\n",
    "    'Belirtilmemiş': 0  # Eski boş değerler\n",
    "}"
   ]
  },
  {
   "cell_type": "code",
   "execution_count": 417,
   "id": "e30676ac-34c2-4e5f-9c84-ee9b8b2616aa",
   "metadata": {},
   "outputs": [],
   "source": [
    "# Sözlüğü kullanarak yeni bir sütun oluştur\n",
    "df['direction_encoded'] = df['bulunan_yonler'].map(direction_map)"
   ]
  },
  {
   "cell_type": "code",
   "execution_count": 418,
   "id": "02937bcc-6cf5-4dc0-8011-c34f5513201c",
   "metadata": {},
   "outputs": [],
   "source": [
    "# bulunan_yonler sütunu sayısallaştırılmalı \n",
    "# Eğer hücre NaN değilse, ',' sayısını say + 1; değilse 0 yaz\n",
    "df['yon_sayisi'] = df['bulunan_yonler'].apply(lambda x: len(str(x).split(',')) if pd.notna(x) else 0)"
   ]
  },
  {
   "cell_type": "code",
   "execution_count": null,
   "id": "dd1fed8f-c43c-43c1-83b9-3a5984ed492a",
   "metadata": {},
   "outputs": [],
   "source": []
  },
  {
   "cell_type": "code",
   "execution_count": 419,
   "id": "18b12e7b-94ea-4054-b38b-0563a083cd9d",
   "metadata": {},
   "outputs": [
    {
     "data": {
      "text/plain": [
       "array(['İkinci El', 'Sıfır', 'Yapım Aşamasında'], dtype=object)"
      ]
     },
     "execution_count": 419,
     "metadata": {},
     "output_type": "execute_result"
    }
   ],
   "source": [
    "df['yapiDurumu'].unique()"
   ]
  },
  {
   "cell_type": "code",
   "execution_count": 420,
   "id": "2b02fdfc-3c83-41ac-b44c-853639038c93",
   "metadata": {},
   "outputs": [],
   "source": [
    "# yapiDurumu sütunu da label encoding ile sayısallaştırılırsa;\n",
    "# Özel label encoding sözlüğü\n",
    "yapi_durumu_map = {\n",
    "    'İkinci El': 0,\n",
    "    'Yapım Aşamasında': 1,\n",
    "    'Sıfır': 2\n",
    "}\n",
    "\n",
    "# Sütunu bu haritaya göre dönüştür\n",
    "df['yapiDurumu_encoded'] = df['yapiDurumu'].map(yapi_durumu_map)\n"
   ]
  },
  {
   "cell_type": "code",
   "execution_count": null,
   "id": "34a76408-df71-4215-ab8f-573296bf0b2e",
   "metadata": {},
   "outputs": [],
   "source": []
  },
  {
   "cell_type": "code",
   "execution_count": 421,
   "id": "836b0487-b4ac-40aa-9be6-0009eae82e75",
   "metadata": {},
   "outputs": [
    {
     "data": {
      "text/plain": [
       "array(['Doğalgaz', 'Elektrik', None, 'Kömür-Odun', 'Yerden Isıtma',\n",
       "       'Akaryakıt'], dtype=object)"
      ]
     },
     "execution_count": 421,
     "metadata": {},
     "output_type": "execute_result"
    }
   ],
   "source": [
    "df['yakit'].unique()"
   ]
  },
  {
   "cell_type": "code",
   "execution_count": 422,
   "id": "73aaf85d-f7a2-4bc8-a5ee-3c9b7bf6193a",
   "metadata": {},
   "outputs": [
    {
     "data": {
      "text/plain": [
       "array(['Kombi', 'Merkezi Sistem', 'Yerden Isıtma', 'Belirtilmemiş',\n",
       "       'Soba', 'Isıtma Yok', None, 'Klima', 'Doğalgaz Sobası',\n",
       "       'Güneş Enerjisi', 'Isı Pompası', 'Kat Kaloriferi',\n",
       "       'Jeotermal Isıtma'], dtype=object)"
      ]
     },
     "execution_count": 422,
     "metadata": {},
     "output_type": "execute_result"
    }
   ],
   "source": [
    "df['isitma'].unique()"
   ]
  },
  {
   "cell_type": "code",
   "execution_count": 423,
   "id": "7e426618-1e3e-49fe-b50d-1c3fe42181d2",
   "metadata": {},
   "outputs": [],
   "source": [
    "df['yakit'] = df['yakit'].fillna('Belirtilmemiş')\n",
    "df['isitma'] = df['isitma'].fillna('Belirtilmemiş')"
   ]
  },
  {
   "cell_type": "markdown",
   "id": "76424544-e331-441a-b332-cef47bb34a17",
   "metadata": {},
   "source": [
    "Bu sütunlardan yakit sütununun kullanılmasına karar verildi (çünkü isitma için çok fazla farklı değer vardı). label encoding yapıyoruz."
   ]
  },
  {
   "cell_type": "code",
   "execution_count": 424,
   "id": "d2fc7066-6500-40bc-9be0-52cd8603ee21",
   "metadata": {},
   "outputs": [],
   "source": [
    "# Isıtma türlerini puanlayan sözlük (label encoding gibi çalışır)\n",
    "heating_map = {\n",
    "    'Yerden Isıtma': 5,\n",
    "    'Doğalgaz': 4,\n",
    "    'Akaryakıt': 3,\n",
    "    'Elektrik': 2,\n",
    "    'Kömür-Odun': 1,\n",
    "    'Belirtilmemiş': 0  # None olan verilerin yerine geçiyor\n",
    "}"
   ]
  },
  {
   "cell_type": "code",
   "execution_count": 425,
   "id": "074826d1-a43d-4837-b9dc-d7a5176dd2a0",
   "metadata": {},
   "outputs": [],
   "source": [
    "# Label encoding uygulayalım\n",
    "df['yakit_encoded'] = df['yakit'].map(heating_map)"
   ]
  },
  {
   "cell_type": "code",
   "execution_count": null,
   "id": "60e28546-a12b-4336-8178-d7e0deeca372",
   "metadata": {},
   "outputs": [],
   "source": []
  },
  {
   "cell_type": "code",
   "execution_count": null,
   "id": "6a186527-9c32-4019-a7b6-70c14787cde8",
   "metadata": {},
   "outputs": [],
   "source": []
  },
  {
   "cell_type": "code",
   "execution_count": null,
   "id": "59bb5d06-6165-456e-a267-84328a6e66e0",
   "metadata": {},
   "outputs": [],
   "source": []
  },
  {
   "cell_type": "markdown",
   "id": "43d3e8d4-1c32-4cef-a4d2-70a5ab9d71e3",
   "metadata": {},
   "source": [
    "### One-hot encoding işleminde;\n",
    "değerlerin hepsi one-hot kodlanırsa sütunlar arasında doğrusal ilişki olur bu da istatistiksel modellerde (lineer regresyon gibi doğrusal modellerde) sorun çıkartır. Alfabetik sıraya göre ilk sütun diğerlerinden tahmin edilebilir olur, bunu drop_first=True yaparak dikkate almıyoruz.\n",
    "\n",
    "drop='first', bir kategoriyi bilinçli olarak atar. Amaç:\n",
    "🔺 \"Dummy Variable Trap\"’ten kaçmak (yani değişkenler arasında çoklu doğrusal bağlantı – multicollinearity – oluşturmamak)."
   ]
  },
  {
   "cell_type": "code",
   "execution_count": null,
   "id": "522719ee-1267-4de8-8709-2a2356c834bf",
   "metadata": {},
   "outputs": [],
   "source": []
  },
  {
   "cell_type": "code",
   "execution_count": 426,
   "id": "c30d5bfe-1a37-4fd3-b8f7-8117df142dac",
   "metadata": {},
   "outputs": [
    {
     "data": {
      "text/plain": [
       "array(['Boş', 'Mülk Sahibi', 'Kiracılı', 'Belirtilmemiş'], dtype=object)"
      ]
     },
     "execution_count": 426,
     "metadata": {},
     "output_type": "execute_result"
    }
   ],
   "source": [
    "df['usage_name'].unique()"
   ]
  },
  {
   "cell_type": "code",
   "execution_count": 427,
   "id": "d0954025-c839-4bfe-8a4b-15dcda3f676f",
   "metadata": {},
   "outputs": [],
   "source": [
    "encoded = pd.get_dummies(df['usage_name'], prefix='usage', drop_first=True)\n",
    "df = pd.concat([df, encoded], axis=1)"
   ]
  },
  {
   "cell_type": "markdown",
   "id": "0a17b189-5d4a-4ee1-b5bb-70f531b548d6",
   "metadata": {},
   "source": [
    "Örneğin burada da residence_name sütununda none değerler için atanan 'Belirtilmemiş' değeri alfabetik olarak başta gelmez. Bu yüzden\n",
    "drop_first=False ile birlikte Belirtilmemiş sütunu manuel olarak çıkartılır."
   ]
  },
  {
   "cell_type": "code",
   "execution_count": 428,
   "id": "e571307c-a2cb-45d3-858d-00c4bd86dbf3",
   "metadata": {},
   "outputs": [],
   "source": [
    "df['residence_name_copy'] = df['residence_name'].copy()"
   ]
  },
  {
   "cell_type": "code",
   "execution_count": 429,
   "id": "4067b843-4b6d-4b77-a794-24d963dc6bcd",
   "metadata": {},
   "outputs": [
    {
     "data": {
      "text/plain": [
       "array(['Belirtilmemiş', 'Dubleks', 'Tripleks', 'Bahçe Dubleksi',\n",
       "       'Bahçe Katı', 'Çatı Dubleksi', 'İkiz Ev', 'Ters Dubleks',\n",
       "       'Ara Kat Dubleks'], dtype=object)"
      ]
     },
     "execution_count": 429,
     "metadata": {},
     "output_type": "execute_result"
    }
   ],
   "source": [
    "df['residence_name'].unique()"
   ]
  },
  {
   "cell_type": "code",
   "execution_count": 430,
   "id": "70d2cc26-65f1-4580-bf45-9c85401fc370",
   "metadata": {},
   "outputs": [],
   "source": [
    "# residence_name sütununu one-hot encode et\n",
    "residence_encoded = pd.get_dummies(df['residence_name_copy'], prefix='residence', drop_first=False)\n",
    "\n",
    "# 'residence_Belirtilmemiş' sütununu manuel olarak çıkar\n",
    "if 'residence_Belirtilmemiş' in residence_encoded.columns:\n",
    "    residence_encoded = residence_encoded.drop(columns=['residence_Belirtilmemiş'])\n",
    "\n",
    "# Orijinal df'den residence_name sütununu kaldır ve encoded olanlarla birleştir\n",
    "df = pd.concat([df.drop(columns=['residence_name_copy']), residence_encoded], axis=1)"
   ]
  },
  {
   "cell_type": "code",
   "execution_count": null,
   "id": "19544d43-9456-4b9a-8168-1f4b8fe703c3",
   "metadata": {},
   "outputs": [],
   "source": []
  },
  {
   "cell_type": "code",
   "execution_count": 431,
   "id": "c645870a-30c7-47d4-8358-a666c1a6c464",
   "metadata": {},
   "outputs": [
    {
     "data": {
      "text/plain": [
       "array(['Daire', 'Villa', 'Müstakil Ev', 'Çiftlik Evi', 'Yazlık', 'Bina',\n",
       "       'Köy Evi', 'Konut Ticaret', 'İmarlı Konut', 'Tarla', 'Bungalov',\n",
       "       'Prefabrik', 'Köşk'], dtype=object)"
      ]
     },
     "execution_count": 431,
     "metadata": {},
     "output_type": "execute_result"
    }
   ],
   "source": [
    "df['property_type'].unique()"
   ]
  },
  {
   "cell_type": "code",
   "execution_count": 432,
   "id": "51809dc6-1552-498c-b5ed-4c3adc1f1418",
   "metadata": {},
   "outputs": [],
   "source": [
    "# 'property_type' sütunu için One-Hot Encoding uygulayalım\n",
    "property_type_encoded = pd.get_dummies(df['property_type'], prefix='property', drop_first=False)\n",
    "\n",
    "# Orijinal dataframe ile encoded olanları birleştir\n",
    "df = pd.concat([df, property_type_encoded], axis=1)"
   ]
  },
  {
   "cell_type": "code",
   "execution_count": null,
   "id": "1c8895ae-eb18-463a-ae92-429f70964264",
   "metadata": {},
   "outputs": [],
   "source": []
  },
  {
   "cell_type": "code",
   "execution_count": 433,
   "id": "cccbc40b-0d56-4ee0-92c9-2e28d1659075",
   "metadata": {},
   "outputs": [
    {
     "data": {
      "text/plain": [
       "(2157, 85)"
      ]
     },
     "execution_count": 433,
     "metadata": {},
     "output_type": "execute_result"
    }
   ],
   "source": [
    "df.shape"
   ]
  },
  {
   "cell_type": "code",
   "execution_count": 434,
   "id": "a0f2f46a-90d1-46ff-8b84-e459e5a55401",
   "metadata": {},
   "outputs": [
    {
     "name": "stdout",
     "output_type": "stream",
     "text": [
      "Index(['price', 'room', 'livingRoom', 'bathRoom', 'age', 'credit', 'barter',\n",
      "       'furnished', 'roomAndLivingRoom', 'onlineVisit', 'hasBranded',\n",
      "       'registerState', 'image_count', 'bulunan_yonler', 'property_type',\n",
      "       'inAttributes_count', 'outAttributes_count', 'locationAttributes_count',\n",
      "       'inAttributes_count_is_missing', 'outAttributes_count_is_missing',\n",
      "       'locationAttributes_count_is_missing', 'price_category',\n",
      "       'fee_is_missing', 'days_since_update', 'Stale_corrected', 'duration',\n",
      "       'area_name', 'county_name', 'tier', 'distance_to_sakarya_center_km',\n",
      "       'distance_to_karasu_km', 'distance_to_sapanca_km',\n",
      "       'distance_to_sakarya_university_km', 'sakarya_center_category',\n",
      "       'karasu_category', 'sapanca_category', 'sakarya_university_category',\n",
      "       'floorName', 'floorCount', 'floorNameFloat', 'floorCountFloat',\n",
      "       'floorRatio', 'usage_name', 'yakit', 'isitma', 'yapiDurumu', 'netSqm',\n",
      "       'grossSqm', 'sqm_fark', 'residence_name', 'housingComplex_cleaned',\n",
      "       'rental_amount', 'is_outlier_price', 'tier_brand_ratio',\n",
      "       'tier_is_branded_only', 'county_brand_ratio',\n",
      "       'property_type_branded_ratio', 'direction_encoded', 'yon_sayisi',\n",
      "       'yapiDurumu_encoded', 'yakit_encoded', 'usage_Boş', 'usage_Kiracılı',\n",
      "       'usage_Mülk Sahibi', 'residence_Ara Kat Dubleks',\n",
      "       'residence_Bahçe Dubleksi', 'residence_Bahçe Katı', 'residence_Dubleks',\n",
      "       'residence_Ters Dubleks', 'residence_Tripleks',\n",
      "       'residence_Çatı Dubleksi', 'residence_İkiz Ev', 'property_Bina',\n",
      "       'property_Bungalov', 'property_Daire', 'property_Konut Ticaret',\n",
      "       'property_Köy Evi', 'property_Köşk', 'property_Müstakil Ev',\n",
      "       'property_Prefabrik', 'property_Tarla', 'property_Villa',\n",
      "       'property_Yazlık', 'property_Çiftlik Evi', 'property_İmarlı Konut'],\n",
      "      dtype='object')\n"
     ]
    }
   ],
   "source": [
    "# Tüm sütun isimlerini görmek için:\n",
    "print(df.columns)"
   ]
  },
  {
   "cell_type": "code",
   "execution_count": null,
   "id": "a212aa14",
   "metadata": {},
   "outputs": [],
   "source": []
  },
  {
   "cell_type": "code",
   "execution_count": null,
   "id": "ac997cd1",
   "metadata": {},
   "outputs": [],
   "source": []
  }
 ],
 "metadata": {
  "kernelspec": {
   "display_name": "Python 3 (ipykernel)",
   "language": "python",
   "name": "python3"
  },
  "language_info": {
   "codemirror_mode": {
    "name": "ipython",
    "version": 3
   },
   "file_extension": ".py",
   "mimetype": "text/x-python",
   "name": "python",
   "nbconvert_exporter": "python",
   "pygments_lexer": "ipython3",
   "version": "3.11.7"
  }
 },
 "nbformat": 4,
 "nbformat_minor": 5
}
